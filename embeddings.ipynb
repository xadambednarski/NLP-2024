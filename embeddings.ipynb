{
 "cells": [
  {
   "cell_type": "code",
   "execution_count": 6,
   "metadata": {},
   "outputs": [],
   "source": [
    "import json\n",
    "from pathlib import Path\n",
    "\n",
    "from gensim.models import KeyedVectors\n",
    "import numpy as np\n",
    "import pandas as pd\n",
    "import plotly.express as px\n",
    "from sklearn.manifold import TSNE"
   ]
  },
  {
   "cell_type": "markdown",
   "metadata": {},
   "source": [
    "# Data prep"
   ]
  },
  {
   "cell_type": "code",
   "execution_count": 7,
   "metadata": {},
   "outputs": [],
   "source": [
    "json_files = list(Path(\"./data/ground_truth\").rglob(\"*.jsonl\"))\n",
    "\n",
    "posts = []\n",
    "\n",
    "for file in json_files:\n",
    "    with open(file, 'r') as f:\n",
    "        data = [json.loads(line) for line in f]\n",
    "        posts.extend(data)"
   ]
  },
  {
   "cell_type": "code",
   "execution_count": 8,
   "metadata": {},
   "outputs": [],
   "source": [
    "sentence_sentiment = ['Mowa nienawiści', 'Neutralny', 'Hate', 'Neutral']"
   ]
  },
  {
   "cell_type": "code",
   "execution_count": 9,
   "metadata": {},
   "outputs": [],
   "source": [
    "def get_labels(text, labels):\n",
    "    labeled_texts = []\n",
    "    word_labels = [label for label in labels if label[2] not in sentence_sentiment]\n",
    "    for label in word_labels:\n",
    "        labeled_text = text[label[0]: label[1]]\n",
    "        labeled_texts.append((labeled_text, label[2]))\n",
    "    return labeled_texts"
   ]
  },
  {
   "cell_type": "code",
   "execution_count": 10,
   "metadata": {},
   "outputs": [],
   "source": [
    "def get_tsne_results(all_words):\n",
    "    emb_tensor = [word[\"embedding\"] for word in all_words if word[\"embedding\"] is not None]\n",
    "    emb_tensor = np.stack(emb_tensor)\n",
    "\n",
    "    tsne = TSNE()\n",
    "    clustered = tsne.fit_transform(emb_tensor)\n",
    "\n",
    "    df = pd.DataFrame(clustered)\n",
    "    df[\"label\"] = [word[\"name\"] for word in all_words if word[\"embedding\"] is not None]\n",
    "    df[\"sentiment\"] = [word[\"label\"] for word in all_words if word[\"embedding\"] is not None]\n",
    "\n",
    "    return df"
   ]
  },
  {
   "cell_type": "markdown",
   "metadata": {},
   "source": [
    "# Word embeddings - Word2vec"
   ]
  },
  {
   "cell_type": "code",
   "execution_count": 11,
   "metadata": {},
   "outputs": [
    {
     "ename": "KeyboardInterrupt",
     "evalue": "",
     "output_type": "error",
     "traceback": [
      "\u001b[0;31m---------------------------------------------------------------------------\u001b[0m",
      "\u001b[0;31mKeyboardInterrupt\u001b[0m                         Traceback (most recent call last)",
      "Cell \u001b[0;32mIn[11], line 3\u001b[0m\n\u001b[1;32m      1\u001b[0m file_path \u001b[38;5;241m=\u001b[39m \u001b[38;5;124m'\u001b[39m\u001b[38;5;124mnkjp+wiki-forms-all-100-skipg-ns.txt.gz\u001b[39m\u001b[38;5;124m'\u001b[39m\n\u001b[0;32m----> 3\u001b[0m model \u001b[38;5;241m=\u001b[39m \u001b[43mKeyedVectors\u001b[49m\u001b[38;5;241;43m.\u001b[39;49m\u001b[43mload_word2vec_format\u001b[49m\u001b[43m(\u001b[49m\u001b[43mfile_path\u001b[49m\u001b[43m,\u001b[49m\u001b[43m \u001b[49m\u001b[43mbinary\u001b[49m\u001b[38;5;241;43m=\u001b[39;49m\u001b[38;5;28;43;01mFalse\u001b[39;49;00m\u001b[43m)\u001b[49m\n",
      "File \u001b[0;32m~/miniconda3/envs/nlp/lib/python3.11/site-packages/gensim/models/keyedvectors.py:1719\u001b[0m, in \u001b[0;36mKeyedVectors.load_word2vec_format\u001b[0;34m(cls, fname, fvocab, binary, encoding, unicode_errors, limit, datatype, no_header)\u001b[0m\n\u001b[1;32m   1672\u001b[0m \u001b[38;5;129m@classmethod\u001b[39m\n\u001b[1;32m   1673\u001b[0m \u001b[38;5;28;01mdef\u001b[39;00m \u001b[38;5;21mload_word2vec_format\u001b[39m(\n\u001b[1;32m   1674\u001b[0m         \u001b[38;5;28mcls\u001b[39m, fname, fvocab\u001b[38;5;241m=\u001b[39m\u001b[38;5;28;01mNone\u001b[39;00m, binary\u001b[38;5;241m=\u001b[39m\u001b[38;5;28;01mFalse\u001b[39;00m, encoding\u001b[38;5;241m=\u001b[39m\u001b[38;5;124m'\u001b[39m\u001b[38;5;124mutf8\u001b[39m\u001b[38;5;124m'\u001b[39m, unicode_errors\u001b[38;5;241m=\u001b[39m\u001b[38;5;124m'\u001b[39m\u001b[38;5;124mstrict\u001b[39m\u001b[38;5;124m'\u001b[39m,\n\u001b[1;32m   1675\u001b[0m         limit\u001b[38;5;241m=\u001b[39m\u001b[38;5;28;01mNone\u001b[39;00m, datatype\u001b[38;5;241m=\u001b[39mREAL, no_header\u001b[38;5;241m=\u001b[39m\u001b[38;5;28;01mFalse\u001b[39;00m,\n\u001b[1;32m   1676\u001b[0m     ):\n\u001b[1;32m   1677\u001b[0m \u001b[38;5;250m    \u001b[39m\u001b[38;5;124;03m\"\"\"Load KeyedVectors from a file produced by the original C word2vec-tool format.\u001b[39;00m\n\u001b[1;32m   1678\u001b[0m \n\u001b[1;32m   1679\u001b[0m \u001b[38;5;124;03m    Warnings\u001b[39;00m\n\u001b[0;32m   (...)\u001b[0m\n\u001b[1;32m   1717\u001b[0m \n\u001b[1;32m   1718\u001b[0m \u001b[38;5;124;03m    \"\"\"\u001b[39;00m\n\u001b[0;32m-> 1719\u001b[0m     \u001b[38;5;28;01mreturn\u001b[39;00m \u001b[43m_load_word2vec_format\u001b[49m\u001b[43m(\u001b[49m\n\u001b[1;32m   1720\u001b[0m \u001b[43m        \u001b[49m\u001b[38;5;28;43mcls\u001b[39;49m\u001b[43m,\u001b[49m\u001b[43m \u001b[49m\u001b[43mfname\u001b[49m\u001b[43m,\u001b[49m\u001b[43m \u001b[49m\u001b[43mfvocab\u001b[49m\u001b[38;5;241;43m=\u001b[39;49m\u001b[43mfvocab\u001b[49m\u001b[43m,\u001b[49m\u001b[43m \u001b[49m\u001b[43mbinary\u001b[49m\u001b[38;5;241;43m=\u001b[39;49m\u001b[43mbinary\u001b[49m\u001b[43m,\u001b[49m\u001b[43m \u001b[49m\u001b[43mencoding\u001b[49m\u001b[38;5;241;43m=\u001b[39;49m\u001b[43mencoding\u001b[49m\u001b[43m,\u001b[49m\u001b[43m \u001b[49m\u001b[43municode_errors\u001b[49m\u001b[38;5;241;43m=\u001b[39;49m\u001b[43municode_errors\u001b[49m\u001b[43m,\u001b[49m\n\u001b[1;32m   1721\u001b[0m \u001b[43m        \u001b[49m\u001b[43mlimit\u001b[49m\u001b[38;5;241;43m=\u001b[39;49m\u001b[43mlimit\u001b[49m\u001b[43m,\u001b[49m\u001b[43m \u001b[49m\u001b[43mdatatype\u001b[49m\u001b[38;5;241;43m=\u001b[39;49m\u001b[43mdatatype\u001b[49m\u001b[43m,\u001b[49m\u001b[43m \u001b[49m\u001b[43mno_header\u001b[49m\u001b[38;5;241;43m=\u001b[39;49m\u001b[43mno_header\u001b[49m\u001b[43m,\u001b[49m\n\u001b[1;32m   1722\u001b[0m \u001b[43m    \u001b[49m\u001b[43m)\u001b[49m\n",
      "File \u001b[0;32m~/miniconda3/envs/nlp/lib/python3.11/site-packages/gensim/models/keyedvectors.py:2069\u001b[0m, in \u001b[0;36m_load_word2vec_format\u001b[0;34m(cls, fname, fvocab, binary, encoding, unicode_errors, limit, datatype, no_header, binary_chunk_size)\u001b[0m\n\u001b[1;32m   2065\u001b[0m         _word2vec_read_binary(\n\u001b[1;32m   2066\u001b[0m             fin, kv, counts, vocab_size, vector_size, datatype, unicode_errors, binary_chunk_size, encoding\n\u001b[1;32m   2067\u001b[0m         )\n\u001b[1;32m   2068\u001b[0m     \u001b[38;5;28;01melse\u001b[39;00m:\n\u001b[0;32m-> 2069\u001b[0m         \u001b[43m_word2vec_read_text\u001b[49m\u001b[43m(\u001b[49m\u001b[43mfin\u001b[49m\u001b[43m,\u001b[49m\u001b[43m \u001b[49m\u001b[43mkv\u001b[49m\u001b[43m,\u001b[49m\u001b[43m \u001b[49m\u001b[43mcounts\u001b[49m\u001b[43m,\u001b[49m\u001b[43m \u001b[49m\u001b[43mvocab_size\u001b[49m\u001b[43m,\u001b[49m\u001b[43m \u001b[49m\u001b[43mvector_size\u001b[49m\u001b[43m,\u001b[49m\u001b[43m \u001b[49m\u001b[43mdatatype\u001b[49m\u001b[43m,\u001b[49m\u001b[43m \u001b[49m\u001b[43municode_errors\u001b[49m\u001b[43m,\u001b[49m\u001b[43m \u001b[49m\u001b[43mencoding\u001b[49m\u001b[43m)\u001b[49m\n\u001b[1;32m   2070\u001b[0m \u001b[38;5;28;01mif\u001b[39;00m kv\u001b[38;5;241m.\u001b[39mvectors\u001b[38;5;241m.\u001b[39mshape[\u001b[38;5;241m0\u001b[39m] \u001b[38;5;241m!=\u001b[39m \u001b[38;5;28mlen\u001b[39m(kv):\n\u001b[1;32m   2071\u001b[0m     logger\u001b[38;5;241m.\u001b[39minfo(\n\u001b[1;32m   2072\u001b[0m         \u001b[38;5;124m\"\u001b[39m\u001b[38;5;124mduplicate words detected, shrinking matrix size from \u001b[39m\u001b[38;5;132;01m%i\u001b[39;00m\u001b[38;5;124m to \u001b[39m\u001b[38;5;132;01m%i\u001b[39;00m\u001b[38;5;124m\"\u001b[39m,\n\u001b[1;32m   2073\u001b[0m         kv\u001b[38;5;241m.\u001b[39mvectors\u001b[38;5;241m.\u001b[39mshape[\u001b[38;5;241m0\u001b[39m], \u001b[38;5;28mlen\u001b[39m(kv),\n\u001b[1;32m   2074\u001b[0m     )\n",
      "File \u001b[0;32m~/miniconda3/envs/nlp/lib/python3.11/site-packages/gensim/models/keyedvectors.py:1974\u001b[0m, in \u001b[0;36m_word2vec_read_text\u001b[0;34m(fin, kv, counts, vocab_size, vector_size, datatype, unicode_errors, encoding)\u001b[0m\n\u001b[1;32m   1972\u001b[0m \u001b[38;5;28;01mif\u001b[39;00m line \u001b[38;5;241m==\u001b[39m \u001b[38;5;124mb\u001b[39m\u001b[38;5;124m'\u001b[39m\u001b[38;5;124m'\u001b[39m:\n\u001b[1;32m   1973\u001b[0m     \u001b[38;5;28;01mraise\u001b[39;00m \u001b[38;5;167;01mEOFError\u001b[39;00m(\u001b[38;5;124m\"\u001b[39m\u001b[38;5;124munexpected end of input; is count incorrect or file otherwise damaged?\u001b[39m\u001b[38;5;124m\"\u001b[39m)\n\u001b[0;32m-> 1974\u001b[0m word, weights \u001b[38;5;241m=\u001b[39m \u001b[43m_word2vec_line_to_vector\u001b[49m\u001b[43m(\u001b[49m\u001b[43mline\u001b[49m\u001b[43m,\u001b[49m\u001b[43m \u001b[49m\u001b[43mdatatype\u001b[49m\u001b[43m,\u001b[49m\u001b[43m \u001b[49m\u001b[43municode_errors\u001b[49m\u001b[43m,\u001b[49m\u001b[43m \u001b[49m\u001b[43mencoding\u001b[49m\u001b[43m)\u001b[49m\n\u001b[1;32m   1975\u001b[0m _add_word_to_kv(kv, counts, word, weights, vocab_size)\n",
      "File \u001b[0;32m~/miniconda3/envs/nlp/lib/python3.11/site-packages/gensim/models/keyedvectors.py:1980\u001b[0m, in \u001b[0;36m_word2vec_line_to_vector\u001b[0;34m(line, datatype, unicode_errors, encoding)\u001b[0m\n\u001b[1;32m   1978\u001b[0m \u001b[38;5;28;01mdef\u001b[39;00m \u001b[38;5;21m_word2vec_line_to_vector\u001b[39m(line, datatype, unicode_errors, encoding):\n\u001b[1;32m   1979\u001b[0m     parts \u001b[38;5;241m=\u001b[39m utils\u001b[38;5;241m.\u001b[39mto_unicode(line\u001b[38;5;241m.\u001b[39mrstrip(), encoding\u001b[38;5;241m=\u001b[39mencoding, errors\u001b[38;5;241m=\u001b[39municode_errors)\u001b[38;5;241m.\u001b[39msplit(\u001b[38;5;124m\"\u001b[39m\u001b[38;5;124m \u001b[39m\u001b[38;5;124m\"\u001b[39m)\n\u001b[0;32m-> 1980\u001b[0m     word, weights \u001b[38;5;241m=\u001b[39m parts[\u001b[38;5;241m0\u001b[39m], \u001b[43m[\u001b[49m\u001b[43mdatatype\u001b[49m\u001b[43m(\u001b[49m\u001b[43mx\u001b[49m\u001b[43m)\u001b[49m\u001b[43m \u001b[49m\u001b[38;5;28;43;01mfor\u001b[39;49;00m\u001b[43m \u001b[49m\u001b[43mx\u001b[49m\u001b[43m \u001b[49m\u001b[38;5;129;43;01min\u001b[39;49;00m\u001b[43m \u001b[49m\u001b[43mparts\u001b[49m\u001b[43m[\u001b[49m\u001b[38;5;241;43m1\u001b[39;49m\u001b[43m:\u001b[49m\u001b[43m]\u001b[49m\u001b[43m]\u001b[49m\n\u001b[1;32m   1981\u001b[0m     \u001b[38;5;28;01mreturn\u001b[39;00m word, weights\n",
      "File \u001b[0;32m~/miniconda3/envs/nlp/lib/python3.11/site-packages/gensim/models/keyedvectors.py:1980\u001b[0m, in \u001b[0;36m<listcomp>\u001b[0;34m(.0)\u001b[0m\n\u001b[1;32m   1978\u001b[0m \u001b[38;5;28;01mdef\u001b[39;00m \u001b[38;5;21m_word2vec_line_to_vector\u001b[39m(line, datatype, unicode_errors, encoding):\n\u001b[1;32m   1979\u001b[0m     parts \u001b[38;5;241m=\u001b[39m utils\u001b[38;5;241m.\u001b[39mto_unicode(line\u001b[38;5;241m.\u001b[39mrstrip(), encoding\u001b[38;5;241m=\u001b[39mencoding, errors\u001b[38;5;241m=\u001b[39municode_errors)\u001b[38;5;241m.\u001b[39msplit(\u001b[38;5;124m\"\u001b[39m\u001b[38;5;124m \u001b[39m\u001b[38;5;124m\"\u001b[39m)\n\u001b[0;32m-> 1980\u001b[0m     word, weights \u001b[38;5;241m=\u001b[39m parts[\u001b[38;5;241m0\u001b[39m], [\u001b[43mdatatype\u001b[49m\u001b[43m(\u001b[49m\u001b[43mx\u001b[49m\u001b[43m)\u001b[49m \u001b[38;5;28;01mfor\u001b[39;00m x \u001b[38;5;129;01min\u001b[39;00m parts[\u001b[38;5;241m1\u001b[39m:]]\n\u001b[1;32m   1981\u001b[0m     \u001b[38;5;28;01mreturn\u001b[39;00m word, weights\n",
      "\u001b[0;31mKeyboardInterrupt\u001b[0m: "
     ]
    }
   ],
   "source": [
    "file_path = 'nkjp+wiki-forms-all-100-skipg-ns.txt.gz'\n",
    "\n",
    "model = KeyedVectors.load_word2vec_format(file_path, binary=False)"
   ]
  },
  {
   "cell_type": "code",
   "execution_count": 7,
   "metadata": {},
   "outputs": [],
   "source": [
    "all_words = []\n",
    "\n",
    "for post in posts:\n",
    "    text = post[\"text\"]\n",
    "    labels = get_labels(post[\"text\"], post[\"label\"])\n",
    "    words = text.split(\" \")\n",
    "\n",
    "    for word in words:\n",
    "        new_word = {\"name\": word, \"label\": None, \"embedding\": None}\n",
    "        if word in model:\n",
    "            new_word[\"embedding\"] = model[word]\n",
    "\n",
    "        for label in labels:\n",
    "            if word in label[0]:\n",
    "                new_word[\"label\"] = label[1]\n",
    "        all_words.append(new_word)"
   ]
  },
  {
   "cell_type": "code",
   "execution_count": 8,
   "metadata": {},
   "outputs": [],
   "source": [
    "df = get_tsne_results(all_words)"
   ]
  },
  {
   "cell_type": "code",
   "execution_count": 9,
   "metadata": {},
   "outputs": [
    {
     "data": {
      "application/vnd.plotly.v1+json": {
       "config": {
        "plotlyServerURL": "https://plot.ly"
       },
       "data": [
        {
         "customdata": [
          [
           "i",
           "Strenghtening"
          ],
          [
           "i",
           "Strenghtening"
          ],
          [
           "wart",
           "Strenghtening"
          ],
          [
           "z",
           "Strenghtening"
          ],
          [
           "krzywoprzysięzcą",
           "Strenghtening"
          ],
          [
           "i",
           "Strenghtening"
          ],
          [
           "zakłamanym",
           "Strenghtening"
          ],
          [
           "oszustem",
           "Strenghtening"
          ],
          [
           "menda",
           "Strenghtening"
          ],
          [
           "ci",
           "Strenghtening"
          ],
          [
           "łżesz",
           "Strenghtening"
          ],
          [
           "jak",
           "Strenghtening"
          ],
          [
           "bura",
           "Strenghtening"
          ],
          [
           "suka",
           "Strenghtening"
          ],
          [
           "z",
           "Strenghtening"
          ],
          [
           "z",
           "Strenghtening"
          ],
          [
           "faszyzującymi",
           "Strenghtening"
          ],
          [
           "ultrasem",
           "Strenghtening"
          ],
          [
           "i",
           "Strenghtening"
          ],
          [
           "ma",
           "Strenghtening"
          ],
          [
           "zawsze",
           "Strenghtening"
          ],
          [
           "chorzy",
           "Strenghtening"
          ],
          [
           "psychicznie",
           "Strenghtening"
          ],
          [
           "z",
           "Strenghtening"
          ]
         ],
         "hovertemplate": "sentiment=%{customdata[1]}<br>0=%{x}<br>1=%{y}<br>label=%{customdata[0]}<extra></extra>",
         "legendgroup": "Strenghtening",
         "marker": {
          "color": "#EF553B",
          "symbol": "circle"
         },
         "mode": "markers",
         "name": "Strenghtening",
         "showlegend": true,
         "type": "scattergl",
         "x": [
          -18.856088638305664,
          -15.867234230041504,
          -9.243124008178711,
          -60.65805435180664,
          -0.49577799439430237,
          -10.073893547058105,
          -32.421630859375,
          -29.532846450805664,
          9.30498218536377,
          50.717979431152344,
          13.493033409118652,
          49.15983200073242,
          37.41374969482422,
          37.396087646484375,
          -60.65805435180664,
          -58.52729415893555,
          -2.655214786529541,
          -0.7800689935684204,
          -38.036956787109375,
          79.16400909423828,
          -6.883253574371338,
          53.30564880371094,
          -19.50501823425293,
          -60.65805435180664
         ],
         "xaxis": "x",
         "y": [
          52.61125946044922,
          48.15557098388672,
          -7.659668922424316,
          65.36822509765625,
          -17.60282325744629,
          48.082820892333984,
          -22.244192123413086,
          -24.12967872619629,
          -40.94881057739258,
          -44.167415618896484,
          -42.64400863647461,
          61.896087646484375,
          -7.641592502593994,
          -7.677695274353027,
          65.36822509765625,
          67.63488006591797,
          -11.181707382202148,
          -14.252982139587402,
          56.371334075927734,
          -19.504451751708984,
          -11.376077651977539,
          -49.6623649597168,
          -39.90262985229492,
          65.36822509765625
         ],
         "yaxis": "y"
        },
        {
         "customdata": [
          [
           "o",
           "Reverse"
          ],
          [
           "osobistej",
           "Reverse"
          ],
          [
           "sympatii",
           "Reverse"
          ],
          [
           "do",
           "Reverse"
          ],
          [
           "z",
           "Reverse"
          ]
         ],
         "hovertemplate": "sentiment=%{customdata[1]}<br>0=%{x}<br>1=%{y}<br>label=%{customdata[0]}<extra></extra>",
         "legendgroup": "Reverse",
         "marker": {
          "color": "#00cc96",
          "symbol": "circle"
         },
         "mode": "markers",
         "name": "Reverse",
         "showlegend": true,
         "type": "scattergl",
         "x": [
          -27.78827667236328,
          -22.9671688079834,
          -19.931156158447266,
          -84.08540344238281,
          -60.65805435180664
         ],
         "xaxis": "x",
         "y": [
          83.05870056152344,
          -29.8870906829834,
          -31.76059341430664,
          50.1521110534668,
          65.36822509765625
         ],
         "yaxis": "y"
        },
        {
         "customdata": [
          [
           "prostacka",
           "Wzmacnianie"
          ],
          [
           "zakala",
           "Wzmacnianie"
          ],
          [
           "sadownictwa",
           "Wzmacnianie"
          ],
          [
           "i",
           "Wzmacnianie"
          ],
          [
           "zakala",
           "Wzmacnianie"
          ],
          [
           "i",
           "Wzmacnianie"
          ],
          [
           "się",
           "Wzmacnianie"
          ],
          [
           "na",
           "Wzmacnianie"
          ],
          [
           "na",
           "Wzmacnianie"
          ],
          [
           "głowę",
           "Wzmacnianie"
          ],
          [
           "już",
           "Wzmacnianie"
          ],
          [
           "zbyt",
           "Wzmacnianie"
          ],
          [
           "późno",
           "Wzmacnianie"
          ],
          [
           "debilu",
           "Wzmacnianie"
          ],
          [
           "debile",
           "Wzmacnianie"
          ],
          [
           "pajacu",
           "Wzmacnianie"
          ],
          [
           "z",
           "Wzmacnianie"
          ],
          [
           "krzywoprzysięzcą",
           "Wzmacnianie"
          ],
          [
           "i",
           "Wzmacnianie"
          ],
          [
           "zakłamanym",
           "Wzmacnianie"
          ],
          [
           "oszustem",
           "Wzmacnianie"
          ],
          [
           "i",
           "Wzmacnianie"
          ],
          [
           "faszysta",
           "Wzmacnianie"
          ],
          [
           "i",
           "Wzmacnianie"
          ],
          [
           "wkurwia",
           "Wzmacnianie"
          ],
          [
           "swastykę",
           "Wzmacnianie"
          ],
          [
           "na",
           "Wzmacnianie"
          ],
          [
           "i",
           "Wzmacnianie"
          ],
          [
           "by",
           "Wzmacnianie"
          ],
          [
           "się",
           "Wzmacnianie"
          ],
          [
           "mi",
           "Wzmacnianie"
          ],
          [
           "trzeba",
           "Wzmacnianie"
          ],
          [
           "mieć",
           "Wzmacnianie"
          ],
          [
           "w",
           "Wzmacnianie"
          ],
          [
           "głowie",
           "Wzmacnianie"
          ],
          [
           "gnidy",
           "Wzmacnianie"
          ],
          [
           "i",
           "Wzmacnianie"
          ],
          [
           "i",
           "Wzmacnianie"
          ],
          [
           "po",
           "Wzmacnianie"
          ],
          [
           "ty",
           "Wzmacnianie"
          ],
          [
           "stary",
           "Wzmacnianie"
          ],
          [
           "głupia",
           "Wzmacnianie"
          ],
          [
           "w",
           "Wzmacnianie"
          ],
          [
           "jebany",
           "Wzmacnianie"
          ],
          [
           "kurwa",
           "Wzmacnianie"
          ],
          [
           "parchu",
           "Wzmacnianie"
          ],
          [
           "jak",
           "Wzmacnianie"
          ],
          [
           "i",
           "Wzmacnianie"
          ],
          [
           "pajacu",
           "Wzmacnianie"
          ],
          [
           "w",
           "Wzmacnianie"
          ],
          [
           "pospolity",
           "Wzmacnianie"
          ],
          [
           "się",
           "Wzmacnianie"
          ],
          [
           "z",
           "Wzmacnianie"
          ],
          [
           "największych",
           "Wzmacnianie"
          ],
          [
           "debili",
           "Wzmacnianie"
          ],
          [
           "zjeby",
           "Wzmacnianie"
          ],
          [
           "na",
           "Wzmacnianie"
          ],
          [
           "nich",
           "Wzmacnianie"
          ]
         ],
         "hovertemplate": "sentiment=%{customdata[1]}<br>0=%{x}<br>1=%{y}<br>label=%{customdata[0]}<extra></extra>",
         "legendgroup": "Wzmacnianie",
         "marker": {
          "color": "#ab63fa",
          "symbol": "circle"
         },
         "mode": "markers",
         "name": "Wzmacnianie",
         "showlegend": true,
         "type": "scattergl",
         "x": [
          39.169700622558594,
          3.075247049331665,
          9.922966003417969,
          -4.371984004974365,
          3.075371742248535,
          -19.172927856445312,
          -80.59935760498047,
          -93.87326049804688,
          -93.87326049804688,
          -6.473668575286865,
          -39.944244384765625,
          54.47705078125,
          6.508689880371094,
          11.690747261047363,
          46.115299224853516,
          12.228782653808594,
          -63.57951736450195,
          -0.49581030011177063,
          -4.3400654792785645,
          -32.421630859375,
          -29.532846450805664,
          -16.821796417236328,
          11.243730545043945,
          -39.86371994018555,
          16.202075958251953,
          -9.768113136291504,
          -93.87326049804688,
          -35.951515197753906,
          55.73227310180664,
          -75.4233169555664,
          -6.356107711791992,
          54.58458709716797,
          73.90702819824219,
          -80.84114074707031,
          -7.5937581062316895,
          6.820808410644531,
          -34.759681701660156,
          -30.680953979492188,
          -64.16117858886719,
          14.030795097351074,
          -9.07387638092041,
          37.97502136230469,
          -110.65704345703125,
          10.91278076171875,
          10.221370697021484,
          10.914892196655273,
          58.4974365234375,
          -27.68893814086914,
          12.228604316711426,
          -96.37464141845703,
          -25.234905242919922,
          -80.59935760498047,
          -61.38785171508789,
          -38.67518615722656,
          1.8067115545272827,
          6.172889709472656,
          -93.87326049804688,
          -20.321836471557617
         ],
         "xaxis": "x",
         "y": [
          -4.124314308166504,
          -43.50437927246094,
          18.98197364807129,
          58.1776123046875,
          -43.50428771972656,
          59.53773498535156,
          -54.53786087036133,
          -11.990438461303711,
          -11.990438461303711,
          -35.73592758178711,
          12.659509658813477,
          6.495798587799072,
          -13.24193286895752,
          -42.39289855957031,
          -48.52915573120117,
          -41.82639694213867,
          66.75975036621094,
          -17.602731704711914,
          68.45417022705078,
          -22.244192123413086,
          -24.12967872619629,
          54.47945785522461,
          7.087647914886475,
          60.038658142089844,
          -36.42630386352539,
          5.0770792961120605,
          -11.990438461303711,
          59.41061782836914,
          -20.388582229614258,
          -32.447509765625,
          -70.11080932617188,
          -32.67169189453125,
          -11.95970630645752,
          7.892504692077637,
          -31.58188247680664,
          -37.92980194091797,
          49.91617965698242,
          56.33936309814453,
          7.946972370147705,
          -44.49466323852539,
          -0.6807883977890015,
          -3.6591897010803223,
          14.38265323638916,
          -41.315895080566406,
          -40.00434875488281,
          -42.16618728637695,
          58.2325325012207,
          71.66177368164062,
          -41.82726287841797,
          19.005720138549805,
          -2.0501444339752197,
          -54.53786087036133,
          68.52595520019531,
          29.055654525756836,
          -37.0820198059082,
          -36.78819274902344,
          -11.990438461303711,
          16.84668731689453
         ],
         "yaxis": "y"
        },
        {
         "customdata": [
          [
           "Pan",
           "Osłabianie"
          ],
          [
           "proszę",
           "Osłabianie"
          ],
          [
           "A",
           "Osłabianie"
          ],
          [
           "taki",
           "Osłabianie"
          ],
          [
           "był",
           "Osłabianie"
          ],
          [
           "porządny",
           "Osłabianie"
          ],
          [
           "A",
           "Osłabianie"
          ]
         ],
         "hovertemplate": "sentiment=%{customdata[1]}<br>0=%{x}<br>1=%{y}<br>label=%{customdata[0]}<extra></extra>",
         "legendgroup": "Osłabianie",
         "marker": {
          "color": "#FFA15A",
          "symbol": "circle"
         },
         "mode": "markers",
         "name": "Osłabianie",
         "showlegend": true,
         "type": "scattergl",
         "x": [
          19.21969223022461,
          11.442058563232422,
          26.9566593170166,
          -15.549528121948242,
          87.19428253173828,
          -11.064478874206543,
          26.9566593170166
         ],
         "xaxis": "x",
         "y": [
          21.41997718811035,
          -56.238529205322266,
          82.08088684082031,
          -5.941997528076172,
          10.397001266479492,
          -7.870851516723633,
          82.08088684082031
         ],
         "yaxis": "y"
        },
        {
         "customdata": [
          [
           "ja",
           "Odwracanie"
          ],
          [
           "też",
           "Odwracanie"
          ],
          [
           "spierdalam",
           "Odwracanie"
          ]
         ],
         "hovertemplate": "sentiment=%{customdata[1]}<br>0=%{x}<br>1=%{y}<br>label=%{customdata[0]}<extra></extra>",
         "legendgroup": "Odwracanie",
         "marker": {
          "color": "#19d3f3",
          "symbol": "circle"
         },
         "mode": "markers",
         "name": "Odwracanie",
         "showlegend": true,
         "type": "scattergl",
         "x": [
          21.3028621673584,
          -14.808096885681152,
          4.355308532714844
         ],
         "xaxis": "x",
         "y": [
          -37.0568733215332,
          42.34086990356445,
          -37.71558380126953
         ],
         "yaxis": "y"
        }
       ],
       "layout": {
        "legend": {
         "title": {
          "text": "sentiment"
         },
         "tracegroupgap": 0
        },
        "margin": {
         "t": 60
        },
        "template": {
         "data": {
          "bar": [
           {
            "error_x": {
             "color": "#2a3f5f"
            },
            "error_y": {
             "color": "#2a3f5f"
            },
            "marker": {
             "line": {
              "color": "#E5ECF6",
              "width": 0.5
             },
             "pattern": {
              "fillmode": "overlay",
              "size": 10,
              "solidity": 0.2
             }
            },
            "type": "bar"
           }
          ],
          "barpolar": [
           {
            "marker": {
             "line": {
              "color": "#E5ECF6",
              "width": 0.5
             },
             "pattern": {
              "fillmode": "overlay",
              "size": 10,
              "solidity": 0.2
             }
            },
            "type": "barpolar"
           }
          ],
          "carpet": [
           {
            "aaxis": {
             "endlinecolor": "#2a3f5f",
             "gridcolor": "white",
             "linecolor": "white",
             "minorgridcolor": "white",
             "startlinecolor": "#2a3f5f"
            },
            "baxis": {
             "endlinecolor": "#2a3f5f",
             "gridcolor": "white",
             "linecolor": "white",
             "minorgridcolor": "white",
             "startlinecolor": "#2a3f5f"
            },
            "type": "carpet"
           }
          ],
          "choropleth": [
           {
            "colorbar": {
             "outlinewidth": 0,
             "ticks": ""
            },
            "type": "choropleth"
           }
          ],
          "contour": [
           {
            "colorbar": {
             "outlinewidth": 0,
             "ticks": ""
            },
            "colorscale": [
             [
              0,
              "#0d0887"
             ],
             [
              0.1111111111111111,
              "#46039f"
             ],
             [
              0.2222222222222222,
              "#7201a8"
             ],
             [
              0.3333333333333333,
              "#9c179e"
             ],
             [
              0.4444444444444444,
              "#bd3786"
             ],
             [
              0.5555555555555556,
              "#d8576b"
             ],
             [
              0.6666666666666666,
              "#ed7953"
             ],
             [
              0.7777777777777778,
              "#fb9f3a"
             ],
             [
              0.8888888888888888,
              "#fdca26"
             ],
             [
              1,
              "#f0f921"
             ]
            ],
            "type": "contour"
           }
          ],
          "contourcarpet": [
           {
            "colorbar": {
             "outlinewidth": 0,
             "ticks": ""
            },
            "type": "contourcarpet"
           }
          ],
          "heatmap": [
           {
            "colorbar": {
             "outlinewidth": 0,
             "ticks": ""
            },
            "colorscale": [
             [
              0,
              "#0d0887"
             ],
             [
              0.1111111111111111,
              "#46039f"
             ],
             [
              0.2222222222222222,
              "#7201a8"
             ],
             [
              0.3333333333333333,
              "#9c179e"
             ],
             [
              0.4444444444444444,
              "#bd3786"
             ],
             [
              0.5555555555555556,
              "#d8576b"
             ],
             [
              0.6666666666666666,
              "#ed7953"
             ],
             [
              0.7777777777777778,
              "#fb9f3a"
             ],
             [
              0.8888888888888888,
              "#fdca26"
             ],
             [
              1,
              "#f0f921"
             ]
            ],
            "type": "heatmap"
           }
          ],
          "heatmapgl": [
           {
            "colorbar": {
             "outlinewidth": 0,
             "ticks": ""
            },
            "colorscale": [
             [
              0,
              "#0d0887"
             ],
             [
              0.1111111111111111,
              "#46039f"
             ],
             [
              0.2222222222222222,
              "#7201a8"
             ],
             [
              0.3333333333333333,
              "#9c179e"
             ],
             [
              0.4444444444444444,
              "#bd3786"
             ],
             [
              0.5555555555555556,
              "#d8576b"
             ],
             [
              0.6666666666666666,
              "#ed7953"
             ],
             [
              0.7777777777777778,
              "#fb9f3a"
             ],
             [
              0.8888888888888888,
              "#fdca26"
             ],
             [
              1,
              "#f0f921"
             ]
            ],
            "type": "heatmapgl"
           }
          ],
          "histogram": [
           {
            "marker": {
             "pattern": {
              "fillmode": "overlay",
              "size": 10,
              "solidity": 0.2
             }
            },
            "type": "histogram"
           }
          ],
          "histogram2d": [
           {
            "colorbar": {
             "outlinewidth": 0,
             "ticks": ""
            },
            "colorscale": [
             [
              0,
              "#0d0887"
             ],
             [
              0.1111111111111111,
              "#46039f"
             ],
             [
              0.2222222222222222,
              "#7201a8"
             ],
             [
              0.3333333333333333,
              "#9c179e"
             ],
             [
              0.4444444444444444,
              "#bd3786"
             ],
             [
              0.5555555555555556,
              "#d8576b"
             ],
             [
              0.6666666666666666,
              "#ed7953"
             ],
             [
              0.7777777777777778,
              "#fb9f3a"
             ],
             [
              0.8888888888888888,
              "#fdca26"
             ],
             [
              1,
              "#f0f921"
             ]
            ],
            "type": "histogram2d"
           }
          ],
          "histogram2dcontour": [
           {
            "colorbar": {
             "outlinewidth": 0,
             "ticks": ""
            },
            "colorscale": [
             [
              0,
              "#0d0887"
             ],
             [
              0.1111111111111111,
              "#46039f"
             ],
             [
              0.2222222222222222,
              "#7201a8"
             ],
             [
              0.3333333333333333,
              "#9c179e"
             ],
             [
              0.4444444444444444,
              "#bd3786"
             ],
             [
              0.5555555555555556,
              "#d8576b"
             ],
             [
              0.6666666666666666,
              "#ed7953"
             ],
             [
              0.7777777777777778,
              "#fb9f3a"
             ],
             [
              0.8888888888888888,
              "#fdca26"
             ],
             [
              1,
              "#f0f921"
             ]
            ],
            "type": "histogram2dcontour"
           }
          ],
          "mesh3d": [
           {
            "colorbar": {
             "outlinewidth": 0,
             "ticks": ""
            },
            "type": "mesh3d"
           }
          ],
          "parcoords": [
           {
            "line": {
             "colorbar": {
              "outlinewidth": 0,
              "ticks": ""
             }
            },
            "type": "parcoords"
           }
          ],
          "pie": [
           {
            "automargin": true,
            "type": "pie"
           }
          ],
          "scatter": [
           {
            "fillpattern": {
             "fillmode": "overlay",
             "size": 10,
             "solidity": 0.2
            },
            "type": "scatter"
           }
          ],
          "scatter3d": [
           {
            "line": {
             "colorbar": {
              "outlinewidth": 0,
              "ticks": ""
             }
            },
            "marker": {
             "colorbar": {
              "outlinewidth": 0,
              "ticks": ""
             }
            },
            "type": "scatter3d"
           }
          ],
          "scattercarpet": [
           {
            "marker": {
             "colorbar": {
              "outlinewidth": 0,
              "ticks": ""
             }
            },
            "type": "scattercarpet"
           }
          ],
          "scattergeo": [
           {
            "marker": {
             "colorbar": {
              "outlinewidth": 0,
              "ticks": ""
             }
            },
            "type": "scattergeo"
           }
          ],
          "scattergl": [
           {
            "marker": {
             "colorbar": {
              "outlinewidth": 0,
              "ticks": ""
             }
            },
            "type": "scattergl"
           }
          ],
          "scattermapbox": [
           {
            "marker": {
             "colorbar": {
              "outlinewidth": 0,
              "ticks": ""
             }
            },
            "type": "scattermapbox"
           }
          ],
          "scatterpolar": [
           {
            "marker": {
             "colorbar": {
              "outlinewidth": 0,
              "ticks": ""
             }
            },
            "type": "scatterpolar"
           }
          ],
          "scatterpolargl": [
           {
            "marker": {
             "colorbar": {
              "outlinewidth": 0,
              "ticks": ""
             }
            },
            "type": "scatterpolargl"
           }
          ],
          "scatterternary": [
           {
            "marker": {
             "colorbar": {
              "outlinewidth": 0,
              "ticks": ""
             }
            },
            "type": "scatterternary"
           }
          ],
          "surface": [
           {
            "colorbar": {
             "outlinewidth": 0,
             "ticks": ""
            },
            "colorscale": [
             [
              0,
              "#0d0887"
             ],
             [
              0.1111111111111111,
              "#46039f"
             ],
             [
              0.2222222222222222,
              "#7201a8"
             ],
             [
              0.3333333333333333,
              "#9c179e"
             ],
             [
              0.4444444444444444,
              "#bd3786"
             ],
             [
              0.5555555555555556,
              "#d8576b"
             ],
             [
              0.6666666666666666,
              "#ed7953"
             ],
             [
              0.7777777777777778,
              "#fb9f3a"
             ],
             [
              0.8888888888888888,
              "#fdca26"
             ],
             [
              1,
              "#f0f921"
             ]
            ],
            "type": "surface"
           }
          ],
          "table": [
           {
            "cells": {
             "fill": {
              "color": "#EBF0F8"
             },
             "line": {
              "color": "white"
             }
            },
            "header": {
             "fill": {
              "color": "#C8D4E3"
             },
             "line": {
              "color": "white"
             }
            },
            "type": "table"
           }
          ]
         },
         "layout": {
          "annotationdefaults": {
           "arrowcolor": "#2a3f5f",
           "arrowhead": 0,
           "arrowwidth": 1
          },
          "autotypenumbers": "strict",
          "coloraxis": {
           "colorbar": {
            "outlinewidth": 0,
            "ticks": ""
           }
          },
          "colorscale": {
           "diverging": [
            [
             0,
             "#8e0152"
            ],
            [
             0.1,
             "#c51b7d"
            ],
            [
             0.2,
             "#de77ae"
            ],
            [
             0.3,
             "#f1b6da"
            ],
            [
             0.4,
             "#fde0ef"
            ],
            [
             0.5,
             "#f7f7f7"
            ],
            [
             0.6,
             "#e6f5d0"
            ],
            [
             0.7,
             "#b8e186"
            ],
            [
             0.8,
             "#7fbc41"
            ],
            [
             0.9,
             "#4d9221"
            ],
            [
             1,
             "#276419"
            ]
           ],
           "sequential": [
            [
             0,
             "#0d0887"
            ],
            [
             0.1111111111111111,
             "#46039f"
            ],
            [
             0.2222222222222222,
             "#7201a8"
            ],
            [
             0.3333333333333333,
             "#9c179e"
            ],
            [
             0.4444444444444444,
             "#bd3786"
            ],
            [
             0.5555555555555556,
             "#d8576b"
            ],
            [
             0.6666666666666666,
             "#ed7953"
            ],
            [
             0.7777777777777778,
             "#fb9f3a"
            ],
            [
             0.8888888888888888,
             "#fdca26"
            ],
            [
             1,
             "#f0f921"
            ]
           ],
           "sequentialminus": [
            [
             0,
             "#0d0887"
            ],
            [
             0.1111111111111111,
             "#46039f"
            ],
            [
             0.2222222222222222,
             "#7201a8"
            ],
            [
             0.3333333333333333,
             "#9c179e"
            ],
            [
             0.4444444444444444,
             "#bd3786"
            ],
            [
             0.5555555555555556,
             "#d8576b"
            ],
            [
             0.6666666666666666,
             "#ed7953"
            ],
            [
             0.7777777777777778,
             "#fb9f3a"
            ],
            [
             0.8888888888888888,
             "#fdca26"
            ],
            [
             1,
             "#f0f921"
            ]
           ]
          },
          "colorway": [
           "#636efa",
           "#EF553B",
           "#00cc96",
           "#ab63fa",
           "#FFA15A",
           "#19d3f3",
           "#FF6692",
           "#B6E880",
           "#FF97FF",
           "#FECB52"
          ],
          "font": {
           "color": "#2a3f5f"
          },
          "geo": {
           "bgcolor": "white",
           "lakecolor": "white",
           "landcolor": "#E5ECF6",
           "showlakes": true,
           "showland": true,
           "subunitcolor": "white"
          },
          "hoverlabel": {
           "align": "left"
          },
          "hovermode": "closest",
          "mapbox": {
           "style": "light"
          },
          "paper_bgcolor": "white",
          "plot_bgcolor": "#E5ECF6",
          "polar": {
           "angularaxis": {
            "gridcolor": "white",
            "linecolor": "white",
            "ticks": ""
           },
           "bgcolor": "#E5ECF6",
           "radialaxis": {
            "gridcolor": "white",
            "linecolor": "white",
            "ticks": ""
           }
          },
          "scene": {
           "xaxis": {
            "backgroundcolor": "#E5ECF6",
            "gridcolor": "white",
            "gridwidth": 2,
            "linecolor": "white",
            "showbackground": true,
            "ticks": "",
            "zerolinecolor": "white"
           },
           "yaxis": {
            "backgroundcolor": "#E5ECF6",
            "gridcolor": "white",
            "gridwidth": 2,
            "linecolor": "white",
            "showbackground": true,
            "ticks": "",
            "zerolinecolor": "white"
           },
           "zaxis": {
            "backgroundcolor": "#E5ECF6",
            "gridcolor": "white",
            "gridwidth": 2,
            "linecolor": "white",
            "showbackground": true,
            "ticks": "",
            "zerolinecolor": "white"
           }
          },
          "shapedefaults": {
           "line": {
            "color": "#2a3f5f"
           }
          },
          "ternary": {
           "aaxis": {
            "gridcolor": "white",
            "linecolor": "white",
            "ticks": ""
           },
           "baxis": {
            "gridcolor": "white",
            "linecolor": "white",
            "ticks": ""
           },
           "bgcolor": "#E5ECF6",
           "caxis": {
            "gridcolor": "white",
            "linecolor": "white",
            "ticks": ""
           }
          },
          "title": {
           "x": 0.05
          },
          "xaxis": {
           "automargin": true,
           "gridcolor": "white",
           "linecolor": "white",
           "ticks": "",
           "title": {
            "standoff": 15
           },
           "zerolinecolor": "white",
           "zerolinewidth": 2
          },
          "yaxis": {
           "automargin": true,
           "gridcolor": "white",
           "linecolor": "white",
           "ticks": "",
           "title": {
            "standoff": 15
           },
           "zerolinecolor": "white",
           "zerolinewidth": 2
          }
         }
        },
        "xaxis": {
         "anchor": "y",
         "domain": [
          0,
          1
         ],
         "title": {
          "text": "0"
         }
        },
        "yaxis": {
         "anchor": "x",
         "domain": [
          0,
          1
         ],
         "title": {
          "text": "1"
         }
        }
       }
      }
     },
     "metadata": {},
     "output_type": "display_data"
    }
   ],
   "source": [
    "fig = px.scatter(df, x=0, y=1, hover_data=df.columns, color=\"sentiment\")\n",
    "fig.show()"
   ]
  },
  {
   "cell_type": "markdown",
   "metadata": {},
   "source": [
    "# Word embeddings - FastText"
   ]
  },
  {
   "cell_type": "code",
   "execution_count": 12,
   "metadata": {},
   "outputs": [
    {
     "name": "stderr",
     "output_type": "stream",
     "text": [
      "/Users/lukasz/miniconda3/envs/nlp/lib/python3.11/site-packages/tqdm/auto.py:21: TqdmWarning: IProgress not found. Please update jupyter and ipywidgets. See https://ipywidgets.readthedocs.io/en/stable/user_install.html\n",
      "  from .autonotebook import tqdm as notebook_tqdm\n"
     ]
    }
   ],
   "source": [
    "from flair.embeddings import WordEmbeddings\n",
    "from flair.data import Sentence\n",
    "\n",
    "model = WordEmbeddings('pl')"
   ]
  },
  {
   "cell_type": "code",
   "execution_count": 13,
   "metadata": {},
   "outputs": [],
   "source": [
    "all_words = []\n",
    "\n",
    "for post in posts:\n",
    "    text = post[\"text\"]\n",
    "    labels = get_labels(post[\"text\"], post[\"label\"])\n",
    "    sentence = Sentence(text)\n",
    "    model.embed(sentence)\n",
    "    \n",
    "    for token in sentence:\n",
    "        new_word = {\"name\": token.text, \"label\": None, \"embedding\": token.embedding}\n",
    "\n",
    "        for label in labels:\n",
    "            if token.text in label[0]:\n",
    "                new_word[\"label\"] = label[1]\n",
    "        all_words.append(new_word)"
   ]
  },
  {
   "cell_type": "code",
   "execution_count": 14,
   "metadata": {},
   "outputs": [
    {
     "data": {
      "application/vnd.plotly.v1+json": {
       "config": {
        "plotlyServerURL": "https://plot.ly"
       },
       "data": [
        {
         "customdata": [
          [
           "kretyn",
           "Strenghtening"
          ],
          [
           ".",
           "Strenghtening"
          ],
          [
           "i",
           "Strenghtening"
          ],
          [
           "i",
           "Strenghtening"
          ],
          [
           ".",
           "Strenghtening"
          ],
          [
           "Jeden",
           "Strenghtening"
          ],
          [
           "wart",
           "Strenghtening"
          ],
          [
           "drugiego",
           "Strenghtening"
          ],
          [
           ".",
           "Strenghtening"
          ],
          [
           "zjeby",
           "Strenghtening"
          ],
          [
           "matołkowi",
           "Strenghtening"
          ],
          [
           "z",
           "Strenghtening"
          ],
          [
           "krzywoprzysięzcą",
           "Strenghtening"
          ],
          [
           "i",
           "Strenghtening"
          ],
          [
           "zakłamanym",
           "Strenghtening"
          ],
          [
           "oszustem",
           "Strenghtening"
          ],
          [
           "Frajerami",
           "Strenghtening"
          ],
          [
           "menda",
           "Strenghtening"
          ],
          [
           "ci",
           "Strenghtening"
          ],
          [
           "\\\"",
           "Strenghtening"
          ],
          [
           "eksperci",
           "Strenghtening"
          ],
          [
           "\\\"",
           "Strenghtening"
          ],
          [
           "łżesz",
           "Strenghtening"
          ],
          [
           "jak",
           "Strenghtening"
          ],
          [
           "bura",
           "Strenghtening"
          ],
          [
           "suka",
           "Strenghtening"
          ],
          [
           "z",
           "Strenghtening"
          ],
          [
           "z",
           "Strenghtening"
          ],
          [
           "faszyzującymi",
           "Strenghtening"
          ],
          [
           "ultrasem",
           "Strenghtening"
          ],
          [
           "yntylygentem",
           "Strenghtening"
          ],
          [
           "i",
           "Strenghtening"
          ],
          [
           "Głupi",
           "Strenghtening"
          ],
          [
           "ma",
           "Strenghtening"
          ],
          [
           "zawsze",
           "Strenghtening"
          ],
          [
           "szczęście",
           "Strenghtening"
          ],
          [
           "Biedni",
           "Strenghtening"
          ],
          [
           ",",
           "Strenghtening"
          ],
          [
           "chorzy",
           "Strenghtening"
          ],
          [
           "psychicznie",
           "Strenghtening"
          ],
          [
           "ludzie",
           "Strenghtening"
          ],
          [
           "z",
           "Strenghtening"
          ]
         ],
         "hovertemplate": "sentiment=%{customdata[1]}<br>0=%{x}<br>1=%{y}<br>label=%{customdata[0]}<extra></extra>",
         "legendgroup": "Strenghtening",
         "marker": {
          "color": "#EF553B",
          "symbol": "circle"
         },
         "mode": "markers",
         "name": "Strenghtening",
         "showlegend": true,
         "type": "scattergl",
         "x": [
          85.24337005615234,
          55.78827667236328,
          13.42403793334961,
          14.516616821289062,
          58.830528259277344,
          26.436336517333984,
          -29.49188804626465,
          8.764263153076172,
          59.32581329345703,
          30.80975914001465,
          30.80975914001465,
          42.359535217285156,
          30.80975914001465,
          23.57102394104004,
          30.80975914001465,
          -14.616128921508789,
          30.80975914001465,
          -29.059213638305664,
          -60.25870895385742,
          30.80975914001465,
          -12.906749725341797,
          30.80975914001465,
          30.80975914001465,
          6.623635292053223,
          53.40069580078125,
          54.57713317871094,
          30.966880798339844,
          30.966880798339844,
          30.80975914001465,
          30.80975914001465,
          30.80975914001465,
          23.585500717163086,
          -55.81647872924805,
          2.463738441467285,
          -13.937642097473145,
          37.96687698364258,
          -19.053049087524414,
          51.478843688964844,
          -8.458725929260254,
          -2.995769739151001,
          -7.632450580596924,
          30.966880798339844
         ],
         "xaxis": "x",
         "y": [
          -84.65821075439453,
          23.64246368408203,
          12.001559257507324,
          17.55177879333496,
          24.793771743774414,
          70.3812484741211,
          54.64390182495117,
          -11.876605987548828,
          32.72652053833008,
          -65.92098999023438,
          -65.92098999023438,
          75.49535369873047,
          -65.92098999023438,
          8.674396514892578,
          -65.92098999023438,
          -24.961837768554688,
          -65.92098999023438,
          62.135719299316406,
          49.29572296142578,
          -65.92098999023438,
          -23.59050178527832,
          -65.92098999023438,
          -65.92098999023438,
          42.44565963745117,
          -5.878635883331299,
          -1.2654136419296265,
          77.13072204589844,
          77.13072204589844,
          -65.92098999023438,
          -65.92098999023438,
          -65.92098999023438,
          14.295368194580078,
          31.346891403198242,
          74.06468200683594,
          16.736881256103516,
          0.7116453647613525,
          24.88881492614746,
          1.2816519737243652,
          30.94978904724121,
          -4.955066680908203,
          31.21225357055664,
          77.13072204589844
         ],
         "yaxis": "y"
        },
        {
         "customdata": [
          [
           "o",
           "Reverse"
          ],
          [
           ".",
           "Reverse"
          ],
          [
           ".",
           "Reverse"
          ],
          [
           "Mimo",
           "Reverse"
          ],
          [
           "osobistej",
           "Reverse"
          ],
          [
           "sympatii",
           "Reverse"
          ],
          [
           "do",
           "Reverse"
          ],
          [
           "niej",
           "Reverse"
          ],
          [
           ".",
           "Reverse"
          ],
          [
           "😁😁😁😁😁",
           "Reverse"
          ],
          [
           "z",
           "Reverse"
          ],
          [
           "Historii",
           "Reverse"
          ],
          [
           "szajby",
           "Reverse"
          ]
         ],
         "hovertemplate": "sentiment=%{customdata[1]}<br>0=%{x}<br>1=%{y}<br>label=%{customdata[0]}<extra></extra>",
         "legendgroup": "Reverse",
         "marker": {
          "color": "#00cc96",
          "symbol": "circle"
         },
         "mode": "markers",
         "name": "Reverse",
         "showlegend": true,
         "type": "scattergl",
         "x": [
          75.04811096191406,
          61.054039001464844,
          62.088417053222656,
          -15.985815048217773,
          13.294852256774902,
          -21.106544494628906,
          96.60787963867188,
          14.346587181091309,
          59.80746078491211,
          30.80975914001465,
          30.966880798339844,
          64.77698516845703,
          20.14902114868164
         ],
         "xaxis": "x",
         "y": [
          48.29783248901367,
          23.7619686126709,
          27.012592315673828,
          -2.6488046646118164,
          -7.93923807144165,
          -6.939296722412109,
          48.346229553222656,
          -2.5490684509277344,
          27.725431442260742,
          -65.92098999023438,
          77.13072204589844,
          19.171646118164062,
          -33.503334045410156
         ],
         "yaxis": "y"
        },
        {
         "customdata": [
          [
           ",",
           "Wzmacnianie"
          ],
          [
           "ordynarna",
           "Wzmacnianie"
          ],
          [
           ",",
           "Wzmacnianie"
          ],
          [
           "prostacka",
           "Wzmacnianie"
          ],
          [
           "Pieprzona",
           "Wzmacnianie"
          ],
          [
           "zakala",
           "Wzmacnianie"
          ],
          [
           "sadownictwa",
           "Wzmacnianie"
          ],
          [
           "i",
           "Wzmacnianie"
          ],
          [
           "Pieprzona",
           "Wzmacnianie"
          ],
          [
           "zakala",
           "Wzmacnianie"
          ],
          [
           "i",
           "Wzmacnianie"
          ],
          [
           "Pojebało",
           "Wzmacnianie"
          ],
          [
           "cię",
           "Wzmacnianie"
          ],
          [
           "Lecz",
           "Wzmacnianie"
          ],
          [
           "się",
           "Wzmacnianie"
          ],
          [
           "na",
           "Wzmacnianie"
          ],
          [
           "na",
           "Wzmacnianie"
          ],
          [
           "głowę",
           "Wzmacnianie"
          ],
          [
           "już",
           "Wzmacnianie"
          ],
          [
           "zbyt",
           "Wzmacnianie"
          ],
          [
           "późno",
           "Wzmacnianie"
          ],
          [
           "debilu",
           "Wzmacnianie"
          ],
          [
           "debile",
           "Wzmacnianie"
          ],
          [
           "pajacu",
           "Wzmacnianie"
          ],
          [
           "z",
           "Wzmacnianie"
          ],
          [
           "krzywoprzysięzcą",
           "Wzmacnianie"
          ],
          [
           "i",
           "Wzmacnianie"
          ],
          [
           "zakłamanym",
           "Wzmacnianie"
          ],
          [
           "oszustem",
           "Wzmacnianie"
          ],
          [
           "Zdrajca",
           "Wzmacnianie"
          ],
          [
           "i",
           "Wzmacnianie"
          ],
          [
           "faszysta",
           "Wzmacnianie"
          ],
          [
           "menda",
           "Wzmacnianie"
          ],
          [
           ".",
           "Wzmacnianie"
          ],
          [
           "i",
           "Wzmacnianie"
          ],
          [
           "wkurwia",
           "Wzmacnianie"
          ],
          [
           "kłamco",
           "Wzmacnianie"
          ],
          [
           "swastykę",
           "Wzmacnianie"
          ],
          [
           "na",
           "Wzmacnianie"
          ],
          [
           "ryju",
           "Wzmacnianie"
          ],
          [
           "i",
           "Wzmacnianie"
          ],
          [
           ".",
           "Wzmacnianie"
          ],
          [
           "Koń",
           "Wzmacnianie"
          ],
          [
           "by",
           "Wzmacnianie"
          ],
          [
           "się",
           "Wzmacnianie"
          ],
          [
           "uśmiał",
           "Wzmacnianie"
          ],
          [
           ".",
           "Wzmacnianie"
          ],
          [
           "mi",
           "Wzmacnianie"
          ],
          [
           "trzeba",
           "Wzmacnianie"
          ],
          [
           "mieć",
           "Wzmacnianie"
          ],
          [
           "niepokoleji",
           "Wzmacnianie"
          ],
          [
           "w",
           "Wzmacnianie"
          ],
          [
           "głowie",
           "Wzmacnianie"
          ],
          [
           "gnidy",
           "Wzmacnianie"
          ],
          [
           "i",
           "Wzmacnianie"
          ],
          [
           "zbombardo",
           "Wzmacnianie"
          ],
          [
           "…",
           "Wzmacnianie"
          ],
          [
           "i",
           "Wzmacnianie"
          ],
          [
           ".",
           "Wzmacnianie"
          ],
          [
           "debil",
           "Wzmacnianie"
          ],
          [
           ".",
           "Wzmacnianie"
          ],
          [
           "Skończony",
           "Wzmacnianie"
          ],
          [
           "debil",
           "Wzmacnianie"
          ],
          [
           ".",
           "Wzmacnianie"
          ],
          [
           "po",
           "Wzmacnianie"
          ],
          [
           "ty",
           "Wzmacnianie"
          ],
          [
           "stary",
           "Wzmacnianie"
          ],
          [
           "pojebańcu",
           "Wzmacnianie"
          ],
          [
           "głupia",
           "Wzmacnianie"
          ],
          [
           "cipo",
           "Wzmacnianie"
          ],
          [
           ".",
           "Wzmacnianie"
          ],
          [
           "Kurwa",
           "Wzmacnianie"
          ],
          [
           "w",
           "Wzmacnianie"
          ],
          [
           "jebany",
           "Wzmacnianie"
          ],
          [
           "kurwa",
           "Wzmacnianie"
          ],
          [
           "gnoju",
           "Wzmacnianie"
          ],
          [
           "pisdzielstwo",
           "Wzmacnianie"
          ],
          [
           "parchu",
           "Wzmacnianie"
          ],
          [
           ".",
           "Wzmacnianie"
          ],
          [
           "Tak",
           "Wzmacnianie"
          ],
          [
           "jak",
           "Wzmacnianie"
          ],
          [
           "Ty",
           "Wzmacnianie"
          ],
          [
           "i",
           "Wzmacnianie"
          ],
          [
           "Tobie",
           "Wzmacnianie"
          ],
          [
           "podobni",
           "Wzmacnianie"
          ],
          [
           ".",
           "Wzmacnianie"
          ],
          [
           "pajacu",
           "Wzmacnianie"
          ],
          [
           "w",
           "Wzmacnianie"
          ],
          [
           "Taki",
           "Wzmacnianie"
          ],
          [
           "pospolity",
           "Wzmacnianie"
          ],
          [
           "ćwierćmózg",
           "Wzmacnianie"
          ],
          [
           "Parchu",
           "Wzmacnianie"
          ],
          [
           "pierdolone",
           "Wzmacnianie"
          ],
          [
           ".",
           "Wzmacnianie"
          ],
          [
           "Lecz",
           "Wzmacnianie"
          ],
          [
           "się",
           "Wzmacnianie"
          ],
          [
           "z",
           "Wzmacnianie"
          ],
          [
           "największych",
           "Wzmacnianie"
          ],
          [
           "debili",
           "Wzmacnianie"
          ],
          [
           "zjeby",
           "Wzmacnianie"
          ],
          [
           "szczyj",
           "Wzmacnianie"
          ],
          [
           "na",
           "Wzmacnianie"
          ],
          [
           "nich",
           "Wzmacnianie"
          ]
         ],
         "hovertemplate": "sentiment=%{customdata[1]}<br>0=%{x}<br>1=%{y}<br>label=%{customdata[0]}<extra></extra>",
         "legendgroup": "Wzmacnianie",
         "marker": {
          "color": "#ab63fa",
          "symbol": "circle"
         },
         "mode": "markers",
         "name": "Wzmacnianie",
         "showlegend": true,
         "type": "scattergl",
         "x": [
          62.628021240234375,
          -21.135299682617188,
          54.34644317626953,
          -12.946883201599121,
          30.80975914001465,
          30.80975914001465,
          25.1341495513916,
          18.723264694213867,
          30.80975914001465,
          30.80975914001465,
          24.026704788208008,
          30.80975914001465,
          -80.26023864746094,
          -11.90597152709961,
          105.54366302490234,
          86.8682861328125,
          86.8682861328125,
          4.710727214813232,
          -2.942976236343384,
          -20.529781341552734,
          -4.610885143280029,
          -43.877159118652344,
          -43.93708801269531,
          40.61941909790039,
          30.966880798339844,
          30.80975914001465,
          17.68799591064453,
          30.80975914001465,
          -14.616128921508789,
          -18.679431915283203,
          12.162307739257812,
          52.011253356933594,
          -29.059213638305664,
          85.77062225341797,
          15.94104290008545,
          -29.91775894165039,
          30.80975914001465,
          0.07041523605585098,
          86.8682861328125,
          3.5733838081359863,
          14.470341682434082,
          66.71524047851562,
          63.468196868896484,
          -43.3895378112793,
          105.54366302490234,
          -12.82425308227539,
          66.71524047851562,
          -79.50590515136719,
          -48.74442672729492,
          1.9671627283096313,
          30.80975914001465,
          49.1269645690918,
          5.064687252044678,
          30.80975914001465,
          19.98793601989746,
          30.80975914001465,
          -30.548934936523438,
          18.997724533081055,
          66.71524047851562,
          -43.86969757080078,
          66.71524047851562,
          -13.87243366241455,
          -43.86969757080078,
          66.71524047851562,
          69.16964721679688,
          -85.72538757324219,
          56.75927734375,
          30.80975914001465,
          -55.803680419921875,
          30.80975914001465,
          66.71524047851562,
          -36.13130569458008,
          53.08555603027344,
          30.80975914001465,
          -36.13130569458008,
          -24.394519805908203,
          30.80975914001465,
          30.80975914001465,
          66.71524047851562,
          -23.81349754333496,
          -4.092398643493652,
          -85.72538757324219,
          30.382232666015625,
          -76.13522338867188,
          -1.6431324481964111,
          66.71524047851562,
          40.61941909790039,
          65.11747741699219,
          -13.554112434387207,
          58.61746597290039,
          30.80975914001465,
          30.80975914001465,
          30.80975914001465,
          66.71524047851562,
          -11.905957221984863,
          105.54366302490234,
          42.13581848144531,
          26.079458236694336,
          -44.02128982543945,
          30.80975914001465,
          30.80975914001465,
          78.65434265136719,
          14.82788372039795
         ],
         "xaxis": "x",
         "y": [
          -3.229416847229004,
          45.467742919921875,
          -5.019806861877441,
          5.332363128662109,
          -65.92098999023438,
          -65.92098999023438,
          14.670528411865234,
          8.89335823059082,
          -65.92098999023438,
          -65.92098999023438,
          17.306785583496094,
          -65.92098999023438,
          17.9552001953125,
          1.463766098022461,
          4.1626739501953125,
          -30.903600692749023,
          -30.903600692749023,
          0.37366732954978943,
          3.560870409011841,
          18.960445404052734,
          4.052423477172852,
          44.65666198730469,
          44.858985900878906,
          -48.664581298828125,
          77.13072204589844,
          -65.92098999023438,
          11.321528434753418,
          -65.92098999023438,
          -24.961837768554688,
          -32.141075134277344,
          7.793562412261963,
          -17.43242835998535,
          62.135719299316406,
          63.12080764770508,
          14.800010681152344,
          50.220619201660156,
          -65.92098999023438,
          42.7076301574707,
          -30.903600692749023,
          -47.90316390991211,
          13.224440574645996,
          77.7363052368164,
          -5.897561073303223,
          36.783905029296875,
          4.1626739501953125,
          4.119987964630127,
          77.7363052368164,
          6.693967819213867,
          28.88005256652832,
          67.51976776123047,
          -65.92098999023438,
          58.66303253173828,
          0.7445781826972961,
          -65.92098999023438,
          8.203800201416016,
          -65.92098999023438,
          66.30648803710938,
          4.169278621673584,
          77.7363052368164,
          44.713035583496094,
          77.7363052368164,
          24.120929718017578,
          44.713035583496094,
          77.7363052368164,
          -26.643238067626953,
          20.157623291015625,
          -3.3428285121917725,
          -65.92098999023438,
          31.429458618164062,
          -65.92098999023438,
          77.7363052368164,
          56.41351318359375,
          65.20269775390625,
          -65.92098999023438,
          56.41351318359375,
          -0.3331421911716461,
          -65.92098999023438,
          -65.92098999023438,
          77.7363052368164,
          19.447601318359375,
          46.9326286315918,
          20.157623291015625,
          10.356597900390625,
          20.902070999145508,
          44.18854522705078,
          77.7363052368164,
          -48.664581298828125,
          57.06549835205078,
          25.752595901489258,
          11.575833320617676,
          -65.92098999023438,
          -65.92098999023438,
          -65.92098999023438,
          77.7363052368164,
          1.4637635946273804,
          4.1626739501953125,
          86.51893615722656,
          69.48772430419922,
          45.298492431640625,
          -65.92098999023438,
          -65.92098999023438,
          -50.48906326293945,
          -1.114763617515564
         ],
         "yaxis": "y"
        },
        {
         "customdata": [
          [
           "😂😂😂\\",
           "Osłabianie"
          ],
          [
           "Pan",
           "Osłabianie"
          ],
          [
           "To",
           "Osłabianie"
          ],
          [
           "proszę",
           "Osłabianie"
          ],
          [
           "A",
           "Osłabianie"
          ],
          [
           "taki",
           "Osłabianie"
          ],
          [
           "był",
           "Osłabianie"
          ],
          [
           "porządny",
           "Osłabianie"
          ],
          [
           "program",
           "Osłabianie"
          ],
          [
           "A",
           "Osłabianie"
          ]
         ],
         "hovertemplate": "sentiment=%{customdata[1]}<br>0=%{x}<br>1=%{y}<br>label=%{customdata[0]}<extra></extra>",
         "legendgroup": "Osłabianie",
         "marker": {
          "color": "#FFA15A",
          "symbol": "circle"
         },
         "mode": "markers",
         "name": "Osłabianie",
         "showlegend": true,
         "type": "scattergl",
         "x": [
          30.80975914001465,
          25.34697914123535,
          -23.96876335144043,
          -66.78845977783203,
          -6.518856525421143,
          -13.554112434387207,
          21.56883430480957,
          -60.65038299560547,
          13.35118293762207,
          -6.518856525421143
         ],
         "xaxis": "x",
         "y": [
          -65.92098999023438,
          -0.5131773948669434,
          57.565834045410156,
          31.476764678955078,
          98.2698745727539,
          25.752595901489258,
          57.692527770996094,
          26.165271759033203,
          -44.07212448120117,
          98.2698745727539
         ],
         "yaxis": "y"
        },
        {
         "customdata": [
          [
           "😁😀😀😀",
           "Odwracanie"
          ],
          [
           "ja",
           "Odwracanie"
          ],
          [
           "też",
           "Odwracanie"
          ],
          [
           "spierdalam",
           "Odwracanie"
          ]
         ],
         "hovertemplate": "sentiment=%{customdata[1]}<br>0=%{x}<br>1=%{y}<br>label=%{customdata[0]}<extra></extra>",
         "legendgroup": "Odwracanie",
         "marker": {
          "color": "#19d3f3",
          "symbol": "circle"
         },
         "mode": "markers",
         "name": "Odwracanie",
         "showlegend": true,
         "type": "scattergl",
         "x": [
          30.80975914001465,
          -80.89573669433594,
          4.512941837310791,
          30.80975914001465
         ],
         "xaxis": "x",
         "y": [
          -65.92098999023438,
          27.989877700805664,
          16.615224838256836,
          -65.92098999023438
         ],
         "yaxis": "y"
        }
       ],
       "layout": {
        "legend": {
         "title": {
          "text": "sentiment"
         },
         "tracegroupgap": 0
        },
        "margin": {
         "t": 60
        },
        "template": {
         "data": {
          "bar": [
           {
            "error_x": {
             "color": "#2a3f5f"
            },
            "error_y": {
             "color": "#2a3f5f"
            },
            "marker": {
             "line": {
              "color": "#E5ECF6",
              "width": 0.5
             },
             "pattern": {
              "fillmode": "overlay",
              "size": 10,
              "solidity": 0.2
             }
            },
            "type": "bar"
           }
          ],
          "barpolar": [
           {
            "marker": {
             "line": {
              "color": "#E5ECF6",
              "width": 0.5
             },
             "pattern": {
              "fillmode": "overlay",
              "size": 10,
              "solidity": 0.2
             }
            },
            "type": "barpolar"
           }
          ],
          "carpet": [
           {
            "aaxis": {
             "endlinecolor": "#2a3f5f",
             "gridcolor": "white",
             "linecolor": "white",
             "minorgridcolor": "white",
             "startlinecolor": "#2a3f5f"
            },
            "baxis": {
             "endlinecolor": "#2a3f5f",
             "gridcolor": "white",
             "linecolor": "white",
             "minorgridcolor": "white",
             "startlinecolor": "#2a3f5f"
            },
            "type": "carpet"
           }
          ],
          "choropleth": [
           {
            "colorbar": {
             "outlinewidth": 0,
             "ticks": ""
            },
            "type": "choropleth"
           }
          ],
          "contour": [
           {
            "colorbar": {
             "outlinewidth": 0,
             "ticks": ""
            },
            "colorscale": [
             [
              0,
              "#0d0887"
             ],
             [
              0.1111111111111111,
              "#46039f"
             ],
             [
              0.2222222222222222,
              "#7201a8"
             ],
             [
              0.3333333333333333,
              "#9c179e"
             ],
             [
              0.4444444444444444,
              "#bd3786"
             ],
             [
              0.5555555555555556,
              "#d8576b"
             ],
             [
              0.6666666666666666,
              "#ed7953"
             ],
             [
              0.7777777777777778,
              "#fb9f3a"
             ],
             [
              0.8888888888888888,
              "#fdca26"
             ],
             [
              1,
              "#f0f921"
             ]
            ],
            "type": "contour"
           }
          ],
          "contourcarpet": [
           {
            "colorbar": {
             "outlinewidth": 0,
             "ticks": ""
            },
            "type": "contourcarpet"
           }
          ],
          "heatmap": [
           {
            "colorbar": {
             "outlinewidth": 0,
             "ticks": ""
            },
            "colorscale": [
             [
              0,
              "#0d0887"
             ],
             [
              0.1111111111111111,
              "#46039f"
             ],
             [
              0.2222222222222222,
              "#7201a8"
             ],
             [
              0.3333333333333333,
              "#9c179e"
             ],
             [
              0.4444444444444444,
              "#bd3786"
             ],
             [
              0.5555555555555556,
              "#d8576b"
             ],
             [
              0.6666666666666666,
              "#ed7953"
             ],
             [
              0.7777777777777778,
              "#fb9f3a"
             ],
             [
              0.8888888888888888,
              "#fdca26"
             ],
             [
              1,
              "#f0f921"
             ]
            ],
            "type": "heatmap"
           }
          ],
          "heatmapgl": [
           {
            "colorbar": {
             "outlinewidth": 0,
             "ticks": ""
            },
            "colorscale": [
             [
              0,
              "#0d0887"
             ],
             [
              0.1111111111111111,
              "#46039f"
             ],
             [
              0.2222222222222222,
              "#7201a8"
             ],
             [
              0.3333333333333333,
              "#9c179e"
             ],
             [
              0.4444444444444444,
              "#bd3786"
             ],
             [
              0.5555555555555556,
              "#d8576b"
             ],
             [
              0.6666666666666666,
              "#ed7953"
             ],
             [
              0.7777777777777778,
              "#fb9f3a"
             ],
             [
              0.8888888888888888,
              "#fdca26"
             ],
             [
              1,
              "#f0f921"
             ]
            ],
            "type": "heatmapgl"
           }
          ],
          "histogram": [
           {
            "marker": {
             "pattern": {
              "fillmode": "overlay",
              "size": 10,
              "solidity": 0.2
             }
            },
            "type": "histogram"
           }
          ],
          "histogram2d": [
           {
            "colorbar": {
             "outlinewidth": 0,
             "ticks": ""
            },
            "colorscale": [
             [
              0,
              "#0d0887"
             ],
             [
              0.1111111111111111,
              "#46039f"
             ],
             [
              0.2222222222222222,
              "#7201a8"
             ],
             [
              0.3333333333333333,
              "#9c179e"
             ],
             [
              0.4444444444444444,
              "#bd3786"
             ],
             [
              0.5555555555555556,
              "#d8576b"
             ],
             [
              0.6666666666666666,
              "#ed7953"
             ],
             [
              0.7777777777777778,
              "#fb9f3a"
             ],
             [
              0.8888888888888888,
              "#fdca26"
             ],
             [
              1,
              "#f0f921"
             ]
            ],
            "type": "histogram2d"
           }
          ],
          "histogram2dcontour": [
           {
            "colorbar": {
             "outlinewidth": 0,
             "ticks": ""
            },
            "colorscale": [
             [
              0,
              "#0d0887"
             ],
             [
              0.1111111111111111,
              "#46039f"
             ],
             [
              0.2222222222222222,
              "#7201a8"
             ],
             [
              0.3333333333333333,
              "#9c179e"
             ],
             [
              0.4444444444444444,
              "#bd3786"
             ],
             [
              0.5555555555555556,
              "#d8576b"
             ],
             [
              0.6666666666666666,
              "#ed7953"
             ],
             [
              0.7777777777777778,
              "#fb9f3a"
             ],
             [
              0.8888888888888888,
              "#fdca26"
             ],
             [
              1,
              "#f0f921"
             ]
            ],
            "type": "histogram2dcontour"
           }
          ],
          "mesh3d": [
           {
            "colorbar": {
             "outlinewidth": 0,
             "ticks": ""
            },
            "type": "mesh3d"
           }
          ],
          "parcoords": [
           {
            "line": {
             "colorbar": {
              "outlinewidth": 0,
              "ticks": ""
             }
            },
            "type": "parcoords"
           }
          ],
          "pie": [
           {
            "automargin": true,
            "type": "pie"
           }
          ],
          "scatter": [
           {
            "fillpattern": {
             "fillmode": "overlay",
             "size": 10,
             "solidity": 0.2
            },
            "type": "scatter"
           }
          ],
          "scatter3d": [
           {
            "line": {
             "colorbar": {
              "outlinewidth": 0,
              "ticks": ""
             }
            },
            "marker": {
             "colorbar": {
              "outlinewidth": 0,
              "ticks": ""
             }
            },
            "type": "scatter3d"
           }
          ],
          "scattercarpet": [
           {
            "marker": {
             "colorbar": {
              "outlinewidth": 0,
              "ticks": ""
             }
            },
            "type": "scattercarpet"
           }
          ],
          "scattergeo": [
           {
            "marker": {
             "colorbar": {
              "outlinewidth": 0,
              "ticks": ""
             }
            },
            "type": "scattergeo"
           }
          ],
          "scattergl": [
           {
            "marker": {
             "colorbar": {
              "outlinewidth": 0,
              "ticks": ""
             }
            },
            "type": "scattergl"
           }
          ],
          "scattermapbox": [
           {
            "marker": {
             "colorbar": {
              "outlinewidth": 0,
              "ticks": ""
             }
            },
            "type": "scattermapbox"
           }
          ],
          "scatterpolar": [
           {
            "marker": {
             "colorbar": {
              "outlinewidth": 0,
              "ticks": ""
             }
            },
            "type": "scatterpolar"
           }
          ],
          "scatterpolargl": [
           {
            "marker": {
             "colorbar": {
              "outlinewidth": 0,
              "ticks": ""
             }
            },
            "type": "scatterpolargl"
           }
          ],
          "scatterternary": [
           {
            "marker": {
             "colorbar": {
              "outlinewidth": 0,
              "ticks": ""
             }
            },
            "type": "scatterternary"
           }
          ],
          "surface": [
           {
            "colorbar": {
             "outlinewidth": 0,
             "ticks": ""
            },
            "colorscale": [
             [
              0,
              "#0d0887"
             ],
             [
              0.1111111111111111,
              "#46039f"
             ],
             [
              0.2222222222222222,
              "#7201a8"
             ],
             [
              0.3333333333333333,
              "#9c179e"
             ],
             [
              0.4444444444444444,
              "#bd3786"
             ],
             [
              0.5555555555555556,
              "#d8576b"
             ],
             [
              0.6666666666666666,
              "#ed7953"
             ],
             [
              0.7777777777777778,
              "#fb9f3a"
             ],
             [
              0.8888888888888888,
              "#fdca26"
             ],
             [
              1,
              "#f0f921"
             ]
            ],
            "type": "surface"
           }
          ],
          "table": [
           {
            "cells": {
             "fill": {
              "color": "#EBF0F8"
             },
             "line": {
              "color": "white"
             }
            },
            "header": {
             "fill": {
              "color": "#C8D4E3"
             },
             "line": {
              "color": "white"
             }
            },
            "type": "table"
           }
          ]
         },
         "layout": {
          "annotationdefaults": {
           "arrowcolor": "#2a3f5f",
           "arrowhead": 0,
           "arrowwidth": 1
          },
          "autotypenumbers": "strict",
          "coloraxis": {
           "colorbar": {
            "outlinewidth": 0,
            "ticks": ""
           }
          },
          "colorscale": {
           "diverging": [
            [
             0,
             "#8e0152"
            ],
            [
             0.1,
             "#c51b7d"
            ],
            [
             0.2,
             "#de77ae"
            ],
            [
             0.3,
             "#f1b6da"
            ],
            [
             0.4,
             "#fde0ef"
            ],
            [
             0.5,
             "#f7f7f7"
            ],
            [
             0.6,
             "#e6f5d0"
            ],
            [
             0.7,
             "#b8e186"
            ],
            [
             0.8,
             "#7fbc41"
            ],
            [
             0.9,
             "#4d9221"
            ],
            [
             1,
             "#276419"
            ]
           ],
           "sequential": [
            [
             0,
             "#0d0887"
            ],
            [
             0.1111111111111111,
             "#46039f"
            ],
            [
             0.2222222222222222,
             "#7201a8"
            ],
            [
             0.3333333333333333,
             "#9c179e"
            ],
            [
             0.4444444444444444,
             "#bd3786"
            ],
            [
             0.5555555555555556,
             "#d8576b"
            ],
            [
             0.6666666666666666,
             "#ed7953"
            ],
            [
             0.7777777777777778,
             "#fb9f3a"
            ],
            [
             0.8888888888888888,
             "#fdca26"
            ],
            [
             1,
             "#f0f921"
            ]
           ],
           "sequentialminus": [
            [
             0,
             "#0d0887"
            ],
            [
             0.1111111111111111,
             "#46039f"
            ],
            [
             0.2222222222222222,
             "#7201a8"
            ],
            [
             0.3333333333333333,
             "#9c179e"
            ],
            [
             0.4444444444444444,
             "#bd3786"
            ],
            [
             0.5555555555555556,
             "#d8576b"
            ],
            [
             0.6666666666666666,
             "#ed7953"
            ],
            [
             0.7777777777777778,
             "#fb9f3a"
            ],
            [
             0.8888888888888888,
             "#fdca26"
            ],
            [
             1,
             "#f0f921"
            ]
           ]
          },
          "colorway": [
           "#636efa",
           "#EF553B",
           "#00cc96",
           "#ab63fa",
           "#FFA15A",
           "#19d3f3",
           "#FF6692",
           "#B6E880",
           "#FF97FF",
           "#FECB52"
          ],
          "font": {
           "color": "#2a3f5f"
          },
          "geo": {
           "bgcolor": "white",
           "lakecolor": "white",
           "landcolor": "#E5ECF6",
           "showlakes": true,
           "showland": true,
           "subunitcolor": "white"
          },
          "hoverlabel": {
           "align": "left"
          },
          "hovermode": "closest",
          "mapbox": {
           "style": "light"
          },
          "paper_bgcolor": "white",
          "plot_bgcolor": "#E5ECF6",
          "polar": {
           "angularaxis": {
            "gridcolor": "white",
            "linecolor": "white",
            "ticks": ""
           },
           "bgcolor": "#E5ECF6",
           "radialaxis": {
            "gridcolor": "white",
            "linecolor": "white",
            "ticks": ""
           }
          },
          "scene": {
           "xaxis": {
            "backgroundcolor": "#E5ECF6",
            "gridcolor": "white",
            "gridwidth": 2,
            "linecolor": "white",
            "showbackground": true,
            "ticks": "",
            "zerolinecolor": "white"
           },
           "yaxis": {
            "backgroundcolor": "#E5ECF6",
            "gridcolor": "white",
            "gridwidth": 2,
            "linecolor": "white",
            "showbackground": true,
            "ticks": "",
            "zerolinecolor": "white"
           },
           "zaxis": {
            "backgroundcolor": "#E5ECF6",
            "gridcolor": "white",
            "gridwidth": 2,
            "linecolor": "white",
            "showbackground": true,
            "ticks": "",
            "zerolinecolor": "white"
           }
          },
          "shapedefaults": {
           "line": {
            "color": "#2a3f5f"
           }
          },
          "ternary": {
           "aaxis": {
            "gridcolor": "white",
            "linecolor": "white",
            "ticks": ""
           },
           "baxis": {
            "gridcolor": "white",
            "linecolor": "white",
            "ticks": ""
           },
           "bgcolor": "#E5ECF6",
           "caxis": {
            "gridcolor": "white",
            "linecolor": "white",
            "ticks": ""
           }
          },
          "title": {
           "x": 0.05
          },
          "xaxis": {
           "automargin": true,
           "gridcolor": "white",
           "linecolor": "white",
           "ticks": "",
           "title": {
            "standoff": 15
           },
           "zerolinecolor": "white",
           "zerolinewidth": 2
          },
          "yaxis": {
           "automargin": true,
           "gridcolor": "white",
           "linecolor": "white",
           "ticks": "",
           "title": {
            "standoff": 15
           },
           "zerolinecolor": "white",
           "zerolinewidth": 2
          }
         }
        },
        "xaxis": {
         "anchor": "y",
         "domain": [
          0,
          1
         ],
         "title": {
          "text": "0"
         }
        },
        "yaxis": {
         "anchor": "x",
         "domain": [
          0,
          1
         ],
         "title": {
          "text": "1"
         }
        }
       }
      }
     },
     "metadata": {},
     "output_type": "display_data"
    }
   ],
   "source": [
    "df = get_tsne_results(all_words)\n",
    "fig = px.scatter(df, x=0, y=1, hover_data=df.columns, color=\"sentiment\")\n",
    "fig.show()"
   ]
  },
  {
   "cell_type": "markdown",
   "metadata": {},
   "source": [
    "# Sentence embeddings - TF-IDF"
   ]
  },
  {
   "cell_type": "code",
   "execution_count": 15,
   "metadata": {},
   "outputs": [],
   "source": [
    "from sklearn.feature_extraction.text import TfidfVectorizer"
   ]
  },
  {
   "cell_type": "code",
   "execution_count": 16,
   "metadata": {},
   "outputs": [],
   "source": [
    "sentences = [line[\"text\"] for line in posts]\n",
    "tfidf = TfidfVectorizer()\n",
    "vectorized = tfidf.fit_transform(sentences)"
   ]
  },
  {
   "cell_type": "code",
   "execution_count": 17,
   "metadata": {},
   "outputs": [],
   "source": [
    "sentence_sentiment = []\n",
    "\n",
    "for post in posts:\n",
    "    labels = [label[2] for label in post[\"label\"]]\n",
    "    if \"Hate\" in labels:\n",
    "        sentence_sentiment.append(\"Hate\")\n",
    "    else:\n",
    "        sentence_sentiment.append(\"Neutral\")"
   ]
  },
  {
   "cell_type": "code",
   "execution_count": 18,
   "metadata": {},
   "outputs": [],
   "source": [
    "tsne = TSNE()\n",
    "clustered = tsne.fit_transform(vectorized.toarray())\n",
    "\n",
    "df = pd.DataFrame(clustered)\n",
    "df[\"label\"] = [post[\"text\"] for post in posts]\n",
    "df[\"sentiment\"] = sentence_sentiment"
   ]
  },
  {
   "cell_type": "code",
   "execution_count": 19,
   "metadata": {},
   "outputs": [
    {
     "data": {
      "application/vnd.plotly.v1+json": {
       "config": {
        "plotlyServerURL": "https://plot.ly"
       },
       "data": [
        {
         "customdata": [
          [
           "@anonymized_account dziwne bo czytam że ostro balował i ćpał",
           "Neutral"
          ],
          [
           "@anonymized_account To co powiedział imć Pan Zagłoba tak bardzo aktualne w naszych czasach i pasuje do jej podobnych jak ulał",
           "Neutral"
          ],
          [
           "\\\"Epoka kamienia łupanego nie skończyła się bynajmniej dlatego, że zabrakło kamieni\\\".",
           "Neutral"
          ],
          [
           "RT @anonymized_account @anonymized_account Kaczyński ciężko pracował na to przez 8 lat.",
           "Neutral"
          ],
          [
           "@anonymized_account 2 mln euro odszkodowania dostanie związek.",
           "Neutral"
          ],
          [
           "RT @anonymized_account Jak można nie kochać piosenek z lat 80",
           "Neutral"
          ],
          [
           "Psychopaci słuchają \\\"Lose Yourself\\\" Eminema. Tak właśnie myślałem 😎😛\\nhttps://t.co/gR9sIaJPZy",
           "Neutral"
          ],
          [
           "@anonymized_account Z muchą to ten w środku ;-)",
           "Neutral"
          ],
          [
           "@anonymized_account Uuuu daj znać później to wpadnę! Albo zapraszam do akademika! 😂",
           "Neutral"
          ],
          [
           "@anonymized_account @anonymized_account W 2008 roku zapewne, w Jadze w Ekstraklasie.",
           "Neutral"
          ],
          [
           "@anonymized_account czemu nie ma na polsat sport news meczu Liechtenstein - Gibraltar skoro jest we wszystkich programach ?...",
           "Neutral"
          ],
          [
           "@anonymized_account Jestem w rozsypce, jak tu być polakiem, jak iść do kościola z taka wysypką i kateram?",
           "Neutral"
          ],
          [
           "@anonymized_account To nie kwestia zmęczenia tylko tego, że francuscy mocni średniacy z dużym dystansem podchodzą do LE.",
           "Neutral"
          ],
          [
           "@anonymized_account @anonymized_account I po co te ubliżanie",
           "Neutral"
          ],
          [
           "RT @anonymized_account Dzisiaj o 18:00 strefa kibica w Radiu Akadera! Zapraszamy!",
           "Neutral"
          ],
          [
           "\\\"Opowiadania odeskie\\\" Izaaka Babla w interpretacji Roberta Gonery - WYŚMIENITE! Polecam bardzo.",
           "Neutral"
          ],
          [
           "@anonymized_account @anonymized_account Tak, tak to zazwyczaj wygląda, gdy jacyś mlodzi zawodnicy na co dzień z jedynką trenują. I to nie jest odkrycie.",
           "Neutral"
          ],
          [
           "@anonymized_account @anonymized_account wprowadzono system krs karany nie karany, jacy z was dyletanci",
           "Neutral"
          ],
          [
           "@anonymized_account @anonymized_account @anonymized_account A przy nieuznanych bramkach Wisły z Sandecją też gadaliście, że do puszczenia ?",
           "Neutral"
          ],
          [
           "RT @anonymized_account Akcja policji w budynkach Wisły Kraków ma związek z śledztwem dotyczącym kradzieży flag GKS Katowice. @anonymized_account @anonymized_account",
           "Neutral"
          ],
          [
           "@anonymized_account Tak jak Kliszko, ulica i zagranica",
           "Neutral"
          ],
          [
           "@anonymized_account @anonymized_account @anonymized_account To gdzie w takim razie urzęduje Macierewicz?",
           "Neutral"
          ],
          [
           "@anonymized_account Bo nie było ich słychać.",
           "Neutral"
          ],
          [
           "@anonymized_account Potęgą będą, jak im go nie zabraknie :)",
           "Neutral"
          ],
          [
           "RT @anonymized_account Diz pra mim 🎶",
           "Neutral"
          ],
          [
           "Jeśli chodzi o prezydent Hannę Zdanowską to dura lex sed lex. I tyle w tym temacie. Mimo osobistej sympatii do niej.",
           "Neutral"
          ],
          [
           "@anonymized_account Ale grasz z silnymi drużynami, a były czasy, gdy dostawalismy w łeb od średniaków.",
           "Neutral"
          ],
          [
           "@anonymized_account @anonymized_account Ale nie wiem czy zwróciliście uwagę, na płynną zmianę tematu 😂",
           "Neutral"
          ],
          [
           "RT @anonymized_account bez matemaksa ani tomasza gwiazdy nigdy bym matmy nie zdała\\n\\ngod bless my heros",
           "Neutral"
          ],
          [
           "#ostatni ;-)\\nSzybkościomierz samochodu Bormanna pokazywał 80 km/h. Obok szedł Stirlitz udając, że nigdzie się nie spieszy.",
           "Neutral"
          ],
          [
           "@anonymized_account Jakieś kwoty znane czy ściśle tajne?",
           "Neutral"
          ],
          [
           "Ktoś z trójki HJK Helsinki - Olimpija Lublana - Spartak Trnawa będzie w fazie grupowej Ligi Europy.",
           "Neutral"
          ],
          [
           "🇵🇱 #mercadoEPEM | Pol Llonch (24) [@anonymized_account es nuevo jugador del Wisla de Cracovia. Jugaba en el Girona de la 2ª división.",
           "Neutral"
          ],
          [
           "@anonymized_account @anonymized_account Jest 1mld muzułmanów , gdyby tak kamienowali chyba coś by mówili w tv",
           "Neutral"
          ],
          [
           "@anonymized_account @anonymized_account @anonymized_account Poza tym powinni być szczepieni",
           "Neutral"
          ],
          [
           "@anonymized_account ile oglądałeś spotkań Ferencvarosu ?",
           "Neutral"
          ],
          [
           "@anonymized_account @anonymized_account @anonymized_account Najważniejsze, że zebrała się egzekutywa. Jojo przypomina sobie czasy młodości.",
           "Neutral"
          ],
          [
           "@anonymized_account Masz fajne życie, brzmi jak z bajki, zazdroszczę",
           "Neutral"
          ],
          [
           "@anonymized_account Mucha, mówię Ci coś. \\nChoć ja tam widzę jedynie skarpetki w kotki.",
           "Neutral"
          ],
          [
           "Sprzedać za 50 mln Paulinho i kupić (podobno) za 30 mln Vidala - nie poznaję Barcelony.",
           "Neutral"
          ],
          [
           "@anonymized_account i tak poznam tą tajemnice :) pewnie te zawodniczki ktore chcesz i w jakiej rundzie ? :)",
           "Neutral"
          ],
          [
           "@anonymized_account Kurz nie rzuca się w oczy gdy jest wszędzie. #mzf",
           "Neutral"
          ],
          [
           "@anonymized_account @anonymized_account Stokowiec jest jedynym trenerem od 2012 roku, z którym Jagiellonia rozwiązała kontrakt.",
           "Neutral"
          ],
          [
           "@anonymized_account No teraz jest problem bo trzeba będzie dotrzymać obietnic wyborczych. Ale wlasciwie po co?😁😁",
           "Neutral"
          ],
          [
           "@anonymized_account @anonymized_account Dlatego to nie miało żadnego większego wpływu z żadnej ze stron.",
           "Neutral"
          ],
          [
           "No nic, nie da się za każdym razem wygrywać bez 4 podstawowych zawodników. Brak Ivana było widać najbardziej. Wyzdrowieć i gramy dalej.",
           "Neutral"
          ],
          [
           "@anonymized_account @anonymized_account W Polsacie cos wygrywali, siatkówka w TVP to na razie pod znakiem spapranych IO co cztery lata :)",
           "Neutral"
          ],
          [
           "@anonymized_account tak. A wieczorem pierwszy raz film. Moja siostra uznała, że jestem kosmitą.",
           "Neutral"
          ],
          [
           "@anonymized_account @anonymized_account Grał tak samo tam, jak tu.",
           "Neutral"
          ],
          [
           "@anonymized_account \\\"Niech chociaż sprawdzi\\\" teraz będzie miało większe zastosowanie ;)",
           "Neutral"
          ],
          [
           "Dubstep to kompletnie nie moja bajka, ale to jest bajeczne ❤️ \\n\\nhttps://t.co/UhYvRsjofv",
           "Neutral"
          ],
          [
           "Wiele kapitalnych zdjęć dziś się pojawiło. 👏 dla ekipy @anonymized_account @anonymized_account @anonymized_account Grzegorz Jakubowski, @anonymized_account",
           "Neutral"
          ],
          [
           "@anonymized_account o ile się nie myle to ta twarda ręka była jednym z powodów jego zwolnienia :)",
           "Neutral"
          ],
          [
           "@anonymized_account Ja jestem w Białym ;)",
           "Neutral"
          ],
          [
           "@anonymized_account @anonymized_account Kogut, Tarczyński co z ich immunitetami?",
           "Neutral"
          ],
          [
           "vans do chuja przestań robić choć na chwilę zajebiste kolekcje bo w moim portfelu pieniądzen't",
           "Neutral"
          ],
          [
           "PROFESOR JEST NA SPOTIFY UMARŁAM XDD",
           "Neutral"
          ],
          [
           "@anonymized_account @anonymized_account A Pani co taka rozgoryczona?😁😁😁",
           "Neutral"
          ],
          [
           "Zayn rodem z 2014 roku to mój ulubiony zayn",
           "Neutral"
          ],
          [
           "@anonymized_account @anonymized_account @anonymized_account Zapytalem,  szwagierka mówi że ma konto w powerbanku",
           "Neutral"
          ],
          [
           "@anonymized_account A kiedy zostanie usunięty Ziemkiewicz?",
           "Neutral"
          ],
          [
           "@anonymized_account Gang rowerowy wyrusza na święta wojnę?",
           "Neutral"
          ],
          [
           "Czekam juz tyle i czekam zaraz wyjeżdżam a prawka nadal nie mam",
           "Neutral"
          ],
          [
           "@anonymized_account Prędzej znajdą kasę na pozyskanie młodzieżowca, a nie szkolenie. Młodzieżowca, który będzie grał bez rywalizacji.",
           "Neutral"
          ],
          [
           "@anonymized_account polubił niedawno profil Wisły na fb.Wśród ulubionych ma też Legie :)",
           "Neutral"
          ],
          [
           "RT @anonymized_account @anonymized_account @anonymized_account Nie, błąd! To będzie polskie HEATHROW! I płacz oraz zgrzytanie zębów opozycji na nic się t…",
           "Neutral"
          ],
          [
           "@anonymized_account Tez tak zrobię i tak muszę iść do biura karier po papierki na praktyki, dzięki ✌🏻✌🏻",
           "Neutral"
          ],
          [
           "@anonymized_account @anonymized_account a co teraz Wolski nie grał ? A jaka była frekwencja ?",
           "Neutral"
          ],
          [
           "@anonymized_account burmistrz z platka kwiatka przypomina mi burmistrza Kluczborka",
           "Neutral"
          ],
          [
           "Kto chce zadecydować czy jakieś zdjęcie nadaje się do pokazania społeczeństwu?",
           "Neutral"
          ],
          [
           "Jest tu jakiś nindża wycieczek, który podpowie gdzie najlepiej szukać ofert #lastminute, może być na dzień przed 😎🌴Thanks from the mountain.",
           "Neutral"
          ],
          [
           "@anonymized_account @anonymized_account Krężel też w stylu Energi bo ponoć w ciąży jest :)",
           "Neutral"
          ],
          [
           "@anonymized_account @anonymized_account A Włosi wszystko łykają? Przestaliby się licytować, Wisła zaakceptowałaby 2 oferty i musieliby gadać z zawodnikiem.",
           "Neutral"
          ],
          [
           "@anonymized_account Ponawiam pytanie. Trenerzy podeszli do siebie i Brosz wystawił ręke a Carrillo celowo nie podał ręki ?",
           "Neutral"
          ],
          [
           "dlaczego w legacies są jakieś wampiry skoro nie ma pierwotnych??",
           "Neutral"
          ],
          [
           "@anonymized_account A w poprzednim meczu z Serbią to niby jak zagrał ?",
           "Neutral"
          ],
          [
           "Kwaśniewski odetchnął z ulgą, że nie ma konta na tt.",
           "Neutral"
          ],
          [
           "@anonymized_account @anonymized_account Nie poznajesz, to ordynarna, prostacka Beata",
           "Neutral"
          ],
          [
           "@anonymized_account Jasne, będzie na czym popijanemu rozwalac wózki golfowe.",
           "Neutral"
          ],
          [
           "@anonymized_account Bulshit, I will never do that",
           "Neutral"
          ],
          [
           "RT @anonymized_account @anonymized_account Pieprzona zakala sadownictwa ta Gersdorf jest i tojest fakt.",
           "Neutral"
          ],
          [
           "@anonymized_account Tak nawet teraz, w dodatku dwa odcinki!",
           "Neutral"
          ],
          [
           "@anonymized_account Gdzie 4 mld strat za Możejki, gdzie 5 mld SKOKI",
           "Neutral"
          ],
          [
           "@anonymized_account W sensie że nikt mu niepowiedział że niemka już ogłoszona ? :D",
           "Neutral"
          ],
          [
           "@anonymized_account A widzieliście się wczesniej? 😂",
           "Neutral"
          ],
          [
           "Jako, że w tym roku nie było żadnej zadymy na Marszu niepodległości, to #TVPinfo pokazuje teraz materiał z zadym z lat poprzednich #LOL",
           "Neutral"
          ],
          [
           "@anonymized_account A Ty nigdy nie robisz dwóch rzeczy jednocześnie? Np. idziesz i żujesz gumę.",
           "Neutral"
          ],
          [
           "@anonymized_account @anonymized_account Na pewno jakieś czerwone potworki😁😁😁😀",
           "Neutral"
          ],
          [
           "@anonymized_account Pieprzona zakala sadownictwa ta Gersdorf jest i tojest fakt.",
           "Neutral"
          ],
          [
           "@anonymized_account @anonymized_account @anonymized_account W stop klatkach widać ze jak by to było po stronie drugiej (legi) to karny by był",
           "Neutral"
          ],
          [
           "To tylko garstka kapitalnych zdjęć autorstwa ekipy @anonymized_account  💪Marek Dusza, @anonymized_account @anonymized_account G. Jakubowski. #2lataPAD",
           "Neutral"
          ],
          [
           "@anonymized_account Wiem, ale kierunek fantasy zawsze omijałam szerokim łukiem, teraz postanowiłam sprawdzić czy się przypadkiem nie mylę :-)",
           "Neutral"
          ],
          [
           "@anonymized_account @anonymized_account Macie prowokuj bo znowu będziesz płakał że ci prawdę powiem.",
           "Neutral"
          ],
          [
           "@anonymized_account Szczecin pokazał że nie jest Warszawą. I nie wybiera miernot",
           "Neutral"
          ],
          [
           "@anonymized_account Nie wie,bo sama jest w czarnej dupie😁😁😁😁",
           "Neutral"
          ],
          [
           "@anonymized_account @anonymized_account Nie zdziwię się, jeśli Transfermarkt nie ogarnął zmiany na Mendesa :D",
           "Neutral"
          ],
          [
           "@anonymized_account jesteśmy obecnie pośmiewiskiem sportowo, organizacyjnie i kibicowsko... Ale mam nadzieje że jeszcze kiedyś wróci normalność:)",
           "Neutral"
          ],
          [
           "@anonymized_account Na wszystko masz odpowiedź, żyłeś w tych czasach?",
           "Neutral"
          ],
          [
           "@anonymized_account @anonymized_account Zostaliście dziś zmiażdżeni 😂😂😂\\nPiS wyrwał wam aortę na żywca.",
           "Neutral"
          ],
          [
           "@anonymized_account Dlaczego nikt nie mówi o „Witches of East End”? Kocham mocniutko",
           "Neutral"
          ],
          [
           "@anonymized_account skoro krytykujecie frekwencje to spójrzcie na inne kluby i zwróćcie też uwage w jakie dni grają a potem się czepiajcie",
           "Neutral"
          ],
          [
           "@anonymized_account @anonymized_account kto odmówił treningu i gry ? Myślałem że Prijović na urlopie",
           "Neutral"
          ],
          [
           "@anonymized_account @anonymized_account Zdaję sobie tego sprawę ;)",
           "Neutral"
          ],
          [
           "@anonymized_account To ja lepiej, na kacu takim ze nie wiem co to za wybory, w tym momencie nie ma kompromisów",
           "Neutral"
          ],
          [
           "@anonymized_account  a Alan Uryga dalej czeka na debiutancką bramke :)",
           "Neutral"
          ],
          [
           "Moja miłość do Ciebie wciąż płonie jak Missisipi w ogniu 🔥🔥🔥",
           "Neutral"
          ],
          [
           "Jutro po marszu, ale jeszcze kilka dni beda chodzić naćpani",
           "Neutral"
          ],
          [
           "ja: *bierze rutinoscorbin*\\nja: odporność na pełnej kurwie",
           "Neutral"
          ],
          [
           "@anonymized_account Tak tak jeszcze ktoś w to uwierzy",
           "Neutral"
          ],
          [
           "@anonymized_account @anonymized_account Pojebało cię, normalna rodzina katolicka, pytam",
           "Neutral"
          ],
          [
           "Myślałam, że znowu porwano statek na którym jest M... tego już było by za dużo",
           "Neutral"
          ],
          [
           "Dużo tego jeszcze było ale nie chce mi się pisać i tak nikogo to nie interesuje",
           "Neutral"
          ],
          [
           "@anonymized_account @anonymized_account  a co ma procent zapelnienia pojemnosci do frekwencji ? Po za tym co to jest 50% na takim malym stadionie ?",
           "Neutral"
          ],
          [
           "@anonymized_account Które dno osiągnął Pan tym razem? Bo IQ rozwielitka ma wyższe.",
           "Neutral"
          ],
          [
           "@anonymized_account @anonymized_account Widzisz tylko tyle miał do powiedzenia, że to fotomontaż. Na ten temat weszło będzie milczeć, bo to hipokryci.",
           "Neutral"
          ],
          [
           "@anonymized_account @anonymized_account @anonymized_account @anonymized_account Nie włączaj telewizji. Żadnej. Już nic ci nie pomoże.",
           "Neutral"
          ],
          [
           "Jest decyzja sądu ws. Stanisława Gawłowskiego. Polityk PO idzie do więzienia\\n@anonymized_account #wieszwiecej\\nhttps://t.co/evVvuT3qZO",
           "Neutral"
          ],
          [
           "To, że w Łodzi wygra Hanka było do przewidzenia, chociaż wynik 71% jest zaskoczeniem i to dużym,ale że Warszawa wybierze Trzaskowskiego!!",
           "Neutral"
          ],
          [
           "@anonymized_account @anonymized_account Jak marsz i tak bedzie. Postapila bardzo roztropnie",
           "Neutral"
          ],
          [
           "@anonymized_account a jak udowodnił że Wisła złamała prawo bo dalej nie otrzymałem odpowiedzi",
           "Neutral"
          ],
          [
           "@anonymized_account @anonymized_account @anonymized_account Delegatów i obserwatorów też już podali?",
           "Neutral"
          ],
          [
           "@anonymized_account no i po co było się wkurwiać :)",
           "Neutral"
          ],
          [
           "@anonymized_account @anonymized_account Powinni jeszcze zaprosić Gmyza i odlot będzie pełny.",
           "Neutral"
          ],
          [
           "@anonymized_account A chyba nikt nie przedstawił statystyk Lewandowskiego, ani nawet nie przeanalizował występu :)",
           "Neutral"
          ],
          [
           "@anonymized_account Rób! Zwiedzamy razem z Tobą, dzięki za relacje 😉",
           "Neutral"
          ],
          [
           "@anonymized_account dziś ciężko. Pół Warszawy postanowiło się umyć w tym samym czasie.",
           "Neutral"
          ],
          [
           "Mecz #CLJ Legia - Jagiellonia przełożony na piątek, na godzinę 13:00, ale transmisja w @anonymized_account i tak raczej się odbędzie.",
           "Neutral"
          ],
          [
           "@anonymized_account Najwyżej będziemy spać pod akademikiem 😂😂😂💁",
           "Neutral"
          ],
          [
           "@anonymized_account @anonymized_account W Białostockim ciemnogrodzie to standard",
           "Neutral"
          ],
          [
           "@anonymized_account A mógł się uchylić 😀",
           "Neutral"
          ],
          [
           "@anonymized_account Wczoraj zrobiłem pastę z cebuli, pietruszki, pomidorów suszonych i cukini (z patelni), dorzucilem dwa zabki czosnku. Dobra była",
           "Neutral"
          ],
          [
           "@anonymized_account @anonymized_account @anonymized_account @anonymized_account @anonymized_account Meczówka rep. Polski - 550. Taki rynek.",
           "Neutral"
          ],
          [
           "RT @anonymized_account Jarosław Kaczyński nie spotyka się z protestującymi, bo nie zmieści się cała jego ochrona w Sejmie #Niewykluczone",
           "Neutral"
          ],
          [
           "@anonymized_account @anonymized_account Oj tam, ale chyba po raz pierwszy odpadną przed nami 😂",
           "Neutral"
          ],
          [
           "RT @anonymized_account jeśli nie mogę wyglądać tak jak\\n•perrie edwards\\n•troian bellisario\\nto what’s the point of existing?",
           "Neutral"
          ],
          [
           "@anonymized_account @anonymized_account @anonymized_account Możesz jaśniej? Bo oba elementy Twojej odpowiedzi nie mają się nijak do tego co napisałem.",
           "Neutral"
          ],
          [
           "@anonymized_account @anonymized_account Lecz się kobieto na nogi bo na głowę już zbyt późno",
           "Neutral"
          ],
          [
           "@anonymized_account @anonymized_account @anonymized_account Bo kogo interesuje klub który ma garstke kibiców",
           "Neutral"
          ],
          [
           "@anonymized_account Myślę, że jest różnica pomiędzy Twitterem a telewizją publiczną. Poza tym - \\\"porzygu\\",
           "Neutral"
          ],
          [
           "@anonymized_account I powtarzajmy to codziennie jak mantrę",
           "Neutral"
          ],
          [
           "@anonymized_account Jak się pije jak Ruskie to ciężko rozpoznać ;-)",
           "Neutral"
          ],
          [
           "@anonymized_account 6 bramek w 15 meczach w Bośni. No jest w takim gazie, że strach się bać.",
           "Neutral"
          ],
          [
           "@anonymized_account A ManUtd czasami wczoraj nie odpadł ?:)",
           "Neutral"
          ],
          [
           "@anonymized_account Ale Wolski to jak lodówke otworzy to jest kontuzjowany.",
           "Neutral"
          ],
          [
           "@anonymized_account Jasne, jeśli Cię nie zanudziłam, dobranoc xx",
           "Neutral"
          ],
          [
           "@anonymized_account @anonymized_account @anonymized_account Z twoich ust to komplement, proszę o więcej",
           "Neutral"
          ],
          [
           "@anonymized_account A w Łodzi Panie Łukaszu na razie Hania,przez niektórych zwana szachrajka😁😁",
           "Neutral"
          ],
          [
           "@anonymized_account A tu akurat jest prosta odpowiedź - bo go nie \\\"wzywają\\\" .",
           "Neutral"
          ],
          [
           "@anonymized_account @anonymized_account @anonymized_account Ty się chyba debilu nie słyszysz, ty tekstów to się po nocach uczysz czy masz słuchawkę w uchu?",
           "Neutral"
          ],
          [
           "@anonymized_account @anonymized_account A azbest stoi na szczycie ewolucji, debile",
           "Neutral"
          ],
          [
           "@anonymized_account @anonymized_account Brawo dla pani prezes z ludziami którzy źle życzą Wiśle niema rozmów.",
           "Neutral"
          ],
          [
           "@anonymized_account @anonymized_account Opętać to nie ale jakby był sygnał albo jakby ktoś odebrał to XDDD",
           "Neutral"
          ],
          [
           "@anonymized_account Przyjechałeś pajacu wyprowadzić kolejne miliony za granicę?",
           "Neutral"
          ],
          [
           "Madera w rezerwach ! Nagłośnijcie sprawę bo to przecież niezgodne z przepisami ! @anonymized_account @anonymized_account @anonymized_account @anonymized_account",
           "Neutral"
          ],
          [
           "@anonymized_account @anonymized_account @anonymized_account @anonymized_account @anonymized_account Nie o Was, spokojnie :)",
           "Neutral"
          ],
          [
           "@anonymized_account @anonymized_account @anonymized_account Widziałeś Ty firmę, która by celowo jechała sama siebie w mediach i internecie? 😂",
           "Neutral"
          ],
          [
           "@anonymized_account @anonymized_account Nie kimkolwiek. Nie świętuję z krzywoprzysięzcą i zakłamanym oszustem takim tak ty.",
           "Neutral"
          ],
          [
           "@anonymized_account Koń który mówi w kropce nad i 😂😂😂",
           "Neutral"
          ],
          [
           "@anonymized_account @anonymized_account @anonymized_account @anonymized_account Piotrek pytał, czy się Ivan do tego tematu odnosił.",
           "Neutral"
          ],
          [
           "@anonymized_account serio chciałoby Ci sie 3 mecze oglądać na raz ? W dodatku jak jest mecz Wisły ? @anonymized_account",
           "Neutral"
          ],
          [
           "Zdrajca i faszysta Tusk szuka między nami Polakami bolszewików.Jebana menda.",
           "Neutral"
          ],
          [
           "@anonymized_account A nastepni będą tacy jak Terlikowski spędzający czas w kolejce do psychiatry.",
           "Neutral"
          ],
          [
           "Jadę dzisiaj do #mojchlopak zamiast na uczelnie 😍😍",
           "Neutral"
          ],
          [
           "Co tu robić, zasmrodziła cały tt",
           "Neutral"
          ],
          [
           "@anonymized_account @anonymized_account @anonymized_account @anonymized_account Nieeee, Gryszkiewicz nie grał, to akurat nie o nim.",
           "Neutral"
          ],
          [
           "@anonymized_account Już dwa lata temu powinni wygrac Euro.",
           "Neutral"
          ],
          [
           "@anonymized_account Ja podam swojego na dm oki?",
           "Neutral"
          ],
          [
           "@anonymized_account @anonymized_account a jak tam siatkówka ?:)",
           "Neutral"
          ],
          [
           "@anonymized_account @anonymized_account a trenerem został Szymon Pawłowski :)",
           "Neutral"
          ],
          [
           "@anonymized_account screen zrobiony.Po sezonie go przypomne.",
           "Neutral"
          ],
          [
           "Powiedzmy, że amunicję oszczędzamy na Rio Ave... \\u0026lt;śmiech przez łzy\\u0026gt;",
           "Neutral"
          ],
          [
           "@anonymized_account Napisałem że się zastanowię. Noe pali się",
           "Neutral"
          ],
          [
           "Rycze dzisiaj od rana i aż mnie samą to wkurwia",
           "Neutral"
          ],
          [
           "@anonymized_account Wyniki też mogą mieć wesołe :)",
           "Neutral"
          ],
          [
           "@anonymized_account Z archiwum polskiego plakatu politycznego - jest napisane w każdym poście",
           "Neutral"
          ],
          [
           "RT @anonymized_account .@anonymized_account @anonymized_account @anonymized_account @anonymized_account prof. Z. #Krysiak - 21:50 #BezRetuszu @anonymized_account zapraszamy!",
           "Neutral"
          ],
          [
           "@anonymized_account W sensie mam strasznie ochotę bo jakoś mnie tak wzięło 😂😂",
           "Neutral"
          ],
          [
           "@anonymized_account Główny powód to brak kasy, trzeba dać bogatym 500+,300+ i być bez godności i honoru",
           "Neutral"
          ],
          [
           "@anonymized_account Wina Balanyuka. Nic nie pokazał w tym meczu.",
           "Neutral"
          ],
          [
           "tylko sezonówki nie piją herbaty w lato",
           "Neutral"
          ],
          [
           "RT @anonymized_account Morawiecki senior robi w trąbę zmarłych, syn żywych. Taki podział ról.",
           "Neutral"
          ],
          [
           "@anonymized_account @anonymized_account Aha, a ktoś cię zapraszał do rozmowy?",
           "Neutral"
          ],
          [
           "@anonymized_account @anonymized_account A niby z jakiego powodu? Żeby mogła sprawować swój urząd? Chyba żart!",
           "Neutral"
          ],
          [
           "@anonymized_account To powiedziałam ja @anonymized_account mgr prawa",
           "Neutral"
          ],
          [
           "Remeber when pisałam jakaś ofertę na stronę uczelni i profesor sprawdzający wykreślił w mojej pracy wszystkie feminatywy 😳",
           "Neutral"
          ],
          [
           "@anonymized_account @anonymized_account @anonymized_account Zapytalem,  szwagierka mówi że ma konto w powerbanku",
           "Neutral"
          ],
          [
           "@anonymized_account No to kochana zapraszam, tylko mnie teraz nie ma XD",
           "Neutral"
          ],
          [
           "@anonymized_account W Puławach mają pewnie inne zdanie na ten temat.",
           "Neutral"
          ],
          [
           "@anonymized_account intymna relację z rydzykiem puścimy płazem",
           "Neutral"
          ],
          [
           "@anonymized_account co to dla Ciebie :) dałabyś rade nawet ze złamaną nogą 💪",
           "Neutral"
          ],
          [
           "@anonymized_account @anonymized_account Zawsze ma dobry humor, czemu nie doceniasz",
           "Neutral"
          ],
          [
           "@anonymized_account Sorry Pogoń, trzech Waszych w moim @anonymized_account zostało.",
           "Neutral"
          ],
          [
           "Nienawidzę jak mnie ludzie ignorują",
           "Neutral"
          ],
          [
           "@anonymized_account A nie wiem jaka była",
           "Neutral"
          ],
          [
           "@anonymized_account Gang rowerowy wyrusza na święta wojnę?",
           "Neutral"
          ],
          [
           "#CLJu17 📺 Dzisiejszy finał można obejrzeć pod tym linkiem! Naprzód Jaga!\\nhttps://t.co/eb3izzbVdz",
           "Neutral"
          ],
          [
           "Podobno mają wprowadzić maseczki antysmogowe ze specjalnym otworkiem na papierosa.",
           "Neutral"
          ],
          [
           "@anonymized_account 😂😂😂😂😂😂😂😂😂😂😂😂😂🤣🤣🤣🤣🤣🤣🤣🤣🤣🤣🤣🤣🤣😂😂😂😂😂😂😂🤣🤣🤣🤣🤣🤣🤣🤣🤣🤣🤣🤣🤣🤣🤣😂😂😂😂😂😂😂😂😂😂😂😂😂😂😂😂\\n\\nSłów odpowiednich żaden słownik nie zawiera",
           "Neutral"
          ],
          [
           "@anonymized_account @anonymized_account Ja oglądam seriale, ake nie powiem",
           "Neutral"
          ],
          [
           "@anonymized_account @anonymized_account A właśnie, że jest! 😂",
           "Neutral"
          ],
          [
           "@anonymized_account @anonymized_account No pewnie. Niepełnosprawnych zamkneliscie w sejmie to się zrobiło bezpiecznie na ulicach. Taka prawda kłamco.",
           "Neutral"
          ],
          [
           "@anonymized_account Jesteś ostatnią osobą, która w ten sposób może się czepiać wpisu na Twitterze.",
           "Neutral"
          ],
          [
           "@anonymized_account A Ty nigdy nie robisz dwóch rzeczy jednocześnie? Np. idziesz i żujesz gumę.",
           "Neutral"
          ],
          [
           "@anonymized_account Nadalbys się do Romy 😜",
           "Neutral"
          ],
          [
           "RT @anonymized_account @anonymized_account jest to dobra informacja dla tych co okradali  Polskę od 89  roku  Irlandia da im wolność",
           "Neutral"
          ],
          [
           "@anonymized_account Z wypadku zrobiono morderstwo, z morderstwa zrobiono mit a z mitu politykę",
           "Neutral"
          ],
          [
           "@anonymized_account i legionista nie trafia w bramke :)",
           "Neutral"
          ],
          [
           "@anonymized_account O 20:15 zaczynacie transmisję meczu, który zaczyna się 19:40?",
           "Neutral"
          ],
          [
           "@anonymized_account ciekawe czy jeszcze dużo ludzi się złapie na nieudolnego dziennikarza który publikuje zmyślone listy",
           "Neutral"
          ],
          [
           "Ma już swastykę na ryju?",
           "Neutral"
          ],
          [
           "@anonymized_account  a gdzie napisałem że zrozumiałem że kiedyś tam zostanie zwolniony ?",
           "Neutral"
          ],
          [
           "@anonymized_account @anonymized_account : za to elity PO zawsze były pełne empatii, współczucia i inteligencji emocjonalnej. Koń by się uśmiał.",
           "Neutral"
          ],
          [
           "@anonymized_account @anonymized_account Widzę, że niektórym puszczają zwieracze,ale jakaś kultura obowiązuje. A hanys to brzmi dumnie😁😁😁",
           "Neutral"
          ],
          [
           "RT @anonymized_account Przypominam.  Kto taśmami wojuje...",
           "Neutral"
          ],
          [
           "#dividetourwarsaw i need to know CO Z AKCJA KTÓRA WŁAŚNIE POWINNA IŚĆ NAM ZAJEBISCIE",
           "Neutral"
          ],
          [
           "@anonymized_account @anonymized_account @anonymized_account Z utęsknieniem czekam na zeznania. Wreszcie będzie jasne ile PC zgarnął kasy na swoje konta.",
           "Neutral"
          ],
          [
           "@anonymized_account Gdybyś nie brnął w jakieś głupie komentarze to nie byłoby takiego linczu.Czasami trzeba się od razu przyznać do błędu.",
           "Neutral"
          ],
          [
           "RT @anonymized_account @anonymized_account @anonymized_account dopiero po porodzie kobiety maja mgliste pojęcie o bólu mężczyzn z katarem.",
           "Neutral"
          ],
          [
           "@anonymized_account @anonymized_account @anonymized_account a po jutrzejszym zwycięstwie nad Artego obowiązkowo derby prosze oglądać :)",
           "Neutral"
          ],
          [
           "@anonymized_account To proszę pokazać mi tą edukację jaką Pani dotychczas przeprowadziła.",
           "Neutral"
          ],
          [
           "@anonymized_account Jeśli chodzi o reprezentację siatki i nożnej to uważam że siatkarze mają przewagę popularności, piłkarze nadrabiaja klubami",
           "Neutral"
          ],
          [
           "RT @anonymized_account Zawsze jak ide do przymiezalni do h\\u0026amp;m to przeżywam szok, ze naprawde wyglądam tak, jak widać to w tym lustrze od tylu…",
           "Neutral"
          ],
          [
           "@anonymized_account Krystynę mi on przypomina ale trzeba mieć niepokoleji w głowie by się robić na Krystynę",
           "Neutral"
          ],
          [
           "@anonymized_account Patrzę przechodziłeś przez to samo, , pani ze sklepu pan ma jakąś nienaturalną budową",
           "Neutral"
          ],
          [
           "@anonymized_account Siły wolnościowe to też Pan? A to nie Pan kiedyś chciał pałować protestujących?",
           "Neutral"
          ],
          [
           "@anonymized_account No nie bądźmy tacy małostkowi😁😀😀😀",
           "Neutral"
          ],
          [
           "RT @anonymized_account @anonymized_account @anonymized_account Was, gnidy powinno się zaorać na metr w głąb i grubo posypać niegaszonym wapnem. A dla pewności zbombardo…",
           "Neutral"
          ],
          [
           "@anonymized_account fajnie macie na wydziale ;')",
           "Neutral"
          ],
          [
           "@anonymized_account no ja właśnie to samoXD znaczy wiem ze Emre wbija często, bo jego żona jest polką ale no",
           "Neutral"
          ],
          [
           "@anonymized_account Wszyscy jacyś tacy jeszcze niewykluci 😉",
           "Neutral"
          ],
          [
           "@anonymized_account I bardzo dobrze Złodzieje powinni siedzieć",
           "Neutral"
          ],
          [
           "RT @anonymized_account Młody @anonymized_account dzisiaj się żeni. Najlepszego dla Młodej Pary👍🏻👍🏻🥂🥂",
           "Neutral"
          ],
          [
           "@anonymized_account Ale im zajebiesz cwieka, tym przyciewnikom",
           "Neutral"
          ],
          [
           "Widać teraz, ile nas ta Portugalia kosztowała. Walczymy!!!",
           "Neutral"
          ],
          [
           "Bild po wczorajszej demolce przy Ł3: \\\"Po co w LM takie ogórki? III-ligowy Trier sprawił BVB w P. Niemiec więcej problemów niż Legia w LM\\\"",
           "Neutral"
          ],
          [
           "Ciekawostka. Jeśli na początku tweeta, przed czyimś nickiem, wstawicie M. to treść, zamiast na tajmlajn, wskoczy do skrzynki prywatnej.",
           "Neutral"
          ],
          [
           "@anonymized_account teraz się dowiedziałam i szanuję bo dzwonił pod nie wszystkie",
           "Neutral"
          ],
          [
           "@anonymized_account O tak! Dzięki! Bo widziałam jakiś filmik na instagramie i miałam małą rozkminę przez chwile co to za film",
           "Neutral"
          ],
          [
           "Pani @anonymized_account Wielki Szacunek dla Pani",
           "Neutral"
          ],
          [
           "@anonymized_account Ty drzemałeś jak się uczyłeś przepisów gry w piłkę nożną.",
           "Neutral"
          ],
          [
           "@anonymized_account No przecież, a osoby lgbt w ogóle nie korzystają z komunikacji miejskiej no nie, wiec oni nie są już pasażerami :) parodia",
           "Neutral"
          ],
          [
           "@anonymized_account żebyście wy wytykali liczby wyjazdowe to śmiech na sali",
           "Neutral"
          ],
          [
           "Pazdan chyba zapomnial, że są kamery na stadionie. Klasy się nie kupi.",
           "Neutral"
          ],
          [
           "@anonymized_account Obejrzyj mecz chociaz raz :)",
           "Neutral"
          ],
          [
           "@anonymized_account z całym szacunkiem ale jaki bandytyzm ? Normalna boiskowa walka a że przy okazji coś się stało to pech",
           "Neutral"
          ],
          [
           "@anonymized_account Najgorzej jak polityk mieniący się konserwatystą nie odróżnia konserwatysty od konserwy.",
           "Neutral"
          ],
          [
           "@anonymized_account @anonymized_account Uważaj bo w następnym materiale jadczaka możesz być jako Tomasz C.",
           "Neutral"
          ],
          [
           "czekajcie ale jak to nie ma ciężarówek coca coli w Bydgoszczy co",
           "Neutral"
          ],
          [
           "@anonymized_account Bo dla doraźnych celów politycznych gotowi są poświęcić nawet niepełnosprawne dzieci.",
           "Neutral"
          ],
          [
           "@anonymized_account z nogą wszystko ok ?:)",
           "Neutral"
          ],
          [
           "@anonymized_account @anonymized_account Widać że masz marną wiedzę na ten temat. Zapytaj sąsiadów kto to jest np. Chrystus Narodów.",
           "Neutral"
          ],
          [
           "@anonymized_account Moje już wyglądają. Mam Huawei P20 Pro, którego kamerę podrabiacie.",
           "Neutral"
          ],
          [
           "@anonymized_account Nie nazwałbym tego dziennikarstwem 😂",
           "Neutral"
          ],
          [
           "@anonymized_account Też je mam. Doskonała lektura tylko nie da się czytać na leżąco 😔",
           "Neutral"
          ],
          [
           "Czytam to co pisze  TomaszSiemoniak i oczom nie wierzę. Mam tylko jedno określenie debil. Skończony debil.",
           "Neutral"
          ],
          [
           "spierdolenie se czasem z wykładu jest ważnym elementem dbania o zdrowie psychiczne pamiętajcie",
           "Neutral"
          ],
          [
           "@anonymized_account a ktoś mówił że będzie łatwo ? Inne zespoły też będą miały ciężkie mecze.Do ostatniej kolejki będzie walka 💪",
           "Neutral"
          ],
          [
           "@anonymized_account Wislak Pawełek wam pomógł ;-)",
           "Neutral"
          ],
          [
           "Mam wrażenie że mojemu tacie sprawia radość to że mnie denerwuje like dude mam po Tobie charakter więc Przestań. To. Robić. :')",
           "Neutral"
          ],
          [
           "Wszystko przez Żydów co nie @anonymized_account @anonymized_account",
           "Neutral"
          ],
          [
           "@anonymized_account Jak Pigiel, Falonik i sędzia? :D",
           "Neutral"
          ],
          [
           "@anonymized_account no to jak to jest że się nie da grać w kosza a się wygrywa z mistrzyniami Europy ?",
           "Neutral"
          ],
          [
           "@anonymized_account @anonymized_account @anonymized_account @anonymized_account @anonymized_account @anonymized_account @anonymized_account Oj tam, dyskusja zwykła 😉",
           "Neutral"
          ],
          [
           "RT @anonymized_account @anonymized_account Lisienko co ty masz za wzorce patriotów. To jawny zdrajca Polski odpowie za to.",
           "Neutral"
          ],
          [
           "@anonymized_account Jak na wlasciciela, mi nigdy sam nie padł, pedancie",
           "Neutral"
          ],
          [
           "@anonymized_account Wszystko zostaje, tylko czeka na nową półkę 😄",
           "Neutral"
          ],
          [
           "@anonymized_account Wiem łatwo się mówi jął nie moje PLN-y w grze :)",
           "Neutral"
          ],
          [
           "@anonymized_account I co, szuka swojej pamięci?",
           "Neutral"
          ],
          [
           "@anonymized_account @anonymized_account Postaram się pamiętać i dam znać, jak było 😊",
           "Neutral"
          ],
          [
           "Najgorsze jest to czekanie bo nie po to robiłam prawko żeby czekać tyle na dokument no ja nie mogę, ja się muszę przemieszczać",
           "Neutral"
          ],
          [
           "@anonymized_account zrób sobie prezent na Gwiazdkę.",
           "Neutral"
          ],
          [
           "#Wypozyczeni Bruk-Bet Termalica - Bytovia:\\nDawid Szymonowicz w \\\"11\\",
           "Neutral"
          ],
          [
           "@anonymized_account @anonymized_account Fachowiec od 7 boleści :)",
           "Neutral"
          ],
          [
           "@anonymized_account Powiem Ci po twojemu: ty stary pojebańcu, profesorowi Strzemboszowi nawet butów nie jesteś godzien czyścić.",
           "Neutral"
          ],
          [
           "@anonymized_account Jakby było tylko srednio, to by niekoniecznie kontrakt przedluzali",
           "Neutral"
          ],
          [
           "No ale muszę iść do sklepu bo zdechnę z głodu",
           "Neutral"
          ],
          [
           "@anonymized_account Pawłowicz, gdyby to była prawda, to by cię już dawno nie było głupia cipo.",
           "Neutral"
          ],
          [
           "@anonymized_account @anonymized_account @anonymized_account Kurwa w jebany dzień parlamentaryzmu wszędzie barierki i psiarnia, no kurwa pięknie się to wspasowuje",
           "Neutral"
          ],
          [
           "Patrzysz na @anonymized_account @anonymized_account @anonymized_account i wiesz że idzie wojna",
           "Neutral"
          ],
          [
           "RT @anonymized_account @anonymized_account Akurat wy tam w Nowoczesnej umiecie średnią wyliczyć ha ha ha",
           "Neutral"
          ],
          [
           "@anonymized_account Tomek niesluchaj radia jak juz tak Cię denerwuje zwykła reklama 😉 niejestem lekarzem ale podejrzewam chorobę zawodową🎤 🍻",
           "Neutral"
          ],
          [
           "@anonymized_account Czasami prawda, dla kogoś kto się z nią nie chce pogodzić, uznawana jest za agresję.",
           "Neutral"
          ],
          [
           "Czy tylko mój ksiądz z LO nie miał nic do homoseksualistów i nawet mówił ze ma pare dobrych przyjaciół wśród nich",
           "Neutral"
          ],
          [
           "@anonymized_account Nie wiem, ale w tej akcji zagrał mega.",
           "Neutral"
          ],
          [
           "RT @anonymized_account @anonymized_account @anonymized_account Najlepiej się nie odzywajcie, żeby być na dnie trzeba coś znaczyć a Wy ! Pukacie od spodu. Masakra,…",
           "Neutral"
          ],
          [
           "@anonymized_account Pogba nie był na pozycji spalonej.",
           "Neutral"
          ],
          [
           "@anonymized_account Lis biedny kręci się wokół własnego ogona i ciągle próbuję marudzić A to już mu nie wychodzi",
           "Neutral"
          ],
          [
           "@anonymized_account @anonymized_account @anonymized_account A co za ludźmi bez studiów gnoju?",
           "Neutral"
          ],
          [
           "@anonymized_account @anonymized_account A za pięć lat @anonymized_account ogarnie, że powinien jednak zmienić lekarza.",
           "Neutral"
          ],
          [
           "@anonymized_account skoro zarząd pozwala na takie cyrki to niestety potrwa to lata",
           "Neutral"
          ],
          [
           "@anonymized_account @anonymized_account @anonymized_account A taki był porządny program. A teraz dno totalne.",
           "Neutral"
          ],
          [
           "Samochody ciągnące za sobą billboardy pojadą pod siedzibę niemieckiej stacji telewizyjnej @anonymized_account \\n#GermanDeathCamps \\nhttps://t.co/lddozkbAsN",
           "Neutral"
          ],
          [
           "@anonymized_account Pewnie Zahavi po prostu zbyt wiele nie zarobi, jak Lewy nie zmieni klubu.",
           "Neutral"
          ],
          [
           "@anonymized_account też to widze.Żyj dalej w świecie w którym to Legia jest najlepsza na świecie a słaba gra to wynik gry w pucharach.",
           "Neutral"
          ],
          [
           "@anonymized_account Panie Andrzeju jeszcze pan będzie prosił o te leki przeciw bólowe 😀",
           "Neutral"
          ],
          [
           "@anonymized_account no to co piszesz że Benfika rozdaje karty ? @anonymized_account @anonymized_account @anonymized_account",
           "Neutral"
          ],
          [
           "@anonymized_account @anonymized_account @anonymized_account Tez musze trzymać poziomo tel czytając ten artykuł",
           "Neutral"
          ],
          [
           "@anonymized_account Abonament to sobie jakiś wybiorę :) O telefon mi chodzi głównie.",
           "Neutral"
          ],
          [
           "@anonymized_account O jeju ale jestem ciekawa!!  Trzymam kciuki i odrazu napisz jak tam bo nie wytrzymam xd",
           "Neutral"
          ],
          [
           "@anonymized_account Każdy tak powinien z pisdzielstwem i będzie,  było sobie pisdzielstwo",
           "Neutral"
          ],
          [
           "RT @anonymized_account @anonymized_account @anonymized_account Wzrusza mnie ta wasza troska. I rozumiem ją. W końcu jest lotnisko w Niemczech. A więc u nas n…",
           "Neutral"
          ],
          [
           "Wczoraj tyle ćwiczyłam, ze rozwala mi brzuch od środka jak mam kaszel albo kicham",
           "Neutral"
          ],
          [
           "@anonymized_account @anonymized_account I bardzo dobrze. Ja wysłałbym ci fax jak Ziobro prezesom sądów.",
           "Neutral"
          ],
          [
           "@anonymized_account @anonymized_account Dobra spierdalaj, ja też spierdalam",
           "Neutral"
          ],
          [
           "@anonymized_account Jak pisdzielstwo 98% wymieniło to co się dziwisz parchu  , polaku złoty ptaku",
           "Neutral"
          ],
          [
           "@anonymized_account Błędem było jego zatrudnienie a nie zwolnienie",
           "Neutral"
          ],
          [
           "@anonymized_account @anonymized_account mi się ten styl podoba 💪 oby tak dalej :)",
           "Neutral"
          ],
          [
           "Dajcie mi link do carpool karaoke z Ari",
           "Neutral"
          ],
          [
           "@anonymized_account Pani Malarz trza być obiektywnym dziennikarką to ze legia gra piach to normalka nic dziwnego",
           "Neutral"
          ],
          [
           "@anonymized_account @anonymized_account @anonymized_account A to już problem tej rady i parafian.",
           "Neutral"
          ],
          [
           "Kto chce zadecydować czy jakieś zdjęcie nadaje się do pokazania społeczeństwu?",
           "Neutral"
          ],
          [
           "@anonymized_account @anonymized_account Raczej ma problem z głową. Tak jak Ty i Tobie podobni.",
           "Neutral"
          ],
          [
           "Najman sobie spełnia marzenia i może się poczuć jak bokser, a Wy się śmiejecie.",
           "Neutral"
          ],
          [
           "Skoro wchodzi Góralski, to tym bardziej szkoda, że po drugiej stronie nie ma Vidala 😜",
           "Neutral"
          ],
          [
           "@anonymized_account Jaka mądrość bije z tej twarzy!😁😁😁😁😁",
           "Neutral"
          ],
          [
           "@anonymized_account właśnie chciałam zobaczyć, jak zostanie zinterpretowany ten obrazek, tu jest sporo konotacji.",
           "Neutral"
          ],
          [
           "@anonymized_account @anonymized_account A potem sprowadzasz Serderova 👏",
           "Neutral"
          ],
          [
           "@anonymized_account Wyglada na to ze jestem legenda 😂✊🏻",
           "Neutral"
          ],
          [
           "Przyszedłem dzisiaj do pracy z namalowanymi kredką wąsami. Kobiety z namalowanymi kredką brwiami stwierdziły, że jestem debilem.",
           "Neutral"
          ],
          [
           "@anonymized_account Noż ku...a jakie to symptomatyczne😁😁😁😁",
           "Neutral"
          ],
          [
           "@anonymized_account @anonymized_account Jak dostanę takie polecenie. Na razie nie dostałem, więc nie ma tematu 😉",
           "Neutral"
          ],
          [
           "@anonymized_account Wisła chyba ważniejsza od jakiejś Delle Donne :)",
           "Neutral"
          ],
          [
           "Kto chce się jutro przejść na spacer moje znajomki halo",
           "Neutral"
          ],
          [
           "@anonymized_account @anonymized_account I uważasz pajacu że te sprawy mają coś wspólnego ze sobą?",
           "Neutral"
          ],
          [
           "Kto idzie ze mna na Kler halo halo",
           "Neutral"
          ],
          [
           "KAIN TEŻ ZABIŁ BRATA ALE NIE ŚWIĘTOWAŁ TEGO CO MIESIĄC I NIE STAWIAŁ POMNIKÓW NA TĘ OKOLICZNOŚĆ.",
           "Neutral"
          ],
          [
           "Rycze dzisiaj od rana i aż mnie samą to wkurwia",
           "Neutral"
          ],
          [
           "Serio ludzie już stoją pod biedronka po te maskotki XD",
           "Neutral"
          ],
          [
           "@anonymized_account @anonymized_account @anonymized_account A ich akademia jakich zawodników produkuje ? Ilu grało wychowanków ?",
           "Neutral"
          ],
          [
           "RT @anonymized_account powiem wam tylko tyle, jestem najobrzydliwszą, najgrubszą i kurwa najbrzydsza dziewczyną jaka kiedykolwiek chodziła po z…",
           "Neutral"
          ],
          [
           "@anonymized_account i tak nie będzie miał wyjścia i będzie musiał dać szanse Kujawie albo Żemlo",
           "Neutral"
          ],
          [
           "@anonymized_account @anonymized_account @anonymized_account Jojo demokrata w akcji. Taki pospolity ćwierćmózg",
           "Neutral"
          ],
          [
           "@anonymized_account A który zajmuje się kroczem?",
           "Neutral"
          ],
          [
           "Serio Kszczot powiedział że piłka nożna jest banalna ? A bieg na 800 m jest jaki ?",
           "Neutral"
          ],
          [
           "@anonymized_account @anonymized_account Ale chyba wam uratował punkt, Pawełek jaki był w Wiśle każdy wie ale dziś chyba był by wzmocnieniem dla Wisły",
           "Neutral"
          ],
          [
           "Gdyby za czasów Dantego istniały centra handlowe, miałyby swój krąg. \\n\\nLasciate ogni speranza, voi ch'entrate.",
           "Neutral"
          ],
          [
           "@anonymized_account @anonymized_account @anonymized_account A tak właściwie to co się dzieje z Majewską ? Kontuzja czy zakończyła kariere ? Chyba, że gdzieś gra :)",
           "Neutral"
          ],
          [
           "@anonymized_account Czyżby się bal że za niego to za tanio?",
           "Neutral"
          ],
          [
           "@anonymized_account Bez Fajbusiewicza to nie to samo, ale taki program jest potrzebny w tv, więc fajnie że wraca :)",
           "Neutral"
          ],
          [
           "@anonymized_account @anonymized_account Według mnie to fake wypucha na zdjęciu niejest miś chyba żeby się tak strasznie zmienił w ostatnim czasie",
           "Neutral"
          ],
          [
           "@anonymized_account Hejka, hejka, sejonarka w czwartek o 11 juz do domku",
           "Neutral"
          ],
          [
           "@anonymized_account @anonymized_account Trochę dużo tych trenerów :P",
           "Neutral"
          ],
          [
           "Z całym szacunkiem dla Kuby, ale to wygląda, jakby mu wujek kadrą chciał rytm meczowy przywrócić.",
           "Neutral"
          ],
          [
           "@anonymized_account I to, że po drugiej stronie był Tosik 😜",
           "Neutral"
          ],
          [
           "@anonymized_account @anonymized_account A ten wieloletni staż to gdzie? Na lotnisku w Radomiu?",
           "Neutral"
          ],
          [
           "@anonymized_account Szczecin pokazał że nie jest Warszawą. I nie wybiera miernot",
           "Neutral"
          ],
          [
           "@anonymized_account @anonymized_account Wieteska już nie jest mlodziezowcem",
           "Neutral"
          ],
          [
           "@anonymized_account No wiadomo, że nie za Rosją :P",
           "Neutral"
          ],
          [
           "@anonymized_account czy Pan Waldemar ma zakaz wjazdu Parchu, czy nie ma?",
           "Neutral"
          ],
          [
           "@anonymized_account miał wizje żeby zbudować Athletic Bilbao a jego ruchy są całkowitym zaprzeczeniem tego.Kolesiostwo pierdolone.",
           "Neutral"
          ],
          [
           "@anonymized_account Tak to znaczy jak ? Może jakiś konkretny?",
           "Neutral"
          ],
          [
           "RT @anonymized_account czy Inowrocław to taki ślonski Wrocław kaj mosz ino wrocław i nic wincyj",
           "Neutral"
          ],
          [
           "@anonymized_account Cupiala szanuje po dzisiejszym meczu ze wyjebal nawalke miał chłop racje",
           "Neutral"
          ],
          [
           "@anonymized_account @anonymized_account Co ty tam w tym Koźlu Kędzierzysz?",
           "Neutral"
          ],
          [
           "Co się musi dziać teraz u @anonymized_account 😄",
           "Neutral"
          ],
          [
           "@anonymized_account @anonymized_account Ok mój błąd :) no to czekamy na te wnioski o rozwiązanie kontraktów :)",
           "Neutral"
          ],
          [
           "@anonymized_account Odkąd wychodzę z nim rzadziej niż co 3 dni, jakby bardziej się cieszy. To miłe.",
           "Neutral"
          ],
          [
           "@anonymized_account @anonymized_account Jednostki wojskowe funkcjonują w oparciu o karty kredytowe? Lecz się człowieku.",
           "Neutral"
          ],
          [
           "@anonymized_account @anonymized_account Nawet podobny do niego, prawda ?xD",
           "Neutral"
          ],
          [
           "@anonymized_account W sumie u mnie tez 😬😂",
           "Neutral"
          ],
          [
           "@anonymized_account burmistrz z platka kwiatka przypomina mi burmistrza Kluczborka",
           "Neutral"
          ],
          [
           "Jagiellonia vs przeciwnicy z Rumunii:\\n6 ostatnich meczów, 6 porażek, bramki 4:12\\nOstatnie zwycięstwo - z FC Vaslui 2:1 (styczeń 2012).",
           "Neutral"
          ],
          [
           "@anonymized_account @anonymized_account w ekstraklasie też nie ma",
           "Neutral"
          ],
          [
           "@anonymized_account Krzyż przeciw prezydenturze, krzyż obłędu",
           "Neutral"
          ],
          [
           "@anonymized_account @anonymized_account kto bedzie chętny z tym zagram.Ale od razu mówie że tylko za 1 porażke płace.Później moge grać tylko towarzysko :)",
           "Neutral"
          ],
          [
           "@anonymized_account @anonymized_account @anonymized_account mam nadzieje :) wynik dzisiaj zły ale dla tak grającej i walczącej Wisły warto przychodzić :)",
           "Neutral"
          ],
          [
           "@anonymized_account @anonymized_account Ok dzięki  za info jednak i tak nieposiadam tego kanału ;-)",
           "Neutral"
          ],
          [
           "@anonymized_account @anonymized_account a to już wiemy czemu tak lansujesz tego Majeckiego",
           "Neutral"
          ],
          [
           "@anonymized_account Polacy też wiedzą, że jednym z największych debili jest niejaki Ziemkiewicz.",
           "Neutral"
          ],
          [
           "@anonymized_account kibicom chodzi raczej o postawe dziennikarzy a nie klubu.",
           "Neutral"
          ],
          [
           "@anonymized_account A niby po co mieli go zastraszać jak Cupiał był zmuszony przez banki żeby sprzedać klub ?",
           "Neutral"
          ],
          [
           "@anonymized_account to ty chłopie nie płacz że mamy takie legendy.A wy macie kogo ? PiotraBanie ?@anonymized_account @anonymized_account @anonymized_account @anonymized_account",
           "Neutral"
          ],
          [
           "@anonymized_account Przecież te zjeby chyba wiedza że tvn 24 nadaje tylko w platnej. Tacy wrogowie, szczyj na nich",
           "Neutral"
          ],
          [
           "@anonymized_account Wiem co czujesz, kiedyś miałam podstawy prawa, teraz będę mieć prawo własności intelektualnej i aż mi nie dobrze",
           "Neutral"
          ],
          [
           "Mam straszną ochotę na sushi",
           "Neutral"
          ],
          [
           "RT @anonymized_account Diz pra mim 🎶",
           "Neutral"
          ]
         ],
         "hovertemplate": "sentiment=%{customdata[1]}<br>0=%{x}<br>1=%{y}<br>label=%{customdata[0]}<extra></extra>",
         "legendgroup": "Neutral",
         "marker": {
          "color": "#636efa",
          "symbol": "circle"
         },
         "mode": "markers",
         "name": "Neutral",
         "orientation": "v",
         "showlegend": true,
         "type": "scatter",
         "x": [
          14.720562934875488,
          5.511309623718262,
          7.185281753540039,
          2.9594571590423584,
          -15.474811553955078,
          3.429093599319458,
          13.083780288696289,
          13.809783935546875,
          5.853283405303955,
          -6.178321838378906,
          0.9304935336112976,
          -0.6690745949745178,
          12.838149070739746,
          4.929501056671143,
          -16.104167938232422,
          -20.894817352294922,
          7.710604667663574,
          -8.882041931152344,
          -8.239677429199219,
          -13.796830177307129,
          6.5378875732421875,
          12.60046100616455,
          -11.841678619384766,
          -0.9174962043762207,
          -18.188209533691406,
          17.02853775024414,
          -10.1701021194458,
          -1.5798827409744263,
          9.774285316467285,
          16.699050903320312,
          8.179100036621094,
          11.292126655578613,
          -16.69659996032715,
          4.67219352722168,
          -13.15134048461914,
          -16.714405059814453,
          -9.949825286865234,
          6.471478462219238,
          -20.58159637451172,
          -15.922148704528809,
          9.536510467529297,
          15.239906311035156,
          -10.009765625,
          6.443838596343994,
          7.04107141494751,
          8.005414009094238,
          -1.5112699270248413,
          -13.954277992248535,
          -1.3893852233886719,
          8.27646255493164,
          9.944853782653809,
          -8.871667861938477,
          -16.573070526123047,
          -19.78687286376953,
          -12.201507568359375,
          -25.60506820678711,
          20.611921310424805,
          3.94134521484375,
          -8.447507858276367,
          1.2911274433135986,
          17.876781463623047,
          -23.693849563598633,
          12.982961654663086,
          -3.892728805541992,
          -7.006804943084717,
          -6.080257892608643,
          13.782574653625488,
          1.2575509548187256,
          -25.09968376159668,
          21.144718170166016,
          9.606562614440918,
          -5.184917449951172,
          -3.470850706100464,
          -27.46177101135254,
          5.314057350158691,
          1.6752432584762573,
          3.3198139667510986,
          -4.873429298400879,
          -14.306031227111816,
          18.01371955871582,
          -12.919245719909668,
          3.9783756732940674,
          13.015121459960938,
          16.643781661987305,
          19.127063751220703,
          3.3469207286834717,
          12.5445556640625,
          7.722664833068848,
          -12.856966018676758,
          3.227201223373413,
          -8.759010314941406,
          -0.5804323554039001,
          -15.550968170166016,
          4.156111240386963,
          -2.673617362976074,
          -11.515087127685547,
          -13.472095489501953,
          -5.080718517303467,
          -11.440385818481445,
          3.976646661758423,
          -22.23194122314453,
          20.333158493041992,
          -8.094949722290039,
          7.512667179107666,
          -2.440608263015747,
          2.256255626678467,
          9.947625160217285,
          -21.726844787597656,
          7.14322566986084,
          -13.13602066040039,
          6.166703701019287,
          6.60868501663208,
          7.558534622192383,
          -4.54676628112793,
          15.898038864135742,
          -4.875690937042236,
          9.598108291625977,
          12.894394874572754,
          5.763643741607666,
          -1.968993902206421,
          -6.6854352951049805,
          5.607960224151611,
          -12.078265190124512,
          8.494612693786621,
          12.152765274047852,
          1.5139787197113037,
          -16.612321853637695,
          2.2574832439422607,
          -6.2252278327941895,
          19.127063751220703,
          -18.048080444335938,
          -7.937625408172607,
          -0.0760125070810318,
          -13.061827659606934,
          4.904774188995361,
          -2.4094038009643555,
          -2.518293857574463,
          -1.7787803411483765,
          -13.538818359375,
          2.3841092586517334,
          1.8727413415908813,
          10.484394073486328,
          23.638904571533203,
          9.549542427062988,
          -12.324629783630371,
          1.3236582279205322,
          -0.6723040342330933,
          -2.2206571102142334,
          6.864815711975098,
          -12.136184692382812,
          4.289399147033691,
          0.9802921414375305,
          14.623183250427246,
          -7.536676406860352,
          -8.899803161621094,
          -27.277267456054688,
          -4.8181633949279785,
          0.30837324261665344,
          -2.159773826599121,
          -16.776113510131836,
          -23.175519943237305,
          4.07039213180542,
          -19.306365966796875,
          3.9483354091644287,
          -3.8666679859161377,
          -14.98975658416748,
          -20.593143463134766,
          -1.9986000061035156,
          -10.428107261657715,
          -0.07696141302585602,
          18.18427276611328,
          18.28537940979004,
          -13.949368476867676,
          -7.816783905029297,
          12.874001502990723,
          -9.897072792053223,
          23.268184661865234,
          -5.869985580444336,
          2.7588443756103516,
          10.03464412689209,
          -8.610007286071777,
          -12.566454887390137,
          1.6635833978652954,
          -19.19845962524414,
          20.699983596801758,
          1.2911274433135986,
          6.551413059234619,
          16.109661102294922,
          -10.156423568725586,
          0.04193349927663803,
          0.2577640414237976,
          -25.69118881225586,
          -6.678050518035889,
          0.9082494378089905,
          -23.693849563598633,
          11.87818717956543,
          16.73149299621582,
          -5.27589225769043,
          -18.074604034423828,
          13.529945373535156,
          4.322135925292969,
          11.31688404083252,
          12.544510841369629,
          18.341144561767578,
          -8.20669174194336,
          -11.5506591796875,
          -2.444746494293213,
          -1.3179218769073486,
          -3.172722816467285,
          -2.858048915863037,
          17.956037521362305,
          4.949256896972656,
          7.196284770965576,
          21.18402671813965,
          14.521857261657715,
          -14.380784034729004,
          22.824357986450195,
          -10.566421508789062,
          1.099843144416809,
          2.2230567932128906,
          16.30599021911621,
          3.6277592182159424,
          -23.830549240112305,
          -5.573556900024414,
          -5.748955249786377,
          5.749088287353516,
          -10.259994506835938,
          -14.786812782287598,
          11.684320449829102,
          5.014606475830078,
          -20.048206329345703,
          -15.171268463134766,
          -1.2527458667755127,
          -15.653246879577637,
          5.171109676361084,
          -19.382701873779297,
          1.9200538396835327,
          10.874567031860352,
          3.9296061992645264,
          20.028947830200195,
          7.0023722648620605,
          17.64423370361328,
          6.726551055908203,
          -16.49335289001465,
          20.607995986938477,
          0.0005431266035884619,
          -11.771737098693848,
          8.276933670043945,
          1.1215044260025024,
          -2.070279359817505,
          16.75655174255371,
          5.123573303222656,
          -7.454623222351074,
          11.983327865600586,
          13.405967712402344,
          15.039820671081543,
          10.870266914367676,
          -12.064493179321289,
          22.07069206237793,
          -2.643436908721924,
          0.7928474545478821,
          9.446110725402832,
          -9.168488502502441,
          8.730990409851074,
          11.894135475158691,
          -2.5738842487335205,
          3.886805295944214,
          -22.930471420288086,
          4.5299973487854,
          10.431504249572754,
          -8.99425983428955,
          -27.126750946044922,
          -8.63962459564209,
          -16.56710433959961,
          2.0681581497192383,
          14.044360160827637,
          3.8379790782928467,
          -17.89871597290039,
          -7.256396770477295,
          -5.330813884735107,
          -13.889714241027832,
          22.914369583129883,
          -1.8352097272872925,
          0.8308210968971252,
          -7.0446906089782715,
          -1.8383474349975586,
          16.94983673095703,
          8.539796829223633,
          10.469084739685059,
          -6.8440093994140625,
          -3.7351815700531006,
          11.794300079345703,
          -10.14599609375,
          7.285767555236816,
          -9.943463325500488,
          5.930923938751221,
          -8.554056167602539,
          13.692408561706543,
          -3.23447847366333,
          9.937799453735352,
          -14.411170959472656,
          24.939899444580078,
          -20.077634811401367,
          -18.7259578704834,
          9.555998802185059,
          -10.53896427154541,
          12.805529594421387,
          13.033621788024902,
          6.789616107940674,
          -7.384327411651611,
          21.144718170166016,
          -8.113110542297363,
          9.398969650268555,
          2.8748128414154053,
          -15.590121269226074,
          13.736486434936523,
          -21.395069122314453,
          -19.925216674804688,
          -19.722904205322266,
          -22.908475875854492,
          -2.856987237930298,
          -7.9991455078125,
          23.285812377929688,
          15.75596809387207,
          23.35756492614746,
          -4.896452903747559,
          -13.9497652053833,
          3.8403022289276123,
          -13.076573371887207,
          -18.1546630859375,
          10.292757987976074,
          -9.974089622497559,
          -1.2790591716766357,
          14.77839469909668,
          -11.890982627868652,
          10.878096580505371,
          6.450188636779785,
          9.446001052856445,
          -3.391477346420288,
          23.137117385864258,
          -27.494150161743164,
          -6.023708343505859,
          20.481353759765625,
          2.902982234954834,
          13.27967357635498,
          4.156111240386963,
          -5.0937819480896,
          7.495147705078125,
          -2.8815431594848633,
          -9.052999496459961,
          8.816986083984375,
          -6.935401916503906,
          1.342432975769043,
          -3.2160086631774902,
          2.0604875087738037,
          -1.6198132038116455,
          0.47900059819221497,
          -1.5779047012329102,
          2.728827953338623,
          -8.017553329467773,
          -25.098535537719727,
          -10.348819732666016,
          -6.222966194152832,
          -10.069623947143555,
          -5.277088642120361,
          -13.9967041015625,
          11.219659805297852,
          -6.838344573974609,
          17.5648136138916,
          -9.905699729919434,
          1.1591814756393433,
          -7.4172234535217285,
          -3.188772201538086,
          -0.07412070035934448,
          23.462549209594727,
          -18.188209533691406
         ],
         "xaxis": "x",
         "y": [
          17.06073570251465,
          -11.484001159667969,
          15.023460388183594,
          -6.822537422180176,
          19.560321807861328,
          -6.986234664916992,
          3.164034605026245,
          -10.080470085144043,
          10.941433906555176,
          14.377413749694824,
          16.731544494628906,
          -9.768317222595215,
          9.901270866394043,
          2.75502872467041,
          -10.331022262573242,
          10.896068572998047,
          -7.160909652709961,
          -1.0625330209732056,
          15.184650421142578,
          20.213966369628906,
          -9.21674633026123,
          -7.934805393218994,
          8.167465209960938,
          -0.05138372257351875,
          -16.354507446289062,
          -13.35932445526123,
          -12.255250930786133,
          9.526874542236328,
          -18.29070281982422,
          14.347606658935547,
          21.600984573364258,
          14.054666519165039,
          7.451327800750732,
          -3.626675605773926,
          15.440651893615723,
          -20.760038375854492,
          1.7069331407546997,
          -14.368556022644043,
          6.573902130126953,
          19.79609489440918,
          -7.122237205505371,
          1.1553183794021606,
          -16.007484436035156,
          4.067320346832275,
          14.129525184631348,
          5.304306983947754,
          -6.09662389755249,
          -5.848028182983398,
          -8.433186531066895,
          12.93054485321045,
          2.555325508117676,
          -8.312979698181152,
          -22.009580612182617,
          2.6224961280822754,
          8.366523742675781,
          8.475322723388672,
          16.707645416259766,
          -19.991846084594727,
          23.390567779541016,
          20.155967712402344,
          5.380870819091797,
          -13.837042808532715,
          21.240385055541992,
          1.6027485132217407,
          15.800568580627441,
          1.7502059936523438,
          -1.9309015274047852,
          7.815310478210449,
          -8.157661437988281,
          -3.737907648086548,
          -9.34156608581543,
          13.162864685058594,
          -15.967940330505371,
          -2.4852755069732666,
          19.36667251586914,
          10.789308547973633,
          16.671756744384766,
          -0.581817626953125,
          4.995643615722656,
          -2.067401885986328,
          -23.021711349487305,
          -15.18571949005127,
          -7.579873085021973,
          10.528321266174316,
          1.7523478269577026,
          -5.429503440856934,
          -19.922550201416016,
          20.942373275756836,
          -23.12186050415039,
          -1.7293996810913086,
          -8.297517776489258,
          10.050877571105957,
          0.7216802835464478,
          12.953051567077637,
          3.952241897583008,
          4.130524158477783,
          -12.085966110229492,
          -16.641159057617188,
          -8.526236534118652,
          20.37261390686035,
          -2.871532678604126,
          -8.485556602478027,
          4.90920352935791,
          1.4031952619552612,
          -20.896099090576172,
          -12.699641227722168,
          -13.740394592285156,
          3.275057315826416,
          -7.235671520233154,
          2.386918783187866,
          -5.023000240325928,
          -6.049140930175781,
          1.1589747667312622,
          17.70803451538086,
          -9.458353996276855,
          8.214933395385742,
          1.1021220684051514,
          9.063416481018066,
          -10.72054672241211,
          6.30635929107666,
          12.316633224487305,
          3.944141387939453,
          16.98695182800293,
          -17.698278427124023,
          -4.1081156730651855,
          -7.352259635925293,
          -7.5349345207214355,
          4.249943733215332,
          -2.687130928039551,
          1.7523478269577026,
          14.797533988952637,
          -2.844588041305542,
          4.5579023361206055,
          -5.753506183624268,
          -8.456009864807129,
          6.835268020629883,
          13.580883979797363,
          21.786096572875977,
          15.282940864562988,
          -9.501078605651855,
          -8.640368461608887,
          7.091495513916016,
          -1.4532010555267334,
          3.255028247833252,
          3.7576167583465576,
          -21.331283569335938,
          2.6851353645324707,
          0.7018061876296997,
          -1.8061939477920532,
          -1.4403188228607178,
          -21.476064682006836,
          -3.3535728454589844,
          -4.408536911010742,
          4.636821746826172,
          -2.0000386238098145,
          -2.5079689025878906,
          5.690789222717285,
          23.19719696044922,
          8.774280548095703,
          -5.686672210693359,
          16.00444984436035,
          7.417834758758545,
          -11.343803405761719,
          16.442745208740234,
          0.29819247126579285,
          17.378328323364258,
          3.8562707901000977,
          -7.909854412078857,
          -15.369739532470703,
          0.6208404302597046,
          -17.99478530883789,
          2.834120750427246,
          -15.769573211669922,
          13.489616394042969,
          6.864405155181885,
          -4.666493892669678,
          6.9667158126831055,
          -10.489283561706543,
          12.740931510925293,
          17.001895904541016,
          -24.938329696655273,
          2.0456743240356445,
          1.8620977401733398,
          3.566500186920166,
          16.864049911499023,
          20.155967712402344,
          10.23591423034668,
          -8.75226879119873,
          -2.976377487182617,
          -16.549560546875,
          15.854795455932617,
          7.823404312133789,
          -20.000431060791016,
          8.309453964233398,
          -13.837042808532715,
          1.107951045036316,
          -5.887477397918701,
          3.592517852783203,
          2.71333909034729,
          5.592210292816162,
          -18.334293365478516,
          -10.921034812927246,
          -19.922395706176758,
          -0.8633221387863159,
          -15.862507820129395,
          -3.6895995140075684,
          -21.336267471313477,
          24.37822723388672,
          23.837177276611328,
          14.405570983886719,
          3.6271865367889404,
          -0.9402614831924438,
          -14.511872291564941,
          -7.298331260681152,
          4.0266618728637695,
          5.031411170959473,
          -1.1571062803268433,
          -5.901944160461426,
          23.740951538085938,
          -21.864824295043945,
          -13.068320274353027,
          -10.548776626586914,
          -7.577733516693115,
          20.144176483154297,
          18.91204261779785,
          8.143683433532715,
          -1.4153364896774292,
          0.17297695577144623,
          5.126049995422363,
          8.470366477966309,
          9.822632789611816,
          -11.497652053833008,
          -1.0766505002975464,
          -21.36998176574707,
          1.6581658124923706,
          -11.540225982666016,
          5.424445629119873,
          -5.7480788230896,
          -20.6980037689209,
          -10.034586906433105,
          8.142317771911621,
          -18.22419548034668,
          17.832998275756836,
          -5.930469989776611,
          11.769047737121582,
          -12.485006332397461,
          14.021932601928711,
          2.821148633956909,
          -16.92047882080078,
          -16.637805938720703,
          -9.109954833984375,
          24.124324798583984,
          6.470395088195801,
          17.486068725585938,
          17.526704788208008,
          7.835844993591309,
          13.031163215637207,
          -9.252176284790039,
          8.111352920532227,
          -16.85759925842285,
          -9.9365816116333,
          5.892147064208984,
          -3.4211816787719727,
          -1.9228312969207764,
          -18.22150993347168,
          -18.914369583129883,
          22.50386619567871,
          16.022014617919922,
          4.731342792510986,
          4.8488078117370605,
          3.93782901763916,
          2.8911895751953125,
          -12.501489639282227,
          1.3292193412780762,
          -3.1564981937408447,
          -1.419684648513794,
          -2.9850358963012695,
          -1.7590006589889526,
          -5.965805530548096,
          -7.855156421661377,
          -2.7456939220428467,
          -3.094508647918701,
          17.528278350830078,
          10.013991355895996,
          -10.423150062561035,
          -3.412810802459717,
          11.28039264678955,
          -0.8184682726860046,
          -3.742615222930908,
          0.0454014390707016,
          -2.947329521179199,
          0.5546224117279053,
          11.366397857666016,
          -21.92786979675293,
          18.80583953857422,
          5.6258344650268555,
          -20.56848907470703,
          -13.620063781738281,
          -7.955458641052246,
          11.076594352722168,
          -21.379392623901367,
          -0.4262029528617859,
          9.296311378479004,
          4.84052848815918,
          9.460431098937988,
          7.898142337799072,
          -11.330238342285156,
          -15.74975872039795,
          -21.84478759765625,
          9.877357482910156,
          -3.737907648086548,
          10.096341133117676,
          -11.131124496459961,
          -0.33067071437835693,
          11.324881553649902,
          5.268120288848877,
          -3.154013156890869,
          1.6034808158874512,
          -9.338107109069824,
          -2.668569326400757,
          10.324249267578125,
          -13.069759368896484,
          -6.106381893157959,
          -5.062861919403076,
          -6.295565605163574,
          11.177788734436035,
          -15.769415855407715,
          2.759373903274536,
          7.9663310050964355,
          -1.2014633417129517,
          12.223008155822754,
          0.7719067335128784,
          23.5316104888916,
          6.383912086486816,
          -9.579946517944336,
          -1.6340577602386475,
          -2.659087896347046,
          -2.050238847732544,
          -2.642991304397583,
          5.703427314758301,
          2.6473605632781982,
          -16.347869873046875,
          11.811368942260742,
          -0.9977969527244568,
          -8.868717193603516,
          12.953051567077637,
          9.031384468078613,
          6.981844902038574,
          18.222442626953125,
          6.991578578948975,
          -9.671369552612305,
          -25.355758666992188,
          12.794146537780762,
          -6.191182613372803,
          6.401707649230957,
          -14.872917175292969,
          -2.528552770614624,
          12.879472732543945,
          -15.126912117004395,
          -20.437902450561523,
          -8.15764045715332,
          -16.999256134033203,
          14.060709953308105,
          19.489648818969727,
          -5.01561975479126,
          -11.681417465209961,
          -4.218461990356445,
          8.021273612976074,
          6.3139214515686035,
          11.31833267211914,
          1.0926438570022583,
          1.466690182685852,
          -10.775485038757324,
          7.229560375213623,
          7.315832138061523,
          -16.354507446289062
         ],
         "yaxis": "y"
        },
        {
         "customdata": [
          [
           "@anonymized_account @anonymized_account @anonymized_account @anonymized_account Poziom posła @anonymized_account  sięga bruku, niestety nie jest to bruk paryski.",
           "Hate"
          ],
          [
           "@anonymized_account Po slowach ktore wypowiedziales w Lodzi nie powinienes sie pokazywac na uroczystosciach!",
           "Hate"
          ],
          [
           "@anonymized_account @anonymized_account @anonymized_account @anonymized_account @anonymized_account Wywiad tylko utwierdza w przekonaniu, że to kretyn.",
           "Hate"
          ],
          [
           "@anonymized_account Z niego taki patriota i kompetentny polityk jak Ciebie niezależny i kompetentny dziennikarz. Jeden wart drugiego.",
           "Hate"
          ],
          [
           "@anonymized_account @anonymized_account @anonymized_account z malych miast i wsi, niewykszalceni, wyborcy jedynej i prawdziwej   wladzy ludu?",
           "Hate"
          ],
          [
           "Jak tam  zjeby, ośka?",
           "Hate"
          ],
          [
           "@anonymized_account @anonymized_account Podyskutować ? Chyba pokazać swoje kompleksy i ból dupy jak to mawia wielbiciel hotdogów 😂",
           "Hate"
          ],
          [
           "@anonymized_account @anonymized_account ta odpowiedz sugeruje że Pan Szymon powiedział że nie wie czy to gówno czy czekolada i zaprosiłby ponownie gościa",
           "Hate"
          ],
          [
           "@anonymized_account Jaka mądrość bije z tej twarzy!😁😁😁😁😁",
           "Hate"
          ],
          [
           "Transmisja TVN 24 z przejazdu sędziego Tulei autobusem do rzecznika dyscyplinarnego przejdzie do historii. Historii szajby.",
           "Hate"
          ],
          [
           "Słyszę, że Pierwsza Milcząca będzie czytała dzieciom Koziołka Matołka...\\nA może lepiej poczyta Konstytucję swojemu matołkowi?...",
           "Hate"
          ],
          [
           "@anonymized_account Na takie coś to Ty sobie możesz Matysiaka zapraszać.My nie wbijamy :D",
           "Hate"
          ],
          [
           "@anonymized_account @anonymized_account Nie kimkolwiek. Nie świętuję z krzywoprzysięzcą i zakłamanym oszustem takim tak ty.",
           "Hate"
          ],
          [
           "@anonymized_account @anonymized_account @anonymized_account @anonymized_account Ale za to mają gang majonezowy i najsłynniejszego szczerbatego",
           "Hate"
          ],
          [
           "@anonymized_account Frajerami stulecia byliby, jakby Senegal w doliczonym wcisnął.",
           "Hate"
          ],
          [
           "@anonymized_account @anonymized_account przecież w dupie miałeś ten medal :)",
           "Hate"
          ],
          [
           "@anonymized_account Raczej je przebiła, bo dno osiągnęła już dosyć dawno.",
           "Hate"
          ],
          [
           "@anonymized_account Ta menda Rydzyk nie chcial z nim gadać postrzegam na wielki plus",
           "Hate"
          ],
          [
           "@anonymized_account No ci \\\"eksperci\\\" to przynajmniej wiedzą, z kim Anglia grała 😄",
           "Hate"
          ],
          [
           "@anonymized_account @anonymized_account Morawieckiego łżesz jak bura suka",
           "Hate"
          ],
          [
           "@anonymized_account @anonymized_account Wyłącz mnie z tej dyskusji z faszyzującymi ultrasem yntylygentem rydzykowo-pisbolszewickiego i jego \\\"odbiorcow\\\".",
           "Hate"
          ],
          [
           "@anonymized_account Albo \\\"Głupi ma zawsze szczęście\\\". Do wyboru 😁",
           "Hate"
          ],
          [
           "@anonymized_account Biedni, chorzy psychicznie ludzie. Wszystko kojarzy się im z seksem.",
           "Hate"
          ]
         ],
         "hovertemplate": "sentiment=%{customdata[1]}<br>0=%{x}<br>1=%{y}<br>label=%{customdata[0]}<extra></extra>",
         "legendgroup": "Hate",
         "marker": {
          "color": "#EF553B",
          "symbol": "circle"
         },
         "mode": "markers",
         "name": "Hate",
         "orientation": "v",
         "showlegend": true,
         "type": "scatter",
         "x": [
          -7.123999118804932,
          -17.87950325012207,
          -6.289633750915527,
          1.4155791997909546,
          -8.416367530822754,
          -2.5021235942840576,
          1.8852609395980835,
          -2.904172897338867,
          -15.593896865844727,
          -3.0109410285949707,
          13.27563190460205,
          -7.790060043334961,
          -4.819355487823486,
          8.518651008605957,
          0.5484358072280884,
          -2.8858416080474854,
          -4.474719524383545,
          -5.041589736938477,
          17.980438232421875,
          -0.2983793020248413,
          -13.562026977539062,
          0.2287096232175827,
          -4.646800518035889
         ],
         "xaxis": "x",
         "y": [
          -0.9952654838562012,
          -4.912270545959473,
          -4.192495346069336,
          -13.632285118103027,
          -4.430304527282715,
          -9.05685806274414,
          -23.379940032958984,
          18.80362892150879,
          11.32528305053711,
          -11.785101890563965,
          12.732666015625,
          2.33827805519104,
          5.691082000732422,
          -3.6144206523895264,
          -4.148306369781494,
          3.6928954124450684,
          16.237607955932617,
          -13.559192657470703,
          7.849136829376221,
          -7.611432075500488,
          11.056166648864746,
          15.274998664855957,
          -18.687990188598633
         ],
         "yaxis": "y"
        }
       ],
       "layout": {
        "legend": {
         "title": {
          "text": "sentiment"
         },
         "tracegroupgap": 0
        },
        "margin": {
         "t": 60
        },
        "template": {
         "data": {
          "bar": [
           {
            "error_x": {
             "color": "#2a3f5f"
            },
            "error_y": {
             "color": "#2a3f5f"
            },
            "marker": {
             "line": {
              "color": "#E5ECF6",
              "width": 0.5
             },
             "pattern": {
              "fillmode": "overlay",
              "size": 10,
              "solidity": 0.2
             }
            },
            "type": "bar"
           }
          ],
          "barpolar": [
           {
            "marker": {
             "line": {
              "color": "#E5ECF6",
              "width": 0.5
             },
             "pattern": {
              "fillmode": "overlay",
              "size": 10,
              "solidity": 0.2
             }
            },
            "type": "barpolar"
           }
          ],
          "carpet": [
           {
            "aaxis": {
             "endlinecolor": "#2a3f5f",
             "gridcolor": "white",
             "linecolor": "white",
             "minorgridcolor": "white",
             "startlinecolor": "#2a3f5f"
            },
            "baxis": {
             "endlinecolor": "#2a3f5f",
             "gridcolor": "white",
             "linecolor": "white",
             "minorgridcolor": "white",
             "startlinecolor": "#2a3f5f"
            },
            "type": "carpet"
           }
          ],
          "choropleth": [
           {
            "colorbar": {
             "outlinewidth": 0,
             "ticks": ""
            },
            "type": "choropleth"
           }
          ],
          "contour": [
           {
            "colorbar": {
             "outlinewidth": 0,
             "ticks": ""
            },
            "colorscale": [
             [
              0,
              "#0d0887"
             ],
             [
              0.1111111111111111,
              "#46039f"
             ],
             [
              0.2222222222222222,
              "#7201a8"
             ],
             [
              0.3333333333333333,
              "#9c179e"
             ],
             [
              0.4444444444444444,
              "#bd3786"
             ],
             [
              0.5555555555555556,
              "#d8576b"
             ],
             [
              0.6666666666666666,
              "#ed7953"
             ],
             [
              0.7777777777777778,
              "#fb9f3a"
             ],
             [
              0.8888888888888888,
              "#fdca26"
             ],
             [
              1,
              "#f0f921"
             ]
            ],
            "type": "contour"
           }
          ],
          "contourcarpet": [
           {
            "colorbar": {
             "outlinewidth": 0,
             "ticks": ""
            },
            "type": "contourcarpet"
           }
          ],
          "heatmap": [
           {
            "colorbar": {
             "outlinewidth": 0,
             "ticks": ""
            },
            "colorscale": [
             [
              0,
              "#0d0887"
             ],
             [
              0.1111111111111111,
              "#46039f"
             ],
             [
              0.2222222222222222,
              "#7201a8"
             ],
             [
              0.3333333333333333,
              "#9c179e"
             ],
             [
              0.4444444444444444,
              "#bd3786"
             ],
             [
              0.5555555555555556,
              "#d8576b"
             ],
             [
              0.6666666666666666,
              "#ed7953"
             ],
             [
              0.7777777777777778,
              "#fb9f3a"
             ],
             [
              0.8888888888888888,
              "#fdca26"
             ],
             [
              1,
              "#f0f921"
             ]
            ],
            "type": "heatmap"
           }
          ],
          "heatmapgl": [
           {
            "colorbar": {
             "outlinewidth": 0,
             "ticks": ""
            },
            "colorscale": [
             [
              0,
              "#0d0887"
             ],
             [
              0.1111111111111111,
              "#46039f"
             ],
             [
              0.2222222222222222,
              "#7201a8"
             ],
             [
              0.3333333333333333,
              "#9c179e"
             ],
             [
              0.4444444444444444,
              "#bd3786"
             ],
             [
              0.5555555555555556,
              "#d8576b"
             ],
             [
              0.6666666666666666,
              "#ed7953"
             ],
             [
              0.7777777777777778,
              "#fb9f3a"
             ],
             [
              0.8888888888888888,
              "#fdca26"
             ],
             [
              1,
              "#f0f921"
             ]
            ],
            "type": "heatmapgl"
           }
          ],
          "histogram": [
           {
            "marker": {
             "pattern": {
              "fillmode": "overlay",
              "size": 10,
              "solidity": 0.2
             }
            },
            "type": "histogram"
           }
          ],
          "histogram2d": [
           {
            "colorbar": {
             "outlinewidth": 0,
             "ticks": ""
            },
            "colorscale": [
             [
              0,
              "#0d0887"
             ],
             [
              0.1111111111111111,
              "#46039f"
             ],
             [
              0.2222222222222222,
              "#7201a8"
             ],
             [
              0.3333333333333333,
              "#9c179e"
             ],
             [
              0.4444444444444444,
              "#bd3786"
             ],
             [
              0.5555555555555556,
              "#d8576b"
             ],
             [
              0.6666666666666666,
              "#ed7953"
             ],
             [
              0.7777777777777778,
              "#fb9f3a"
             ],
             [
              0.8888888888888888,
              "#fdca26"
             ],
             [
              1,
              "#f0f921"
             ]
            ],
            "type": "histogram2d"
           }
          ],
          "histogram2dcontour": [
           {
            "colorbar": {
             "outlinewidth": 0,
             "ticks": ""
            },
            "colorscale": [
             [
              0,
              "#0d0887"
             ],
             [
              0.1111111111111111,
              "#46039f"
             ],
             [
              0.2222222222222222,
              "#7201a8"
             ],
             [
              0.3333333333333333,
              "#9c179e"
             ],
             [
              0.4444444444444444,
              "#bd3786"
             ],
             [
              0.5555555555555556,
              "#d8576b"
             ],
             [
              0.6666666666666666,
              "#ed7953"
             ],
             [
              0.7777777777777778,
              "#fb9f3a"
             ],
             [
              0.8888888888888888,
              "#fdca26"
             ],
             [
              1,
              "#f0f921"
             ]
            ],
            "type": "histogram2dcontour"
           }
          ],
          "mesh3d": [
           {
            "colorbar": {
             "outlinewidth": 0,
             "ticks": ""
            },
            "type": "mesh3d"
           }
          ],
          "parcoords": [
           {
            "line": {
             "colorbar": {
              "outlinewidth": 0,
              "ticks": ""
             }
            },
            "type": "parcoords"
           }
          ],
          "pie": [
           {
            "automargin": true,
            "type": "pie"
           }
          ],
          "scatter": [
           {
            "fillpattern": {
             "fillmode": "overlay",
             "size": 10,
             "solidity": 0.2
            },
            "type": "scatter"
           }
          ],
          "scatter3d": [
           {
            "line": {
             "colorbar": {
              "outlinewidth": 0,
              "ticks": ""
             }
            },
            "marker": {
             "colorbar": {
              "outlinewidth": 0,
              "ticks": ""
             }
            },
            "type": "scatter3d"
           }
          ],
          "scattercarpet": [
           {
            "marker": {
             "colorbar": {
              "outlinewidth": 0,
              "ticks": ""
             }
            },
            "type": "scattercarpet"
           }
          ],
          "scattergeo": [
           {
            "marker": {
             "colorbar": {
              "outlinewidth": 0,
              "ticks": ""
             }
            },
            "type": "scattergeo"
           }
          ],
          "scattergl": [
           {
            "marker": {
             "colorbar": {
              "outlinewidth": 0,
              "ticks": ""
             }
            },
            "type": "scattergl"
           }
          ],
          "scattermapbox": [
           {
            "marker": {
             "colorbar": {
              "outlinewidth": 0,
              "ticks": ""
             }
            },
            "type": "scattermapbox"
           }
          ],
          "scatterpolar": [
           {
            "marker": {
             "colorbar": {
              "outlinewidth": 0,
              "ticks": ""
             }
            },
            "type": "scatterpolar"
           }
          ],
          "scatterpolargl": [
           {
            "marker": {
             "colorbar": {
              "outlinewidth": 0,
              "ticks": ""
             }
            },
            "type": "scatterpolargl"
           }
          ],
          "scatterternary": [
           {
            "marker": {
             "colorbar": {
              "outlinewidth": 0,
              "ticks": ""
             }
            },
            "type": "scatterternary"
           }
          ],
          "surface": [
           {
            "colorbar": {
             "outlinewidth": 0,
             "ticks": ""
            },
            "colorscale": [
             [
              0,
              "#0d0887"
             ],
             [
              0.1111111111111111,
              "#46039f"
             ],
             [
              0.2222222222222222,
              "#7201a8"
             ],
             [
              0.3333333333333333,
              "#9c179e"
             ],
             [
              0.4444444444444444,
              "#bd3786"
             ],
             [
              0.5555555555555556,
              "#d8576b"
             ],
             [
              0.6666666666666666,
              "#ed7953"
             ],
             [
              0.7777777777777778,
              "#fb9f3a"
             ],
             [
              0.8888888888888888,
              "#fdca26"
             ],
             [
              1,
              "#f0f921"
             ]
            ],
            "type": "surface"
           }
          ],
          "table": [
           {
            "cells": {
             "fill": {
              "color": "#EBF0F8"
             },
             "line": {
              "color": "white"
             }
            },
            "header": {
             "fill": {
              "color": "#C8D4E3"
             },
             "line": {
              "color": "white"
             }
            },
            "type": "table"
           }
          ]
         },
         "layout": {
          "annotationdefaults": {
           "arrowcolor": "#2a3f5f",
           "arrowhead": 0,
           "arrowwidth": 1
          },
          "autotypenumbers": "strict",
          "coloraxis": {
           "colorbar": {
            "outlinewidth": 0,
            "ticks": ""
           }
          },
          "colorscale": {
           "diverging": [
            [
             0,
             "#8e0152"
            ],
            [
             0.1,
             "#c51b7d"
            ],
            [
             0.2,
             "#de77ae"
            ],
            [
             0.3,
             "#f1b6da"
            ],
            [
             0.4,
             "#fde0ef"
            ],
            [
             0.5,
             "#f7f7f7"
            ],
            [
             0.6,
             "#e6f5d0"
            ],
            [
             0.7,
             "#b8e186"
            ],
            [
             0.8,
             "#7fbc41"
            ],
            [
             0.9,
             "#4d9221"
            ],
            [
             1,
             "#276419"
            ]
           ],
           "sequential": [
            [
             0,
             "#0d0887"
            ],
            [
             0.1111111111111111,
             "#46039f"
            ],
            [
             0.2222222222222222,
             "#7201a8"
            ],
            [
             0.3333333333333333,
             "#9c179e"
            ],
            [
             0.4444444444444444,
             "#bd3786"
            ],
            [
             0.5555555555555556,
             "#d8576b"
            ],
            [
             0.6666666666666666,
             "#ed7953"
            ],
            [
             0.7777777777777778,
             "#fb9f3a"
            ],
            [
             0.8888888888888888,
             "#fdca26"
            ],
            [
             1,
             "#f0f921"
            ]
           ],
           "sequentialminus": [
            [
             0,
             "#0d0887"
            ],
            [
             0.1111111111111111,
             "#46039f"
            ],
            [
             0.2222222222222222,
             "#7201a8"
            ],
            [
             0.3333333333333333,
             "#9c179e"
            ],
            [
             0.4444444444444444,
             "#bd3786"
            ],
            [
             0.5555555555555556,
             "#d8576b"
            ],
            [
             0.6666666666666666,
             "#ed7953"
            ],
            [
             0.7777777777777778,
             "#fb9f3a"
            ],
            [
             0.8888888888888888,
             "#fdca26"
            ],
            [
             1,
             "#f0f921"
            ]
           ]
          },
          "colorway": [
           "#636efa",
           "#EF553B",
           "#00cc96",
           "#ab63fa",
           "#FFA15A",
           "#19d3f3",
           "#FF6692",
           "#B6E880",
           "#FF97FF",
           "#FECB52"
          ],
          "font": {
           "color": "#2a3f5f"
          },
          "geo": {
           "bgcolor": "white",
           "lakecolor": "white",
           "landcolor": "#E5ECF6",
           "showlakes": true,
           "showland": true,
           "subunitcolor": "white"
          },
          "hoverlabel": {
           "align": "left"
          },
          "hovermode": "closest",
          "mapbox": {
           "style": "light"
          },
          "paper_bgcolor": "white",
          "plot_bgcolor": "#E5ECF6",
          "polar": {
           "angularaxis": {
            "gridcolor": "white",
            "linecolor": "white",
            "ticks": ""
           },
           "bgcolor": "#E5ECF6",
           "radialaxis": {
            "gridcolor": "white",
            "linecolor": "white",
            "ticks": ""
           }
          },
          "scene": {
           "xaxis": {
            "backgroundcolor": "#E5ECF6",
            "gridcolor": "white",
            "gridwidth": 2,
            "linecolor": "white",
            "showbackground": true,
            "ticks": "",
            "zerolinecolor": "white"
           },
           "yaxis": {
            "backgroundcolor": "#E5ECF6",
            "gridcolor": "white",
            "gridwidth": 2,
            "linecolor": "white",
            "showbackground": true,
            "ticks": "",
            "zerolinecolor": "white"
           },
           "zaxis": {
            "backgroundcolor": "#E5ECF6",
            "gridcolor": "white",
            "gridwidth": 2,
            "linecolor": "white",
            "showbackground": true,
            "ticks": "",
            "zerolinecolor": "white"
           }
          },
          "shapedefaults": {
           "line": {
            "color": "#2a3f5f"
           }
          },
          "ternary": {
           "aaxis": {
            "gridcolor": "white",
            "linecolor": "white",
            "ticks": ""
           },
           "baxis": {
            "gridcolor": "white",
            "linecolor": "white",
            "ticks": ""
           },
           "bgcolor": "#E5ECF6",
           "caxis": {
            "gridcolor": "white",
            "linecolor": "white",
            "ticks": ""
           }
          },
          "title": {
           "x": 0.05
          },
          "xaxis": {
           "automargin": true,
           "gridcolor": "white",
           "linecolor": "white",
           "ticks": "",
           "title": {
            "standoff": 15
           },
           "zerolinecolor": "white",
           "zerolinewidth": 2
          },
          "yaxis": {
           "automargin": true,
           "gridcolor": "white",
           "linecolor": "white",
           "ticks": "",
           "title": {
            "standoff": 15
           },
           "zerolinecolor": "white",
           "zerolinewidth": 2
          }
         }
        },
        "xaxis": {
         "anchor": "y",
         "domain": [
          0,
          1
         ],
         "title": {
          "text": "0"
         }
        },
        "yaxis": {
         "anchor": "x",
         "domain": [
          0,
          1
         ],
         "title": {
          "text": "1"
         }
        }
       }
      }
     },
     "metadata": {},
     "output_type": "display_data"
    }
   ],
   "source": [
    "fig = px.scatter(df, x=0, y=1, hover_data=df.columns, color=\"sentiment\")\n",
    "fig.show()"
   ]
  },
  {
   "cell_type": "markdown",
   "metadata": {},
   "source": [
    "# Sentence embeddings - BERT"
   ]
  },
  {
   "cell_type": "code",
   "execution_count": 20,
   "metadata": {},
   "outputs": [],
   "source": [
    "from flair.embeddings import WordEmbeddings, TransformerDocumentEmbeddings, StackedEmbeddings\n",
    "from flair.data import Sentence\n",
    "\n",
    "stacked_embeddings = StackedEmbeddings([\n",
    "    WordEmbeddings('pl'),\n",
    "    TransformerDocumentEmbeddings('bert-base-multilingual-cased')\n",
    "])"
   ]
  },
  {
   "cell_type": "code",
   "execution_count": 31,
   "metadata": {},
   "outputs": [],
   "source": [
    "embeddings = []\n",
    "for post in posts:\n",
    "    sentence = Sentence(post[\"text\"])\n",
    "\n",
    "    stacked_embeddings.embed(sentence)\n",
    "    embedding = sentence.get_embedding()\n",
    "    embeddings.append(embedding)\n",
    "\n",
    "embeddings = np.stack(embeddings)"
   ]
  },
  {
   "cell_type": "code",
   "execution_count": 33,
   "metadata": {},
   "outputs": [],
   "source": [
    "sentence_sentiment = []\n",
    "\n",
    "for post in posts:\n",
    "    labels = [label[2] for label in post[\"label\"]]\n",
    "    if \"Hate\" in labels:\n",
    "        sentence_sentiment.append(\"Hate\")\n",
    "    else:\n",
    "        sentence_sentiment.append(\"Neutral\")"
   ]
  },
  {
   "cell_type": "code",
   "execution_count": 34,
   "metadata": {},
   "outputs": [],
   "source": [
    "tsne = TSNE()\n",
    "clustered = tsne.fit_transform(embeddings)\n",
    "\n",
    "df = pd.DataFrame(clustered)\n",
    "df[\"label\"] = [post[\"text\"] for post in posts]\n",
    "df[\"sentiment\"] = sentence_sentiment"
   ]
  },
  {
   "cell_type": "code",
   "execution_count": 36,
   "metadata": {},
   "outputs": [
    {
     "data": {
      "application/vnd.plotly.v1+json": {
       "config": {
        "plotlyServerURL": "https://plot.ly"
       },
       "data": [
        {
         "customdata": [
          [
           "@anonymized_account dziwne bo czytam że ostro balował i ćpał",
           "Neutral"
          ],
          [
           "@anonymized_account To co powiedział imć Pan Zagłoba tak bardzo aktualne w naszych czasach i pasuje do jej podobnych jak ulał",
           "Neutral"
          ],
          [
           "\\\"Epoka kamienia łupanego nie skończyła się bynajmniej dlatego, że zabrakło kamieni\\\".",
           "Neutral"
          ],
          [
           "RT @anonymized_account @anonymized_account Kaczyński ciężko pracował na to przez 8 lat.",
           "Neutral"
          ],
          [
           "@anonymized_account 2 mln euro odszkodowania dostanie związek.",
           "Neutral"
          ],
          [
           "RT @anonymized_account Jak można nie kochać piosenek z lat 80",
           "Neutral"
          ],
          [
           "Psychopaci słuchają \\\"Lose Yourself\\\" Eminema. Tak właśnie myślałem 😎😛\\nhttps://t.co/gR9sIaJPZy",
           "Neutral"
          ],
          [
           "@anonymized_account Z muchą to ten w środku ;-)",
           "Neutral"
          ],
          [
           "@anonymized_account Uuuu daj znać później to wpadnę! Albo zapraszam do akademika! 😂",
           "Neutral"
          ],
          [
           "@anonymized_account @anonymized_account W 2008 roku zapewne, w Jadze w Ekstraklasie.",
           "Neutral"
          ],
          [
           "@anonymized_account czemu nie ma na polsat sport news meczu Liechtenstein - Gibraltar skoro jest we wszystkich programach ?...",
           "Neutral"
          ],
          [
           "@anonymized_account Jestem w rozsypce, jak tu być polakiem, jak iść do kościola z taka wysypką i kateram?",
           "Neutral"
          ],
          [
           "@anonymized_account To nie kwestia zmęczenia tylko tego, że francuscy mocni średniacy z dużym dystansem podchodzą do LE.",
           "Neutral"
          ],
          [
           "@anonymized_account @anonymized_account I po co te ubliżanie",
           "Neutral"
          ],
          [
           "RT @anonymized_account Dzisiaj o 18:00 strefa kibica w Radiu Akadera! Zapraszamy!",
           "Neutral"
          ],
          [
           "\\\"Opowiadania odeskie\\\" Izaaka Babla w interpretacji Roberta Gonery - WYŚMIENITE! Polecam bardzo.",
           "Neutral"
          ],
          [
           "@anonymized_account @anonymized_account Tak, tak to zazwyczaj wygląda, gdy jacyś mlodzi zawodnicy na co dzień z jedynką trenują. I to nie jest odkrycie.",
           "Neutral"
          ],
          [
           "@anonymized_account @anonymized_account wprowadzono system krs karany nie karany, jacy z was dyletanci",
           "Neutral"
          ],
          [
           "@anonymized_account @anonymized_account @anonymized_account A przy nieuznanych bramkach Wisły z Sandecją też gadaliście, że do puszczenia ?",
           "Neutral"
          ],
          [
           "RT @anonymized_account Akcja policji w budynkach Wisły Kraków ma związek z śledztwem dotyczącym kradzieży flag GKS Katowice. @anonymized_account @anonymized_account",
           "Neutral"
          ],
          [
           "@anonymized_account Tak jak Kliszko, ulica i zagranica",
           "Neutral"
          ],
          [
           "@anonymized_account @anonymized_account @anonymized_account To gdzie w takim razie urzęduje Macierewicz?",
           "Neutral"
          ],
          [
           "@anonymized_account Bo nie było ich słychać.",
           "Neutral"
          ],
          [
           "@anonymized_account Potęgą będą, jak im go nie zabraknie :)",
           "Neutral"
          ],
          [
           "RT @anonymized_account Diz pra mim 🎶",
           "Neutral"
          ],
          [
           "Jeśli chodzi o prezydent Hannę Zdanowską to dura lex sed lex. I tyle w tym temacie. Mimo osobistej sympatii do niej.",
           "Neutral"
          ],
          [
           "@anonymized_account Ale grasz z silnymi drużynami, a były czasy, gdy dostawalismy w łeb od średniaków.",
           "Neutral"
          ],
          [
           "@anonymized_account @anonymized_account Ale nie wiem czy zwróciliście uwagę, na płynną zmianę tematu 😂",
           "Neutral"
          ],
          [
           "RT @anonymized_account bez matemaksa ani tomasza gwiazdy nigdy bym matmy nie zdała\\n\\ngod bless my heros",
           "Neutral"
          ],
          [
           "#ostatni ;-)\\nSzybkościomierz samochodu Bormanna pokazywał 80 km/h. Obok szedł Stirlitz udając, że nigdzie się nie spieszy.",
           "Neutral"
          ],
          [
           "@anonymized_account Jakieś kwoty znane czy ściśle tajne?",
           "Neutral"
          ],
          [
           "Ktoś z trójki HJK Helsinki - Olimpija Lublana - Spartak Trnawa będzie w fazie grupowej Ligi Europy.",
           "Neutral"
          ],
          [
           "🇵🇱 #mercadoEPEM | Pol Llonch (24) [@anonymized_account es nuevo jugador del Wisla de Cracovia. Jugaba en el Girona de la 2ª división.",
           "Neutral"
          ],
          [
           "@anonymized_account @anonymized_account Jest 1mld muzułmanów , gdyby tak kamienowali chyba coś by mówili w tv",
           "Neutral"
          ],
          [
           "@anonymized_account @anonymized_account @anonymized_account Poza tym powinni być szczepieni",
           "Neutral"
          ],
          [
           "@anonymized_account ile oglądałeś spotkań Ferencvarosu ?",
           "Neutral"
          ],
          [
           "@anonymized_account @anonymized_account @anonymized_account Najważniejsze, że zebrała się egzekutywa. Jojo przypomina sobie czasy młodości.",
           "Neutral"
          ],
          [
           "@anonymized_account Masz fajne życie, brzmi jak z bajki, zazdroszczę",
           "Neutral"
          ],
          [
           "@anonymized_account Mucha, mówię Ci coś. \\nChoć ja tam widzę jedynie skarpetki w kotki.",
           "Neutral"
          ],
          [
           "Sprzedać za 50 mln Paulinho i kupić (podobno) za 30 mln Vidala - nie poznaję Barcelony.",
           "Neutral"
          ],
          [
           "@anonymized_account i tak poznam tą tajemnice :) pewnie te zawodniczki ktore chcesz i w jakiej rundzie ? :)",
           "Neutral"
          ],
          [
           "@anonymized_account Kurz nie rzuca się w oczy gdy jest wszędzie. #mzf",
           "Neutral"
          ],
          [
           "@anonymized_account @anonymized_account Stokowiec jest jedynym trenerem od 2012 roku, z którym Jagiellonia rozwiązała kontrakt.",
           "Neutral"
          ],
          [
           "@anonymized_account No teraz jest problem bo trzeba będzie dotrzymać obietnic wyborczych. Ale wlasciwie po co?😁😁",
           "Neutral"
          ],
          [
           "@anonymized_account @anonymized_account Dlatego to nie miało żadnego większego wpływu z żadnej ze stron.",
           "Neutral"
          ],
          [
           "No nic, nie da się za każdym razem wygrywać bez 4 podstawowych zawodników. Brak Ivana było widać najbardziej. Wyzdrowieć i gramy dalej.",
           "Neutral"
          ],
          [
           "@anonymized_account @anonymized_account W Polsacie cos wygrywali, siatkówka w TVP to na razie pod znakiem spapranych IO co cztery lata :)",
           "Neutral"
          ],
          [
           "@anonymized_account tak. A wieczorem pierwszy raz film. Moja siostra uznała, że jestem kosmitą.",
           "Neutral"
          ],
          [
           "@anonymized_account @anonymized_account Grał tak samo tam, jak tu.",
           "Neutral"
          ],
          [
           "@anonymized_account \\\"Niech chociaż sprawdzi\\\" teraz będzie miało większe zastosowanie ;)",
           "Neutral"
          ],
          [
           "Dubstep to kompletnie nie moja bajka, ale to jest bajeczne ❤️ \\n\\nhttps://t.co/UhYvRsjofv",
           "Neutral"
          ],
          [
           "Wiele kapitalnych zdjęć dziś się pojawiło. 👏 dla ekipy @anonymized_account @anonymized_account @anonymized_account Grzegorz Jakubowski, @anonymized_account",
           "Neutral"
          ],
          [
           "@anonymized_account o ile się nie myle to ta twarda ręka była jednym z powodów jego zwolnienia :)",
           "Neutral"
          ],
          [
           "@anonymized_account Ja jestem w Białym ;)",
           "Neutral"
          ],
          [
           "@anonymized_account @anonymized_account Kogut, Tarczyński co z ich immunitetami?",
           "Neutral"
          ],
          [
           "vans do chuja przestań robić choć na chwilę zajebiste kolekcje bo w moim portfelu pieniądzen't",
           "Neutral"
          ],
          [
           "PROFESOR JEST NA SPOTIFY UMARŁAM XDD",
           "Neutral"
          ],
          [
           "@anonymized_account @anonymized_account A Pani co taka rozgoryczona?😁😁😁",
           "Neutral"
          ],
          [
           "Zayn rodem z 2014 roku to mój ulubiony zayn",
           "Neutral"
          ],
          [
           "@anonymized_account @anonymized_account @anonymized_account Zapytalem,  szwagierka mówi że ma konto w powerbanku",
           "Neutral"
          ],
          [
           "@anonymized_account A kiedy zostanie usunięty Ziemkiewicz?",
           "Neutral"
          ],
          [
           "@anonymized_account Gang rowerowy wyrusza na święta wojnę?",
           "Neutral"
          ],
          [
           "Czekam juz tyle i czekam zaraz wyjeżdżam a prawka nadal nie mam",
           "Neutral"
          ],
          [
           "@anonymized_account Prędzej znajdą kasę na pozyskanie młodzieżowca, a nie szkolenie. Młodzieżowca, który będzie grał bez rywalizacji.",
           "Neutral"
          ],
          [
           "@anonymized_account polubił niedawno profil Wisły na fb.Wśród ulubionych ma też Legie :)",
           "Neutral"
          ],
          [
           "RT @anonymized_account @anonymized_account @anonymized_account Nie, błąd! To będzie polskie HEATHROW! I płacz oraz zgrzytanie zębów opozycji na nic się t…",
           "Neutral"
          ],
          [
           "@anonymized_account Tez tak zrobię i tak muszę iść do biura karier po papierki na praktyki, dzięki ✌🏻✌🏻",
           "Neutral"
          ],
          [
           "@anonymized_account @anonymized_account a co teraz Wolski nie grał ? A jaka była frekwencja ?",
           "Neutral"
          ],
          [
           "@anonymized_account burmistrz z platka kwiatka przypomina mi burmistrza Kluczborka",
           "Neutral"
          ],
          [
           "Kto chce zadecydować czy jakieś zdjęcie nadaje się do pokazania społeczeństwu?",
           "Neutral"
          ],
          [
           "Jest tu jakiś nindża wycieczek, który podpowie gdzie najlepiej szukać ofert #lastminute, może być na dzień przed 😎🌴Thanks from the mountain.",
           "Neutral"
          ],
          [
           "@anonymized_account @anonymized_account Krężel też w stylu Energi bo ponoć w ciąży jest :)",
           "Neutral"
          ],
          [
           "@anonymized_account @anonymized_account A Włosi wszystko łykają? Przestaliby się licytować, Wisła zaakceptowałaby 2 oferty i musieliby gadać z zawodnikiem.",
           "Neutral"
          ],
          [
           "@anonymized_account Ponawiam pytanie. Trenerzy podeszli do siebie i Brosz wystawił ręke a Carrillo celowo nie podał ręki ?",
           "Neutral"
          ],
          [
           "dlaczego w legacies są jakieś wampiry skoro nie ma pierwotnych??",
           "Neutral"
          ],
          [
           "@anonymized_account A w poprzednim meczu z Serbią to niby jak zagrał ?",
           "Neutral"
          ],
          [
           "Kwaśniewski odetchnął z ulgą, że nie ma konta na tt.",
           "Neutral"
          ],
          [
           "@anonymized_account @anonymized_account Nie poznajesz, to ordynarna, prostacka Beata",
           "Neutral"
          ],
          [
           "@anonymized_account Jasne, będzie na czym popijanemu rozwalac wózki golfowe.",
           "Neutral"
          ],
          [
           "@anonymized_account Bulshit, I will never do that",
           "Neutral"
          ],
          [
           "RT @anonymized_account @anonymized_account Pieprzona zakala sadownictwa ta Gersdorf jest i tojest fakt.",
           "Neutral"
          ],
          [
           "@anonymized_account Tak nawet teraz, w dodatku dwa odcinki!",
           "Neutral"
          ],
          [
           "@anonymized_account Gdzie 4 mld strat za Możejki, gdzie 5 mld SKOKI",
           "Neutral"
          ],
          [
           "@anonymized_account W sensie że nikt mu niepowiedział że niemka już ogłoszona ? :D",
           "Neutral"
          ],
          [
           "@anonymized_account A widzieliście się wczesniej? 😂",
           "Neutral"
          ],
          [
           "Jako, że w tym roku nie było żadnej zadymy na Marszu niepodległości, to #TVPinfo pokazuje teraz materiał z zadym z lat poprzednich #LOL",
           "Neutral"
          ],
          [
           "@anonymized_account A Ty nigdy nie robisz dwóch rzeczy jednocześnie? Np. idziesz i żujesz gumę.",
           "Neutral"
          ],
          [
           "@anonymized_account @anonymized_account Na pewno jakieś czerwone potworki😁😁😁😀",
           "Neutral"
          ],
          [
           "@anonymized_account Pieprzona zakala sadownictwa ta Gersdorf jest i tojest fakt.",
           "Neutral"
          ],
          [
           "@anonymized_account @anonymized_account @anonymized_account W stop klatkach widać ze jak by to było po stronie drugiej (legi) to karny by był",
           "Neutral"
          ],
          [
           "To tylko garstka kapitalnych zdjęć autorstwa ekipy @anonymized_account  💪Marek Dusza, @anonymized_account @anonymized_account G. Jakubowski. #2lataPAD",
           "Neutral"
          ],
          [
           "@anonymized_account Wiem, ale kierunek fantasy zawsze omijałam szerokim łukiem, teraz postanowiłam sprawdzić czy się przypadkiem nie mylę :-)",
           "Neutral"
          ],
          [
           "@anonymized_account @anonymized_account Macie prowokuj bo znowu będziesz płakał że ci prawdę powiem.",
           "Neutral"
          ],
          [
           "@anonymized_account Szczecin pokazał że nie jest Warszawą. I nie wybiera miernot",
           "Neutral"
          ],
          [
           "@anonymized_account Nie wie,bo sama jest w czarnej dupie😁😁😁😁",
           "Neutral"
          ],
          [
           "@anonymized_account @anonymized_account Nie zdziwię się, jeśli Transfermarkt nie ogarnął zmiany na Mendesa :D",
           "Neutral"
          ],
          [
           "@anonymized_account jesteśmy obecnie pośmiewiskiem sportowo, organizacyjnie i kibicowsko... Ale mam nadzieje że jeszcze kiedyś wróci normalność:)",
           "Neutral"
          ],
          [
           "@anonymized_account Na wszystko masz odpowiedź, żyłeś w tych czasach?",
           "Neutral"
          ],
          [
           "@anonymized_account @anonymized_account Zostaliście dziś zmiażdżeni 😂😂😂\\nPiS wyrwał wam aortę na żywca.",
           "Neutral"
          ],
          [
           "@anonymized_account Dlaczego nikt nie mówi o „Witches of East End”? Kocham mocniutko",
           "Neutral"
          ],
          [
           "@anonymized_account skoro krytykujecie frekwencje to spójrzcie na inne kluby i zwróćcie też uwage w jakie dni grają a potem się czepiajcie",
           "Neutral"
          ],
          [
           "@anonymized_account @anonymized_account kto odmówił treningu i gry ? Myślałem że Prijović na urlopie",
           "Neutral"
          ],
          [
           "@anonymized_account @anonymized_account Zdaję sobie tego sprawę ;)",
           "Neutral"
          ],
          [
           "@anonymized_account To ja lepiej, na kacu takim ze nie wiem co to za wybory, w tym momencie nie ma kompromisów",
           "Neutral"
          ],
          [
           "@anonymized_account  a Alan Uryga dalej czeka na debiutancką bramke :)",
           "Neutral"
          ],
          [
           "Moja miłość do Ciebie wciąż płonie jak Missisipi w ogniu 🔥🔥🔥",
           "Neutral"
          ],
          [
           "Jutro po marszu, ale jeszcze kilka dni beda chodzić naćpani",
           "Neutral"
          ],
          [
           "ja: *bierze rutinoscorbin*\\nja: odporność na pełnej kurwie",
           "Neutral"
          ],
          [
           "@anonymized_account Tak tak jeszcze ktoś w to uwierzy",
           "Neutral"
          ],
          [
           "@anonymized_account @anonymized_account Pojebało cię, normalna rodzina katolicka, pytam",
           "Neutral"
          ],
          [
           "Myślałam, że znowu porwano statek na którym jest M... tego już było by za dużo",
           "Neutral"
          ],
          [
           "Dużo tego jeszcze było ale nie chce mi się pisać i tak nikogo to nie interesuje",
           "Neutral"
          ],
          [
           "@anonymized_account @anonymized_account  a co ma procent zapelnienia pojemnosci do frekwencji ? Po za tym co to jest 50% na takim malym stadionie ?",
           "Neutral"
          ],
          [
           "@anonymized_account Które dno osiągnął Pan tym razem? Bo IQ rozwielitka ma wyższe.",
           "Neutral"
          ],
          [
           "@anonymized_account @anonymized_account Widzisz tylko tyle miał do powiedzenia, że to fotomontaż. Na ten temat weszło będzie milczeć, bo to hipokryci.",
           "Neutral"
          ],
          [
           "@anonymized_account @anonymized_account @anonymized_account @anonymized_account Nie włączaj telewizji. Żadnej. Już nic ci nie pomoże.",
           "Neutral"
          ],
          [
           "Jest decyzja sądu ws. Stanisława Gawłowskiego. Polityk PO idzie do więzienia\\n@anonymized_account #wieszwiecej\\nhttps://t.co/evVvuT3qZO",
           "Neutral"
          ],
          [
           "To, że w Łodzi wygra Hanka było do przewidzenia, chociaż wynik 71% jest zaskoczeniem i to dużym,ale że Warszawa wybierze Trzaskowskiego!!",
           "Neutral"
          ],
          [
           "@anonymized_account @anonymized_account Jak marsz i tak bedzie. Postapila bardzo roztropnie",
           "Neutral"
          ],
          [
           "@anonymized_account a jak udowodnił że Wisła złamała prawo bo dalej nie otrzymałem odpowiedzi",
           "Neutral"
          ],
          [
           "@anonymized_account @anonymized_account @anonymized_account Delegatów i obserwatorów też już podali?",
           "Neutral"
          ],
          [
           "@anonymized_account no i po co było się wkurwiać :)",
           "Neutral"
          ],
          [
           "@anonymized_account @anonymized_account Powinni jeszcze zaprosić Gmyza i odlot będzie pełny.",
           "Neutral"
          ],
          [
           "@anonymized_account A chyba nikt nie przedstawił statystyk Lewandowskiego, ani nawet nie przeanalizował występu :)",
           "Neutral"
          ],
          [
           "@anonymized_account Rób! Zwiedzamy razem z Tobą, dzięki za relacje 😉",
           "Neutral"
          ],
          [
           "@anonymized_account dziś ciężko. Pół Warszawy postanowiło się umyć w tym samym czasie.",
           "Neutral"
          ],
          [
           "Mecz #CLJ Legia - Jagiellonia przełożony na piątek, na godzinę 13:00, ale transmisja w @anonymized_account i tak raczej się odbędzie.",
           "Neutral"
          ],
          [
           "@anonymized_account Najwyżej będziemy spać pod akademikiem 😂😂😂💁",
           "Neutral"
          ],
          [
           "@anonymized_account @anonymized_account W Białostockim ciemnogrodzie to standard",
           "Neutral"
          ],
          [
           "@anonymized_account A mógł się uchylić 😀",
           "Neutral"
          ],
          [
           "@anonymized_account Wczoraj zrobiłem pastę z cebuli, pietruszki, pomidorów suszonych i cukini (z patelni), dorzucilem dwa zabki czosnku. Dobra była",
           "Neutral"
          ],
          [
           "@anonymized_account @anonymized_account @anonymized_account @anonymized_account @anonymized_account Meczówka rep. Polski - 550. Taki rynek.",
           "Neutral"
          ],
          [
           "RT @anonymized_account Jarosław Kaczyński nie spotyka się z protestującymi, bo nie zmieści się cała jego ochrona w Sejmie #Niewykluczone",
           "Neutral"
          ],
          [
           "@anonymized_account @anonymized_account Oj tam, ale chyba po raz pierwszy odpadną przed nami 😂",
           "Neutral"
          ],
          [
           "RT @anonymized_account jeśli nie mogę wyglądać tak jak\\n•perrie edwards\\n•troian bellisario\\nto what’s the point of existing?",
           "Neutral"
          ],
          [
           "@anonymized_account @anonymized_account @anonymized_account Możesz jaśniej? Bo oba elementy Twojej odpowiedzi nie mają się nijak do tego co napisałem.",
           "Neutral"
          ],
          [
           "@anonymized_account @anonymized_account Lecz się kobieto na nogi bo na głowę już zbyt późno",
           "Neutral"
          ],
          [
           "@anonymized_account @anonymized_account @anonymized_account Bo kogo interesuje klub który ma garstke kibiców",
           "Neutral"
          ],
          [
           "@anonymized_account Myślę, że jest różnica pomiędzy Twitterem a telewizją publiczną. Poza tym - \\\"porzygu\\",
           "Neutral"
          ],
          [
           "@anonymized_account I powtarzajmy to codziennie jak mantrę",
           "Neutral"
          ],
          [
           "@anonymized_account Jak się pije jak Ruskie to ciężko rozpoznać ;-)",
           "Neutral"
          ],
          [
           "@anonymized_account 6 bramek w 15 meczach w Bośni. No jest w takim gazie, że strach się bać.",
           "Neutral"
          ],
          [
           "@anonymized_account A ManUtd czasami wczoraj nie odpadł ?:)",
           "Neutral"
          ],
          [
           "@anonymized_account Ale Wolski to jak lodówke otworzy to jest kontuzjowany.",
           "Neutral"
          ],
          [
           "@anonymized_account Jasne, jeśli Cię nie zanudziłam, dobranoc xx",
           "Neutral"
          ],
          [
           "@anonymized_account @anonymized_account @anonymized_account Z twoich ust to komplement, proszę o więcej",
           "Neutral"
          ],
          [
           "@anonymized_account A w Łodzi Panie Łukaszu na razie Hania,przez niektórych zwana szachrajka😁😁",
           "Neutral"
          ],
          [
           "@anonymized_account A tu akurat jest prosta odpowiedź - bo go nie \\\"wzywają\\\" .",
           "Neutral"
          ],
          [
           "@anonymized_account @anonymized_account @anonymized_account Ty się chyba debilu nie słyszysz, ty tekstów to się po nocach uczysz czy masz słuchawkę w uchu?",
           "Neutral"
          ],
          [
           "@anonymized_account @anonymized_account A azbest stoi na szczycie ewolucji, debile",
           "Neutral"
          ],
          [
           "@anonymized_account @anonymized_account Brawo dla pani prezes z ludziami którzy źle życzą Wiśle niema rozmów.",
           "Neutral"
          ],
          [
           "@anonymized_account @anonymized_account Opętać to nie ale jakby był sygnał albo jakby ktoś odebrał to XDDD",
           "Neutral"
          ],
          [
           "@anonymized_account Przyjechałeś pajacu wyprowadzić kolejne miliony za granicę?",
           "Neutral"
          ],
          [
           "Madera w rezerwach ! Nagłośnijcie sprawę bo to przecież niezgodne z przepisami ! @anonymized_account @anonymized_account @anonymized_account @anonymized_account",
           "Neutral"
          ],
          [
           "@anonymized_account @anonymized_account @anonymized_account @anonymized_account @anonymized_account Nie o Was, spokojnie :)",
           "Neutral"
          ],
          [
           "@anonymized_account @anonymized_account @anonymized_account Widziałeś Ty firmę, która by celowo jechała sama siebie w mediach i internecie? 😂",
           "Neutral"
          ],
          [
           "@anonymized_account @anonymized_account Nie kimkolwiek. Nie świętuję z krzywoprzysięzcą i zakłamanym oszustem takim tak ty.",
           "Neutral"
          ],
          [
           "@anonymized_account Koń który mówi w kropce nad i 😂😂😂",
           "Neutral"
          ],
          [
           "@anonymized_account @anonymized_account @anonymized_account @anonymized_account Piotrek pytał, czy się Ivan do tego tematu odnosił.",
           "Neutral"
          ],
          [
           "@anonymized_account serio chciałoby Ci sie 3 mecze oglądać na raz ? W dodatku jak jest mecz Wisły ? @anonymized_account",
           "Neutral"
          ],
          [
           "Zdrajca i faszysta Tusk szuka między nami Polakami bolszewików.Jebana menda.",
           "Neutral"
          ],
          [
           "@anonymized_account A nastepni będą tacy jak Terlikowski spędzający czas w kolejce do psychiatry.",
           "Neutral"
          ],
          [
           "Jadę dzisiaj do #mojchlopak zamiast na uczelnie 😍😍",
           "Neutral"
          ],
          [
           "Co tu robić, zasmrodziła cały tt",
           "Neutral"
          ],
          [
           "@anonymized_account @anonymized_account @anonymized_account @anonymized_account Nieeee, Gryszkiewicz nie grał, to akurat nie o nim.",
           "Neutral"
          ],
          [
           "@anonymized_account Już dwa lata temu powinni wygrac Euro.",
           "Neutral"
          ],
          [
           "@anonymized_account Ja podam swojego na dm oki?",
           "Neutral"
          ],
          [
           "@anonymized_account @anonymized_account a jak tam siatkówka ?:)",
           "Neutral"
          ],
          [
           "@anonymized_account @anonymized_account a trenerem został Szymon Pawłowski :)",
           "Neutral"
          ],
          [
           "@anonymized_account screen zrobiony.Po sezonie go przypomne.",
           "Neutral"
          ],
          [
           "Powiedzmy, że amunicję oszczędzamy na Rio Ave... \\u0026lt;śmiech przez łzy\\u0026gt;",
           "Neutral"
          ],
          [
           "@anonymized_account Napisałem że się zastanowię. Noe pali się",
           "Neutral"
          ],
          [
           "Rycze dzisiaj od rana i aż mnie samą to wkurwia",
           "Neutral"
          ],
          [
           "@anonymized_account Wyniki też mogą mieć wesołe :)",
           "Neutral"
          ],
          [
           "@anonymized_account Z archiwum polskiego plakatu politycznego - jest napisane w każdym poście",
           "Neutral"
          ],
          [
           "RT @anonymized_account .@anonymized_account @anonymized_account @anonymized_account @anonymized_account prof. Z. #Krysiak - 21:50 #BezRetuszu @anonymized_account zapraszamy!",
           "Neutral"
          ],
          [
           "@anonymized_account W sensie mam strasznie ochotę bo jakoś mnie tak wzięło 😂😂",
           "Neutral"
          ],
          [
           "@anonymized_account Główny powód to brak kasy, trzeba dać bogatym 500+,300+ i być bez godności i honoru",
           "Neutral"
          ],
          [
           "@anonymized_account Wina Balanyuka. Nic nie pokazał w tym meczu.",
           "Neutral"
          ],
          [
           "tylko sezonówki nie piją herbaty w lato",
           "Neutral"
          ],
          [
           "RT @anonymized_account Morawiecki senior robi w trąbę zmarłych, syn żywych. Taki podział ról.",
           "Neutral"
          ],
          [
           "@anonymized_account @anonymized_account Aha, a ktoś cię zapraszał do rozmowy?",
           "Neutral"
          ],
          [
           "@anonymized_account @anonymized_account A niby z jakiego powodu? Żeby mogła sprawować swój urząd? Chyba żart!",
           "Neutral"
          ],
          [
           "@anonymized_account To powiedziałam ja @anonymized_account mgr prawa",
           "Neutral"
          ],
          [
           "Remeber when pisałam jakaś ofertę na stronę uczelni i profesor sprawdzający wykreślił w mojej pracy wszystkie feminatywy 😳",
           "Neutral"
          ],
          [
           "@anonymized_account @anonymized_account @anonymized_account Zapytalem,  szwagierka mówi że ma konto w powerbanku",
           "Neutral"
          ],
          [
           "@anonymized_account No to kochana zapraszam, tylko mnie teraz nie ma XD",
           "Neutral"
          ],
          [
           "@anonymized_account W Puławach mają pewnie inne zdanie na ten temat.",
           "Neutral"
          ],
          [
           "@anonymized_account intymna relację z rydzykiem puścimy płazem",
           "Neutral"
          ],
          [
           "@anonymized_account co to dla Ciebie :) dałabyś rade nawet ze złamaną nogą 💪",
           "Neutral"
          ],
          [
           "@anonymized_account @anonymized_account Zawsze ma dobry humor, czemu nie doceniasz",
           "Neutral"
          ],
          [
           "@anonymized_account Sorry Pogoń, trzech Waszych w moim @anonymized_account zostało.",
           "Neutral"
          ],
          [
           "Nienawidzę jak mnie ludzie ignorują",
           "Neutral"
          ],
          [
           "@anonymized_account A nie wiem jaka była",
           "Neutral"
          ],
          [
           "@anonymized_account Gang rowerowy wyrusza na święta wojnę?",
           "Neutral"
          ],
          [
           "#CLJu17 📺 Dzisiejszy finał można obejrzeć pod tym linkiem! Naprzód Jaga!\\nhttps://t.co/eb3izzbVdz",
           "Neutral"
          ],
          [
           "Podobno mają wprowadzić maseczki antysmogowe ze specjalnym otworkiem na papierosa.",
           "Neutral"
          ],
          [
           "@anonymized_account 😂😂😂😂😂😂😂😂😂😂😂😂😂🤣🤣🤣🤣🤣🤣🤣🤣🤣🤣🤣🤣🤣😂😂😂😂😂😂😂🤣🤣🤣🤣🤣🤣🤣🤣🤣🤣🤣🤣🤣🤣🤣😂😂😂😂😂😂😂😂😂😂😂😂😂😂😂😂\\n\\nSłów odpowiednich żaden słownik nie zawiera",
           "Neutral"
          ],
          [
           "@anonymized_account @anonymized_account Ja oglądam seriale, ake nie powiem",
           "Neutral"
          ],
          [
           "@anonymized_account @anonymized_account A właśnie, że jest! 😂",
           "Neutral"
          ],
          [
           "@anonymized_account @anonymized_account No pewnie. Niepełnosprawnych zamkneliscie w sejmie to się zrobiło bezpiecznie na ulicach. Taka prawda kłamco.",
           "Neutral"
          ],
          [
           "@anonymized_account Jesteś ostatnią osobą, która w ten sposób może się czepiać wpisu na Twitterze.",
           "Neutral"
          ],
          [
           "@anonymized_account A Ty nigdy nie robisz dwóch rzeczy jednocześnie? Np. idziesz i żujesz gumę.",
           "Neutral"
          ],
          [
           "@anonymized_account Nadalbys się do Romy 😜",
           "Neutral"
          ],
          [
           "RT @anonymized_account @anonymized_account jest to dobra informacja dla tych co okradali  Polskę od 89  roku  Irlandia da im wolność",
           "Neutral"
          ],
          [
           "@anonymized_account Z wypadku zrobiono morderstwo, z morderstwa zrobiono mit a z mitu politykę",
           "Neutral"
          ],
          [
           "@anonymized_account i legionista nie trafia w bramke :)",
           "Neutral"
          ],
          [
           "@anonymized_account O 20:15 zaczynacie transmisję meczu, który zaczyna się 19:40?",
           "Neutral"
          ],
          [
           "@anonymized_account ciekawe czy jeszcze dużo ludzi się złapie na nieudolnego dziennikarza który publikuje zmyślone listy",
           "Neutral"
          ],
          [
           "Ma już swastykę na ryju?",
           "Neutral"
          ],
          [
           "@anonymized_account  a gdzie napisałem że zrozumiałem że kiedyś tam zostanie zwolniony ?",
           "Neutral"
          ],
          [
           "@anonymized_account @anonymized_account : za to elity PO zawsze były pełne empatii, współczucia i inteligencji emocjonalnej. Koń by się uśmiał.",
           "Neutral"
          ],
          [
           "@anonymized_account @anonymized_account Widzę, że niektórym puszczają zwieracze,ale jakaś kultura obowiązuje. A hanys to brzmi dumnie😁😁😁",
           "Neutral"
          ],
          [
           "RT @anonymized_account Przypominam.  Kto taśmami wojuje...",
           "Neutral"
          ],
          [
           "#dividetourwarsaw i need to know CO Z AKCJA KTÓRA WŁAŚNIE POWINNA IŚĆ NAM ZAJEBISCIE",
           "Neutral"
          ],
          [
           "@anonymized_account @anonymized_account @anonymized_account Z utęsknieniem czekam na zeznania. Wreszcie będzie jasne ile PC zgarnął kasy na swoje konta.",
           "Neutral"
          ],
          [
           "@anonymized_account Gdybyś nie brnął w jakieś głupie komentarze to nie byłoby takiego linczu.Czasami trzeba się od razu przyznać do błędu.",
           "Neutral"
          ],
          [
           "RT @anonymized_account @anonymized_account @anonymized_account dopiero po porodzie kobiety maja mgliste pojęcie o bólu mężczyzn z katarem.",
           "Neutral"
          ],
          [
           "@anonymized_account @anonymized_account @anonymized_account a po jutrzejszym zwycięstwie nad Artego obowiązkowo derby prosze oglądać :)",
           "Neutral"
          ],
          [
           "@anonymized_account To proszę pokazać mi tą edukację jaką Pani dotychczas przeprowadziła.",
           "Neutral"
          ],
          [
           "@anonymized_account Jeśli chodzi o reprezentację siatki i nożnej to uważam że siatkarze mają przewagę popularności, piłkarze nadrabiaja klubami",
           "Neutral"
          ],
          [
           "RT @anonymized_account Zawsze jak ide do przymiezalni do h\\u0026amp;m to przeżywam szok, ze naprawde wyglądam tak, jak widać to w tym lustrze od tylu…",
           "Neutral"
          ],
          [
           "@anonymized_account Krystynę mi on przypomina ale trzeba mieć niepokoleji w głowie by się robić na Krystynę",
           "Neutral"
          ],
          [
           "@anonymized_account Patrzę przechodziłeś przez to samo, , pani ze sklepu pan ma jakąś nienaturalną budową",
           "Neutral"
          ],
          [
           "@anonymized_account Siły wolnościowe to też Pan? A to nie Pan kiedyś chciał pałować protestujących?",
           "Neutral"
          ],
          [
           "@anonymized_account No nie bądźmy tacy małostkowi😁😀😀😀",
           "Neutral"
          ],
          [
           "RT @anonymized_account @anonymized_account @anonymized_account Was, gnidy powinno się zaorać na metr w głąb i grubo posypać niegaszonym wapnem. A dla pewności zbombardo…",
           "Neutral"
          ],
          [
           "@anonymized_account fajnie macie na wydziale ;')",
           "Neutral"
          ],
          [
           "@anonymized_account no ja właśnie to samoXD znaczy wiem ze Emre wbija często, bo jego żona jest polką ale no",
           "Neutral"
          ],
          [
           "@anonymized_account Wszyscy jacyś tacy jeszcze niewykluci 😉",
           "Neutral"
          ],
          [
           "@anonymized_account I bardzo dobrze Złodzieje powinni siedzieć",
           "Neutral"
          ],
          [
           "RT @anonymized_account Młody @anonymized_account dzisiaj się żeni. Najlepszego dla Młodej Pary👍🏻👍🏻🥂🥂",
           "Neutral"
          ],
          [
           "@anonymized_account Ale im zajebiesz cwieka, tym przyciewnikom",
           "Neutral"
          ],
          [
           "Widać teraz, ile nas ta Portugalia kosztowała. Walczymy!!!",
           "Neutral"
          ],
          [
           "Bild po wczorajszej demolce przy Ł3: \\\"Po co w LM takie ogórki? III-ligowy Trier sprawił BVB w P. Niemiec więcej problemów niż Legia w LM\\\"",
           "Neutral"
          ],
          [
           "Ciekawostka. Jeśli na początku tweeta, przed czyimś nickiem, wstawicie M. to treść, zamiast na tajmlajn, wskoczy do skrzynki prywatnej.",
           "Neutral"
          ],
          [
           "@anonymized_account teraz się dowiedziałam i szanuję bo dzwonił pod nie wszystkie",
           "Neutral"
          ],
          [
           "@anonymized_account O tak! Dzięki! Bo widziałam jakiś filmik na instagramie i miałam małą rozkminę przez chwile co to za film",
           "Neutral"
          ],
          [
           "Pani @anonymized_account Wielki Szacunek dla Pani",
           "Neutral"
          ],
          [
           "@anonymized_account Ty drzemałeś jak się uczyłeś przepisów gry w piłkę nożną.",
           "Neutral"
          ],
          [
           "@anonymized_account No przecież, a osoby lgbt w ogóle nie korzystają z komunikacji miejskiej no nie, wiec oni nie są już pasażerami :) parodia",
           "Neutral"
          ],
          [
           "@anonymized_account żebyście wy wytykali liczby wyjazdowe to śmiech na sali",
           "Neutral"
          ],
          [
           "Pazdan chyba zapomnial, że są kamery na stadionie. Klasy się nie kupi.",
           "Neutral"
          ],
          [
           "@anonymized_account Obejrzyj mecz chociaz raz :)",
           "Neutral"
          ],
          [
           "@anonymized_account z całym szacunkiem ale jaki bandytyzm ? Normalna boiskowa walka a że przy okazji coś się stało to pech",
           "Neutral"
          ],
          [
           "@anonymized_account Najgorzej jak polityk mieniący się konserwatystą nie odróżnia konserwatysty od konserwy.",
           "Neutral"
          ],
          [
           "@anonymized_account @anonymized_account Uważaj bo w następnym materiale jadczaka możesz być jako Tomasz C.",
           "Neutral"
          ],
          [
           "czekajcie ale jak to nie ma ciężarówek coca coli w Bydgoszczy co",
           "Neutral"
          ],
          [
           "@anonymized_account Bo dla doraźnych celów politycznych gotowi są poświęcić nawet niepełnosprawne dzieci.",
           "Neutral"
          ],
          [
           "@anonymized_account z nogą wszystko ok ?:)",
           "Neutral"
          ],
          [
           "@anonymized_account @anonymized_account Widać że masz marną wiedzę na ten temat. Zapytaj sąsiadów kto to jest np. Chrystus Narodów.",
           "Neutral"
          ],
          [
           "@anonymized_account Moje już wyglądają. Mam Huawei P20 Pro, którego kamerę podrabiacie.",
           "Neutral"
          ],
          [
           "@anonymized_account Nie nazwałbym tego dziennikarstwem 😂",
           "Neutral"
          ],
          [
           "@anonymized_account Też je mam. Doskonała lektura tylko nie da się czytać na leżąco 😔",
           "Neutral"
          ],
          [
           "Czytam to co pisze  TomaszSiemoniak i oczom nie wierzę. Mam tylko jedno określenie debil. Skończony debil.",
           "Neutral"
          ],
          [
           "spierdolenie se czasem z wykładu jest ważnym elementem dbania o zdrowie psychiczne pamiętajcie",
           "Neutral"
          ],
          [
           "@anonymized_account a ktoś mówił że będzie łatwo ? Inne zespoły też będą miały ciężkie mecze.Do ostatniej kolejki będzie walka 💪",
           "Neutral"
          ],
          [
           "@anonymized_account Wislak Pawełek wam pomógł ;-)",
           "Neutral"
          ],
          [
           "Mam wrażenie że mojemu tacie sprawia radość to że mnie denerwuje like dude mam po Tobie charakter więc Przestań. To. Robić. :')",
           "Neutral"
          ],
          [
           "Wszystko przez Żydów co nie @anonymized_account @anonymized_account",
           "Neutral"
          ],
          [
           "@anonymized_account Jak Pigiel, Falonik i sędzia? :D",
           "Neutral"
          ],
          [
           "@anonymized_account no to jak to jest że się nie da grać w kosza a się wygrywa z mistrzyniami Europy ?",
           "Neutral"
          ],
          [
           "@anonymized_account @anonymized_account @anonymized_account @anonymized_account @anonymized_account @anonymized_account @anonymized_account Oj tam, dyskusja zwykła 😉",
           "Neutral"
          ],
          [
           "RT @anonymized_account @anonymized_account Lisienko co ty masz za wzorce patriotów. To jawny zdrajca Polski odpowie za to.",
           "Neutral"
          ],
          [
           "@anonymized_account Jak na wlasciciela, mi nigdy sam nie padł, pedancie",
           "Neutral"
          ],
          [
           "@anonymized_account Wszystko zostaje, tylko czeka na nową półkę 😄",
           "Neutral"
          ],
          [
           "@anonymized_account Wiem łatwo się mówi jął nie moje PLN-y w grze :)",
           "Neutral"
          ],
          [
           "@anonymized_account I co, szuka swojej pamięci?",
           "Neutral"
          ],
          [
           "@anonymized_account @anonymized_account Postaram się pamiętać i dam znać, jak było 😊",
           "Neutral"
          ],
          [
           "Najgorsze jest to czekanie bo nie po to robiłam prawko żeby czekać tyle na dokument no ja nie mogę, ja się muszę przemieszczać",
           "Neutral"
          ],
          [
           "@anonymized_account zrób sobie prezent na Gwiazdkę.",
           "Neutral"
          ],
          [
           "#Wypozyczeni Bruk-Bet Termalica - Bytovia:\\nDawid Szymonowicz w \\\"11\\",
           "Neutral"
          ],
          [
           "@anonymized_account @anonymized_account Fachowiec od 7 boleści :)",
           "Neutral"
          ],
          [
           "@anonymized_account Powiem Ci po twojemu: ty stary pojebańcu, profesorowi Strzemboszowi nawet butów nie jesteś godzien czyścić.",
           "Neutral"
          ],
          [
           "@anonymized_account Jakby było tylko srednio, to by niekoniecznie kontrakt przedluzali",
           "Neutral"
          ],
          [
           "No ale muszę iść do sklepu bo zdechnę z głodu",
           "Neutral"
          ],
          [
           "@anonymized_account Pawłowicz, gdyby to była prawda, to by cię już dawno nie było głupia cipo.",
           "Neutral"
          ],
          [
           "@anonymized_account @anonymized_account @anonymized_account Kurwa w jebany dzień parlamentaryzmu wszędzie barierki i psiarnia, no kurwa pięknie się to wspasowuje",
           "Neutral"
          ],
          [
           "Patrzysz na @anonymized_account @anonymized_account @anonymized_account i wiesz że idzie wojna",
           "Neutral"
          ],
          [
           "RT @anonymized_account @anonymized_account Akurat wy tam w Nowoczesnej umiecie średnią wyliczyć ha ha ha",
           "Neutral"
          ],
          [
           "@anonymized_account Tomek niesluchaj radia jak juz tak Cię denerwuje zwykła reklama 😉 niejestem lekarzem ale podejrzewam chorobę zawodową🎤 🍻",
           "Neutral"
          ],
          [
           "@anonymized_account Czasami prawda, dla kogoś kto się z nią nie chce pogodzić, uznawana jest za agresję.",
           "Neutral"
          ],
          [
           "Czy tylko mój ksiądz z LO nie miał nic do homoseksualistów i nawet mówił ze ma pare dobrych przyjaciół wśród nich",
           "Neutral"
          ],
          [
           "@anonymized_account Nie wiem, ale w tej akcji zagrał mega.",
           "Neutral"
          ],
          [
           "RT @anonymized_account @anonymized_account @anonymized_account Najlepiej się nie odzywajcie, żeby być na dnie trzeba coś znaczyć a Wy ! Pukacie od spodu. Masakra,…",
           "Neutral"
          ],
          [
           "@anonymized_account Pogba nie był na pozycji spalonej.",
           "Neutral"
          ],
          [
           "@anonymized_account Lis biedny kręci się wokół własnego ogona i ciągle próbuję marudzić A to już mu nie wychodzi",
           "Neutral"
          ],
          [
           "@anonymized_account @anonymized_account @anonymized_account A co za ludźmi bez studiów gnoju?",
           "Neutral"
          ],
          [
           "@anonymized_account @anonymized_account A za pięć lat @anonymized_account ogarnie, że powinien jednak zmienić lekarza.",
           "Neutral"
          ],
          [
           "@anonymized_account skoro zarząd pozwala na takie cyrki to niestety potrwa to lata",
           "Neutral"
          ],
          [
           "@anonymized_account @anonymized_account @anonymized_account A taki był porządny program. A teraz dno totalne.",
           "Neutral"
          ],
          [
           "Samochody ciągnące za sobą billboardy pojadą pod siedzibę niemieckiej stacji telewizyjnej @anonymized_account \\n#GermanDeathCamps \\nhttps://t.co/lddozkbAsN",
           "Neutral"
          ],
          [
           "@anonymized_account Pewnie Zahavi po prostu zbyt wiele nie zarobi, jak Lewy nie zmieni klubu.",
           "Neutral"
          ],
          [
           "@anonymized_account też to widze.Żyj dalej w świecie w którym to Legia jest najlepsza na świecie a słaba gra to wynik gry w pucharach.",
           "Neutral"
          ],
          [
           "@anonymized_account Panie Andrzeju jeszcze pan będzie prosił o te leki przeciw bólowe 😀",
           "Neutral"
          ],
          [
           "@anonymized_account no to co piszesz że Benfika rozdaje karty ? @anonymized_account @anonymized_account @anonymized_account",
           "Neutral"
          ],
          [
           "@anonymized_account @anonymized_account @anonymized_account Tez musze trzymać poziomo tel czytając ten artykuł",
           "Neutral"
          ],
          [
           "@anonymized_account Abonament to sobie jakiś wybiorę :) O telefon mi chodzi głównie.",
           "Neutral"
          ],
          [
           "@anonymized_account O jeju ale jestem ciekawa!!  Trzymam kciuki i odrazu napisz jak tam bo nie wytrzymam xd",
           "Neutral"
          ],
          [
           "@anonymized_account Każdy tak powinien z pisdzielstwem i będzie,  było sobie pisdzielstwo",
           "Neutral"
          ],
          [
           "RT @anonymized_account @anonymized_account @anonymized_account Wzrusza mnie ta wasza troska. I rozumiem ją. W końcu jest lotnisko w Niemczech. A więc u nas n…",
           "Neutral"
          ],
          [
           "Wczoraj tyle ćwiczyłam, ze rozwala mi brzuch od środka jak mam kaszel albo kicham",
           "Neutral"
          ],
          [
           "@anonymized_account @anonymized_account I bardzo dobrze. Ja wysłałbym ci fax jak Ziobro prezesom sądów.",
           "Neutral"
          ],
          [
           "@anonymized_account @anonymized_account Dobra spierdalaj, ja też spierdalam",
           "Neutral"
          ],
          [
           "@anonymized_account Jak pisdzielstwo 98% wymieniło to co się dziwisz parchu  , polaku złoty ptaku",
           "Neutral"
          ],
          [
           "@anonymized_account Błędem było jego zatrudnienie a nie zwolnienie",
           "Neutral"
          ],
          [
           "@anonymized_account @anonymized_account mi się ten styl podoba 💪 oby tak dalej :)",
           "Neutral"
          ],
          [
           "Dajcie mi link do carpool karaoke z Ari",
           "Neutral"
          ],
          [
           "@anonymized_account Pani Malarz trza być obiektywnym dziennikarką to ze legia gra piach to normalka nic dziwnego",
           "Neutral"
          ],
          [
           "@anonymized_account @anonymized_account @anonymized_account A to już problem tej rady i parafian.",
           "Neutral"
          ],
          [
           "Kto chce zadecydować czy jakieś zdjęcie nadaje się do pokazania społeczeństwu?",
           "Neutral"
          ],
          [
           "@anonymized_account @anonymized_account Raczej ma problem z głową. Tak jak Ty i Tobie podobni.",
           "Neutral"
          ],
          [
           "Najman sobie spełnia marzenia i może się poczuć jak bokser, a Wy się śmiejecie.",
           "Neutral"
          ],
          [
           "Skoro wchodzi Góralski, to tym bardziej szkoda, że po drugiej stronie nie ma Vidala 😜",
           "Neutral"
          ],
          [
           "@anonymized_account Jaka mądrość bije z tej twarzy!😁😁😁😁😁",
           "Neutral"
          ],
          [
           "@anonymized_account właśnie chciałam zobaczyć, jak zostanie zinterpretowany ten obrazek, tu jest sporo konotacji.",
           "Neutral"
          ],
          [
           "@anonymized_account @anonymized_account A potem sprowadzasz Serderova 👏",
           "Neutral"
          ],
          [
           "@anonymized_account Wyglada na to ze jestem legenda 😂✊🏻",
           "Neutral"
          ],
          [
           "Przyszedłem dzisiaj do pracy z namalowanymi kredką wąsami. Kobiety z namalowanymi kredką brwiami stwierdziły, że jestem debilem.",
           "Neutral"
          ],
          [
           "@anonymized_account Noż ku...a jakie to symptomatyczne😁😁😁😁",
           "Neutral"
          ],
          [
           "@anonymized_account @anonymized_account Jak dostanę takie polecenie. Na razie nie dostałem, więc nie ma tematu 😉",
           "Neutral"
          ],
          [
           "@anonymized_account Wisła chyba ważniejsza od jakiejś Delle Donne :)",
           "Neutral"
          ],
          [
           "Kto chce się jutro przejść na spacer moje znajomki halo",
           "Neutral"
          ],
          [
           "@anonymized_account @anonymized_account I uważasz pajacu że te sprawy mają coś wspólnego ze sobą?",
           "Neutral"
          ],
          [
           "Kto idzie ze mna na Kler halo halo",
           "Neutral"
          ],
          [
           "KAIN TEŻ ZABIŁ BRATA ALE NIE ŚWIĘTOWAŁ TEGO CO MIESIĄC I NIE STAWIAŁ POMNIKÓW NA TĘ OKOLICZNOŚĆ.",
           "Neutral"
          ],
          [
           "Rycze dzisiaj od rana i aż mnie samą to wkurwia",
           "Neutral"
          ],
          [
           "Serio ludzie już stoją pod biedronka po te maskotki XD",
           "Neutral"
          ],
          [
           "@anonymized_account @anonymized_account @anonymized_account A ich akademia jakich zawodników produkuje ? Ilu grało wychowanków ?",
           "Neutral"
          ],
          [
           "RT @anonymized_account powiem wam tylko tyle, jestem najobrzydliwszą, najgrubszą i kurwa najbrzydsza dziewczyną jaka kiedykolwiek chodziła po z…",
           "Neutral"
          ],
          [
           "@anonymized_account i tak nie będzie miał wyjścia i będzie musiał dać szanse Kujawie albo Żemlo",
           "Neutral"
          ],
          [
           "@anonymized_account @anonymized_account @anonymized_account Jojo demokrata w akcji. Taki pospolity ćwierćmózg",
           "Neutral"
          ],
          [
           "@anonymized_account A który zajmuje się kroczem?",
           "Neutral"
          ],
          [
           "Serio Kszczot powiedział że piłka nożna jest banalna ? A bieg na 800 m jest jaki ?",
           "Neutral"
          ],
          [
           "@anonymized_account @anonymized_account Ale chyba wam uratował punkt, Pawełek jaki był w Wiśle każdy wie ale dziś chyba był by wzmocnieniem dla Wisły",
           "Neutral"
          ],
          [
           "Gdyby za czasów Dantego istniały centra handlowe, miałyby swój krąg. \\n\\nLasciate ogni speranza, voi ch'entrate.",
           "Neutral"
          ],
          [
           "@anonymized_account @anonymized_account @anonymized_account A tak właściwie to co się dzieje z Majewską ? Kontuzja czy zakończyła kariere ? Chyba, że gdzieś gra :)",
           "Neutral"
          ],
          [
           "@anonymized_account Czyżby się bal że za niego to za tanio?",
           "Neutral"
          ],
          [
           "@anonymized_account Bez Fajbusiewicza to nie to samo, ale taki program jest potrzebny w tv, więc fajnie że wraca :)",
           "Neutral"
          ],
          [
           "@anonymized_account @anonymized_account Według mnie to fake wypucha na zdjęciu niejest miś chyba żeby się tak strasznie zmienił w ostatnim czasie",
           "Neutral"
          ],
          [
           "@anonymized_account Hejka, hejka, sejonarka w czwartek o 11 juz do domku",
           "Neutral"
          ],
          [
           "@anonymized_account @anonymized_account Trochę dużo tych trenerów :P",
           "Neutral"
          ],
          [
           "Z całym szacunkiem dla Kuby, ale to wygląda, jakby mu wujek kadrą chciał rytm meczowy przywrócić.",
           "Neutral"
          ],
          [
           "@anonymized_account I to, że po drugiej stronie był Tosik 😜",
           "Neutral"
          ],
          [
           "@anonymized_account @anonymized_account A ten wieloletni staż to gdzie? Na lotnisku w Radomiu?",
           "Neutral"
          ],
          [
           "@anonymized_account Szczecin pokazał że nie jest Warszawą. I nie wybiera miernot",
           "Neutral"
          ],
          [
           "@anonymized_account @anonymized_account Wieteska już nie jest mlodziezowcem",
           "Neutral"
          ],
          [
           "@anonymized_account No wiadomo, że nie za Rosją :P",
           "Neutral"
          ],
          [
           "@anonymized_account czy Pan Waldemar ma zakaz wjazdu Parchu, czy nie ma?",
           "Neutral"
          ],
          [
           "@anonymized_account miał wizje żeby zbudować Athletic Bilbao a jego ruchy są całkowitym zaprzeczeniem tego.Kolesiostwo pierdolone.",
           "Neutral"
          ],
          [
           "@anonymized_account Tak to znaczy jak ? Może jakiś konkretny?",
           "Neutral"
          ],
          [
           "RT @anonymized_account czy Inowrocław to taki ślonski Wrocław kaj mosz ino wrocław i nic wincyj",
           "Neutral"
          ],
          [
           "@anonymized_account Cupiala szanuje po dzisiejszym meczu ze wyjebal nawalke miał chłop racje",
           "Neutral"
          ],
          [
           "@anonymized_account @anonymized_account Co ty tam w tym Koźlu Kędzierzysz?",
           "Neutral"
          ],
          [
           "Co się musi dziać teraz u @anonymized_account 😄",
           "Neutral"
          ],
          [
           "@anonymized_account @anonymized_account Ok mój błąd :) no to czekamy na te wnioski o rozwiązanie kontraktów :)",
           "Neutral"
          ],
          [
           "@anonymized_account Odkąd wychodzę z nim rzadziej niż co 3 dni, jakby bardziej się cieszy. To miłe.",
           "Neutral"
          ],
          [
           "@anonymized_account @anonymized_account Jednostki wojskowe funkcjonują w oparciu o karty kredytowe? Lecz się człowieku.",
           "Neutral"
          ],
          [
           "@anonymized_account @anonymized_account Nawet podobny do niego, prawda ?xD",
           "Neutral"
          ],
          [
           "@anonymized_account W sumie u mnie tez 😬😂",
           "Neutral"
          ],
          [
           "@anonymized_account burmistrz z platka kwiatka przypomina mi burmistrza Kluczborka",
           "Neutral"
          ],
          [
           "Jagiellonia vs przeciwnicy z Rumunii:\\n6 ostatnich meczów, 6 porażek, bramki 4:12\\nOstatnie zwycięstwo - z FC Vaslui 2:1 (styczeń 2012).",
           "Neutral"
          ],
          [
           "@anonymized_account @anonymized_account w ekstraklasie też nie ma",
           "Neutral"
          ],
          [
           "@anonymized_account Krzyż przeciw prezydenturze, krzyż obłędu",
           "Neutral"
          ],
          [
           "@anonymized_account @anonymized_account kto bedzie chętny z tym zagram.Ale od razu mówie że tylko za 1 porażke płace.Później moge grać tylko towarzysko :)",
           "Neutral"
          ],
          [
           "@anonymized_account @anonymized_account @anonymized_account mam nadzieje :) wynik dzisiaj zły ale dla tak grającej i walczącej Wisły warto przychodzić :)",
           "Neutral"
          ],
          [
           "@anonymized_account @anonymized_account Ok dzięki  za info jednak i tak nieposiadam tego kanału ;-)",
           "Neutral"
          ],
          [
           "@anonymized_account @anonymized_account a to już wiemy czemu tak lansujesz tego Majeckiego",
           "Neutral"
          ],
          [
           "@anonymized_account Polacy też wiedzą, że jednym z największych debili jest niejaki Ziemkiewicz.",
           "Neutral"
          ],
          [
           "@anonymized_account kibicom chodzi raczej o postawe dziennikarzy a nie klubu.",
           "Neutral"
          ],
          [
           "@anonymized_account A niby po co mieli go zastraszać jak Cupiał był zmuszony przez banki żeby sprzedać klub ?",
           "Neutral"
          ],
          [
           "@anonymized_account to ty chłopie nie płacz że mamy takie legendy.A wy macie kogo ? PiotraBanie ?@anonymized_account @anonymized_account @anonymized_account @anonymized_account",
           "Neutral"
          ],
          [
           "@anonymized_account Przecież te zjeby chyba wiedza że tvn 24 nadaje tylko w platnej. Tacy wrogowie, szczyj na nich",
           "Neutral"
          ],
          [
           "@anonymized_account Wiem co czujesz, kiedyś miałam podstawy prawa, teraz będę mieć prawo własności intelektualnej i aż mi nie dobrze",
           "Neutral"
          ],
          [
           "Mam straszną ochotę na sushi",
           "Neutral"
          ],
          [
           "RT @anonymized_account Diz pra mim 🎶",
           "Neutral"
          ]
         ],
         "hovertemplate": "sentiment=%{customdata[1]}<br>0=%{x}<br>1=%{y}<br>label=%{customdata[0]}<extra></extra>",
         "legendgroup": "Neutral",
         "marker": {
          "color": "#636efa",
          "symbol": "circle"
         },
         "mode": "markers",
         "name": "Neutral",
         "orientation": "v",
         "showlegend": true,
         "type": "scatter",
         "x": [
          -0.5235505104064941,
          1.1426714658737183,
          6.320175647735596,
          15.722238540649414,
          8.396267890930176,
          2.8159339427948,
          3.972388505935669,
          -19.067190170288086,
          -3.2836005687713623,
          6.502555847167969,
          -4.912607669830322,
          -11.91346549987793,
          7.941669940948486,
          2.8848049640655518,
          -7.298027515411377,
          8.696616172790527,
          13.9859619140625,
          0.10555022209882736,
          -10.992403984069824,
          4.2673139572143555,
          3.429168462753296,
          -13.998729705810547,
          13.084771156311035,
          -16.518903732299805,
          1.9110342264175415,
          10.083903312683105,
          11.064343452453613,
          3.48819899559021,
          -6.757382869720459,
          11.628408432006836,
          -12.907242774963379,
          8.986084938049316,
          10.882767677307129,
          1.3632831573486328,
          -4.306680679321289,
          -15.439591407775879,
          9.631457328796387,
          0.3005644977092743,
          10.912840843200684,
          9.092689514160156,
          -12.907424926757812,
          -2.7237091064453125,
          13.173782348632812,
          -0.731703519821167,
          14.514269828796387,
          10.038264274597168,
          -14.521291732788086,
          10.951778411865234,
          14.870406150817871,
          -19.883140563964844,
          -3.647841215133667,
          5.842324256896973,
          -16.88010025024414,
          -20.070892333984375,
          -9.860956192016602,
          3.1366467475891113,
          0.33980172872543335,
          -1.7652409076690674,
          3.523714303970337,
          0.3634226620197296,
          -14.978250503540039,
          -16.204626083374023,
          -5.491359233856201,
          11.794417381286621,
          -15.401436805725098,
          -0.6043307781219482,
          1.4046982526779175,
          -13.44668197631836,
          0.17413100600242615,
          -11.832074165344238,
          10.696203231811523,
          -15.034607887268066,
          7.764988422393799,
          -12.899847984313965,
          -10.96512508392334,
          -14.401289939880371,
          17.48666000366211,
          4.38822603225708,
          11.692818641662598,
          -6.565005302429199,
          17.979595184326172,
          -8.30682373046875,
          2.329263925552368,
          -9.362669944763184,
          -1.3269490003585815,
          9.0156831741333,
          18.768756866455078,
          3.781057357788086,
          17.98591423034668,
          -4.6591105461120605,
          5.924217224121094,
          -18.125959396362305,
          16.262332916259766,
          2.2771339416503906,
          2.5423197746276855,
          -8.799585342407227,
          -16.567155838012695,
          -11.790323257446289,
          8.326837539672852,
          -2.939241647720337,
          -1.2617026567459106,
          2.86759877204895,
          -20.018566131591797,
          -1.0811715126037598,
          -17.152006149291992,
          3.9776902198791504,
          -2.818772792816162,
          -0.488416463136673,
          -1.5738354921340942,
          -0.6967612504959106,
          -3.866495370864868,
          -4.82169246673584,
          -13.046148300170898,
          11.03576374053955,
          13.166303634643555,
          12.673234939575195,
          5.868018627166748,
          -7.367735862731934,
          -0.4167468249797821,
          -2.5968050956726074,
          -13.429096221923828,
          -17.843496322631836,
          15.075944900512695,
          -17.4260311126709,
          1.7060177326202393,
          9.65990924835205,
          8.914637565612793,
          3.919454336166382,
          4.002124309539795,
          4.721780300140381,
          2.182598352432251,
          6.2184906005859375,
          9.030889511108398,
          3.076967716217041,
          -5.947427272796631,
          16.869657516479492,
          2.0838472843170166,
          2.1561484336853027,
          -4.347335338592529,
          -3.6649844646453857,
          -19.50506019592285,
          13.426074981689453,
          -17.694664001464844,
          13.24891471862793,
          -2.529693365097046,
          0.7118012309074402,
          3.5105762481689453,
          15.232691764831543,
          -11.531152725219727,
          1.6352174282073975,
          9.174393653869629,
          0.046135663986206055,
          -15.377290725708008,
          3.782555341720581,
          -14.996115684509277,
          -1.8705729246139526,
          11.203723907470703,
          0.3433051109313965,
          16.100727081298828,
          -5.0890069007873535,
          7.267889499664307,
          11.456971168518066,
          2.189133644104004,
          -5.035276889801025,
          16.721050262451172,
          8.659928321838379,
          -11.510032653808594,
          -13.642136573791504,
          -17.094078063964844,
          11.127305030822754,
          -6.974311351776123,
          1.476607322692871,
          -6.088045120239258,
          -16.478530883789062,
          -3.0127604007720947,
          -7.727451801300049,
          2.4592084884643555,
          -1.2469452619552612,
          13.683370590209961,
          -2.242225170135498,
          16.06597900390625,
          -14.066588401794434,
          -9.00636100769043,
          0.07630778104066849,
          2.26792049407959,
          0.36387595534324646,
          0.2119831144809723,
          14.373661994934082,
          -3.476590633392334,
          1.8172211647033691,
          1.4356565475463867,
          5.537423133850098,
          -4.5367913246154785,
          -4.601375579833984,
          -16.204626083374023,
          -3.802762269973755,
          8.277182579040527,
          -5.4027018547058105,
          2.171105146408081,
          -1.7362600564956665,
          12.403792381286621,
          13.419817924499512,
          18.768756866455078,
          4.098025321960449,
          1.341788649559021,
          -0.32570308446884155,
          -17.452648162841797,
          -11.371357917785645,
          -2.049365758895874,
          -9.278264045715332,
          -11.861702919006348,
          11.167194366455078,
          1.6289249658584595,
          -4.763171195983887,
          -0.5878400206565857,
          14.205759048461914,
          14.350459098815918,
          7.356827259063721,
          -16.40816307067871,
          12.305110931396484,
          2.58843731880188,
          -3.5429189205169678,
          -0.7466974258422852,
          0.09548186510801315,
          -11.416070938110352,
          2.32315993309021,
          1.4188839197158813,
          -19.98285484313965,
          -3.495591640472412,
          3.116122007369995,
          -1.1884685754776,
          6.382701396942139,
          -4.258296012878418,
          -6.632007122039795,
          5.023313045501709,
          9.673016548156738,
          -2.309922218322754,
          -1.8629331588745117,
          4.3116044998168945,
          13.569144248962402,
          -9.35335922241211,
          -3.9922068119049072,
          9.091757774353027,
          -15.759727478027344,
          -2.2216970920562744,
          14.264432907104492,
          19.251358032226562,
          -4.48383903503418,
          9.82759952545166,
          -17.98212432861328,
          11.764006614685059,
          12.204854965209961,
          3.74853253364563,
          1.9740474224090576,
          9.952220916748047,
          -2.103961229324341,
          6.380526542663574,
          -20.111509323120117,
          -14.791961669921875,
          3.659550189971924,
          -9.583809852600098,
          -12.354484558105469,
          4.753149509429932,
          12.04627799987793,
          -1.3371155261993408,
          2.173875331878662,
          -14.734540939331055,
          -11.920488357543945,
          2.8638253211975098,
          -0.6173124313354492,
          10.278976440429688,
          -4.595566749572754,
          -14.79288101196289,
          9.52753734588623,
          -2.9135684967041016,
          -4.100234031677246,
          9.464593887329102,
          0.9083009958267212,
          1.3049747943878174,
          -1.086566686630249,
          2.723968982696533,
          14.314435958862305,
          2.217949867248535,
          17.34080696105957,
          3.2975752353668213,
          14.159256935119629,
          -0.3611515164375305,
          -10.955045700073242,
          7.944051742553711,
          -3.5279040336608887,
          14.075660705566406,
          3.6209301948547363,
          13.855789184570312,
          9.337963104248047,
          2.388221025466919,
          3.733405590057373,
          -4.152759552001953,
          8.198866844177246,
          -2.9563305377960205,
          -1.146249771118164,
          0.17014989256858826,
          -4.011361598968506,
          11.75852108001709,
          3.047133445739746,
          -1.3097100257873535,
          -1.7863335609436035,
          -14.880102157592773,
          -1.1954259872436523,
          -0.6121346354484558,
          17.397014617919922,
          -11.832074165344238,
          13.776557922363281,
          9.628005981445312,
          3.993473768234253,
          -3.131777286529541,
          11.223883628845215,
          0.6526263952255249,
          1.7629578113555908,
          10.280129432678223,
          0.43833667039871216,
          1.259865641593933,
          -15.65578556060791,
          -2.7780561447143555,
          -12.606553077697754,
          -3.191166400909424,
          0.24143823981285095,
          -6.088045120239258,
          1.0404150485992432,
          -14.28076171875,
          1.466673493385315,
          4.181177616119385,
          3.4553258419036865,
          -15.075994491577148,
          4.080718040466309,
          0.3117872178554535,
          6.771326541900635,
          -15.613030433654785,
          -13.308320045471191,
          -15.772012710571289,
          -0.5431826710700989,
          0.35396087169647217,
          -8.477391242980957,
          13.099374771118164,
          4.814958572387695,
          -14.507770538330078,
          2.2771594524383545,
          3.8429336547851562,
          -8.596334457397461,
          -13.123867988586426,
          8.192122459411621,
          -12.1312894821167,
          1.15292227268219,
          -2.649693250656128,
          -15.323352813720703,
          1.2106281518936157,
          -13.899650573730469,
          12.197604179382324,
          -9.808818817138672,
          -1.2484833002090454,
          -0.3073703348636627,
          0.17418844997882843,
          9.111572265625,
          6.282566070556641,
          3.748486042022705,
          -15.229942321777344,
          -13.90366268157959,
          -13.640480995178223,
          0.3749369978904724,
          18.546916961669922,
          14.140443801879883,
          -13.785221099853516,
          3.6821863651275635,
          1.409644603729248,
          -1.608640193939209,
          -2.144827127456665,
          1.9110702276229858
         ],
         "xaxis": "x",
         "y": [
          -5.261603355407715,
          -7.676516532897949,
          -0.2124752253293991,
          2.694295644760132,
          -4.418112277984619,
          -11.313698768615723,
          -2.098710060119629,
          -3.1079561710357666,
          12.934001922607422,
          -11.936651229858398,
          10.707252502441406,
          15.4338960647583,
          -1.5131813287734985,
          -6.390655517578125,
          11.887870788574219,
          1.4271481037139893,
          -0.5494164824485779,
          -1.9982329607009888,
          15.363996505737305,
          -16.66115951538086,
          -10.347637176513672,
          17.88798713684082,
          -1.3571038246154785,
          -1.1496427059173584,
          18.97995948791504,
          2.0973589420318604,
          -3.5260403156280518,
          12.93200969696045,
          -6.616023063659668,
          -7.855024814605713,
          17.706378936767578,
          -9.958645820617676,
          -10.381509780883789,
          -3.897601366043091,
          -1.6353145837783813,
          15.122110366821289,
          -4.196409702301025,
          -6.481637477874756,
          -2.515634536743164,
          -7.643547058105469,
          -3.8579020500183105,
          0.7107509970664978,
          -6.828167915344238,
          14.369054794311523,
          -0.8418540358543396,
          -6.414347171783447,
          -4.986144542694092,
          -1.8012573719024658,
          -0.033768799155950546,
          -1.863641381263733,
          6.560153007507324,
          -6.117652893066406,
          -4.449739456176758,
          -2.5303306579589844,
          16.016765594482422,
          4.538445472717285,
          4.670510768890381,
          15.333526611328125,
          -5.576266288757324,
          -0.6879834532737732,
          16.531070709228516,
          17.852340698242188,
          -12.272323608398438,
          -5.49982213973999,
          -5.128966331481934,
          10.38978099822998,
          11.311396598815918,
          15.156373977661133,
          -11.460996627807617,
          20.332155227661133,
          -6.7006635665893555,
          -4.015836238861084,
          -2.839474678039551,
          16.13866424560547,
          18.32344627380371,
          14.985112190246582,
          -8.907430648803711,
          -9.423982620239258,
          -3.7010228633880615,
          -6.602843761444092,
          -6.048595905303955,
          12.252142906188965,
          -9.331599235534668,
          2.8074138164520264,
          14.803202629089355,
          -13.432252883911133,
          -2.445491075515747,
          11.511273384094238,
          -6.051462650299072,
          -3.552389621734619,
          -6.031204700469971,
          -4.412619113922119,
          -2.256599187850952,
          -8.546154975891113,
          13.046125411987305,
          2.712261438369751,
          -4.848943710327148,
          16.170177459716797,
          -2.3038299083709717,
          -6.370677471160889,
          -3.14176869392395,
          -7.862671852111816,
          -2.0752482414245605,
          -4.147543430328369,
          -5.439571380615234,
          16.69631576538086,
          -11.674751281738281,
          0.27022847533226013,
          -5.449629783630371,
          -6.255568981170654,
          -9.221487045288086,
          -11.092487335205078,
          14.544740676879883,
          0.8447787165641785,
          -0.28729382157325745,
          0.8756842613220215,
          -4.8851752281188965,
          13.27265739440918,
          -8.882381439208984,
          -0.3497643768787384,
          19.08820343017578,
          -2.8126323223114014,
          -2.4692726135253906,
          -6.081106662750244,
          11.304798126220703,
          -0.3693678677082062,
          -8.535698890686035,
          14.364036560058594,
          -6.979047775268555,
          14.307733535766602,
          -13.219883918762207,
          -9.367082595825195,
          -13.477442741394043,
          13.607442855834961,
          6.832148551940918,
          -2.28398060798645,
          -6.076901435852051,
          -5.837255001068115,
          3.9993929862976074,
          -1.261741042137146,
          -3.3322696685791016,
          -8.685866355895996,
          -2.3457298278808594,
          1.8904234170913696,
          3.2683072090148926,
          -2.539625883102417,
          11.019559860229492,
          -3.5409836769104004,
          15.066454887390137,
          -2.5617663860321045,
          -4.010496139526367,
          2.232120990753174,
          18.130096435546875,
          -16.205848693847656,
          -6.451826572418213,
          15.693163871765137,
          5.383655548095703,
          12.199978828430176,
          0.7740426659584045,
          -5.03718376159668,
          -7.969900131225586,
          -0.5559393763542175,
          10.035467147827148,
          -11.391868591308594,
          1.0986473560333252,
          -0.24117793142795563,
          16.315160751342773,
          -5.827184677124023,
          -6.4245452880859375,
          -4.844744682312012,
          -2.740436315536499,
          -10.172210693359375,
          -11.21371078491211,
          -0.9902108907699585,
          -5.122280597686768,
          12.24605941772461,
          14.632887840270996,
          -1.8635045289993286,
          -8.429061889648438,
          -9.847004890441895,
          2.9761717319488525,
          17.326051712036133,
          13.520108222961426,
          -12.327990531921387,
          16.4222469329834,
          -0.6877744197845459,
          2.454308271408081,
          1.5781818628311157,
          -0.41023731231689453,
          14.308226585388184,
          -6.663639545440674,
          -8.068893432617188,
          -13.30634593963623,
          -6.88159704208374,
          17.852340698242188,
          6.120108604431152,
          -6.006683349609375,
          -0.7908600568771362,
          -6.57328462600708,
          13.50432014465332,
          0.36224108934402466,
          -3.4274821281433105,
          -2.445491075515747,
          14.66313362121582,
          -11.876814842224121,
          -3.2741949558258057,
          -3.269488573074341,
          13.968240737915039,
          -4.914018154144287,
          19.47257423400879,
          12.732475280761719,
          0.13678893446922302,
          14.877520561218262,
          10.208487510681152,
          7.283916473388672,
          -2.1507623195648193,
          -1.2755645513534546,
          -3.7390329837799072,
          -3.2946066856384277,
          -2.542039632797241,
          -3.3800854682922363,
          7.171917915344238,
          -5.403951644897461,
          -5.636824131011963,
          16.918846130371094,
          13.74345588684082,
          15.501998901367188,
          -2.781040668487549,
          2.203357219696045,
          13.916934967041016,
          -8.904473304748535,
          13.132624626159668,
          -6.700572490692139,
          13.345717430114746,
          -3.7211763858795166,
          2.2825608253479004,
          -3.7680420875549316,
          -2.9610252380371094,
          -10.7664155960083,
          2.419912099838257,
          -4.430032730102539,
          -3.680612087249756,
          -6.71851921081543,
          -3.55509352684021,
          -6.668546199798584,
          4.769524574279785,
          1.1753095388412476,
          -8.93563461303711,
          -1.9019180536270142,
          -2.2656898498535156,
          -0.35917168855667114,
          -4.512152194976807,
          13.414653778076172,
          13.273575782775879,
          0.5425090789794922,
          -8.56241226196289,
          11.558391571044922,
          -3.68105411529541,
          -1.8287593126296997,
          -15.518569946289062,
          2.8825013637542725,
          14.77119255065918,
          12.096710205078125,
          1.7115799188613892,
          -7.011806964874268,
          12.774930953979492,
          -3.869234323501587,
          16.116378784179688,
          12.152562141418457,
          7.3052592277526855,
          -4.260683059692383,
          4.350975513458252,
          -5.588615417480469,
          -2.927130937576294,
          -2.5424530506134033,
          -12.976571083068848,
          -3.2211532592773438,
          -5.25161075592041,
          -8.90301513671875,
          9.397645950317383,
          15.248661994934082,
          4.718250751495361,
          -4.65508508682251,
          1.3335915803909302,
          9.159509658813477,
          -7.839820384979248,
          -4.54790735244751,
          15.799272537231445,
          -3.491748809814453,
          -3.989197254180908,
          -2.250011920928955,
          -1.854806661605835,
          -6.5878777503967285,
          -0.37437501549720764,
          10.97434139251709,
          -16.470346450805664,
          -0.0436701662838459,
          3.9189789295196533,
          2.8954508304595947,
          -4.006863594055176,
          13.150171279907227,
          -12.306109428405762,
          -1.367906093597412,
          -6.031735420227051,
          -7.621750354766846,
          -1.1972401142120361,
          -3.1247401237487793,
          -13.617215156555176,
          -7.839345932006836,
          2.8347060680389404,
          20.332155227661133,
          0.9381424784660339,
          -6.190579414367676,
          15.812411308288574,
          13.32128620147705,
          -2.6136183738708496,
          16.05768394470215,
          12.360597610473633,
          3.30271577835083,
          14.522275924682617,
          13.739104270935059,
          -4.415345191955566,
          -14.833976745605469,
          17.139524459838867,
          -14.87576675415039,
          5.803704261779785,
          -11.21371078491211,
          2.317389726638794,
          18.813228607177734,
          10.064780235290527,
          -8.13835334777832,
          -9.257182121276855,
          16.76266098022461,
          0.7327892780303955,
          -4.82465124130249,
          1.1859211921691895,
          -5.772429466247559,
          17.465261459350586,
          -5.1583571434021,
          -4.425598621368408,
          -9.792204856872559,
          1.2312374114990234,
          -9.295586585998535,
          10.06307601928711,
          19.351953506469727,
          -8.546249389648438,
          -8.963651657104492,
          1.4877357482910156,
          16.594636917114258,
          -6.989002704620361,
          18.115549087524414,
          -7.556187629699707,
          -7.47597074508667,
          19.125286102294922,
          12.975750923156738,
          -3.1366841793060303,
          3.271688461303711,
          17.534481048583984,
          2.9078683853149414,
          12.175946235656738,
          -11.461000442504883,
          -9.156628608703613,
          -12.446370124816895,
          -4.415442943572998,
          -3.7287328243255615,
          -3.7062838077545166,
          -3.0052623748779297,
          -8.382436752319336,
          0.8925893902778625,
          -6.260820388793945,
          15.96832275390625,
          -16.419870376586914,
          -4.965008735656738,
          -3.726304292678833,
          -13.544554710388184,
          18.980182647705078
         ],
         "yaxis": "y"
        },
        {
         "customdata": [
          [
           "@anonymized_account @anonymized_account @anonymized_account @anonymized_account Poziom posła @anonymized_account  sięga bruku, niestety nie jest to bruk paryski.",
           "Hate"
          ],
          [
           "@anonymized_account Po slowach ktore wypowiedziales w Lodzi nie powinienes sie pokazywac na uroczystosciach!",
           "Hate"
          ],
          [
           "@anonymized_account @anonymized_account @anonymized_account @anonymized_account @anonymized_account Wywiad tylko utwierdza w przekonaniu, że to kretyn.",
           "Hate"
          ],
          [
           "@anonymized_account Z niego taki patriota i kompetentny polityk jak Ciebie niezależny i kompetentny dziennikarz. Jeden wart drugiego.",
           "Hate"
          ],
          [
           "@anonymized_account @anonymized_account @anonymized_account z malych miast i wsi, niewykszalceni, wyborcy jedynej i prawdziwej   wladzy ludu?",
           "Hate"
          ],
          [
           "Jak tam  zjeby, ośka?",
           "Hate"
          ],
          [
           "@anonymized_account @anonymized_account Podyskutować ? Chyba pokazać swoje kompleksy i ból dupy jak to mawia wielbiciel hotdogów 😂",
           "Hate"
          ],
          [
           "@anonymized_account @anonymized_account ta odpowiedz sugeruje że Pan Szymon powiedział że nie wie czy to gówno czy czekolada i zaprosiłby ponownie gościa",
           "Hate"
          ],
          [
           "@anonymized_account Jaka mądrość bije z tej twarzy!😁😁😁😁😁",
           "Hate"
          ],
          [
           "Transmisja TVN 24 z przejazdu sędziego Tulei autobusem do rzecznika dyscyplinarnego przejdzie do historii. Historii szajby.",
           "Hate"
          ],
          [
           "Słyszę, że Pierwsza Milcząca będzie czytała dzieciom Koziołka Matołka...\\nA może lepiej poczyta Konstytucję swojemu matołkowi?...",
           "Hate"
          ],
          [
           "@anonymized_account Na takie coś to Ty sobie możesz Matysiaka zapraszać.My nie wbijamy :D",
           "Hate"
          ],
          [
           "@anonymized_account @anonymized_account Nie kimkolwiek. Nie świętuję z krzywoprzysięzcą i zakłamanym oszustem takim tak ty.",
           "Hate"
          ],
          [
           "@anonymized_account @anonymized_account @anonymized_account @anonymized_account Ale za to mają gang majonezowy i najsłynniejszego szczerbatego",
           "Hate"
          ],
          [
           "@anonymized_account Frajerami stulecia byliby, jakby Senegal w doliczonym wcisnął.",
           "Hate"
          ],
          [
           "@anonymized_account @anonymized_account przecież w dupie miałeś ten medal :)",
           "Hate"
          ],
          [
           "@anonymized_account Raczej je przebiła, bo dno osiągnęła już dosyć dawno.",
           "Hate"
          ],
          [
           "@anonymized_account Ta menda Rydzyk nie chcial z nim gadać postrzegam na wielki plus",
           "Hate"
          ],
          [
           "@anonymized_account No ci \\\"eksperci\\\" to przynajmniej wiedzą, z kim Anglia grała 😄",
           "Hate"
          ],
          [
           "@anonymized_account @anonymized_account Morawieckiego łżesz jak bura suka",
           "Hate"
          ],
          [
           "@anonymized_account @anonymized_account Wyłącz mnie z tej dyskusji z faszyzującymi ultrasem yntylygentem rydzykowo-pisbolszewickiego i jego \\\"odbiorcow\\\".",
           "Hate"
          ],
          [
           "@anonymized_account Albo \\\"Głupi ma zawsze szczęście\\\". Do wyboru 😁",
           "Hate"
          ],
          [
           "@anonymized_account Biedni, chorzy psychicznie ludzie. Wszystko kojarzy się im z seksem.",
           "Hate"
          ]
         ],
         "hovertemplate": "sentiment=%{customdata[1]}<br>0=%{x}<br>1=%{y}<br>label=%{customdata[0]}<extra></extra>",
         "legendgroup": "Hate",
         "marker": {
          "color": "#EF553B",
          "symbol": "circle"
         },
         "mode": "markers",
         "name": "Hate",
         "orientation": "v",
         "showlegend": true,
         "type": "scatter",
         "x": [
          16.359050750732422,
          -8.016315460205078,
          15.651460647583008,
          11.94362735748291,
          -10.650470733642578,
          -9.208168983459473,
          3.0793755054473877,
          0.5070497393608093,
          -3.131777286529541,
          16.691364288330078,
          -4.31122350692749,
          -9.153889656066895,
          11.203723907470703,
          1.7510273456573486,
          9.307331085205078,
          -14.644572257995605,
          12.32758617401123,
          0.2541576027870178,
          4.295541763305664,
          -0.7293345332145691,
          6.744346618652344,
          5.413041591644287,
          12.29392147064209
         ],
         "xaxis": "x",
         "y": [
          -0.7716482877731323,
          12.521203994750977,
          -1.0461078882217407,
          1.8041213750839233,
          14.951425552368164,
          19.43824577331543,
          12.757221221923828,
          -3.7495131492614746,
          13.32128620147705,
          4.531426429748535,
          9.45012092590332,
          2.6554033756256104,
          5.383655548095703,
          -1.0288722515106201,
          -1.881564974784851,
          -4.767348289489746,
          -2.8701109886169434,
          -7.372475624084473,
          12.707648277282715,
          -10.251582145690918,
          -0.681851863861084,
          13.585908889770508,
          2.7156240940093994
         ],
         "yaxis": "y"
        }
       ],
       "layout": {
        "legend": {
         "title": {
          "text": "sentiment"
         },
         "tracegroupgap": 0
        },
        "margin": {
         "t": 60
        },
        "template": {
         "data": {
          "bar": [
           {
            "error_x": {
             "color": "#2a3f5f"
            },
            "error_y": {
             "color": "#2a3f5f"
            },
            "marker": {
             "line": {
              "color": "#E5ECF6",
              "width": 0.5
             },
             "pattern": {
              "fillmode": "overlay",
              "size": 10,
              "solidity": 0.2
             }
            },
            "type": "bar"
           }
          ],
          "barpolar": [
           {
            "marker": {
             "line": {
              "color": "#E5ECF6",
              "width": 0.5
             },
             "pattern": {
              "fillmode": "overlay",
              "size": 10,
              "solidity": 0.2
             }
            },
            "type": "barpolar"
           }
          ],
          "carpet": [
           {
            "aaxis": {
             "endlinecolor": "#2a3f5f",
             "gridcolor": "white",
             "linecolor": "white",
             "minorgridcolor": "white",
             "startlinecolor": "#2a3f5f"
            },
            "baxis": {
             "endlinecolor": "#2a3f5f",
             "gridcolor": "white",
             "linecolor": "white",
             "minorgridcolor": "white",
             "startlinecolor": "#2a3f5f"
            },
            "type": "carpet"
           }
          ],
          "choropleth": [
           {
            "colorbar": {
             "outlinewidth": 0,
             "ticks": ""
            },
            "type": "choropleth"
           }
          ],
          "contour": [
           {
            "colorbar": {
             "outlinewidth": 0,
             "ticks": ""
            },
            "colorscale": [
             [
              0,
              "#0d0887"
             ],
             [
              0.1111111111111111,
              "#46039f"
             ],
             [
              0.2222222222222222,
              "#7201a8"
             ],
             [
              0.3333333333333333,
              "#9c179e"
             ],
             [
              0.4444444444444444,
              "#bd3786"
             ],
             [
              0.5555555555555556,
              "#d8576b"
             ],
             [
              0.6666666666666666,
              "#ed7953"
             ],
             [
              0.7777777777777778,
              "#fb9f3a"
             ],
             [
              0.8888888888888888,
              "#fdca26"
             ],
             [
              1,
              "#f0f921"
             ]
            ],
            "type": "contour"
           }
          ],
          "contourcarpet": [
           {
            "colorbar": {
             "outlinewidth": 0,
             "ticks": ""
            },
            "type": "contourcarpet"
           }
          ],
          "heatmap": [
           {
            "colorbar": {
             "outlinewidth": 0,
             "ticks": ""
            },
            "colorscale": [
             [
              0,
              "#0d0887"
             ],
             [
              0.1111111111111111,
              "#46039f"
             ],
             [
              0.2222222222222222,
              "#7201a8"
             ],
             [
              0.3333333333333333,
              "#9c179e"
             ],
             [
              0.4444444444444444,
              "#bd3786"
             ],
             [
              0.5555555555555556,
              "#d8576b"
             ],
             [
              0.6666666666666666,
              "#ed7953"
             ],
             [
              0.7777777777777778,
              "#fb9f3a"
             ],
             [
              0.8888888888888888,
              "#fdca26"
             ],
             [
              1,
              "#f0f921"
             ]
            ],
            "type": "heatmap"
           }
          ],
          "heatmapgl": [
           {
            "colorbar": {
             "outlinewidth": 0,
             "ticks": ""
            },
            "colorscale": [
             [
              0,
              "#0d0887"
             ],
             [
              0.1111111111111111,
              "#46039f"
             ],
             [
              0.2222222222222222,
              "#7201a8"
             ],
             [
              0.3333333333333333,
              "#9c179e"
             ],
             [
              0.4444444444444444,
              "#bd3786"
             ],
             [
              0.5555555555555556,
              "#d8576b"
             ],
             [
              0.6666666666666666,
              "#ed7953"
             ],
             [
              0.7777777777777778,
              "#fb9f3a"
             ],
             [
              0.8888888888888888,
              "#fdca26"
             ],
             [
              1,
              "#f0f921"
             ]
            ],
            "type": "heatmapgl"
           }
          ],
          "histogram": [
           {
            "marker": {
             "pattern": {
              "fillmode": "overlay",
              "size": 10,
              "solidity": 0.2
             }
            },
            "type": "histogram"
           }
          ],
          "histogram2d": [
           {
            "colorbar": {
             "outlinewidth": 0,
             "ticks": ""
            },
            "colorscale": [
             [
              0,
              "#0d0887"
             ],
             [
              0.1111111111111111,
              "#46039f"
             ],
             [
              0.2222222222222222,
              "#7201a8"
             ],
             [
              0.3333333333333333,
              "#9c179e"
             ],
             [
              0.4444444444444444,
              "#bd3786"
             ],
             [
              0.5555555555555556,
              "#d8576b"
             ],
             [
              0.6666666666666666,
              "#ed7953"
             ],
             [
              0.7777777777777778,
              "#fb9f3a"
             ],
             [
              0.8888888888888888,
              "#fdca26"
             ],
             [
              1,
              "#f0f921"
             ]
            ],
            "type": "histogram2d"
           }
          ],
          "histogram2dcontour": [
           {
            "colorbar": {
             "outlinewidth": 0,
             "ticks": ""
            },
            "colorscale": [
             [
              0,
              "#0d0887"
             ],
             [
              0.1111111111111111,
              "#46039f"
             ],
             [
              0.2222222222222222,
              "#7201a8"
             ],
             [
              0.3333333333333333,
              "#9c179e"
             ],
             [
              0.4444444444444444,
              "#bd3786"
             ],
             [
              0.5555555555555556,
              "#d8576b"
             ],
             [
              0.6666666666666666,
              "#ed7953"
             ],
             [
              0.7777777777777778,
              "#fb9f3a"
             ],
             [
              0.8888888888888888,
              "#fdca26"
             ],
             [
              1,
              "#f0f921"
             ]
            ],
            "type": "histogram2dcontour"
           }
          ],
          "mesh3d": [
           {
            "colorbar": {
             "outlinewidth": 0,
             "ticks": ""
            },
            "type": "mesh3d"
           }
          ],
          "parcoords": [
           {
            "line": {
             "colorbar": {
              "outlinewidth": 0,
              "ticks": ""
             }
            },
            "type": "parcoords"
           }
          ],
          "pie": [
           {
            "automargin": true,
            "type": "pie"
           }
          ],
          "scatter": [
           {
            "fillpattern": {
             "fillmode": "overlay",
             "size": 10,
             "solidity": 0.2
            },
            "type": "scatter"
           }
          ],
          "scatter3d": [
           {
            "line": {
             "colorbar": {
              "outlinewidth": 0,
              "ticks": ""
             }
            },
            "marker": {
             "colorbar": {
              "outlinewidth": 0,
              "ticks": ""
             }
            },
            "type": "scatter3d"
           }
          ],
          "scattercarpet": [
           {
            "marker": {
             "colorbar": {
              "outlinewidth": 0,
              "ticks": ""
             }
            },
            "type": "scattercarpet"
           }
          ],
          "scattergeo": [
           {
            "marker": {
             "colorbar": {
              "outlinewidth": 0,
              "ticks": ""
             }
            },
            "type": "scattergeo"
           }
          ],
          "scattergl": [
           {
            "marker": {
             "colorbar": {
              "outlinewidth": 0,
              "ticks": ""
             }
            },
            "type": "scattergl"
           }
          ],
          "scattermapbox": [
           {
            "marker": {
             "colorbar": {
              "outlinewidth": 0,
              "ticks": ""
             }
            },
            "type": "scattermapbox"
           }
          ],
          "scatterpolar": [
           {
            "marker": {
             "colorbar": {
              "outlinewidth": 0,
              "ticks": ""
             }
            },
            "type": "scatterpolar"
           }
          ],
          "scatterpolargl": [
           {
            "marker": {
             "colorbar": {
              "outlinewidth": 0,
              "ticks": ""
             }
            },
            "type": "scatterpolargl"
           }
          ],
          "scatterternary": [
           {
            "marker": {
             "colorbar": {
              "outlinewidth": 0,
              "ticks": ""
             }
            },
            "type": "scatterternary"
           }
          ],
          "surface": [
           {
            "colorbar": {
             "outlinewidth": 0,
             "ticks": ""
            },
            "colorscale": [
             [
              0,
              "#0d0887"
             ],
             [
              0.1111111111111111,
              "#46039f"
             ],
             [
              0.2222222222222222,
              "#7201a8"
             ],
             [
              0.3333333333333333,
              "#9c179e"
             ],
             [
              0.4444444444444444,
              "#bd3786"
             ],
             [
              0.5555555555555556,
              "#d8576b"
             ],
             [
              0.6666666666666666,
              "#ed7953"
             ],
             [
              0.7777777777777778,
              "#fb9f3a"
             ],
             [
              0.8888888888888888,
              "#fdca26"
             ],
             [
              1,
              "#f0f921"
             ]
            ],
            "type": "surface"
           }
          ],
          "table": [
           {
            "cells": {
             "fill": {
              "color": "#EBF0F8"
             },
             "line": {
              "color": "white"
             }
            },
            "header": {
             "fill": {
              "color": "#C8D4E3"
             },
             "line": {
              "color": "white"
             }
            },
            "type": "table"
           }
          ]
         },
         "layout": {
          "annotationdefaults": {
           "arrowcolor": "#2a3f5f",
           "arrowhead": 0,
           "arrowwidth": 1
          },
          "autotypenumbers": "strict",
          "coloraxis": {
           "colorbar": {
            "outlinewidth": 0,
            "ticks": ""
           }
          },
          "colorscale": {
           "diverging": [
            [
             0,
             "#8e0152"
            ],
            [
             0.1,
             "#c51b7d"
            ],
            [
             0.2,
             "#de77ae"
            ],
            [
             0.3,
             "#f1b6da"
            ],
            [
             0.4,
             "#fde0ef"
            ],
            [
             0.5,
             "#f7f7f7"
            ],
            [
             0.6,
             "#e6f5d0"
            ],
            [
             0.7,
             "#b8e186"
            ],
            [
             0.8,
             "#7fbc41"
            ],
            [
             0.9,
             "#4d9221"
            ],
            [
             1,
             "#276419"
            ]
           ],
           "sequential": [
            [
             0,
             "#0d0887"
            ],
            [
             0.1111111111111111,
             "#46039f"
            ],
            [
             0.2222222222222222,
             "#7201a8"
            ],
            [
             0.3333333333333333,
             "#9c179e"
            ],
            [
             0.4444444444444444,
             "#bd3786"
            ],
            [
             0.5555555555555556,
             "#d8576b"
            ],
            [
             0.6666666666666666,
             "#ed7953"
            ],
            [
             0.7777777777777778,
             "#fb9f3a"
            ],
            [
             0.8888888888888888,
             "#fdca26"
            ],
            [
             1,
             "#f0f921"
            ]
           ],
           "sequentialminus": [
            [
             0,
             "#0d0887"
            ],
            [
             0.1111111111111111,
             "#46039f"
            ],
            [
             0.2222222222222222,
             "#7201a8"
            ],
            [
             0.3333333333333333,
             "#9c179e"
            ],
            [
             0.4444444444444444,
             "#bd3786"
            ],
            [
             0.5555555555555556,
             "#d8576b"
            ],
            [
             0.6666666666666666,
             "#ed7953"
            ],
            [
             0.7777777777777778,
             "#fb9f3a"
            ],
            [
             0.8888888888888888,
             "#fdca26"
            ],
            [
             1,
             "#f0f921"
            ]
           ]
          },
          "colorway": [
           "#636efa",
           "#EF553B",
           "#00cc96",
           "#ab63fa",
           "#FFA15A",
           "#19d3f3",
           "#FF6692",
           "#B6E880",
           "#FF97FF",
           "#FECB52"
          ],
          "font": {
           "color": "#2a3f5f"
          },
          "geo": {
           "bgcolor": "white",
           "lakecolor": "white",
           "landcolor": "#E5ECF6",
           "showlakes": true,
           "showland": true,
           "subunitcolor": "white"
          },
          "hoverlabel": {
           "align": "left"
          },
          "hovermode": "closest",
          "mapbox": {
           "style": "light"
          },
          "paper_bgcolor": "white",
          "plot_bgcolor": "#E5ECF6",
          "polar": {
           "angularaxis": {
            "gridcolor": "white",
            "linecolor": "white",
            "ticks": ""
           },
           "bgcolor": "#E5ECF6",
           "radialaxis": {
            "gridcolor": "white",
            "linecolor": "white",
            "ticks": ""
           }
          },
          "scene": {
           "xaxis": {
            "backgroundcolor": "#E5ECF6",
            "gridcolor": "white",
            "gridwidth": 2,
            "linecolor": "white",
            "showbackground": true,
            "ticks": "",
            "zerolinecolor": "white"
           },
           "yaxis": {
            "backgroundcolor": "#E5ECF6",
            "gridcolor": "white",
            "gridwidth": 2,
            "linecolor": "white",
            "showbackground": true,
            "ticks": "",
            "zerolinecolor": "white"
           },
           "zaxis": {
            "backgroundcolor": "#E5ECF6",
            "gridcolor": "white",
            "gridwidth": 2,
            "linecolor": "white",
            "showbackground": true,
            "ticks": "",
            "zerolinecolor": "white"
           }
          },
          "shapedefaults": {
           "line": {
            "color": "#2a3f5f"
           }
          },
          "ternary": {
           "aaxis": {
            "gridcolor": "white",
            "linecolor": "white",
            "ticks": ""
           },
           "baxis": {
            "gridcolor": "white",
            "linecolor": "white",
            "ticks": ""
           },
           "bgcolor": "#E5ECF6",
           "caxis": {
            "gridcolor": "white",
            "linecolor": "white",
            "ticks": ""
           }
          },
          "title": {
           "x": 0.05
          },
          "xaxis": {
           "automargin": true,
           "gridcolor": "white",
           "linecolor": "white",
           "ticks": "",
           "title": {
            "standoff": 15
           },
           "zerolinecolor": "white",
           "zerolinewidth": 2
          },
          "yaxis": {
           "automargin": true,
           "gridcolor": "white",
           "linecolor": "white",
           "ticks": "",
           "title": {
            "standoff": 15
           },
           "zerolinecolor": "white",
           "zerolinewidth": 2
          }
         }
        },
        "xaxis": {
         "anchor": "y",
         "domain": [
          0,
          1
         ],
         "title": {
          "text": "0"
         }
        },
        "yaxis": {
         "anchor": "x",
         "domain": [
          0,
          1
         ],
         "title": {
          "text": "1"
         }
        }
       }
      }
     },
     "metadata": {},
     "output_type": "display_data"
    }
   ],
   "source": [
    "fig = px.scatter(df, x=0, y=1, hover_data=df.columns, color=\"sentiment\")\n",
    "fig.show()"
   ]
  }
 ],
 "metadata": {
  "kernelspec": {
   "display_name": "nlp",
   "language": "python",
   "name": "python3"
  },
  "language_info": {
   "codemirror_mode": {
    "name": "ipython",
    "version": 3
   },
   "file_extension": ".py",
   "mimetype": "text/x-python",
   "name": "python",
   "nbconvert_exporter": "python",
   "pygments_lexer": "ipython3",
   "version": "3.11.10"
  }
 },
 "nbformat": 4,
 "nbformat_minor": 2
}
