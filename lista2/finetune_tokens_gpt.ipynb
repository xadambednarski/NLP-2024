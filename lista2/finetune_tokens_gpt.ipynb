{
 "cells": [
  {
   "cell_type": "code",
   "execution_count": 1,
   "metadata": {},
   "outputs": [],
   "source": [
    "import json\n",
    "from pathlib import Path\n",
    "\n",
    "from datasets import load_dataset\n",
    "from transformers import AutoTokenizer, GPT2ForTokenClassification, DataCollatorWithPadding, Trainer, TrainingArguments, pipeline\n",
    "from peft import LoraConfig, TaskType, get_peft_model\n",
    "import numpy as np\n",
    "import torch"
   ]
  },
  {
   "cell_type": "code",
   "execution_count": 2,
   "metadata": {},
   "outputs": [],
   "source": [
    "import re\n",
    "\n",
    "def label_words(data):\n",
    "    text = data['text']\n",
    "    labels = data['label']\n",
    "    \n",
    "    words = []\n",
    "    start = 0\n",
    "    for match in re.finditer(r'\\S+', text):\n",
    "        word = match.group()\n",
    "        word_start = match.start()\n",
    "        word_end = match.end()\n",
    "        words.append({\n",
    "            'word': word,\n",
    "            'start': word_start,\n",
    "            'end': word_end\n",
    "        })\n",
    "\n",
    "    labeled_words = []\n",
    "    for word_info in words:\n",
    "        word_label = \"Neutralna\"\n",
    "        for start_idx, end_idx, label in labels:\n",
    "            if word_info['start'] >= start_idx and word_info['end'] <= end_idx:\n",
    "                word_label = label\n",
    "        labeled_words.append({\n",
    "            'word': word_info['word'],\n",
    "            'label': word_label\n",
    "        })\n",
    "\n",
    "    return labeled_words"
   ]
  },
  {
   "cell_type": "code",
   "execution_count": 3,
   "metadata": {},
   "outputs": [],
   "source": [
    "json_files = list(Path(\"./data/ground_truth\").rglob(\"*.jsonl\"))"
   ]
  },
  {
   "cell_type": "code",
   "execution_count": 4,
   "metadata": {},
   "outputs": [],
   "source": [
    "raw_dataset = []\n",
    "\n",
    "for file in json_files:\n",
    "    with open(file, \"r\") as f:\n",
    "        lines = [json.loads(line) for line in f]\n",
    "    raw_dataset.extend(lines)"
   ]
  },
  {
   "cell_type": "code",
   "execution_count": 5,
   "metadata": {},
   "outputs": [],
   "source": [
    "from sklearn.model_selection import train_test_split"
   ]
  },
  {
   "cell_type": "code",
   "execution_count": 6,
   "metadata": {},
   "outputs": [],
   "source": [
    "def filter_labels(labels):\n",
    "    return [label for label in labels if label[2] not in [\"Mowa nienawiści\", \"Neutralny\"]]    "
   ]
  },
  {
   "cell_type": "code",
   "execution_count": 7,
   "metadata": {},
   "outputs": [],
   "source": [
    "for sample in raw_dataset:\n",
    "    sample[\"label\"] = filter_labels(sample[\"label\"])"
   ]
  },
  {
   "cell_type": "code",
   "execution_count": 8,
   "metadata": {},
   "outputs": [],
   "source": [
    "processed_dataset = []\n",
    "\n",
    "for sample in raw_dataset:\n",
    "    sample[\"label\"]\n",
    "    labeled_words = label_words(sample)\n",
    "    processed_dataset.append(labeled_words)\n",
    "\n",
    "\n",
    "train_ds, test_ds = train_test_split(processed_dataset, test_size=0.1, random_state=42)"
   ]
  },
  {
   "cell_type": "code",
   "execution_count": 9,
   "metadata": {},
   "outputs": [],
   "source": [
    "train_ds_processed = []\n",
    "for sample in train_ds:\n",
    "    words = [word[\"word\"] for word in sample]\n",
    "    label = [word[\"label\"] for word in sample]\n",
    "    new_sample = {\"text\": words, \"labels\": label}\n",
    "    train_ds_processed.append(new_sample)\n",
    "\n",
    "test_ds_processed = []\n",
    "for sample in test_ds:\n",
    "    words = [word[\"word\"] for word in sample]\n",
    "    label = [word[\"label\"] for word in sample]\n",
    "    new_sample = {\"text\": words, \"labels\": label}\n",
    "    test_ds_processed.append(new_sample)"
   ]
  },
  {
   "cell_type": "code",
   "execution_count": 10,
   "metadata": {},
   "outputs": [],
   "source": [
    "with open(\"./tokens/train.jsonl\", 'w') as f:\n",
    "    for item in train_ds_processed:\n",
    "        f.write(json.dumps(item) + '\\n')\n",
    "\n",
    "\n",
    "with open(\"./tokens/test.jsonl\", 'w') as f:\n",
    "    for item in test_ds_processed:\n",
    "        f.write(json.dumps(item) + '\\n')"
   ]
  },
  {
   "cell_type": "code",
   "execution_count": 11,
   "metadata": {},
   "outputs": [
    {
     "data": {
      "application/vnd.jupyter.widget-view+json": {
       "model_id": "18712677c82f408390f05f52b00c9eb1",
       "version_major": 2,
       "version_minor": 0
      },
      "text/plain": [
       "Generating train split: 0 examples [00:00, ? examples/s]"
      ]
     },
     "metadata": {},
     "output_type": "display_data"
    },
    {
     "data": {
      "application/vnd.jupyter.widget-view+json": {
       "model_id": "ddc506bcd0624b02aac083e561eb0b99",
       "version_major": 2,
       "version_minor": 0
      },
      "text/plain": [
       "Generating test split: 0 examples [00:00, ? examples/s]"
      ]
     },
     "metadata": {},
     "output_type": "display_data"
    },
    {
     "name": "stdout",
     "output_type": "stream",
     "text": [
      "DatasetDict({\n",
      "    train: Dataset({\n",
      "        features: ['text', 'labels'],\n",
      "        num_rows: 539\n",
      "    })\n",
      "    test: Dataset({\n",
      "        features: ['text', 'labels'],\n",
      "        num_rows: 60\n",
      "    })\n",
      "})\n"
     ]
    }
   ],
   "source": [
    "data_files = {\"train\": \"train.jsonl\", \"test\": \"test.jsonl\"}\n",
    "dataset = load_dataset(\"./tokens\", data_files=data_files)\n",
    "print(dataset)"
   ]
  },
  {
   "cell_type": "code",
   "execution_count": 12,
   "metadata": {},
   "outputs": [],
   "source": [
    "labels = []\n",
    "for sentence in dataset[\"train\"][\"labels\"]:\n",
    "    labels += sentence"
   ]
  },
  {
   "cell_type": "code",
   "execution_count": 13,
   "metadata": {},
   "outputs": [],
   "source": [
    "sorted_labels = sorted(list(set(labels)))\n",
    "label2id = dict(zip(sorted_labels, range(0, len(sorted_labels))))\n",
    "id2label = dict(zip(range(0, len(sorted_labels)), sorted_labels))"
   ]
  },
  {
   "cell_type": "code",
   "execution_count": 14,
   "metadata": {},
   "outputs": [
    {
     "name": "stderr",
     "output_type": "stream",
     "text": [
      "Some weights of GPT2ForTokenClassification were not initialized from the model checkpoint at sdadas/polish-gpt2-medium and are newly initialized: ['classifier.bias', 'classifier.weight']\n",
      "You should probably TRAIN this model on a down-stream task to be able to use it for predictions and inference.\n"
     ]
    }
   ],
   "source": [
    "tokenizer = AutoTokenizer.from_pretrained(\"sdadas/polish-gpt2-medium\", add_prefix_space=True)\n",
    "tokenizer.pad_token = tokenizer.eos_token\n",
    "model = GPT2ForTokenClassification.from_pretrained(\"sdadas/polish-gpt2-medium\",\n",
    "                                                        num_labels=len(label2id),\n",
    "                                                        label2id=label2id,\n",
    "                                                        id2label=id2label)\n",
    "\n",
    "classifier = pipeline(\"token-classification\", model=model, tokenizer=tokenizer, device=\"cuda\")"
   ]
  },
  {
   "cell_type": "code",
   "execution_count": 15,
   "metadata": {},
   "outputs": [
    {
     "data": {
      "text/plain": [
       "Dataset({\n",
       "    features: ['text', 'labels'],\n",
       "    num_rows: 539\n",
       "})"
      ]
     },
     "execution_count": 15,
     "metadata": {},
     "output_type": "execute_result"
    }
   ],
   "source": [
    "dataset[\"train\"]"
   ]
  },
  {
   "cell_type": "code",
   "execution_count": 16,
   "metadata": {},
   "outputs": [],
   "source": [
    "def tokenize_and_align_labels(data, tokenizer, label_map):\n",
    "    tokenized_data = []\n",
    "    \n",
    "    for entry in data:\n",
    "        tokens = tokenizer(\n",
    "            entry[\"text\"],\n",
    "            is_split_into_words=True,\n",
    "            truncation=True,\n",
    "            padding=\"max_length\",\n",
    "            max_length=128,\n",
    "        )\n",
    "        word_ids = tokens.word_ids()\n",
    "        labels = []\n",
    "        \n",
    "        for word_id in word_ids:\n",
    "            if word_id is None or word_id == tokenizer.eos_token_id:\n",
    "                labels.append(-100)\n",
    "            else:\n",
    "                labels.append(label_map[entry[\"labels\"][word_id]])\n",
    "        \n",
    "        tokens[\"labels\"] = labels\n",
    "        tokenized_data.append(tokens)\n",
    "    \n",
    "    return tokenized_data\n",
    "\n",
    "processed_data_train = tokenize_and_align_labels(dataset[\"train\"], tokenizer, label2id)\n",
    "processed_data_test = tokenize_and_align_labels(dataset[\"test\"], tokenizer, label2id)"
   ]
  },
  {
   "cell_type": "code",
   "execution_count": 17,
   "metadata": {},
   "outputs": [
    {
     "name": "stdout",
     "output_type": "stream",
     "text": [
      "GPT2ForTokenClassification(\n",
      "  (transformer): GPT2Model(\n",
      "    (wte): Embedding(51200, 1024)\n",
      "    (wpe): Embedding(2048, 1024)\n",
      "    (drop): Dropout(p=0.1, inplace=False)\n",
      "    (h): ModuleList(\n",
      "      (0-23): 24 x GPT2Block(\n",
      "        (ln_1): LayerNorm((1024,), eps=1e-05, elementwise_affine=True)\n",
      "        (attn): GPT2SdpaAttention(\n",
      "          (c_attn): lora.Linear(\n",
      "            (base_layer): Conv1D(nf=3072, nx=1024)\n",
      "            (lora_dropout): ModuleDict(\n",
      "              (default): Dropout(p=0.1, inplace=False)\n",
      "            )\n",
      "            (lora_A): ModuleDict(\n",
      "              (default): Linear(in_features=1024, out_features=64, bias=False)\n",
      "            )\n",
      "            (lora_B): ModuleDict(\n",
      "              (default): Linear(in_features=64, out_features=3072, bias=False)\n",
      "            )\n",
      "            (lora_embedding_A): ParameterDict()\n",
      "            (lora_embedding_B): ParameterDict()\n",
      "            (lora_magnitude_vector): ModuleDict()\n",
      "          )\n",
      "          (c_proj): Conv1D(nf=1024, nx=1024)\n",
      "          (attn_dropout): Dropout(p=0.1, inplace=False)\n",
      "          (resid_dropout): Dropout(p=0.1, inplace=False)\n",
      "        )\n",
      "        (ln_2): LayerNorm((1024,), eps=1e-05, elementwise_affine=True)\n",
      "        (mlp): GPT2MLP(\n",
      "          (c_fc): Conv1D(nf=4096, nx=1024)\n",
      "          (c_proj): Conv1D(nf=1024, nx=4096)\n",
      "          (act): FastGELUActivation()\n",
      "          (dropout): Dropout(p=0.1, inplace=False)\n",
      "        )\n",
      "      )\n",
      "    )\n",
      "    (ln_f): LayerNorm((1024,), eps=1e-05, elementwise_affine=True)\n",
      "  )\n",
      "  (dropout): Dropout(p=0.1, inplace=False)\n",
      "  (classifier): ModulesToSaveWrapper(\n",
      "    (original_module): Linear(in_features=1024, out_features=6, bias=True)\n",
      "    (modules_to_save): ModuleDict(\n",
      "      (default): Linear(in_features=1024, out_features=6, bias=True)\n",
      "    )\n",
      "  )\n",
      ")\n"
     ]
    },
    {
     "name": "stderr",
     "output_type": "stream",
     "text": [
      "/home/lukasz/miniconda3/envs/nlp/lib/python3.11/site-packages/peft/tuners/lora/layer.py:1150: UserWarning: fan_in_fan_out is set to False but the target module is `Conv1D`. Setting fan_in_fan_out to True.\n",
      "  warnings.warn(\n"
     ]
    }
   ],
   "source": [
    "lora_config = LoraConfig(\n",
    "    task_type=TaskType.TOKEN_CLS, r=64, lora_alpha=1, lora_dropout=0.1\n",
    ")\n",
    "\n",
    "peft_model = get_peft_model(model, lora_config)\n",
    "print(peft_model.model)"
   ]
  },
  {
   "cell_type": "code",
   "execution_count": 18,
   "metadata": {},
   "outputs": [
    {
     "name": "stdout",
     "output_type": "stream",
     "text": [
      "Starting to train...\n"
     ]
    },
    {
     "data": {
      "application/vnd.jupyter.widget-view+json": {
       "model_id": "dac5d8dab1a9449685cf5849e8959acc",
       "version_major": 2,
       "version_minor": 0
      },
      "text/plain": [
       "  0%|          | 0/2025 [00:00<?, ?it/s]"
      ]
     },
     "metadata": {},
     "output_type": "display_data"
    },
    {
     "data": {
      "application/vnd.jupyter.widget-view+json": {
       "model_id": "241f5f4615de402e80c2895bdfdbf7e4",
       "version_major": 2,
       "version_minor": 0
      },
      "text/plain": [
       "  0%|          | 0/15 [00:00<?, ?it/s]"
      ]
     },
     "metadata": {},
     "output_type": "display_data"
    },
    {
     "name": "stdout",
     "output_type": "stream",
     "text": [
      "{'eval_loss': 0.065916046500206, 'eval_accuracy': 21.471354166666668, 'eval_runtime': 1.0303, 'eval_samples_per_second': 58.238, 'eval_steps_per_second': 14.559, 'epoch': 1.0}\n"
     ]
    },
    {
     "data": {
      "application/vnd.jupyter.widget-view+json": {
       "model_id": "cb900c80d54844819a3700e2ceff05a0",
       "version_major": 2,
       "version_minor": 0
      },
      "text/plain": [
       "  0%|          | 0/15 [00:00<?, ?it/s]"
      ]
     },
     "metadata": {},
     "output_type": "display_data"
    },
    {
     "name": "stdout",
     "output_type": "stream",
     "text": [
      "{'eval_loss': 0.06569726020097733, 'eval_accuracy': 21.5625, 'eval_runtime': 1.0272, 'eval_samples_per_second': 58.41, 'eval_steps_per_second': 14.602, 'epoch': 2.0}\n"
     ]
    },
    {
     "data": {
      "application/vnd.jupyter.widget-view+json": {
       "model_id": "71a74e5d762644008715bc398b22c482",
       "version_major": 2,
       "version_minor": 0
      },
      "text/plain": [
       "  0%|          | 0/15 [00:00<?, ?it/s]"
      ]
     },
     "metadata": {},
     "output_type": "display_data"
    },
    {
     "name": "stdout",
     "output_type": "stream",
     "text": [
      "{'eval_loss': 0.06993703544139862, 'eval_accuracy': 21.497395833333332, 'eval_runtime': 1.0523, 'eval_samples_per_second': 57.017, 'eval_steps_per_second': 14.254, 'epoch': 3.0}\n",
      "{'loss': 0.1209, 'grad_norm': 0.02673593908548355, 'learning_rate': 0.0007530864197530865, 'epoch': 3.7}\n"
     ]
    },
    {
     "data": {
      "application/vnd.jupyter.widget-view+json": {
       "model_id": "98d37d17c5994fe39ee8a54257799bd1",
       "version_major": 2,
       "version_minor": 0
      },
      "text/plain": [
       "  0%|          | 0/15 [00:00<?, ?it/s]"
      ]
     },
     "metadata": {},
     "output_type": "display_data"
    },
    {
     "name": "stdout",
     "output_type": "stream",
     "text": [
      "{'eval_loss': 0.09362209588289261, 'eval_accuracy': 21.471354166666668, 'eval_runtime': 1.0793, 'eval_samples_per_second': 55.591, 'eval_steps_per_second': 13.898, 'epoch': 4.0}\n"
     ]
    },
    {
     "data": {
      "application/vnd.jupyter.widget-view+json": {
       "model_id": "a8bdb01878ea429dbef1653a656f32d1",
       "version_major": 2,
       "version_minor": 0
      },
      "text/plain": [
       "  0%|          | 0/15 [00:00<?, ?it/s]"
      ]
     },
     "metadata": {},
     "output_type": "display_data"
    },
    {
     "name": "stdout",
     "output_type": "stream",
     "text": [
      "{'eval_loss': 0.11780867725610733, 'eval_accuracy': 21.432291666666668, 'eval_runtime': 1.0546, 'eval_samples_per_second': 56.893, 'eval_steps_per_second': 14.223, 'epoch': 5.0}\n"
     ]
    },
    {
     "data": {
      "application/vnd.jupyter.widget-view+json": {
       "model_id": "82fb42a54f9b47c49d75ff5167c5f2dd",
       "version_major": 2,
       "version_minor": 0
      },
      "text/plain": [
       "  0%|          | 0/15 [00:00<?, ?it/s]"
      ]
     },
     "metadata": {},
     "output_type": "display_data"
    },
    {
     "name": "stdout",
     "output_type": "stream",
     "text": [
      "{'eval_loss': 0.15120306611061096, 'eval_accuracy': 21.328125, 'eval_runtime': 0.9562, 'eval_samples_per_second': 62.751, 'eval_steps_per_second': 15.688, 'epoch': 6.0}\n"
     ]
    },
    {
     "data": {
      "application/vnd.jupyter.widget-view+json": {
       "model_id": "897719a53a4f434ca67766d2505a0433",
       "version_major": 2,
       "version_minor": 0
      },
      "text/plain": [
       "  0%|          | 0/15 [00:00<?, ?it/s]"
      ]
     },
     "metadata": {},
     "output_type": "display_data"
    },
    {
     "name": "stdout",
     "output_type": "stream",
     "text": [
      "{'eval_loss': 0.13001063466072083, 'eval_accuracy': 21.471354166666668, 'eval_runtime': 1.0244, 'eval_samples_per_second': 58.572, 'eval_steps_per_second': 14.643, 'epoch': 7.0}\n",
      "{'loss': 0.0743, 'grad_norm': 2.1306276321411133, 'learning_rate': 0.0005061728395061728, 'epoch': 7.41}\n"
     ]
    },
    {
     "data": {
      "application/vnd.jupyter.widget-view+json": {
       "model_id": "d2424bd128714589a180d85d87bc6b48",
       "version_major": 2,
       "version_minor": 0
      },
      "text/plain": [
       "  0%|          | 0/15 [00:00<?, ?it/s]"
      ]
     },
     "metadata": {},
     "output_type": "display_data"
    },
    {
     "name": "stdout",
     "output_type": "stream",
     "text": [
      "{'eval_loss': 0.14737963676452637, 'eval_accuracy': 21.328125, 'eval_runtime': 1.0305, 'eval_samples_per_second': 58.222, 'eval_steps_per_second': 14.556, 'epoch': 8.0}\n"
     ]
    },
    {
     "data": {
      "application/vnd.jupyter.widget-view+json": {
       "model_id": "8004030428ed47ea82649128e4131e25",
       "version_major": 2,
       "version_minor": 0
      },
      "text/plain": [
       "  0%|          | 0/15 [00:00<?, ?it/s]"
      ]
     },
     "metadata": {},
     "output_type": "display_data"
    },
    {
     "name": "stdout",
     "output_type": "stream",
     "text": [
      "{'eval_loss': 0.15128883719444275, 'eval_accuracy': 21.315104166666668, 'eval_runtime': 1.0265, 'eval_samples_per_second': 58.449, 'eval_steps_per_second': 14.612, 'epoch': 9.0}\n"
     ]
    },
    {
     "data": {
      "application/vnd.jupyter.widget-view+json": {
       "model_id": "b200ec15d8a349ee8153ecfca7ace411",
       "version_major": 2,
       "version_minor": 0
      },
      "text/plain": [
       "  0%|          | 0/15 [00:00<?, ?it/s]"
      ]
     },
     "metadata": {},
     "output_type": "display_data"
    },
    {
     "name": "stdout",
     "output_type": "stream",
     "text": [
      "{'eval_loss': 0.14466363191604614, 'eval_accuracy': 21.354166666666664, 'eval_runtime': 1.0308, 'eval_samples_per_second': 58.206, 'eval_steps_per_second': 14.552, 'epoch': 10.0}\n"
     ]
    },
    {
     "data": {
      "application/vnd.jupyter.widget-view+json": {
       "model_id": "0cf0731834b843c9a82b87df0ace8691",
       "version_major": 2,
       "version_minor": 0
      },
      "text/plain": [
       "  0%|          | 0/15 [00:00<?, ?it/s]"
      ]
     },
     "metadata": {},
     "output_type": "display_data"
    },
    {
     "name": "stdout",
     "output_type": "stream",
     "text": [
      "{'eval_loss': 0.15154902637004852, 'eval_accuracy': 21.302083333333332, 'eval_runtime': 1.0375, 'eval_samples_per_second': 57.83, 'eval_steps_per_second': 14.458, 'epoch': 11.0}\n",
      "{'loss': 0.0682, 'grad_norm': 0.020695971325039864, 'learning_rate': 0.00025925925925925926, 'epoch': 11.11}\n"
     ]
    },
    {
     "data": {
      "application/vnd.jupyter.widget-view+json": {
       "model_id": "20dfd4d0fc454591a6fdde406ed870d1",
       "version_major": 2,
       "version_minor": 0
      },
      "text/plain": [
       "  0%|          | 0/15 [00:00<?, ?it/s]"
      ]
     },
     "metadata": {},
     "output_type": "display_data"
    },
    {
     "name": "stdout",
     "output_type": "stream",
     "text": [
      "{'eval_loss': 0.1583031266927719, 'eval_accuracy': 21.315104166666668, 'eval_runtime': 0.9766, 'eval_samples_per_second': 61.44, 'eval_steps_per_second': 15.36, 'epoch': 12.0}\n"
     ]
    },
    {
     "data": {
      "application/vnd.jupyter.widget-view+json": {
       "model_id": "15442b4a0ebf4cdcbf4784c1167fb52f",
       "version_major": 2,
       "version_minor": 0
      },
      "text/plain": [
       "  0%|          | 0/15 [00:00<?, ?it/s]"
      ]
     },
     "metadata": {},
     "output_type": "display_data"
    },
    {
     "name": "stdout",
     "output_type": "stream",
     "text": [
      "{'eval_loss': 0.15455564856529236, 'eval_accuracy': 21.315104166666668, 'eval_runtime': 1.0414, 'eval_samples_per_second': 57.612, 'eval_steps_per_second': 14.403, 'epoch': 13.0}\n"
     ]
    },
    {
     "data": {
      "application/vnd.jupyter.widget-view+json": {
       "model_id": "4a7161306aa34aa0acfbe39b897093b3",
       "version_major": 2,
       "version_minor": 0
      },
      "text/plain": [
       "  0%|          | 0/15 [00:00<?, ?it/s]"
      ]
     },
     "metadata": {},
     "output_type": "display_data"
    },
    {
     "name": "stdout",
     "output_type": "stream",
     "text": [
      "{'eval_loss': 0.16262108087539673, 'eval_accuracy': 21.302083333333332, 'eval_runtime': 1.0416, 'eval_samples_per_second': 57.606, 'eval_steps_per_second': 14.401, 'epoch': 14.0}\n",
      "{'loss': 0.059, 'grad_norm': 0.04367281496524811, 'learning_rate': 1.2345679012345678e-05, 'epoch': 14.81}\n"
     ]
    },
    {
     "data": {
      "application/vnd.jupyter.widget-view+json": {
       "model_id": "d9e62571f3b5471cbebb6860fd436969",
       "version_major": 2,
       "version_minor": 0
      },
      "text/plain": [
       "  0%|          | 0/15 [00:00<?, ?it/s]"
      ]
     },
     "metadata": {},
     "output_type": "display_data"
    },
    {
     "name": "stdout",
     "output_type": "stream",
     "text": [
      "{'eval_loss': 0.16361400485038757, 'eval_accuracy': 21.302083333333332, 'eval_runtime': 1.0406, 'eval_samples_per_second': 57.657, 'eval_steps_per_second': 14.414, 'epoch': 15.0}\n",
      "{'train_runtime': 347.6559, 'train_samples_per_second': 23.256, 'train_steps_per_second': 5.825, 'train_loss': 0.08047515139167691, 'epoch': 15.0}\n"
     ]
    },
    {
     "data": {
      "text/plain": [
       "TrainOutput(global_step=2025, training_loss=0.08047515139167691, metrics={'train_runtime': 347.6559, 'train_samples_per_second': 23.256, 'train_steps_per_second': 5.825, 'total_flos': 1916278064870400.0, 'train_loss': 0.08047515139167691, 'epoch': 15.0})"
      ]
     },
     "execution_count": 18,
     "metadata": {},
     "output_type": "execute_result"
    }
   ],
   "source": [
    "def compute_metrics(eval_pred):\n",
    "    predictions, labels = eval_pred\n",
    "    predictions = np.argmax(predictions, axis=-1)\n",
    "    return {\"accuracy\": (predictions == labels).mean()*100}\n",
    "\n",
    "\n",
    "trainer = Trainer(\n",
    "    model=peft_model,\n",
    "    args=TrainingArguments(\n",
    "        output_dir=\"gpt2-token-clf\",\n",
    "        learning_rate=1e-3,\n",
    "        per_device_train_batch_size=4,\n",
    "        per_device_eval_batch_size=4,\n",
    "        num_train_epochs=15,\n",
    "        weight_decay=0.01,\n",
    "        eval_strategy=\"epoch\",\n",
    "        save_strategy=\"epoch\",\n",
    "        load_best_model_at_end=True,\n",
    "    ),\n",
    "    train_dataset=processed_data_train,\n",
    "    eval_dataset=processed_data_test,\n",
    "    processing_class=tokenizer,\n",
    "    data_collator=DataCollatorWithPadding(tokenizer=tokenizer),\n",
    "    compute_metrics=compute_metrics,\n",
    ")\n",
    "\n",
    "print(\"Starting to train...\")\n",
    "trainer.train()"
   ]
  },
  {
   "cell_type": "code",
   "execution_count": null,
   "metadata": {},
   "outputs": [],
   "source": []
  }
 ],
 "metadata": {
  "kernelspec": {
   "display_name": "nlp",
   "language": "python",
   "name": "python3"
  },
  "language_info": {
   "codemirror_mode": {
    "name": "ipython",
    "version": 3
   },
   "file_extension": ".py",
   "mimetype": "text/x-python",
   "name": "python",
   "nbconvert_exporter": "python",
   "pygments_lexer": "ipython3",
   "version": "3.11.10"
  }
 },
 "nbformat": 4,
 "nbformat_minor": 2
}
