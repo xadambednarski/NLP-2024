{
 "cells": [
  {
   "cell_type": "code",
   "execution_count": 1,
   "metadata": {},
   "outputs": [
    {
     "name": "stderr",
     "output_type": "stream",
     "text": [
      "/home/lukasz/miniconda3/envs/nlp/lib/python3.11/site-packages/tqdm/auto.py:21: TqdmWarning: IProgress not found. Please update jupyter and ipywidgets. See https://ipywidgets.readthedocs.io/en/stable/user_install.html\n",
      "  from .autonotebook import tqdm as notebook_tqdm\n"
     ]
    }
   ],
   "source": [
    "import json\n",
    "from pathlib import Path\n",
    "\n",
    "from datasets import load_dataset\n",
    "from transformers import AutoTokenizer, BertForSequenceClassification, DataCollatorWithPadding, Trainer, TrainingArguments, pipeline\n",
    "from peft import LoraConfig, TaskType, get_peft_model\n",
    "import numpy as np\n",
    "import torch"
   ]
  },
  {
   "cell_type": "code",
   "execution_count": 2,
   "metadata": {},
   "outputs": [],
   "source": [
    "json_files = list(Path(\"./data/ground_truth\").rglob(\"*.jsonl\"))"
   ]
  },
  {
   "cell_type": "code",
   "execution_count": 3,
   "metadata": {},
   "outputs": [],
   "source": [
    "full_dataset = []\n",
    "\n",
    "for file in json_files:\n",
    "    with open(file, \"r\") as f:\n",
    "        lines = [json.loads(line) for line in f]\n",
    "    full_dataset.extend(lines)"
   ]
  },
  {
   "cell_type": "code",
   "execution_count": 4,
   "metadata": {},
   "outputs": [],
   "source": [
    "mapping = {\n",
    "    \"Mowa nienawiści\": \"Hate\",\n",
    "    \"Neutralny\": \"Neutral\",\n",
    "    \"Odwracanie\": \"Neutral\",\n",
    "    \"Wzmacnianie\": \"Hate\"\n",
    "}\n",
    "\n",
    "def get_label(labels):\n",
    "    label = labels[0][2]\n",
    "    if label in mapping:\n",
    "        label = mapping[label]\n",
    "    return label"
   ]
  },
  {
   "cell_type": "code",
   "execution_count": 5,
   "metadata": {},
   "outputs": [],
   "source": [
    "from sklearn.model_selection import train_test_split"
   ]
  },
  {
   "cell_type": "code",
   "execution_count": 6,
   "metadata": {},
   "outputs": [],
   "source": [
    "full_dataset_filtered = [{\"text\": sample[\"text\"], \"label\": get_label(sample[\"label\"])} for sample in full_dataset]"
   ]
  },
  {
   "cell_type": "code",
   "execution_count": 7,
   "metadata": {},
   "outputs": [],
   "source": [
    "train_ds, test_ds = train_test_split(full_dataset_filtered, test_size=0.1, random_state=42)"
   ]
  },
  {
   "cell_type": "code",
   "execution_count": 8,
   "metadata": {},
   "outputs": [],
   "source": [
    "with open(\"./sentences/train.jsonl\", 'w') as f:\n",
    "    for item in train_ds:\n",
    "        f.write(json.dumps(item) + '\\n')\n",
    "\n",
    "\n",
    "with open(\"./sentences/test.jsonl\", 'w') as f:\n",
    "    for item in test_ds:\n",
    "        f.write(json.dumps(item) + '\\n')"
   ]
  },
  {
   "cell_type": "code",
   "execution_count": 9,
   "metadata": {},
   "outputs": [
    {
     "name": "stderr",
     "output_type": "stream",
     "text": [
      "Generating train split: 539 examples [00:00, 73704.23 examples/s]\n",
      "Generating test split: 60 examples [00:00, 73865.05 examples/s]"
     ]
    },
    {
     "name": "stdout",
     "output_type": "stream",
     "text": [
      "DatasetDict({\n",
      "    train: Dataset({\n",
      "        features: ['text', 'label'],\n",
      "        num_rows: 539\n",
      "    })\n",
      "    test: Dataset({\n",
      "        features: ['text', 'label'],\n",
      "        num_rows: 60\n",
      "    })\n",
      "})\n"
     ]
    },
    {
     "name": "stderr",
     "output_type": "stream",
     "text": [
      "\n"
     ]
    }
   ],
   "source": [
    "data_files = {\"train\": \"train.jsonl\", \"test\": \"test.jsonl\"}\n",
    "dataset = load_dataset(\"./sentences\", data_files=data_files)\n",
    "print(dataset)"
   ]
  },
  {
   "cell_type": "code",
   "execution_count": 10,
   "metadata": {},
   "outputs": [
    {
     "data": {
      "text/plain": [
       "Dataset({\n",
       "    features: ['text', 'label'],\n",
       "    num_rows: 539\n",
       "})"
      ]
     },
     "execution_count": 10,
     "metadata": {},
     "output_type": "execute_result"
    }
   ],
   "source": [
    "dataset[\"train\"]"
   ]
  },
  {
   "cell_type": "code",
   "execution_count": 11,
   "metadata": {},
   "outputs": [
    {
     "name": "stderr",
     "output_type": "stream",
     "text": [
      "Some weights of BertForSequenceClassification were not initialized from the model checkpoint at bert-base-multilingual-cased and are newly initialized: ['classifier.bias', 'classifier.weight']\n",
      "You should probably TRAIN this model on a down-stream task to be able to use it for predictions and inference.\n"
     ]
    }
   ],
   "source": [
    "sorted_labels = sorted(set([sample[\"label\"] for sample in train_ds]))\n",
    "label2id = dict(zip(sorted_labels, range(0, len(sorted_labels))))\n",
    "id2label = dict(zip(range(0, len(sorted_labels)), sorted_labels))\n",
    "\n",
    "tokenizer = AutoTokenizer.from_pretrained(\"bert-base-multilingual-cased\", return_tensors=\"pt\")\n",
    "model = BertForSequenceClassification.from_pretrained(\"bert-base-multilingual-cased\",\n",
    "                                                                      num_labels=len(label2id),\n",
    "                                                                      label2id=label2id,\n",
    "                                                                      id2label=id2label)"
   ]
  },
  {
   "cell_type": "code",
   "execution_count": 39,
   "metadata": {},
   "outputs": [
    {
     "name": "stderr",
     "output_type": "stream",
     "text": [
      "Map: 100%|██████████| 539/539 [00:00<00:00, 7912.04 examples/s]\n",
      "Map: 100%|██████████| 60/60 [00:00<00:00, 6119.65 examples/s]"
     ]
    },
    {
     "name": "stdout",
     "output_type": "stream",
     "text": [
      "{'train': Dataset({\n",
      "    features: ['text', 'label', 'input_ids', 'token_type_ids', 'attention_mask'],\n",
      "    num_rows: 539\n",
      "}), 'test': Dataset({\n",
      "    features: ['text', 'label', 'input_ids', 'token_type_ids', 'attention_mask'],\n",
      "    num_rows: 60\n",
      "})}\n"
     ]
    },
    {
     "name": "stderr",
     "output_type": "stream",
     "text": [
      "\n"
     ]
    }
   ],
   "source": [
    "def preprocess_function(examples):\n",
    "    \"\"\"Preprocess the dataset by returning tokenized examples.\"\"\"\n",
    "    tokens = tokenizer(examples[\"text\"], padding=\"max_length\", truncation=True)\n",
    "    tokens['label'] = [label2id[l] for l in examples[\"label\"]]\n",
    "    return tokens\n",
    "\n",
    "splits = ['train', 'test']\n",
    "\n",
    "tokenized_ds = {}\n",
    "\n",
    "for split in splits:\n",
    "    tokenized_ds[split] = dataset[split].map(preprocess_function, batched=True)\n",
    "\n",
    "print(tokenized_ds)"
   ]
  },
  {
   "cell_type": "code",
   "execution_count": 40,
   "metadata": {},
   "outputs": [
    {
     "name": "stdout",
     "output_type": "stream",
     "text": [
      "BertModel(\n",
      "  (embeddings): BertEmbeddings(\n",
      "    (word_embeddings): Embedding(119547, 768, padding_idx=0)\n",
      "    (position_embeddings): Embedding(512, 768)\n",
      "    (token_type_embeddings): Embedding(2, 768)\n",
      "    (LayerNorm): LayerNorm((768,), eps=1e-12, elementwise_affine=True)\n",
      "    (dropout): Dropout(p=0.1, inplace=False)\n",
      "  )\n",
      "  (encoder): BertEncoder(\n",
      "    (layer): ModuleList(\n",
      "      (0-11): 12 x BertLayer(\n",
      "        (attention): BertAttention(\n",
      "          (self): BertSdpaSelfAttention(\n",
      "            (query): lora.Linear(\n",
      "              (base_layer): Linear(in_features=768, out_features=768, bias=True)\n",
      "              (lora_dropout): ModuleDict(\n",
      "                (default): Dropout(p=0.1, inplace=False)\n",
      "              )\n",
      "              (lora_A): ModuleDict(\n",
      "                (default): Linear(in_features=768, out_features=64, bias=False)\n",
      "              )\n",
      "              (lora_B): ModuleDict(\n",
      "                (default): Linear(in_features=64, out_features=768, bias=False)\n",
      "              )\n",
      "              (lora_embedding_A): ParameterDict()\n",
      "              (lora_embedding_B): ParameterDict()\n",
      "              (lora_magnitude_vector): ModuleDict()\n",
      "            )\n",
      "            (key): Linear(in_features=768, out_features=768, bias=True)\n",
      "            (value): lora.Linear(\n",
      "              (base_layer): Linear(in_features=768, out_features=768, bias=True)\n",
      "              (lora_dropout): ModuleDict(\n",
      "                (default): Dropout(p=0.1, inplace=False)\n",
      "              )\n",
      "              (lora_A): ModuleDict(\n",
      "                (default): Linear(in_features=768, out_features=64, bias=False)\n",
      "              )\n",
      "              (lora_B): ModuleDict(\n",
      "                (default): Linear(in_features=64, out_features=768, bias=False)\n",
      "              )\n",
      "              (lora_embedding_A): ParameterDict()\n",
      "              (lora_embedding_B): ParameterDict()\n",
      "              (lora_magnitude_vector): ModuleDict()\n",
      "            )\n",
      "            (dropout): Dropout(p=0.1, inplace=False)\n",
      "          )\n",
      "          (output): BertSelfOutput(\n",
      "            (dense): Linear(in_features=768, out_features=768, bias=True)\n",
      "            (LayerNorm): LayerNorm((768,), eps=1e-12, elementwise_affine=True)\n",
      "            (dropout): Dropout(p=0.1, inplace=False)\n",
      "          )\n",
      "        )\n",
      "        (intermediate): BertIntermediate(\n",
      "          (dense): Linear(in_features=768, out_features=3072, bias=True)\n",
      "          (intermediate_act_fn): GELUActivation()\n",
      "        )\n",
      "        (output): BertOutput(\n",
      "          (dense): Linear(in_features=3072, out_features=768, bias=True)\n",
      "          (LayerNorm): LayerNorm((768,), eps=1e-12, elementwise_affine=True)\n",
      "          (dropout): Dropout(p=0.1, inplace=False)\n",
      "        )\n",
      "      )\n",
      "    )\n",
      "  )\n",
      "  (pooler): BertPooler(\n",
      "    (dense): Linear(in_features=768, out_features=768, bias=True)\n",
      "    (activation): Tanh()\n",
      "  )\n",
      ")\n"
     ]
    }
   ],
   "source": [
    "lora_config = LoraConfig(\n",
    "    task_type=TaskType.SEQ_CLS, r=64, lora_alpha=1, lora_dropout=0.1\n",
    ")\n",
    "\n",
    "peft_model = get_peft_model(model, lora_config)\n",
    "print(peft_model.bert)"
   ]
  },
  {
   "cell_type": "code",
   "execution_count": 137,
   "metadata": {},
   "outputs": [
    {
     "name": "stdout",
     "output_type": "stream",
     "text": [
      "Starting to train...\n"
     ]
    },
    {
     "name": "stderr",
     "output_type": "stream",
     "text": [
      " 33%|███▎      | 135/405 [00:25<00:48,  5.55it/s]\n",
      " 33%|███▎      | 135/405 [00:27<00:48,  5.55it/s]"
     ]
    },
    {
     "name": "stdout",
     "output_type": "stream",
     "text": [
      "{'eval_loss': 0.2990708649158478, 'eval_accuracy': 90.0, 'eval_f1': 0.9423076923076923, 'eval_runtime': 1.1695, 'eval_samples_per_second': 51.305, 'eval_steps_per_second': 12.826, 'epoch': 1.0}\n"
     ]
    },
    {
     "name": "stderr",
     "output_type": "stream",
     "text": [
      " 67%|██████▋   | 270/405 [00:53<00:25,  5.37it/s]\n",
      " 67%|██████▋   | 270/405 [00:55<00:25,  5.37it/s]"
     ]
    },
    {
     "name": "stdout",
     "output_type": "stream",
     "text": [
      "{'eval_loss': 0.33946430683135986, 'eval_accuracy': 91.66666666666666, 'eval_f1': 0.9541284403669725, 'eval_runtime': 1.197, 'eval_samples_per_second': 50.124, 'eval_steps_per_second': 12.531, 'epoch': 2.0}\n"
     ]
    },
    {
     "name": "stderr",
     "output_type": "stream",
     "text": [
      "100%|██████████| 405/405 [01:22<00:00,  5.31it/s]\n",
      "100%|██████████| 405/405 [01:24<00:00,  5.31it/s]"
     ]
    },
    {
     "name": "stdout",
     "output_type": "stream",
     "text": [
      "{'eval_loss': 0.3265886902809143, 'eval_accuracy': 95.0, 'eval_f1': 0.9714285714285714, 'eval_runtime': 1.1932, 'eval_samples_per_second': 50.284, 'eval_steps_per_second': 12.571, 'epoch': 3.0}\n"
     ]
    },
    {
     "name": "stderr",
     "output_type": "stream",
     "text": [
      "100%|██████████| 405/405 [01:24<00:00,  4.79it/s]"
     ]
    },
    {
     "name": "stdout",
     "output_type": "stream",
     "text": [
      "{'train_runtime': 84.5894, 'train_samples_per_second': 19.116, 'train_steps_per_second': 4.788, 'train_loss': 0.22308852584273728, 'epoch': 3.0}\n"
     ]
    },
    {
     "name": "stderr",
     "output_type": "stream",
     "text": [
      "\n"
     ]
    },
    {
     "data": {
      "text/plain": [
       "TrainOutput(global_step=405, training_loss=0.22308852584273728, metrics={'train_runtime': 84.5894, 'train_samples_per_second': 19.116, 'train_steps_per_second': 4.788, 'total_flos': 437177839988736.0, 'train_loss': 0.22308852584273728, 'epoch': 3.0})"
      ]
     },
     "execution_count": 137,
     "metadata": {},
     "output_type": "execute_result"
    }
   ],
   "source": [
    "from sklearn.metrics import f1_score\n",
    "\n",
    "def compute_metrics(eval_pred):\n",
    "    predictions, labels = eval_pred\n",
    "    predictions = np.argmax(predictions, axis=1)\n",
    "    f1 = f1_score(labels, predictions) \n",
    "    return {\"accuracy\": (predictions == labels).mean()*100, \"f1\": f1}\n",
    "\n",
    "\n",
    "trainer = Trainer(\n",
    "    model=peft_model,\n",
    "    args=TrainingArguments(\n",
    "        output_dir=\"bert-sentence-clf\",\n",
    "        learning_rate=2e-3,\n",
    "        per_device_train_batch_size=4,\n",
    "        per_device_eval_batch_size=4,\n",
    "        num_train_epochs=15,\n",
    "        weight_decay=0.01,\n",
    "        eval_strategy=\"epoch\",\n",
    "        save_strategy=\"epoch\",\n",
    "        load_best_model_at_end=True,\n",
    "    ),\n",
    "    train_dataset=tokenized_ds[\"train\"],\n",
    "    eval_dataset=tokenized_ds[\"test\"],\n",
    "    processing_class=tokenizer,\n",
    "    data_collator=DataCollatorWithPadding(tokenizer=tokenizer),\n",
    "    compute_metrics=compute_metrics,\n",
    ")\n",
    "\n",
    "print(\"Starting to train...\")\n",
    "trainer.train()"
   ]
  },
  {
   "cell_type": "code",
   "execution_count": null,
   "metadata": {},
   "outputs": [],
   "source": [
    "from sklearn.manifold import TSNE\n",
    "import pandas as pd\n",
    "import plotly.express as px"
   ]
  },
  {
   "cell_type": "code",
   "execution_count": 156,
   "metadata": {},
   "outputs": [
    {
     "data": {
      "application/vnd.plotly.v1+json": {
       "config": {
        "plotlyServerURL": "https://plot.ly"
       },
       "data": [
        {
         "customdata": [
          [
           "@anonymized_account Lis biedny kręci się wokół własnego ogona i ciągle próbuję marudzić A to już mu nie wychodzi"
          ],
          [
           "@anonymized_account A w Łodzi Panie Łukaszu na razie Hania,przez niektórych zwana szachrajka😁😁"
          ],
          [
           "@anonymized_account Sorry Pogoń, trzech Waszych w moim @anonymized_account zostało."
          ],
          [
           "@anonymized_account @anonymized_account Co ty tam w tym Koźlu Kędzierzysz?"
          ],
          [
           "@anonymized_account no to jak to jest że się nie da grać w kosza a się wygrywa z mistrzyniami Europy ?"
          ],
          [
           "@anonymized_account Lis biedny kręci się wokół własnego ogona i ciągle próbuję marudzić A to już mu nie wychodzi"
          ],
          [
           "Podobno mają wprowadzić maseczki antysmogowe ze specjalnym otworkiem na papierosa."
          ],
          [
           "Co się musi dziać teraz u @anonymized_account 😄"
          ],
          [
           "Sprzedać za 50 mln Paulinho i kupić (podobno) za 30 mln Vidala - nie poznaję Barcelony."
          ],
          [
           "@anonymized_account Panie Andrzeju jeszcze pan będzie prosił o te leki przeciw bólowe 😀"
          ],
          [
           "@anonymized_account Pogba nie był na pozycji spalonej."
          ],
          [
           "#dividetourwarsaw i need to know CO Z AKCJA KTÓRA WŁAŚNIE POWINNA IŚĆ NAM ZAJEBISCIE"
          ],
          [
           "PROFESOR JEST NA SPOTIFY UMARŁAM XDD"
          ],
          [
           "Dużo tego jeszcze było ale nie chce mi się pisać i tak nikogo to nie interesuje"
          ],
          [
           "@anonymized_account @anonymized_account mi się ten styl podoba 💪 oby tak dalej :)"
          ],
          [
           "@anonymized_account @anonymized_account @anonymized_account W stop klatkach widać ze jak by to było po stronie drugiej (legi) to karny by był"
          ],
          [
           "@anonymized_account burmistrz z platka kwiatka przypomina mi burmistrza Kluczborka"
          ],
          [
           "@anonymized_account @anonymized_account w ekstraklasie też nie ma"
          ],
          [
           "Patrzysz na @anonymized_account @anonymized_account @anonymized_account i wiesz że idzie wojna"
          ],
          [
           "RT @anonymized_account Przypominam.  Kto taśmami wojuje..."
          ],
          [
           "vans do chuja przestań robić choć na chwilę zajebiste kolekcje bo w moim portfelu pieniądzen't"
          ],
          [
           "@anonymized_account Już dwa lata temu powinni wygrac Euro."
          ],
          [
           "@anonymized_account @anonymized_account A niby z jakiego powodu? Żeby mogła sprawować swój urząd? Chyba żart!"
          ],
          [
           "@anonymized_account @anonymized_account @anonymized_account @anonymized_account Nieeee, Gryszkiewicz nie grał, to akurat nie o nim."
          ],
          [
           "RT @anonymized_account Zawsze jak ide do przymiezalni do h\\u0026amp;m to przeżywam szok, ze naprawde wyglądam tak, jak widać to w tym lustrze od tylu…"
          ],
          [
           "@anonymized_account @anonymized_account Według mnie to fake wypucha na zdjęciu niejest miś chyba żeby się tak strasznie zmienił w ostatnim czasie"
          ],
          [
           "@anonymized_account @anonymized_account Nawet podobny do niego, prawda ?xD"
          ],
          [
           "Bild po wczorajszej demolce przy Ł3: \\\"Po co w LM takie ogórki? III-ligowy Trier sprawił BVB w P. Niemiec więcej problemów niż Legia w LM\\\""
          ],
          [
           "RT @anonymized_account Morawiecki senior robi w trąbę zmarłych, syn żywych. Taki podział ról."
          ],
          [
           "@anonymized_account Pani Malarz trza być obiektywnym dziennikarką to ze legia gra piach to normalka nic dziwnego"
          ],
          [
           "@anonymized_account A ManUtd czasami wczoraj nie odpadł ?:)"
          ],
          [
           "@anonymized_account @anonymized_account a trenerem został Szymon Pawłowski :)"
          ],
          [
           "@anonymized_account Nie nazwałbym tego dziennikarstwem 😂"
          ],
          [
           "@anonymized_account o ile się nie myle to ta twarda ręka była jednym z powodów jego zwolnienia :)"
          ],
          [
           "@anonymized_account Błędem było jego zatrudnienie a nie zwolnienie"
          ],
          [
           "@anonymized_account @anonymized_account Oj tam, ale chyba po raz pierwszy odpadną przed nami 😂"
          ],
          [
           "Podobno mają wprowadzić maseczki antysmogowe ze specjalnym otworkiem na papierosa."
          ],
          [
           "RT @anonymized_account @anonymized_account @anonymized_account Wzrusza mnie ta wasza troska. I rozumiem ją. W końcu jest lotnisko w Niemczech. A więc u nas n…"
          ],
          [
           "@anonymized_account @anonymized_account Nawet podobny do niego, prawda ?xD"
          ],
          [
           "@anonymized_account @anonymized_account No pewnie. Niepełnosprawnych zamkneliscie w sejmie to się zrobiło bezpiecznie na ulicach. Taka prawda kłamco."
          ],
          [
           "@anonymized_account Tomek niesluchaj radia jak juz tak Cię denerwuje zwykła reklama 😉 niejestem lekarzem ale podejrzewam chorobę zawodową🎤 🍻"
          ],
          [
           "@anonymized_account @anonymized_account Według mnie to fake wypucha na zdjęciu niejest miś chyba żeby się tak strasznie zmienił w ostatnim czasie"
          ],
          [
           "RT @anonymized_account @anonymized_account @anonymized_account dopiero po porodzie kobiety maja mgliste pojęcie o bólu mężczyzn z katarem."
          ],
          [
           "@anonymized_account @anonymized_account Powinni jeszcze zaprosić Gmyza i odlot będzie pełny."
          ],
          [
           "@anonymized_account dziś ciężko. Pół Warszawy postanowiło się umyć w tym samym czasie."
          ],
          [
           "@anonymized_account @anonymized_account Aha, a ktoś cię zapraszał do rozmowy?"
          ],
          [
           "RT @anonymized_account @anonymized_account @anonymized_account dopiero po porodzie kobiety maja mgliste pojęcie o bólu mężczyzn z katarem."
          ],
          [
           "@anonymized_account @anonymized_account Dlatego to nie miało żadnego większego wpływu z żadnej ze stron."
          ],
          [
           "@anonymized_account A Ty nigdy nie robisz dwóch rzeczy jednocześnie? Np. idziesz i żujesz gumę."
          ],
          [
           "@anonymized_account @anonymized_account Trochę dużo tych trenerów :P"
          ],
          [
           "Skoro wchodzi Góralski, to tym bardziej szkoda, że po drugiej stronie nie ma Vidala 😜"
          ],
          [
           "@anonymized_account to ty chłopie nie płacz że mamy takie legendy.A wy macie kogo ? PiotraBanie ?@anonymized_account @anonymized_account @anonymized_account @anonymized_account"
          ]
         ],
         "hovertemplate": "label=Neutral<br>0=%{x}<br>1=%{y}<br>text=%{customdata[0]}<extra></extra>",
         "legendgroup": "Neutral",
         "marker": {
          "color": "#636efa",
          "symbol": "circle"
         },
         "mode": "markers",
         "name": "Neutral",
         "orientation": "v",
         "showlegend": true,
         "type": "scatter",
         "x": [
          -4.859982013702393,
          -4.263295650482178,
          -5.103992938995361,
          -8.756204605102539,
          -7.910626411437988,
          -4.858627796173096,
          -3.5333304405212402,
          -5.598159313201904,
          -3.3158328533172607,
          -4.642334938049316,
          -4.7828593254089355,
          -5.861659526824951,
          -7.206375598907471,
          -2.5263636112213135,
          -6.522602558135986,
          -5.1690592765808105,
          -3.831509590148926,
          -2.4235496520996094,
          -4.393474578857422,
          -7.46437406539917,
          -3.283236026763916,
          -4.6277337074279785,
          -7.624258995056152,
          -5.810635566711426,
          -6.509023666381836,
          -4.899280071258545,
          -8.742380142211914,
          -3.3228657245635986,
          -5.160583019256592,
          -4.240246295928955,
          -6.928382396697998,
          -6.419124603271484,
          -4.3031907081604,
          -6.7837934494018555,
          -6.91811466217041,
          -4.637253761291504,
          -3.5333304405212402,
          -5.8073296546936035,
          -8.742380142211914,
          -5.731912136077881,
          -4.441829204559326,
          -4.897472381591797,
          -4.259077072143555,
          -5.969046592712402,
          -5.370696067810059,
          -8.492070198059082,
          -4.259077072143555,
          -6.037103176116943,
          -6.794669151306152,
          -5.885800361633301,
          -3.880449056625366,
          -3.8994317054748535
         ],
         "xaxis": "x",
         "y": [
          -3.704669713973999,
          -2.207868814468384,
          -3.3556511402130127,
          -5.009056091308594,
          -5.107661247253418,
          -3.7053396701812744,
          -6.398903846740723,
          -1.4796735048294067,
          -5.739034175872803,
          -1.5187033414840698,
          -7.1328043937683105,
          -0.3362707495689392,
          -0.5394520163536072,
          -3.428093671798706,
          -2.6331095695495605,
          -4.369683742523193,
          -4.4964752197265625,
          -4.656153202056885,
          -4.035743713378906,
          -1.4604798555374146,
          -3.656724452972412,
          -6.509340286254883,
          -5.692497730255127,
          -5.690741539001465,
          -1.350316047668457,
          -4.410220623016357,
          -2.4389536380767822,
          -5.173887729644775,
          -5.841890335083008,
          -4.615182876586914,
          -2.753894805908203,
          -2.9259932041168213,
          -2.0453524589538574,
          -2.6817617416381836,
          -3.777977466583252,
          -1.8003935813903809,
          -6.398903846740723,
          -1.5321825742721558,
          -2.4389536380767822,
          -5.404466152191162,
          -1.6678500175476074,
          -4.4134087562561035,
          -5.618477821350098,
          -4.670849800109863,
          -6.124608039855957,
          -5.217523574829102,
          -5.618477821350098,
          -4.916979789733887,
          -4.38094425201416,
          -3.924004316329956,
          -1.624768614768982,
          -3.308180332183838
         ],
         "yaxis": "y"
        },
        {
         "customdata": [
          [
           "@anonymized_account @anonymized_account Jednostki wojskowe funkcjonują w oparciu o karty kredytowe? Lecz się człowieku."
          ],
          [
           "@anonymized_account @anonymized_account @anonymized_account Jojo demokrata w akcji. Taki pospolity ćwierćmózg"
          ],
          [
           "@anonymized_account A nastepni będą tacy jak Terlikowski spędzający czas w kolejce do psychiatry."
          ],
          [
           "@anonymized_account Krystynę mi on przypomina ale trzeba mieć niepokoleji w głowie by się robić na Krystynę"
          ],
          [
           "@anonymized_account czy Pan Waldemar ma zakaz wjazdu Parchu, czy nie ma?"
          ],
          [
           "@anonymized_account @anonymized_account Raczej ma problem z głową. Tak jak Ty i Tobie podobni."
          ],
          [
           "@anonymized_account Polacy też wiedzą, że jednym z największych debili jest niejaki Ziemkiewicz."
          ],
          [
           "@anonymized_account @anonymized_account @anonymized_account Kurwa w jebany dzień parlamentaryzmu wszędzie barierki i psiarnia, no kurwa pięknie się to wspasowuje"
          ]
         ],
         "hovertemplate": "label=Hate<br>0=%{x}<br>1=%{y}<br>text=%{customdata[0]}<extra></extra>",
         "legendgroup": "Hate",
         "marker": {
          "color": "#EF553B",
          "symbol": "circle"
         },
         "mode": "markers",
         "name": "Hate",
         "orientation": "v",
         "showlegend": true,
         "type": "scatter",
         "x": [
          -6.605053901672363,
          -4.884660720825195,
          -5.098789215087891,
          -4.016110420227051,
          -8.238365173339844,
          -6.23439884185791,
          -5.818674087524414,
          -4.662815093994141
         ],
         "xaxis": "x",
         "y": [
          -5.6930952072143555,
          -5.147588729858398,
          -5.40084171295166,
          -4.3125128746032715,
          -5.111378192901611,
          -5.321056842803955,
          -6.898059844970703,
          -4.689627647399902
         ],
         "yaxis": "y"
        }
       ],
       "layout": {
        "legend": {
         "title": {
          "text": "label"
         },
         "tracegroupgap": 0
        },
        "margin": {
         "t": 60
        },
        "template": {
         "data": {
          "bar": [
           {
            "error_x": {
             "color": "#2a3f5f"
            },
            "error_y": {
             "color": "#2a3f5f"
            },
            "marker": {
             "line": {
              "color": "#E5ECF6",
              "width": 0.5
             },
             "pattern": {
              "fillmode": "overlay",
              "size": 10,
              "solidity": 0.2
             }
            },
            "type": "bar"
           }
          ],
          "barpolar": [
           {
            "marker": {
             "line": {
              "color": "#E5ECF6",
              "width": 0.5
             },
             "pattern": {
              "fillmode": "overlay",
              "size": 10,
              "solidity": 0.2
             }
            },
            "type": "barpolar"
           }
          ],
          "carpet": [
           {
            "aaxis": {
             "endlinecolor": "#2a3f5f",
             "gridcolor": "white",
             "linecolor": "white",
             "minorgridcolor": "white",
             "startlinecolor": "#2a3f5f"
            },
            "baxis": {
             "endlinecolor": "#2a3f5f",
             "gridcolor": "white",
             "linecolor": "white",
             "minorgridcolor": "white",
             "startlinecolor": "#2a3f5f"
            },
            "type": "carpet"
           }
          ],
          "choropleth": [
           {
            "colorbar": {
             "outlinewidth": 0,
             "ticks": ""
            },
            "type": "choropleth"
           }
          ],
          "contour": [
           {
            "colorbar": {
             "outlinewidth": 0,
             "ticks": ""
            },
            "colorscale": [
             [
              0,
              "#0d0887"
             ],
             [
              0.1111111111111111,
              "#46039f"
             ],
             [
              0.2222222222222222,
              "#7201a8"
             ],
             [
              0.3333333333333333,
              "#9c179e"
             ],
             [
              0.4444444444444444,
              "#bd3786"
             ],
             [
              0.5555555555555556,
              "#d8576b"
             ],
             [
              0.6666666666666666,
              "#ed7953"
             ],
             [
              0.7777777777777778,
              "#fb9f3a"
             ],
             [
              0.8888888888888888,
              "#fdca26"
             ],
             [
              1,
              "#f0f921"
             ]
            ],
            "type": "contour"
           }
          ],
          "contourcarpet": [
           {
            "colorbar": {
             "outlinewidth": 0,
             "ticks": ""
            },
            "type": "contourcarpet"
           }
          ],
          "heatmap": [
           {
            "colorbar": {
             "outlinewidth": 0,
             "ticks": ""
            },
            "colorscale": [
             [
              0,
              "#0d0887"
             ],
             [
              0.1111111111111111,
              "#46039f"
             ],
             [
              0.2222222222222222,
              "#7201a8"
             ],
             [
              0.3333333333333333,
              "#9c179e"
             ],
             [
              0.4444444444444444,
              "#bd3786"
             ],
             [
              0.5555555555555556,
              "#d8576b"
             ],
             [
              0.6666666666666666,
              "#ed7953"
             ],
             [
              0.7777777777777778,
              "#fb9f3a"
             ],
             [
              0.8888888888888888,
              "#fdca26"
             ],
             [
              1,
              "#f0f921"
             ]
            ],
            "type": "heatmap"
           }
          ],
          "heatmapgl": [
           {
            "colorbar": {
             "outlinewidth": 0,
             "ticks": ""
            },
            "colorscale": [
             [
              0,
              "#0d0887"
             ],
             [
              0.1111111111111111,
              "#46039f"
             ],
             [
              0.2222222222222222,
              "#7201a8"
             ],
             [
              0.3333333333333333,
              "#9c179e"
             ],
             [
              0.4444444444444444,
              "#bd3786"
             ],
             [
              0.5555555555555556,
              "#d8576b"
             ],
             [
              0.6666666666666666,
              "#ed7953"
             ],
             [
              0.7777777777777778,
              "#fb9f3a"
             ],
             [
              0.8888888888888888,
              "#fdca26"
             ],
             [
              1,
              "#f0f921"
             ]
            ],
            "type": "heatmapgl"
           }
          ],
          "histogram": [
           {
            "marker": {
             "pattern": {
              "fillmode": "overlay",
              "size": 10,
              "solidity": 0.2
             }
            },
            "type": "histogram"
           }
          ],
          "histogram2d": [
           {
            "colorbar": {
             "outlinewidth": 0,
             "ticks": ""
            },
            "colorscale": [
             [
              0,
              "#0d0887"
             ],
             [
              0.1111111111111111,
              "#46039f"
             ],
             [
              0.2222222222222222,
              "#7201a8"
             ],
             [
              0.3333333333333333,
              "#9c179e"
             ],
             [
              0.4444444444444444,
              "#bd3786"
             ],
             [
              0.5555555555555556,
              "#d8576b"
             ],
             [
              0.6666666666666666,
              "#ed7953"
             ],
             [
              0.7777777777777778,
              "#fb9f3a"
             ],
             [
              0.8888888888888888,
              "#fdca26"
             ],
             [
              1,
              "#f0f921"
             ]
            ],
            "type": "histogram2d"
           }
          ],
          "histogram2dcontour": [
           {
            "colorbar": {
             "outlinewidth": 0,
             "ticks": ""
            },
            "colorscale": [
             [
              0,
              "#0d0887"
             ],
             [
              0.1111111111111111,
              "#46039f"
             ],
             [
              0.2222222222222222,
              "#7201a8"
             ],
             [
              0.3333333333333333,
              "#9c179e"
             ],
             [
              0.4444444444444444,
              "#bd3786"
             ],
             [
              0.5555555555555556,
              "#d8576b"
             ],
             [
              0.6666666666666666,
              "#ed7953"
             ],
             [
              0.7777777777777778,
              "#fb9f3a"
             ],
             [
              0.8888888888888888,
              "#fdca26"
             ],
             [
              1,
              "#f0f921"
             ]
            ],
            "type": "histogram2dcontour"
           }
          ],
          "mesh3d": [
           {
            "colorbar": {
             "outlinewidth": 0,
             "ticks": ""
            },
            "type": "mesh3d"
           }
          ],
          "parcoords": [
           {
            "line": {
             "colorbar": {
              "outlinewidth": 0,
              "ticks": ""
             }
            },
            "type": "parcoords"
           }
          ],
          "pie": [
           {
            "automargin": true,
            "type": "pie"
           }
          ],
          "scatter": [
           {
            "fillpattern": {
             "fillmode": "overlay",
             "size": 10,
             "solidity": 0.2
            },
            "type": "scatter"
           }
          ],
          "scatter3d": [
           {
            "line": {
             "colorbar": {
              "outlinewidth": 0,
              "ticks": ""
             }
            },
            "marker": {
             "colorbar": {
              "outlinewidth": 0,
              "ticks": ""
             }
            },
            "type": "scatter3d"
           }
          ],
          "scattercarpet": [
           {
            "marker": {
             "colorbar": {
              "outlinewidth": 0,
              "ticks": ""
             }
            },
            "type": "scattercarpet"
           }
          ],
          "scattergeo": [
           {
            "marker": {
             "colorbar": {
              "outlinewidth": 0,
              "ticks": ""
             }
            },
            "type": "scattergeo"
           }
          ],
          "scattergl": [
           {
            "marker": {
             "colorbar": {
              "outlinewidth": 0,
              "ticks": ""
             }
            },
            "type": "scattergl"
           }
          ],
          "scattermapbox": [
           {
            "marker": {
             "colorbar": {
              "outlinewidth": 0,
              "ticks": ""
             }
            },
            "type": "scattermapbox"
           }
          ],
          "scatterpolar": [
           {
            "marker": {
             "colorbar": {
              "outlinewidth": 0,
              "ticks": ""
             }
            },
            "type": "scatterpolar"
           }
          ],
          "scatterpolargl": [
           {
            "marker": {
             "colorbar": {
              "outlinewidth": 0,
              "ticks": ""
             }
            },
            "type": "scatterpolargl"
           }
          ],
          "scatterternary": [
           {
            "marker": {
             "colorbar": {
              "outlinewidth": 0,
              "ticks": ""
             }
            },
            "type": "scatterternary"
           }
          ],
          "surface": [
           {
            "colorbar": {
             "outlinewidth": 0,
             "ticks": ""
            },
            "colorscale": [
             [
              0,
              "#0d0887"
             ],
             [
              0.1111111111111111,
              "#46039f"
             ],
             [
              0.2222222222222222,
              "#7201a8"
             ],
             [
              0.3333333333333333,
              "#9c179e"
             ],
             [
              0.4444444444444444,
              "#bd3786"
             ],
             [
              0.5555555555555556,
              "#d8576b"
             ],
             [
              0.6666666666666666,
              "#ed7953"
             ],
             [
              0.7777777777777778,
              "#fb9f3a"
             ],
             [
              0.8888888888888888,
              "#fdca26"
             ],
             [
              1,
              "#f0f921"
             ]
            ],
            "type": "surface"
           }
          ],
          "table": [
           {
            "cells": {
             "fill": {
              "color": "#EBF0F8"
             },
             "line": {
              "color": "white"
             }
            },
            "header": {
             "fill": {
              "color": "#C8D4E3"
             },
             "line": {
              "color": "white"
             }
            },
            "type": "table"
           }
          ]
         },
         "layout": {
          "annotationdefaults": {
           "arrowcolor": "#2a3f5f",
           "arrowhead": 0,
           "arrowwidth": 1
          },
          "autotypenumbers": "strict",
          "coloraxis": {
           "colorbar": {
            "outlinewidth": 0,
            "ticks": ""
           }
          },
          "colorscale": {
           "diverging": [
            [
             0,
             "#8e0152"
            ],
            [
             0.1,
             "#c51b7d"
            ],
            [
             0.2,
             "#de77ae"
            ],
            [
             0.3,
             "#f1b6da"
            ],
            [
             0.4,
             "#fde0ef"
            ],
            [
             0.5,
             "#f7f7f7"
            ],
            [
             0.6,
             "#e6f5d0"
            ],
            [
             0.7,
             "#b8e186"
            ],
            [
             0.8,
             "#7fbc41"
            ],
            [
             0.9,
             "#4d9221"
            ],
            [
             1,
             "#276419"
            ]
           ],
           "sequential": [
            [
             0,
             "#0d0887"
            ],
            [
             0.1111111111111111,
             "#46039f"
            ],
            [
             0.2222222222222222,
             "#7201a8"
            ],
            [
             0.3333333333333333,
             "#9c179e"
            ],
            [
             0.4444444444444444,
             "#bd3786"
            ],
            [
             0.5555555555555556,
             "#d8576b"
            ],
            [
             0.6666666666666666,
             "#ed7953"
            ],
            [
             0.7777777777777778,
             "#fb9f3a"
            ],
            [
             0.8888888888888888,
             "#fdca26"
            ],
            [
             1,
             "#f0f921"
            ]
           ],
           "sequentialminus": [
            [
             0,
             "#0d0887"
            ],
            [
             0.1111111111111111,
             "#46039f"
            ],
            [
             0.2222222222222222,
             "#7201a8"
            ],
            [
             0.3333333333333333,
             "#9c179e"
            ],
            [
             0.4444444444444444,
             "#bd3786"
            ],
            [
             0.5555555555555556,
             "#d8576b"
            ],
            [
             0.6666666666666666,
             "#ed7953"
            ],
            [
             0.7777777777777778,
             "#fb9f3a"
            ],
            [
             0.8888888888888888,
             "#fdca26"
            ],
            [
             1,
             "#f0f921"
            ]
           ]
          },
          "colorway": [
           "#636efa",
           "#EF553B",
           "#00cc96",
           "#ab63fa",
           "#FFA15A",
           "#19d3f3",
           "#FF6692",
           "#B6E880",
           "#FF97FF",
           "#FECB52"
          ],
          "font": {
           "color": "#2a3f5f"
          },
          "geo": {
           "bgcolor": "white",
           "lakecolor": "white",
           "landcolor": "#E5ECF6",
           "showlakes": true,
           "showland": true,
           "subunitcolor": "white"
          },
          "hoverlabel": {
           "align": "left"
          },
          "hovermode": "closest",
          "mapbox": {
           "style": "light"
          },
          "paper_bgcolor": "white",
          "plot_bgcolor": "#E5ECF6",
          "polar": {
           "angularaxis": {
            "gridcolor": "white",
            "linecolor": "white",
            "ticks": ""
           },
           "bgcolor": "#E5ECF6",
           "radialaxis": {
            "gridcolor": "white",
            "linecolor": "white",
            "ticks": ""
           }
          },
          "scene": {
           "xaxis": {
            "backgroundcolor": "#E5ECF6",
            "gridcolor": "white",
            "gridwidth": 2,
            "linecolor": "white",
            "showbackground": true,
            "ticks": "",
            "zerolinecolor": "white"
           },
           "yaxis": {
            "backgroundcolor": "#E5ECF6",
            "gridcolor": "white",
            "gridwidth": 2,
            "linecolor": "white",
            "showbackground": true,
            "ticks": "",
            "zerolinecolor": "white"
           },
           "zaxis": {
            "backgroundcolor": "#E5ECF6",
            "gridcolor": "white",
            "gridwidth": 2,
            "linecolor": "white",
            "showbackground": true,
            "ticks": "",
            "zerolinecolor": "white"
           }
          },
          "shapedefaults": {
           "line": {
            "color": "#2a3f5f"
           }
          },
          "ternary": {
           "aaxis": {
            "gridcolor": "white",
            "linecolor": "white",
            "ticks": ""
           },
           "baxis": {
            "gridcolor": "white",
            "linecolor": "white",
            "ticks": ""
           },
           "bgcolor": "#E5ECF6",
           "caxis": {
            "gridcolor": "white",
            "linecolor": "white",
            "ticks": ""
           }
          },
          "title": {
           "x": 0.05
          },
          "xaxis": {
           "automargin": true,
           "gridcolor": "white",
           "linecolor": "white",
           "ticks": "",
           "title": {
            "standoff": 15
           },
           "zerolinecolor": "white",
           "zerolinewidth": 2
          },
          "yaxis": {
           "automargin": true,
           "gridcolor": "white",
           "linecolor": "white",
           "ticks": "",
           "title": {
            "standoff": 15
           },
           "zerolinecolor": "white",
           "zerolinewidth": 2
          }
         }
        },
        "xaxis": {
         "anchor": "y",
         "domain": [
          0,
          1
         ],
         "title": {
          "text": "0"
         }
        },
        "yaxis": {
         "anchor": "x",
         "domain": [
          0,
          1
         ],
         "title": {
          "text": "1"
         }
        }
       }
      }
     },
     "metadata": {},
     "output_type": "display_data"
    }
   ],
   "source": [
    "texts = [sample[\"text\"] for sample in test_ds] \n",
    "inputs = tokenizer(texts, return_tensors=\"pt\", padding=True, truncation=True)\n",
    "\n",
    "bert = peft_model.base_model.model.bert\n",
    "\n",
    "bert = bert.cpu()\n",
    "bert.eval()\n",
    "with torch.no_grad():\n",
    "    outputs = bert(**inputs)\n",
    "\n",
    "tsne = TSNE()\n",
    "to_vis = tsne.fit_transform(outputs.last_hidden_state[:,0,:].squeeze().numpy())\n",
    "\n",
    "df = pd.DataFrame(to_vis)\n",
    "df[\"label\"] = [post[\"label\"] for post in test_ds]\n",
    "df[\"text\"] = [post[\"text\"] for post in test_ds]\n",
    "fig = px.scatter(df, x=0, y=1, hover_data=\"text\", color=\"label\")\n",
    "fig.show()"
   ]
  }
 ],
 "metadata": {
  "kernelspec": {
   "display_name": "nlp",
   "language": "python",
   "name": "python3"
  },
  "language_info": {
   "codemirror_mode": {
    "name": "ipython",
    "version": 3
   },
   "file_extension": ".py",
   "mimetype": "text/x-python",
   "name": "python",
   "nbconvert_exporter": "python",
   "pygments_lexer": "ipython3",
   "version": "3.11.10"
  }
 },
 "nbformat": 4,
 "nbformat_minor": 2
}
