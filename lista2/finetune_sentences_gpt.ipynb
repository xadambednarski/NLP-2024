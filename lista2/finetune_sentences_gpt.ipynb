{
 "cells": [
  {
   "cell_type": "code",
   "execution_count": 35,
   "metadata": {},
   "outputs": [],
   "source": [
    "import json\n",
    "from pathlib import Path\n",
    "\n",
    "from datasets import load_dataset\n",
    "from transformers import AutoTokenizer, GPT2ForSequenceClassification, DataCollatorWithPadding, Trainer, TrainingArguments, pipeline\n",
    "from peft import LoraConfig, TaskType, get_peft_model\n",
    "import numpy as np\n",
    "import torch"
   ]
  },
  {
   "cell_type": "code",
   "execution_count": 36,
   "metadata": {},
   "outputs": [],
   "source": [
    "json_files = list(Path(\"./data/ground_truth\").rglob(\"*.jsonl\"))"
   ]
  },
  {
   "cell_type": "code",
   "execution_count": 37,
   "metadata": {},
   "outputs": [],
   "source": [
    "full_dataset = []\n",
    "\n",
    "for file in json_files:\n",
    "    with open(file, \"r\") as f:\n",
    "        lines = [json.loads(line) for line in f]\n",
    "    full_dataset.extend(lines)"
   ]
  },
  {
   "cell_type": "code",
   "execution_count": 38,
   "metadata": {},
   "outputs": [],
   "source": [
    "mapping = {\n",
    "    \"Mowa nienawiści\": \"Hate\",\n",
    "    \"Neutralny\": \"Neutral\",\n",
    "    \"Odwracanie\": \"Neutral\",\n",
    "    \"Wzmacnianie\": \"Hate\"\n",
    "}\n",
    "\n",
    "def get_label(labels):\n",
    "    label = labels[0][2]\n",
    "    if label in mapping:\n",
    "        label = mapping[label]\n",
    "    return label"
   ]
  },
  {
   "cell_type": "code",
   "execution_count": 39,
   "metadata": {},
   "outputs": [],
   "source": [
    "from sklearn.model_selection import train_test_split"
   ]
  },
  {
   "cell_type": "code",
   "execution_count": 40,
   "metadata": {},
   "outputs": [],
   "source": [
    "full_dataset_filtered = [{\"text\": sample[\"text\"], \"label\": get_label(sample[\"label\"])} for sample in full_dataset]"
   ]
  },
  {
   "cell_type": "code",
   "execution_count": 41,
   "metadata": {},
   "outputs": [],
   "source": [
    "train_ds, test_ds = train_test_split(full_dataset_filtered, test_size=0.1, random_state=42)"
   ]
  },
  {
   "cell_type": "code",
   "execution_count": 42,
   "metadata": {},
   "outputs": [],
   "source": [
    "with open(\"./sentences/train.jsonl\", 'w') as f:\n",
    "    for item in train_ds:\n",
    "        f.write(json.dumps(item) + '\\n')\n",
    "\n",
    "\n",
    "with open(\"./sentences/test.jsonl\", 'w') as f:\n",
    "    for item in test_ds:\n",
    "        f.write(json.dumps(item) + '\\n')"
   ]
  },
  {
   "cell_type": "code",
   "execution_count": 43,
   "metadata": {},
   "outputs": [
    {
     "name": "stderr",
     "output_type": "stream",
     "text": [
      "Generating train split: 539 examples [00:00, 331631.19 examples/s]\n",
      "Generating test split: 60 examples [00:00, 40629.36 examples/s]"
     ]
    },
    {
     "name": "stdout",
     "output_type": "stream",
     "text": [
      "DatasetDict({\n",
      "    train: Dataset({\n",
      "        features: ['text', 'label'],\n",
      "        num_rows: 539\n",
      "    })\n",
      "    test: Dataset({\n",
      "        features: ['text', 'label'],\n",
      "        num_rows: 60\n",
      "    })\n",
      "})\n"
     ]
    },
    {
     "name": "stderr",
     "output_type": "stream",
     "text": [
      "\n"
     ]
    }
   ],
   "source": [
    "data_files = {\"train\": \"train.jsonl\", \"test\": \"test.jsonl\"}\n",
    "dataset = load_dataset(\"./sentences\", data_files=data_files)\n",
    "print(dataset)"
   ]
  },
  {
   "cell_type": "code",
   "execution_count": 44,
   "metadata": {},
   "outputs": [
    {
     "name": "stderr",
     "output_type": "stream",
     "text": [
      "Some weights of GPT2ForSequenceClassification were not initialized from the model checkpoint at gpt2 and are newly initialized: ['score.weight']\n",
      "You should probably TRAIN this model on a down-stream task to be able to use it for predictions and inference.\n"
     ]
    }
   ],
   "source": [
    "sorted_labels = sorted(set([sample[\"label\"] for sample in train_ds]))\n",
    "label2id = dict(zip(sorted_labels, range(0, len(sorted_labels))))\n",
    "id2label = dict(zip(range(0, len(sorted_labels)), sorted_labels))\n",
    "\n",
    "tokenizer = AutoTokenizer.from_pretrained(\"gpt2\")\n",
    "tokenizer.pad_token = tokenizer.eos_token\n",
    "model = GPT2ForSequenceClassification.from_pretrained(\"gpt2\",\n",
    "                                                        num_labels=len(label2id),\n",
    "                                                        label2id=label2id,\n",
    "                                                        id2label=id2label)\n",
    "model.config.pad_token_id = model.config.eos_token_id\n",
    "classifier = pipeline(\"text-classification\", model=model, tokenizer=tokenizer, device=\"cuda\")"
   ]
  },
  {
   "cell_type": "code",
   "execution_count": 45,
   "metadata": {},
   "outputs": [
    {
     "name": "stderr",
     "output_type": "stream",
     "text": [
      "Map: 100%|██████████| 539/539 [00:00<00:00, 21333.07 examples/s]\n",
      "Map: 100%|██████████| 60/60 [00:00<00:00, 13733.06 examples/s]"
     ]
    },
    {
     "name": "stdout",
     "output_type": "stream",
     "text": [
      "{'train': Dataset({\n",
      "    features: ['text', 'label', 'input_ids', 'attention_mask'],\n",
      "    num_rows: 539\n",
      "}), 'test': Dataset({\n",
      "    features: ['text', 'label', 'input_ids', 'attention_mask'],\n",
      "    num_rows: 60\n",
      "})}\n"
     ]
    },
    {
     "name": "stderr",
     "output_type": "stream",
     "text": [
      "\n"
     ]
    }
   ],
   "source": [
    "def preprocess_function(examples):\n",
    "    \"\"\"Preprocess the dataset by returning tokenized examples.\"\"\"\n",
    "    tokens = tokenizer(examples[\"text\"], truncation=True, padding=True)\n",
    "    tokens['label'] = [label2id[l] for l in examples[\"label\"]]\n",
    "    return tokens\n",
    "\n",
    "splits = ['train', 'test']\n",
    "\n",
    "tokenized_ds = {}\n",
    "\n",
    "for split in splits:\n",
    "    tokenized_ds[split] = dataset[split].map(preprocess_function, batched=True)\n",
    "\n",
    "print(tokenized_ds)"
   ]
  },
  {
   "cell_type": "code",
   "execution_count": 46,
   "metadata": {},
   "outputs": [
    {
     "name": "stdout",
     "output_type": "stream",
     "text": [
      "GPT2ForSequenceClassification(\n",
      "  (transformer): GPT2Model(\n",
      "    (wte): Embedding(50257, 768)\n",
      "    (wpe): Embedding(1024, 768)\n",
      "    (drop): Dropout(p=0.1, inplace=False)\n",
      "    (h): ModuleList(\n",
      "      (0-11): 12 x GPT2Block(\n",
      "        (ln_1): LayerNorm((768,), eps=1e-05, elementwise_affine=True)\n",
      "        (attn): GPT2SdpaAttention(\n",
      "          (c_attn): lora.Linear(\n",
      "            (base_layer): Conv1D(nf=2304, nx=768)\n",
      "            (lora_dropout): ModuleDict(\n",
      "              (default): Dropout(p=0.1, inplace=False)\n",
      "            )\n",
      "            (lora_A): ModuleDict(\n",
      "              (default): Linear(in_features=768, out_features=64, bias=False)\n",
      "            )\n",
      "            (lora_B): ModuleDict(\n",
      "              (default): Linear(in_features=64, out_features=2304, bias=False)\n",
      "            )\n",
      "            (lora_embedding_A): ParameterDict()\n",
      "            (lora_embedding_B): ParameterDict()\n",
      "            (lora_magnitude_vector): ModuleDict()\n",
      "          )\n",
      "          (c_proj): Conv1D(nf=768, nx=768)\n",
      "          (attn_dropout): Dropout(p=0.1, inplace=False)\n",
      "          (resid_dropout): Dropout(p=0.1, inplace=False)\n",
      "        )\n",
      "        (ln_2): LayerNorm((768,), eps=1e-05, elementwise_affine=True)\n",
      "        (mlp): GPT2MLP(\n",
      "          (c_fc): Conv1D(nf=3072, nx=768)\n",
      "          (c_proj): Conv1D(nf=768, nx=3072)\n",
      "          (act): NewGELUActivation()\n",
      "          (dropout): Dropout(p=0.1, inplace=False)\n",
      "        )\n",
      "      )\n",
      "    )\n",
      "    (ln_f): LayerNorm((768,), eps=1e-05, elementwise_affine=True)\n",
      "  )\n",
      "  (score): ModulesToSaveWrapper(\n",
      "    (original_module): Linear(in_features=768, out_features=2, bias=False)\n",
      "    (modules_to_save): ModuleDict(\n",
      "      (default): Linear(in_features=768, out_features=2, bias=False)\n",
      "    )\n",
      "  )\n",
      ")\n"
     ]
    },
    {
     "name": "stderr",
     "output_type": "stream",
     "text": [
      "/home/lukasz/miniconda3/envs/nlp/lib/python3.11/site-packages/peft/tuners/lora/layer.py:1150: UserWarning:\n",
      "\n",
      "fan_in_fan_out is set to False but the target module is `Conv1D`. Setting fan_in_fan_out to True.\n",
      "\n"
     ]
    }
   ],
   "source": [
    "lora_config = LoraConfig(\n",
    "    task_type=TaskType.SEQ_CLS, r=64, lora_alpha=1, lora_dropout=0.1\n",
    ")\n",
    "\n",
    "peft_model = get_peft_model(model, lora_config)\n",
    "print(peft_model.model)"
   ]
  },
  {
   "cell_type": "code",
   "execution_count": 51,
   "metadata": {},
   "outputs": [
    {
     "name": "stdout",
     "output_type": "stream",
     "text": [
      "Starting to train...\n"
     ]
    },
    {
     "name": "stderr",
     "output_type": "stream",
     "text": [
      "\n",
      "\u001b[A\n",
      "\u001b[A\n",
      "\n",
      "\u001b[A\u001b[A                                        \n",
      "                                                  \n",
      "  2%|▏         | 31/2025 [15:12<02:37, 12.66it/s]\n",
      "\u001b[A"
     ]
    },
    {
     "name": "stdout",
     "output_type": "stream",
     "text": [
      "{'eval_loss': 0.4085150957107544, 'eval_accuracy': 88.33333333333333, 'eval_f1': 0.9320388349514563, 'eval_runtime': 0.2196, 'eval_samples_per_second': 273.267, 'eval_steps_per_second': 68.317, 'epoch': 1.0}\n"
     ]
    },
    {
     "name": "stderr",
     "output_type": "stream",
     "text": [
      "\n",
      "\u001b[A\n",
      "\u001b[A\n",
      "\n",
      "\u001b[A\u001b[A                                        \n",
      "                                                  \n",
      "  2%|▏         | 31/2025 [15:23<02:37, 12.66it/s]\n",
      "\u001b[A"
     ]
    },
    {
     "name": "stdout",
     "output_type": "stream",
     "text": [
      "{'eval_loss': 0.5314709544181824, 'eval_accuracy': 90.0, 'eval_f1': 0.94, 'eval_runtime': 0.2306, 'eval_samples_per_second': 260.228, 'eval_steps_per_second': 65.057, 'epoch': 2.0}\n"
     ]
    },
    {
     "name": "stderr",
     "output_type": "stream",
     "text": [
      "\n",
      "\u001b[A\n",
      "\u001b[A\n",
      "\n",
      "\u001b[A\u001b[A                                        \n",
      "                                                  \n",
      "  2%|▏         | 31/2025 [15:34<02:37, 12.66it/s]\n",
      "\u001b[A"
     ]
    },
    {
     "name": "stdout",
     "output_type": "stream",
     "text": [
      "{'eval_loss': 0.6052017211914062, 'eval_accuracy': 91.66666666666666, 'eval_f1': 0.9504950495049505, 'eval_runtime': 0.2094, 'eval_samples_per_second': 286.553, 'eval_steps_per_second': 71.638, 'epoch': 3.0}\n"
     ]
    },
    {
     "name": "stderr",
     "output_type": "stream",
     "text": [
      "\n",
      "  2%|▏         | 31/2025 [15:42<02:37, 12.66it/s] "
     ]
    },
    {
     "name": "stdout",
     "output_type": "stream",
     "text": [
      "{'loss': 0.2483, 'grad_norm': 0.1917032152414322, 'learning_rate': 0.0007530864197530865, 'epoch': 3.7}\n"
     ]
    },
    {
     "name": "stderr",
     "output_type": "stream",
     "text": [
      "\n",
      "\u001b[A\n",
      "\u001b[A\n",
      "\n",
      "\u001b[A\u001b[A                                        \n",
      "                                                  \n",
      "  2%|▏         | 31/2025 [15:45<02:37, 12.66it/s]\n",
      "\u001b[A"
     ]
    },
    {
     "name": "stdout",
     "output_type": "stream",
     "text": [
      "{'eval_loss': 0.5794306993484497, 'eval_accuracy': 90.0, 'eval_f1': 0.9411764705882353, 'eval_runtime': 0.2252, 'eval_samples_per_second': 266.431, 'eval_steps_per_second': 66.608, 'epoch': 4.0}\n"
     ]
    },
    {
     "name": "stderr",
     "output_type": "stream",
     "text": [
      "\n",
      "\u001b[A\n",
      "\u001b[A\n",
      "\n",
      "\u001b[A\u001b[A                                        \n",
      "                                                  \n",
      "  2%|▏         | 31/2025 [15:55<02:37, 12.66it/s]\n",
      "\u001b[A"
     ]
    },
    {
     "name": "stdout",
     "output_type": "stream",
     "text": [
      "{'eval_loss': 0.6940258741378784, 'eval_accuracy': 88.33333333333333, 'eval_f1': 0.9292929292929293, 'eval_runtime': 0.2073, 'eval_samples_per_second': 289.383, 'eval_steps_per_second': 72.346, 'epoch': 5.0}\n"
     ]
    },
    {
     "name": "stderr",
     "output_type": "stream",
     "text": [
      "\n",
      "\u001b[A\n",
      "\u001b[A\n",
      "\n",
      "\u001b[A\u001b[A                                        \n",
      "                                                  \n",
      "  2%|▏         | 31/2025 [16:06<02:37, 12.66it/s]\n",
      "\u001b[A"
     ]
    },
    {
     "name": "stdout",
     "output_type": "stream",
     "text": [
      "{'eval_loss': 0.6291674375534058, 'eval_accuracy': 90.0, 'eval_f1': 0.94, 'eval_runtime': 0.2121, 'eval_samples_per_second': 282.936, 'eval_steps_per_second': 70.734, 'epoch': 6.0}\n"
     ]
    },
    {
     "name": "stderr",
     "output_type": "stream",
     "text": [
      "\n",
      "\u001b[A\n",
      "\u001b[A\n",
      "\n",
      "\u001b[A\u001b[A                                        \n",
      "                                                  \n",
      "  2%|▏         | 31/2025 [16:17<02:37, 12.66it/s]\n",
      "\u001b[A"
     ]
    },
    {
     "name": "stdout",
     "output_type": "stream",
     "text": [
      "{'eval_loss': 0.8054687976837158, 'eval_accuracy': 90.0, 'eval_f1': 0.94, 'eval_runtime': 0.2097, 'eval_samples_per_second': 286.112, 'eval_steps_per_second': 71.528, 'epoch': 7.0}\n"
     ]
    },
    {
     "name": "stderr",
     "output_type": "stream",
     "text": [
      "\n",
      "  2%|▏         | 31/2025 [16:22<02:37, 12.66it/s]  "
     ]
    },
    {
     "name": "stdout",
     "output_type": "stream",
     "text": [
      "{'loss': 0.1665, 'grad_norm': 0.08270744234323502, 'learning_rate': 0.0005061728395061728, 'epoch': 7.41}\n"
     ]
    },
    {
     "name": "stderr",
     "output_type": "stream",
     "text": [
      "\n",
      "\u001b[A\n",
      "\u001b[A\n",
      "\n",
      "\u001b[A\u001b[A                                        \n",
      "                                                   \n",
      "  2%|▏         | 31/2025 [16:28<02:37, 12.66it/s]\n",
      "\u001b[A"
     ]
    },
    {
     "name": "stdout",
     "output_type": "stream",
     "text": [
      "{'eval_loss': 0.6615070104598999, 'eval_accuracy': 91.66666666666666, 'eval_f1': 0.9504950495049505, 'eval_runtime': 0.2168, 'eval_samples_per_second': 276.759, 'eval_steps_per_second': 69.19, 'epoch': 8.0}\n"
     ]
    },
    {
     "name": "stderr",
     "output_type": "stream",
     "text": [
      "\n",
      "\u001b[A\n",
      "\u001b[A\n",
      "\n",
      "\u001b[A\u001b[A                                        \n",
      "                                                   \n",
      "  2%|▏         | 31/2025 [16:39<02:37, 12.66it/s]\n",
      "\u001b[A"
     ]
    },
    {
     "name": "stdout",
     "output_type": "stream",
     "text": [
      "{'eval_loss': 0.6601337194442749, 'eval_accuracy': 90.0, 'eval_f1': 0.94, 'eval_runtime': 0.2106, 'eval_samples_per_second': 284.94, 'eval_steps_per_second': 71.235, 'epoch': 9.0}\n"
     ]
    },
    {
     "name": "stderr",
     "output_type": "stream",
     "text": [
      "\n",
      "\u001b[A\n",
      "\u001b[A\n",
      "\n",
      "\u001b[A\u001b[A                                        \n",
      "                                                   \n",
      "  2%|▏         | 31/2025 [16:49<02:37, 12.66it/s]\n",
      "\u001b[A"
     ]
    },
    {
     "name": "stdout",
     "output_type": "stream",
     "text": [
      "{'eval_loss': 0.8051411509513855, 'eval_accuracy': 90.0, 'eval_f1': 0.94, 'eval_runtime': 0.2235, 'eval_samples_per_second': 268.432, 'eval_steps_per_second': 67.108, 'epoch': 10.0}\n"
     ]
    },
    {
     "name": "stderr",
     "output_type": "stream",
     "text": [
      "\n",
      "\u001b[A\n",
      "\u001b[A\n",
      "\n",
      "\u001b[A\u001b[A                                        \n",
      "                                                   \n",
      "  2%|▏         | 31/2025 [17:00<02:37, 12.66it/s]\n",
      "\u001b[A"
     ]
    },
    {
     "name": "stdout",
     "output_type": "stream",
     "text": [
      "{'eval_loss': 0.647074818611145, 'eval_accuracy': 91.66666666666666, 'eval_f1': 0.9504950495049505, 'eval_runtime': 0.2048, 'eval_samples_per_second': 292.945, 'eval_steps_per_second': 73.236, 'epoch': 11.0}\n"
     ]
    },
    {
     "name": "stderr",
     "output_type": "stream",
     "text": [
      "\n",
      "  2%|▏         | 31/2025 [17:01<02:37, 12.66it/s]  "
     ]
    },
    {
     "name": "stdout",
     "output_type": "stream",
     "text": [
      "{'loss': 0.1069, 'grad_norm': 0.0074486639350652695, 'learning_rate': 0.00025925925925925926, 'epoch': 11.11}\n"
     ]
    },
    {
     "name": "stderr",
     "output_type": "stream",
     "text": [
      "\n",
      "\u001b[A\n",
      "\u001b[A\n",
      "\n",
      "\u001b[A\u001b[A                                        \n",
      "                                                   \n",
      "  2%|▏         | 31/2025 [17:10<02:37, 12.66it/s]\n",
      "\u001b[A"
     ]
    },
    {
     "name": "stdout",
     "output_type": "stream",
     "text": [
      "{'eval_loss': 0.6677751541137695, 'eval_accuracy': 91.66666666666666, 'eval_f1': 0.9504950495049505, 'eval_runtime': 0.2281, 'eval_samples_per_second': 263.0, 'eval_steps_per_second': 65.75, 'epoch': 12.0}\n"
     ]
    },
    {
     "name": "stderr",
     "output_type": "stream",
     "text": [
      "\n",
      "\u001b[A\n",
      "\u001b[A\n",
      "\n",
      "\u001b[A\u001b[A                                        \n",
      "                                                   \n",
      "  2%|▏         | 31/2025 [17:21<02:37, 12.66it/s]\n",
      "\u001b[A"
     ]
    },
    {
     "name": "stdout",
     "output_type": "stream",
     "text": [
      "{'eval_loss': 0.6875895261764526, 'eval_accuracy': 91.66666666666666, 'eval_f1': 0.9504950495049505, 'eval_runtime': 0.2152, 'eval_samples_per_second': 278.845, 'eval_steps_per_second': 69.711, 'epoch': 13.0}\n"
     ]
    },
    {
     "name": "stderr",
     "output_type": "stream",
     "text": [
      "\n",
      "\u001b[A\n",
      "\u001b[A\n",
      "\n",
      "\u001b[A\u001b[A                                        \n",
      "                                                   \n",
      "  2%|▏         | 31/2025 [17:32<02:37, 12.66it/s]\n",
      "\u001b[A"
     ]
    },
    {
     "name": "stdout",
     "output_type": "stream",
     "text": [
      "{'eval_loss': 0.7215065360069275, 'eval_accuracy': 91.66666666666666, 'eval_f1': 0.9504950495049505, 'eval_runtime': 0.2104, 'eval_samples_per_second': 285.145, 'eval_steps_per_second': 71.286, 'epoch': 14.0}\n"
     ]
    },
    {
     "name": "stderr",
     "output_type": "stream",
     "text": [
      "\n",
      "  2%|▏         | 31/2025 [17:40<02:37, 12.66it/s]  "
     ]
    },
    {
     "name": "stdout",
     "output_type": "stream",
     "text": [
      "{'loss': 0.0867, 'grad_norm': 0.036627449095249176, 'learning_rate': 1.2345679012345678e-05, 'epoch': 14.81}\n"
     ]
    },
    {
     "name": "stderr",
     "output_type": "stream",
     "text": [
      "\n",
      "\u001b[A\n",
      "\u001b[A\n",
      "\n",
      "\u001b[A\u001b[A                                        \n",
      "                                                   \n",
      "  2%|▏         | 31/2025 [17:43<02:37, 12.66it/s]\n",
      "\u001b[A"
     ]
    },
    {
     "name": "stdout",
     "output_type": "stream",
     "text": [
      "{'eval_loss': 0.7580923438072205, 'eval_accuracy': 91.66666666666666, 'eval_f1': 0.9504950495049505, 'eval_runtime': 0.2068, 'eval_samples_per_second': 290.183, 'eval_steps_per_second': 72.546, 'epoch': 15.0}\n"
     ]
    },
    {
     "name": "stderr",
     "output_type": "stream",
     "text": [
      "\n",
      "100%|██████████| 2025/2025 [02:42<00:00, 12.46it/s]"
     ]
    },
    {
     "name": "stdout",
     "output_type": "stream",
     "text": [
      "{'train_runtime': 162.4571, 'train_samples_per_second': 49.767, 'train_steps_per_second': 12.465, 'train_loss': 0.15194923106534983, 'epoch': 15.0}\n"
     ]
    },
    {
     "name": "stderr",
     "output_type": "stream",
     "text": [
      "\n"
     ]
    },
    {
     "data": {
      "text/plain": [
       "TrainOutput(global_step=2025, training_loss=0.15194923106534983, metrics={'train_runtime': 162.4571, 'train_samples_per_second': 49.767, 'train_steps_per_second': 12.465, 'total_flos': 797245025955840.0, 'train_loss': 0.15194923106534983, 'epoch': 15.0})"
      ]
     },
     "execution_count": 51,
     "metadata": {},
     "output_type": "execute_result"
    }
   ],
   "source": [
    "from sklearn.metrics import f1_score\n",
    "\n",
    "def compute_metrics(eval_pred):\n",
    "    predictions, labels = eval_pred\n",
    "    predictions = np.argmax(predictions, axis=1)\n",
    "    f1 = f1_score(labels, predictions) \n",
    "    return {\"accuracy\": (predictions == labels).mean()*100, \"f1\": f1}\n",
    "\n",
    "trainer = Trainer(\n",
    "    model=peft_model,\n",
    "    args=TrainingArguments(\n",
    "        output_dir=\"gpt-sentence-clf\",\n",
    "        learning_rate=1e-3,\n",
    "        per_device_train_batch_size=4,\n",
    "        per_device_eval_batch_size=4,\n",
    "        num_train_epochs=15,\n",
    "        weight_decay=0.01,\n",
    "        eval_strategy=\"epoch\",\n",
    "        save_strategy=\"epoch\",\n",
    "        load_best_model_at_end=True,\n",
    "    ),\n",
    "    train_dataset=tokenized_ds[\"train\"],\n",
    "    eval_dataset=tokenized_ds[\"test\"],\n",
    "    processing_class=tokenizer,\n",
    "    data_collator=DataCollatorWithPadding(tokenizer=tokenizer),\n",
    "    compute_metrics=compute_metrics,\n",
    ")\n",
    "\n",
    "print(\"Starting to train...\")\n",
    "trainer.train()"
   ]
  },
  {
   "cell_type": "code",
   "execution_count": 52,
   "metadata": {},
   "outputs": [
    {
     "data": {
      "application/vnd.plotly.v1+json": {
       "config": {
        "plotlyServerURL": "https://plot.ly"
       },
       "data": [
        {
         "customdata": [
          [
           "@anonymized_account Lis biedny kręci się wokół własnego ogona i ciągle próbuję marudzić A to już mu nie wychodzi"
          ],
          [
           "@anonymized_account A w Łodzi Panie Łukaszu na razie Hania,przez niektórych zwana szachrajka😁😁"
          ],
          [
           "@anonymized_account Sorry Pogoń, trzech Waszych w moim @anonymized_account zostało."
          ],
          [
           "@anonymized_account @anonymized_account Co ty tam w tym Koźlu Kędzierzysz?"
          ],
          [
           "@anonymized_account no to jak to jest że się nie da grać w kosza a się wygrywa z mistrzyniami Europy ?"
          ],
          [
           "@anonymized_account Lis biedny kręci się wokół własnego ogona i ciągle próbuję marudzić A to już mu nie wychodzi"
          ],
          [
           "Podobno mają wprowadzić maseczki antysmogowe ze specjalnym otworkiem na papierosa."
          ],
          [
           "Co się musi dziać teraz u @anonymized_account 😄"
          ],
          [
           "Sprzedać za 50 mln Paulinho i kupić (podobno) za 30 mln Vidala - nie poznaję Barcelony."
          ],
          [
           "@anonymized_account Panie Andrzeju jeszcze pan będzie prosił o te leki przeciw bólowe 😀"
          ],
          [
           "@anonymized_account Pogba nie był na pozycji spalonej."
          ],
          [
           "#dividetourwarsaw i need to know CO Z AKCJA KTÓRA WŁAŚNIE POWINNA IŚĆ NAM ZAJEBISCIE"
          ],
          [
           "PROFESOR JEST NA SPOTIFY UMARŁAM XDD"
          ],
          [
           "Dużo tego jeszcze było ale nie chce mi się pisać i tak nikogo to nie interesuje"
          ],
          [
           "@anonymized_account @anonymized_account mi się ten styl podoba 💪 oby tak dalej :)"
          ],
          [
           "@anonymized_account @anonymized_account @anonymized_account W stop klatkach widać ze jak by to było po stronie drugiej (legi) to karny by był"
          ],
          [
           "@anonymized_account burmistrz z platka kwiatka przypomina mi burmistrza Kluczborka"
          ],
          [
           "@anonymized_account @anonymized_account w ekstraklasie też nie ma"
          ],
          [
           "Patrzysz na @anonymized_account @anonymized_account @anonymized_account i wiesz że idzie wojna"
          ],
          [
           "RT @anonymized_account Przypominam.  Kto taśmami wojuje..."
          ],
          [
           "vans do chuja przestań robić choć na chwilę zajebiste kolekcje bo w moim portfelu pieniądzen't"
          ],
          [
           "@anonymized_account Już dwa lata temu powinni wygrac Euro."
          ],
          [
           "@anonymized_account @anonymized_account A niby z jakiego powodu? Żeby mogła sprawować swój urząd? Chyba żart!"
          ],
          [
           "@anonymized_account @anonymized_account @anonymized_account @anonymized_account Nieeee, Gryszkiewicz nie grał, to akurat nie o nim."
          ],
          [
           "RT @anonymized_account Zawsze jak ide do przymiezalni do h\\u0026amp;m to przeżywam szok, ze naprawde wyglądam tak, jak widać to w tym lustrze od tylu…"
          ],
          [
           "@anonymized_account @anonymized_account Według mnie to fake wypucha na zdjęciu niejest miś chyba żeby się tak strasznie zmienił w ostatnim czasie"
          ],
          [
           "@anonymized_account @anonymized_account Nawet podobny do niego, prawda ?xD"
          ],
          [
           "Bild po wczorajszej demolce przy Ł3: \\\"Po co w LM takie ogórki? III-ligowy Trier sprawił BVB w P. Niemiec więcej problemów niż Legia w LM\\\""
          ],
          [
           "RT @anonymized_account Morawiecki senior robi w trąbę zmarłych, syn żywych. Taki podział ról."
          ],
          [
           "@anonymized_account Pani Malarz trza być obiektywnym dziennikarką to ze legia gra piach to normalka nic dziwnego"
          ],
          [
           "@anonymized_account A ManUtd czasami wczoraj nie odpadł ?:)"
          ],
          [
           "@anonymized_account @anonymized_account a trenerem został Szymon Pawłowski :)"
          ],
          [
           "@anonymized_account Nie nazwałbym tego dziennikarstwem 😂"
          ],
          [
           "@anonymized_account o ile się nie myle to ta twarda ręka była jednym z powodów jego zwolnienia :)"
          ],
          [
           "@anonymized_account Błędem było jego zatrudnienie a nie zwolnienie"
          ],
          [
           "@anonymized_account @anonymized_account Oj tam, ale chyba po raz pierwszy odpadną przed nami 😂"
          ],
          [
           "Podobno mają wprowadzić maseczki antysmogowe ze specjalnym otworkiem na papierosa."
          ],
          [
           "RT @anonymized_account @anonymized_account @anonymized_account Wzrusza mnie ta wasza troska. I rozumiem ją. W końcu jest lotnisko w Niemczech. A więc u nas n…"
          ],
          [
           "@anonymized_account @anonymized_account Nawet podobny do niego, prawda ?xD"
          ],
          [
           "@anonymized_account @anonymized_account No pewnie. Niepełnosprawnych zamkneliscie w sejmie to się zrobiło bezpiecznie na ulicach. Taka prawda kłamco."
          ],
          [
           "@anonymized_account Tomek niesluchaj radia jak juz tak Cię denerwuje zwykła reklama 😉 niejestem lekarzem ale podejrzewam chorobę zawodową🎤 🍻"
          ],
          [
           "@anonymized_account @anonymized_account Według mnie to fake wypucha na zdjęciu niejest miś chyba żeby się tak strasznie zmienił w ostatnim czasie"
          ],
          [
           "RT @anonymized_account @anonymized_account @anonymized_account dopiero po porodzie kobiety maja mgliste pojęcie o bólu mężczyzn z katarem."
          ],
          [
           "@anonymized_account @anonymized_account Powinni jeszcze zaprosić Gmyza i odlot będzie pełny."
          ],
          [
           "@anonymized_account dziś ciężko. Pół Warszawy postanowiło się umyć w tym samym czasie."
          ],
          [
           "@anonymized_account @anonymized_account Aha, a ktoś cię zapraszał do rozmowy?"
          ],
          [
           "RT @anonymized_account @anonymized_account @anonymized_account dopiero po porodzie kobiety maja mgliste pojęcie o bólu mężczyzn z katarem."
          ],
          [
           "@anonymized_account @anonymized_account Dlatego to nie miało żadnego większego wpływu z żadnej ze stron."
          ],
          [
           "@anonymized_account A Ty nigdy nie robisz dwóch rzeczy jednocześnie? Np. idziesz i żujesz gumę."
          ],
          [
           "@anonymized_account @anonymized_account Trochę dużo tych trenerów :P"
          ],
          [
           "Skoro wchodzi Góralski, to tym bardziej szkoda, że po drugiej stronie nie ma Vidala 😜"
          ],
          [
           "@anonymized_account to ty chłopie nie płacz że mamy takie legendy.A wy macie kogo ? PiotraBanie ?@anonymized_account @anonymized_account @anonymized_account @anonymized_account"
          ]
         ],
         "hovertemplate": "label=Neutral<br>0=%{x}<br>1=%{y}<br>text=%{customdata[0]}<extra></extra>",
         "legendgroup": "Neutral",
         "marker": {
          "color": "#636efa",
          "symbol": "circle"
         },
         "mode": "markers",
         "name": "Neutral",
         "orientation": "v",
         "showlegend": true,
         "type": "scatter",
         "x": [
          260.387939453125,
          -738.2705078125,
          -219.83340454101562,
          -219.83340454101562,
          -219.83340454101562,
          -219.83340454101562,
          1098.5213623046875,
          599.0440673828125,
          490.4840087890625,
          -219.83340454101562,
          -219.83340454101562,
          -1245.9371337890625,
          723.2670288085938,
          -393.5500793457031,
          -219.83340454101562,
          -219.83340454101562,
          -219.83340454101562,
          -219.83340454101562,
          941.0397338867188,
          902.468017578125,
          646.7097778320312,
          -219.83340454101562,
          -219.83340454101562,
          -219.83340454101562,
          902.468017578125,
          -219.83340454101562,
          -219.83340454101562,
          577.8074951171875,
          902.468017578125,
          -219.83340454101562,
          -219.83340454101562,
          -219.83340454101562,
          -219.83340454101562,
          -219.83340454101562,
          -219.83340454101562,
          -219.83340454101562,
          1098.5213623046875,
          902.468017578125,
          -219.83340454101562,
          -219.83340454101562,
          -219.83340454101562,
          -290.4574279785156,
          100.73571014404297,
          19.64040184020996,
          -290.4574279785156,
          19.64040184020996,
          100.73571014404297,
          -290.4574279785156,
          19.64040184020996,
          -290.4574279785156,
          788.7304077148438,
          19.64040184020996
         ],
         "xaxis": "x",
         "y": [
          -665.1973266601562,
          407.59136962890625,
          -92.31365203857422,
          -92.31365203857422,
          -92.31365203857422,
          -92.31365203857422,
          261.2901916503906,
          584.2911376953125,
          905.1437377929688,
          -92.31365203857422,
          -92.31365203857422,
          0.5462400317192078,
          -614.2946166992188,
          938.1096801757812,
          -92.31365203857422,
          -92.31365203857422,
          -92.31365203857422,
          -92.31365203857422,
          552.16259765625,
          -239.72735595703125,
          265.2030029296875,
          -92.31365203857422,
          -92.31365203857422,
          -92.31365203857422,
          -239.72735595703125,
          -92.31365203857422,
          -92.31365203857422,
          -65.19495391845703,
          -239.72735595703125,
          -92.31365203857422,
          -92.31365203857422,
          -92.31365203857422,
          -92.31365203857422,
          -92.31365203857422,
          -92.31365203857422,
          -92.31365203857422,
          261.2901916503906,
          -239.72735595703125,
          -92.31365203857422,
          -92.31365203857422,
          -92.31365203857422,
          -815.130615234375,
          1062.5712890625,
          547.5888061523438,
          -815.130615234375,
          547.5888061523438,
          1062.5712890625,
          -815.130615234375,
          547.5888061523438,
          -815.130615234375,
          846.8638916015625,
          547.5888061523438
         ],
         "yaxis": "y"
        },
        {
         "customdata": [
          [
           "@anonymized_account @anonymized_account Jednostki wojskowe funkcjonują w oparciu o karty kredytowe? Lecz się człowieku."
          ],
          [
           "@anonymized_account @anonymized_account @anonymized_account Jojo demokrata w akcji. Taki pospolity ćwierćmózg"
          ],
          [
           "@anonymized_account A nastepni będą tacy jak Terlikowski spędzający czas w kolejce do psychiatry."
          ],
          [
           "@anonymized_account Krystynę mi on przypomina ale trzeba mieć niepokoleji w głowie by się robić na Krystynę"
          ],
          [
           "@anonymized_account czy Pan Waldemar ma zakaz wjazdu Parchu, czy nie ma?"
          ],
          [
           "@anonymized_account @anonymized_account Raczej ma problem z głową. Tak jak Ty i Tobie podobni."
          ],
          [
           "@anonymized_account Polacy też wiedzą, że jednym z największych debili jest niejaki Ziemkiewicz."
          ],
          [
           "@anonymized_account @anonymized_account @anonymized_account Kurwa w jebany dzień parlamentaryzmu wszędzie barierki i psiarnia, no kurwa pięknie się to wspasowuje"
          ]
         ],
         "hovertemplate": "label=Hate<br>0=%{x}<br>1=%{y}<br>text=%{customdata[0]}<extra></extra>",
         "legendgroup": "Hate",
         "marker": {
          "color": "#EF553B",
          "symbol": "circle"
         },
         "mode": "markers",
         "name": "Hate",
         "orientation": "v",
         "showlegend": true,
         "type": "scatter",
         "x": [
          -219.83340454101562,
          -219.83340454101562,
          -219.83340454101562,
          -219.83340454101562,
          -219.83340454101562,
          -219.83340454101562,
          -219.83340454101562,
          -290.4574279785156
         ],
         "xaxis": "x",
         "y": [
          -92.31365203857422,
          -92.31365203857422,
          -92.31365203857422,
          -92.31365203857422,
          -92.31365203857422,
          -92.31365203857422,
          -92.31365203857422,
          -815.130615234375
         ],
         "yaxis": "y"
        }
       ],
       "layout": {
        "legend": {
         "title": {
          "text": "label"
         },
         "tracegroupgap": 0
        },
        "margin": {
         "t": 60
        },
        "template": {
         "data": {
          "bar": [
           {
            "error_x": {
             "color": "#2a3f5f"
            },
            "error_y": {
             "color": "#2a3f5f"
            },
            "marker": {
             "line": {
              "color": "#E5ECF6",
              "width": 0.5
             },
             "pattern": {
              "fillmode": "overlay",
              "size": 10,
              "solidity": 0.2
             }
            },
            "type": "bar"
           }
          ],
          "barpolar": [
           {
            "marker": {
             "line": {
              "color": "#E5ECF6",
              "width": 0.5
             },
             "pattern": {
              "fillmode": "overlay",
              "size": 10,
              "solidity": 0.2
             }
            },
            "type": "barpolar"
           }
          ],
          "carpet": [
           {
            "aaxis": {
             "endlinecolor": "#2a3f5f",
             "gridcolor": "white",
             "linecolor": "white",
             "minorgridcolor": "white",
             "startlinecolor": "#2a3f5f"
            },
            "baxis": {
             "endlinecolor": "#2a3f5f",
             "gridcolor": "white",
             "linecolor": "white",
             "minorgridcolor": "white",
             "startlinecolor": "#2a3f5f"
            },
            "type": "carpet"
           }
          ],
          "choropleth": [
           {
            "colorbar": {
             "outlinewidth": 0,
             "ticks": ""
            },
            "type": "choropleth"
           }
          ],
          "contour": [
           {
            "colorbar": {
             "outlinewidth": 0,
             "ticks": ""
            },
            "colorscale": [
             [
              0,
              "#0d0887"
             ],
             [
              0.1111111111111111,
              "#46039f"
             ],
             [
              0.2222222222222222,
              "#7201a8"
             ],
             [
              0.3333333333333333,
              "#9c179e"
             ],
             [
              0.4444444444444444,
              "#bd3786"
             ],
             [
              0.5555555555555556,
              "#d8576b"
             ],
             [
              0.6666666666666666,
              "#ed7953"
             ],
             [
              0.7777777777777778,
              "#fb9f3a"
             ],
             [
              0.8888888888888888,
              "#fdca26"
             ],
             [
              1,
              "#f0f921"
             ]
            ],
            "type": "contour"
           }
          ],
          "contourcarpet": [
           {
            "colorbar": {
             "outlinewidth": 0,
             "ticks": ""
            },
            "type": "contourcarpet"
           }
          ],
          "heatmap": [
           {
            "colorbar": {
             "outlinewidth": 0,
             "ticks": ""
            },
            "colorscale": [
             [
              0,
              "#0d0887"
             ],
             [
              0.1111111111111111,
              "#46039f"
             ],
             [
              0.2222222222222222,
              "#7201a8"
             ],
             [
              0.3333333333333333,
              "#9c179e"
             ],
             [
              0.4444444444444444,
              "#bd3786"
             ],
             [
              0.5555555555555556,
              "#d8576b"
             ],
             [
              0.6666666666666666,
              "#ed7953"
             ],
             [
              0.7777777777777778,
              "#fb9f3a"
             ],
             [
              0.8888888888888888,
              "#fdca26"
             ],
             [
              1,
              "#f0f921"
             ]
            ],
            "type": "heatmap"
           }
          ],
          "heatmapgl": [
           {
            "colorbar": {
             "outlinewidth": 0,
             "ticks": ""
            },
            "colorscale": [
             [
              0,
              "#0d0887"
             ],
             [
              0.1111111111111111,
              "#46039f"
             ],
             [
              0.2222222222222222,
              "#7201a8"
             ],
             [
              0.3333333333333333,
              "#9c179e"
             ],
             [
              0.4444444444444444,
              "#bd3786"
             ],
             [
              0.5555555555555556,
              "#d8576b"
             ],
             [
              0.6666666666666666,
              "#ed7953"
             ],
             [
              0.7777777777777778,
              "#fb9f3a"
             ],
             [
              0.8888888888888888,
              "#fdca26"
             ],
             [
              1,
              "#f0f921"
             ]
            ],
            "type": "heatmapgl"
           }
          ],
          "histogram": [
           {
            "marker": {
             "pattern": {
              "fillmode": "overlay",
              "size": 10,
              "solidity": 0.2
             }
            },
            "type": "histogram"
           }
          ],
          "histogram2d": [
           {
            "colorbar": {
             "outlinewidth": 0,
             "ticks": ""
            },
            "colorscale": [
             [
              0,
              "#0d0887"
             ],
             [
              0.1111111111111111,
              "#46039f"
             ],
             [
              0.2222222222222222,
              "#7201a8"
             ],
             [
              0.3333333333333333,
              "#9c179e"
             ],
             [
              0.4444444444444444,
              "#bd3786"
             ],
             [
              0.5555555555555556,
              "#d8576b"
             ],
             [
              0.6666666666666666,
              "#ed7953"
             ],
             [
              0.7777777777777778,
              "#fb9f3a"
             ],
             [
              0.8888888888888888,
              "#fdca26"
             ],
             [
              1,
              "#f0f921"
             ]
            ],
            "type": "histogram2d"
           }
          ],
          "histogram2dcontour": [
           {
            "colorbar": {
             "outlinewidth": 0,
             "ticks": ""
            },
            "colorscale": [
             [
              0,
              "#0d0887"
             ],
             [
              0.1111111111111111,
              "#46039f"
             ],
             [
              0.2222222222222222,
              "#7201a8"
             ],
             [
              0.3333333333333333,
              "#9c179e"
             ],
             [
              0.4444444444444444,
              "#bd3786"
             ],
             [
              0.5555555555555556,
              "#d8576b"
             ],
             [
              0.6666666666666666,
              "#ed7953"
             ],
             [
              0.7777777777777778,
              "#fb9f3a"
             ],
             [
              0.8888888888888888,
              "#fdca26"
             ],
             [
              1,
              "#f0f921"
             ]
            ],
            "type": "histogram2dcontour"
           }
          ],
          "mesh3d": [
           {
            "colorbar": {
             "outlinewidth": 0,
             "ticks": ""
            },
            "type": "mesh3d"
           }
          ],
          "parcoords": [
           {
            "line": {
             "colorbar": {
              "outlinewidth": 0,
              "ticks": ""
             }
            },
            "type": "parcoords"
           }
          ],
          "pie": [
           {
            "automargin": true,
            "type": "pie"
           }
          ],
          "scatter": [
           {
            "fillpattern": {
             "fillmode": "overlay",
             "size": 10,
             "solidity": 0.2
            },
            "type": "scatter"
           }
          ],
          "scatter3d": [
           {
            "line": {
             "colorbar": {
              "outlinewidth": 0,
              "ticks": ""
             }
            },
            "marker": {
             "colorbar": {
              "outlinewidth": 0,
              "ticks": ""
             }
            },
            "type": "scatter3d"
           }
          ],
          "scattercarpet": [
           {
            "marker": {
             "colorbar": {
              "outlinewidth": 0,
              "ticks": ""
             }
            },
            "type": "scattercarpet"
           }
          ],
          "scattergeo": [
           {
            "marker": {
             "colorbar": {
              "outlinewidth": 0,
              "ticks": ""
             }
            },
            "type": "scattergeo"
           }
          ],
          "scattergl": [
           {
            "marker": {
             "colorbar": {
              "outlinewidth": 0,
              "ticks": ""
             }
            },
            "type": "scattergl"
           }
          ],
          "scattermapbox": [
           {
            "marker": {
             "colorbar": {
              "outlinewidth": 0,
              "ticks": ""
             }
            },
            "type": "scattermapbox"
           }
          ],
          "scatterpolar": [
           {
            "marker": {
             "colorbar": {
              "outlinewidth": 0,
              "ticks": ""
             }
            },
            "type": "scatterpolar"
           }
          ],
          "scatterpolargl": [
           {
            "marker": {
             "colorbar": {
              "outlinewidth": 0,
              "ticks": ""
             }
            },
            "type": "scatterpolargl"
           }
          ],
          "scatterternary": [
           {
            "marker": {
             "colorbar": {
              "outlinewidth": 0,
              "ticks": ""
             }
            },
            "type": "scatterternary"
           }
          ],
          "surface": [
           {
            "colorbar": {
             "outlinewidth": 0,
             "ticks": ""
            },
            "colorscale": [
             [
              0,
              "#0d0887"
             ],
             [
              0.1111111111111111,
              "#46039f"
             ],
             [
              0.2222222222222222,
              "#7201a8"
             ],
             [
              0.3333333333333333,
              "#9c179e"
             ],
             [
              0.4444444444444444,
              "#bd3786"
             ],
             [
              0.5555555555555556,
              "#d8576b"
             ],
             [
              0.6666666666666666,
              "#ed7953"
             ],
             [
              0.7777777777777778,
              "#fb9f3a"
             ],
             [
              0.8888888888888888,
              "#fdca26"
             ],
             [
              1,
              "#f0f921"
             ]
            ],
            "type": "surface"
           }
          ],
          "table": [
           {
            "cells": {
             "fill": {
              "color": "#EBF0F8"
             },
             "line": {
              "color": "white"
             }
            },
            "header": {
             "fill": {
              "color": "#C8D4E3"
             },
             "line": {
              "color": "white"
             }
            },
            "type": "table"
           }
          ]
         },
         "layout": {
          "annotationdefaults": {
           "arrowcolor": "#2a3f5f",
           "arrowhead": 0,
           "arrowwidth": 1
          },
          "autotypenumbers": "strict",
          "coloraxis": {
           "colorbar": {
            "outlinewidth": 0,
            "ticks": ""
           }
          },
          "colorscale": {
           "diverging": [
            [
             0,
             "#8e0152"
            ],
            [
             0.1,
             "#c51b7d"
            ],
            [
             0.2,
             "#de77ae"
            ],
            [
             0.3,
             "#f1b6da"
            ],
            [
             0.4,
             "#fde0ef"
            ],
            [
             0.5,
             "#f7f7f7"
            ],
            [
             0.6,
             "#e6f5d0"
            ],
            [
             0.7,
             "#b8e186"
            ],
            [
             0.8,
             "#7fbc41"
            ],
            [
             0.9,
             "#4d9221"
            ],
            [
             1,
             "#276419"
            ]
           ],
           "sequential": [
            [
             0,
             "#0d0887"
            ],
            [
             0.1111111111111111,
             "#46039f"
            ],
            [
             0.2222222222222222,
             "#7201a8"
            ],
            [
             0.3333333333333333,
             "#9c179e"
            ],
            [
             0.4444444444444444,
             "#bd3786"
            ],
            [
             0.5555555555555556,
             "#d8576b"
            ],
            [
             0.6666666666666666,
             "#ed7953"
            ],
            [
             0.7777777777777778,
             "#fb9f3a"
            ],
            [
             0.8888888888888888,
             "#fdca26"
            ],
            [
             1,
             "#f0f921"
            ]
           ],
           "sequentialminus": [
            [
             0,
             "#0d0887"
            ],
            [
             0.1111111111111111,
             "#46039f"
            ],
            [
             0.2222222222222222,
             "#7201a8"
            ],
            [
             0.3333333333333333,
             "#9c179e"
            ],
            [
             0.4444444444444444,
             "#bd3786"
            ],
            [
             0.5555555555555556,
             "#d8576b"
            ],
            [
             0.6666666666666666,
             "#ed7953"
            ],
            [
             0.7777777777777778,
             "#fb9f3a"
            ],
            [
             0.8888888888888888,
             "#fdca26"
            ],
            [
             1,
             "#f0f921"
            ]
           ]
          },
          "colorway": [
           "#636efa",
           "#EF553B",
           "#00cc96",
           "#ab63fa",
           "#FFA15A",
           "#19d3f3",
           "#FF6692",
           "#B6E880",
           "#FF97FF",
           "#FECB52"
          ],
          "font": {
           "color": "#2a3f5f"
          },
          "geo": {
           "bgcolor": "white",
           "lakecolor": "white",
           "landcolor": "#E5ECF6",
           "showlakes": true,
           "showland": true,
           "subunitcolor": "white"
          },
          "hoverlabel": {
           "align": "left"
          },
          "hovermode": "closest",
          "mapbox": {
           "style": "light"
          },
          "paper_bgcolor": "white",
          "plot_bgcolor": "#E5ECF6",
          "polar": {
           "angularaxis": {
            "gridcolor": "white",
            "linecolor": "white",
            "ticks": ""
           },
           "bgcolor": "#E5ECF6",
           "radialaxis": {
            "gridcolor": "white",
            "linecolor": "white",
            "ticks": ""
           }
          },
          "scene": {
           "xaxis": {
            "backgroundcolor": "#E5ECF6",
            "gridcolor": "white",
            "gridwidth": 2,
            "linecolor": "white",
            "showbackground": true,
            "ticks": "",
            "zerolinecolor": "white"
           },
           "yaxis": {
            "backgroundcolor": "#E5ECF6",
            "gridcolor": "white",
            "gridwidth": 2,
            "linecolor": "white",
            "showbackground": true,
            "ticks": "",
            "zerolinecolor": "white"
           },
           "zaxis": {
            "backgroundcolor": "#E5ECF6",
            "gridcolor": "white",
            "gridwidth": 2,
            "linecolor": "white",
            "showbackground": true,
            "ticks": "",
            "zerolinecolor": "white"
           }
          },
          "shapedefaults": {
           "line": {
            "color": "#2a3f5f"
           }
          },
          "ternary": {
           "aaxis": {
            "gridcolor": "white",
            "linecolor": "white",
            "ticks": ""
           },
           "baxis": {
            "gridcolor": "white",
            "linecolor": "white",
            "ticks": ""
           },
           "bgcolor": "#E5ECF6",
           "caxis": {
            "gridcolor": "white",
            "linecolor": "white",
            "ticks": ""
           }
          },
          "title": {
           "x": 0.05
          },
          "xaxis": {
           "automargin": true,
           "gridcolor": "white",
           "linecolor": "white",
           "ticks": "",
           "title": {
            "standoff": 15
           },
           "zerolinecolor": "white",
           "zerolinewidth": 2
          },
          "yaxis": {
           "automargin": true,
           "gridcolor": "white",
           "linecolor": "white",
           "ticks": "",
           "title": {
            "standoff": 15
           },
           "zerolinecolor": "white",
           "zerolinewidth": 2
          }
         }
        },
        "xaxis": {
         "anchor": "y",
         "domain": [
          0,
          1
         ],
         "title": {
          "text": "0"
         }
        },
        "yaxis": {
         "anchor": "x",
         "domain": [
          0,
          1
         ],
         "title": {
          "text": "1"
         }
        }
       }
      }
     },
     "metadata": {},
     "output_type": "display_data"
    }
   ],
   "source": [
    "from sklearn.manifold import TSNE\n",
    "import pandas as pd\n",
    "import plotly.express as px\n",
    "texts = [sample[\"text\"] for sample in test_ds]\n",
    "inputs = tokenizer(texts, return_tensors=\"pt\", padding=True, truncation=True)\n",
    "\n",
    "transformer_encoder = peft_model.base_model.model.transformer\n",
    "\n",
    "transformer_encoder = transformer_encoder.cpu()\n",
    "transformer_encoder.eval()\n",
    "with torch.no_grad():\n",
    "    outputs = transformer_encoder(**inputs)\n",
    "\n",
    "tsne = TSNE()\n",
    "to_vis = tsne.fit_transform(outputs.last_hidden_state[:,0,:].squeeze().numpy())\n",
    "\n",
    "df = pd.DataFrame(to_vis)\n",
    "df[\"label\"] = [post[\"label\"] for post in test_ds]\n",
    "df[\"text\"] = [post[\"text\"] for post in test_ds]\n",
    "fig = px.scatter(df, x=0, y=1, hover_data=\"text\", color=\"label\")\n",
    "fig.show()"
   ]
  }
 ],
 "metadata": {
  "kernelspec": {
   "display_name": "nlp",
   "language": "python",
   "name": "python3"
  },
  "language_info": {
   "codemirror_mode": {
    "name": "ipython",
    "version": 3
   },
   "file_extension": ".py",
   "mimetype": "text/x-python",
   "name": "python",
   "nbconvert_exporter": "python",
   "pygments_lexer": "ipython3",
   "version": "3.11.10"
  }
 },
 "nbformat": 4,
 "nbformat_minor": 2
}
