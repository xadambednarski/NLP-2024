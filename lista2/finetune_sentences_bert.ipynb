{
 "cells": [
  {
   "cell_type": "code",
   "execution_count": 1,
   "metadata": {},
   "outputs": [],
   "source": [
    "import json\n",
    "from pathlib import Path\n",
    "\n",
    "from datasets import load_dataset\n",
    "from transformers import AutoTokenizer, BertForSequenceClassification, DataCollatorWithPadding, Trainer, TrainingArguments, pipeline\n",
    "from peft import LoraConfig, TaskType, get_peft_model\n",
    "import numpy as np\n",
    "import torch"
   ]
  },
  {
   "cell_type": "code",
   "execution_count": 2,
   "metadata": {},
   "outputs": [],
   "source": [
    "json_files = list(Path(\"./data/ground_truth\").rglob(\"*.jsonl\"))"
   ]
  },
  {
   "cell_type": "code",
   "execution_count": 3,
   "metadata": {},
   "outputs": [],
   "source": [
    "full_dataset = []\n",
    "\n",
    "for file in json_files:\n",
    "    with open(file, \"r\") as f:\n",
    "        lines = [json.loads(line) for line in f]\n",
    "    full_dataset.extend(lines)"
   ]
  },
  {
   "cell_type": "code",
   "execution_count": 4,
   "metadata": {},
   "outputs": [],
   "source": [
    "mapping = {\n",
    "    \"Mowa nienawiści\": \"Hate\",\n",
    "    \"Neutralny\": \"Neutral\",\n",
    "    \"Odwracanie\": \"Neutral\",\n",
    "    \"Wzmacnianie\": \"Hate\"\n",
    "}\n",
    "\n",
    "def get_label(labels):\n",
    "    label = labels[0][2]\n",
    "    if label in mapping:\n",
    "        label = mapping[label]\n",
    "    return label"
   ]
  },
  {
   "cell_type": "code",
   "execution_count": 5,
   "metadata": {},
   "outputs": [],
   "source": [
    "from sklearn.model_selection import train_test_split"
   ]
  },
  {
   "cell_type": "code",
   "execution_count": 6,
   "metadata": {},
   "outputs": [],
   "source": [
    "full_dataset_filtered = [{\"text\": sample[\"text\"], \"label\": get_label(sample[\"label\"])} for sample in full_dataset]"
   ]
  },
  {
   "cell_type": "code",
   "execution_count": 7,
   "metadata": {},
   "outputs": [],
   "source": [
    "train_ds, test_ds = train_test_split(full_dataset_filtered, test_size=0.1, random_state=42)"
   ]
  },
  {
   "cell_type": "code",
   "execution_count": 8,
   "metadata": {},
   "outputs": [],
   "source": [
    "with open(\"./sentences/train.jsonl\", 'w') as f:\n",
    "    for item in train_ds:\n",
    "        f.write(json.dumps(item) + '\\n')\n",
    "\n",
    "\n",
    "with open(\"./sentences/test.jsonl\", 'w') as f:\n",
    "    for item in test_ds:\n",
    "        f.write(json.dumps(item) + '\\n')"
   ]
  },
  {
   "cell_type": "code",
   "execution_count": 9,
   "metadata": {},
   "outputs": [
    {
     "data": {
      "application/vnd.jupyter.widget-view+json": {
       "model_id": "99ac89782ff54316aa738fc9d8651f03",
       "version_major": 2,
       "version_minor": 0
      },
      "text/plain": [
       "Generating train split: 0 examples [00:00, ? examples/s]"
      ]
     },
     "metadata": {},
     "output_type": "display_data"
    },
    {
     "data": {
      "application/vnd.jupyter.widget-view+json": {
       "model_id": "57365fca941843399ba17b1ac2e2961c",
       "version_major": 2,
       "version_minor": 0
      },
      "text/plain": [
       "Generating test split: 0 examples [00:00, ? examples/s]"
      ]
     },
     "metadata": {},
     "output_type": "display_data"
    },
    {
     "name": "stdout",
     "output_type": "stream",
     "text": [
      "DatasetDict({\n",
      "    train: Dataset({\n",
      "        features: ['text', 'label'],\n",
      "        num_rows: 539\n",
      "    })\n",
      "    test: Dataset({\n",
      "        features: ['text', 'label'],\n",
      "        num_rows: 60\n",
      "    })\n",
      "})\n"
     ]
    }
   ],
   "source": [
    "data_files = {\"train\": \"train.jsonl\", \"test\": \"test.jsonl\"}\n",
    "dataset = load_dataset(\"./sentences\", data_files=data_files)\n",
    "print(dataset)"
   ]
  },
  {
   "cell_type": "code",
   "execution_count": 10,
   "metadata": {},
   "outputs": [
    {
     "data": {
      "text/plain": [
       "Dataset({\n",
       "    features: ['text', 'label'],\n",
       "    num_rows: 539\n",
       "})"
      ]
     },
     "execution_count": 10,
     "metadata": {},
     "output_type": "execute_result"
    }
   ],
   "source": [
    "dataset[\"train\"]"
   ]
  },
  {
   "cell_type": "code",
   "execution_count": 11,
   "metadata": {},
   "outputs": [
    {
     "name": "stderr",
     "output_type": "stream",
     "text": [
      "Some weights of BertForSequenceClassification were not initialized from the model checkpoint at allegro/herbert-base-cased and are newly initialized: ['classifier.bias', 'classifier.weight']\n",
      "You should probably TRAIN this model on a down-stream task to be able to use it for predictions and inference.\n"
     ]
    }
   ],
   "source": [
    "sorted_labels = sorted(set([sample[\"label\"] for sample in train_ds]))\n",
    "label2id = dict(zip(sorted_labels, range(0, len(sorted_labels))))\n",
    "id2label = dict(zip(range(0, len(sorted_labels)), sorted_labels))\n",
    "\n",
    "tokenizer = AutoTokenizer.from_pretrained(\"allegro/herbert-base-cased\", return_tensors=\"pt\")\n",
    "model = BertForSequenceClassification.from_pretrained(\"allegro/herbert-base-cased\",\n",
    "                                                                      num_labels=len(label2id),\n",
    "                                                                      label2id=label2id,\n",
    "                                                                      id2label=id2label)"
   ]
  },
  {
   "cell_type": "code",
   "execution_count": 12,
   "metadata": {},
   "outputs": [
    {
     "data": {
      "application/vnd.jupyter.widget-view+json": {
       "model_id": "56a4695b7c0340c0a938587468376c3d",
       "version_major": 2,
       "version_minor": 0
      },
      "text/plain": [
       "Map:   0%|          | 0/539 [00:00<?, ? examples/s]"
      ]
     },
     "metadata": {},
     "output_type": "display_data"
    },
    {
     "data": {
      "application/vnd.jupyter.widget-view+json": {
       "model_id": "8b40936c7ec145d7a02a7e0494ba6587",
       "version_major": 2,
       "version_minor": 0
      },
      "text/plain": [
       "Map:   0%|          | 0/60 [00:00<?, ? examples/s]"
      ]
     },
     "metadata": {},
     "output_type": "display_data"
    },
    {
     "name": "stdout",
     "output_type": "stream",
     "text": [
      "{'train': Dataset({\n",
      "    features: ['text', 'label', 'input_ids', 'token_type_ids', 'attention_mask'],\n",
      "    num_rows: 539\n",
      "}), 'test': Dataset({\n",
      "    features: ['text', 'label', 'input_ids', 'token_type_ids', 'attention_mask'],\n",
      "    num_rows: 60\n",
      "})}\n"
     ]
    }
   ],
   "source": [
    "def preprocess_function(examples):\n",
    "    \"\"\"Preprocess the dataset by returning tokenized examples.\"\"\"\n",
    "    tokens = tokenizer(examples[\"text\"], padding=\"max_length\", truncation=True)\n",
    "    tokens['label'] = [label2id[l] for l in examples[\"label\"]]\n",
    "    return tokens\n",
    "\n",
    "splits = ['train', 'test']\n",
    "\n",
    "tokenized_ds = {}\n",
    "\n",
    "for split in splits:\n",
    "    tokenized_ds[split] = dataset[split].map(preprocess_function, batched=True)\n",
    "\n",
    "print(tokenized_ds)"
   ]
  },
  {
   "cell_type": "code",
   "execution_count": null,
   "metadata": {},
   "outputs": [],
   "source": [
    "# import torch.nn as nn\n",
    "\n",
    "# model.classifier = nn.Sequential(\n",
    "#     nn.Linear(768, 384),\n",
    "#     nn.ReLU(),\n",
    "#     nn.Linear(384, 2),\n",
    "# )"
   ]
  },
  {
   "cell_type": "code",
   "execution_count": 17,
   "metadata": {},
   "outputs": [
    {
     "name": "stdout",
     "output_type": "stream",
     "text": [
      "BertModel(\n",
      "  (embeddings): BertEmbeddings(\n",
      "    (word_embeddings): Embedding(50000, 768, padding_idx=1)\n",
      "    (position_embeddings): Embedding(514, 768)\n",
      "    (token_type_embeddings): Embedding(2, 768)\n",
      "    (LayerNorm): LayerNorm((768,), eps=1e-12, elementwise_affine=True)\n",
      "    (dropout): Dropout(p=0.1, inplace=False)\n",
      "  )\n",
      "  (encoder): BertEncoder(\n",
      "    (layer): ModuleList(\n",
      "      (0-11): 12 x BertLayer(\n",
      "        (attention): BertAttention(\n",
      "          (self): BertSdpaSelfAttention(\n",
      "            (query): lora.Linear(\n",
      "              (base_layer): Linear(in_features=768, out_features=768, bias=True)\n",
      "              (lora_dropout): ModuleDict(\n",
      "                (default): Dropout(p=0.1, inplace=False)\n",
      "              )\n",
      "              (lora_A): ModuleDict(\n",
      "                (default): Linear(in_features=768, out_features=64, bias=False)\n",
      "              )\n",
      "              (lora_B): ModuleDict(\n",
      "                (default): Linear(in_features=64, out_features=768, bias=False)\n",
      "              )\n",
      "              (lora_embedding_A): ParameterDict()\n",
      "              (lora_embedding_B): ParameterDict()\n",
      "              (lora_magnitude_vector): ModuleDict()\n",
      "            )\n",
      "            (key): Linear(in_features=768, out_features=768, bias=True)\n",
      "            (value): lora.Linear(\n",
      "              (base_layer): Linear(in_features=768, out_features=768, bias=True)\n",
      "              (lora_dropout): ModuleDict(\n",
      "                (default): Dropout(p=0.1, inplace=False)\n",
      "              )\n",
      "              (lora_A): ModuleDict(\n",
      "                (default): Linear(in_features=768, out_features=64, bias=False)\n",
      "              )\n",
      "              (lora_B): ModuleDict(\n",
      "                (default): Linear(in_features=64, out_features=768, bias=False)\n",
      "              )\n",
      "              (lora_embedding_A): ParameterDict()\n",
      "              (lora_embedding_B): ParameterDict()\n",
      "              (lora_magnitude_vector): ModuleDict()\n",
      "            )\n",
      "            (dropout): Dropout(p=0.1, inplace=False)\n",
      "          )\n",
      "          (output): BertSelfOutput(\n",
      "            (dense): Linear(in_features=768, out_features=768, bias=True)\n",
      "            (LayerNorm): LayerNorm((768,), eps=1e-12, elementwise_affine=True)\n",
      "            (dropout): Dropout(p=0.1, inplace=False)\n",
      "          )\n",
      "        )\n",
      "        (intermediate): BertIntermediate(\n",
      "          (dense): Linear(in_features=768, out_features=3072, bias=True)\n",
      "          (intermediate_act_fn): GELUActivation()\n",
      "        )\n",
      "        (output): BertOutput(\n",
      "          (dense): Linear(in_features=3072, out_features=768, bias=True)\n",
      "          (LayerNorm): LayerNorm((768,), eps=1e-12, elementwise_affine=True)\n",
      "          (dropout): Dropout(p=0.1, inplace=False)\n",
      "        )\n",
      "      )\n",
      "    )\n",
      "  )\n",
      "  (pooler): BertPooler(\n",
      "    (dense): Linear(in_features=768, out_features=768, bias=True)\n",
      "    (activation): Tanh()\n",
      "  )\n",
      ")\n"
     ]
    }
   ],
   "source": [
    "lora_config = LoraConfig(\n",
    "    task_type=TaskType.SEQ_CLS, r=64, lora_alpha=1, lora_dropout=0.1\n",
    ")\n",
    "\n",
    "peft_model = get_peft_model(model, lora_config)\n",
    "print(peft_model.bert)"
   ]
  },
  {
   "cell_type": "code",
   "execution_count": 18,
   "metadata": {},
   "outputs": [
    {
     "name": "stdout",
     "output_type": "stream",
     "text": [
      "Starting to train...\n"
     ]
    },
    {
     "data": {
      "text/html": [
       "\n",
       "    <div>\n",
       "      \n",
       "      <progress value='2025' max='2025' style='width:300px; height:20px; vertical-align: middle;'></progress>\n",
       "      [2025/2025 06:22, Epoch 15/15]\n",
       "    </div>\n",
       "    <table border=\"1\" class=\"dataframe\">\n",
       "  <thead>\n",
       " <tr style=\"text-align: left;\">\n",
       "      <th>Epoch</th>\n",
       "      <th>Training Loss</th>\n",
       "      <th>Validation Loss</th>\n",
       "      <th>Accuracy</th>\n",
       "      <th>F1</th>\n",
       "    </tr>\n",
       "  </thead>\n",
       "  <tbody>\n",
       "    <tr>\n",
       "      <td>1</td>\n",
       "      <td>No log</td>\n",
       "      <td>0.439523</td>\n",
       "      <td>86.666667</td>\n",
       "      <td>0.928571</td>\n",
       "    </tr>\n",
       "    <tr>\n",
       "      <td>2</td>\n",
       "      <td>No log</td>\n",
       "      <td>0.574664</td>\n",
       "      <td>86.666667</td>\n",
       "      <td>0.928571</td>\n",
       "    </tr>\n",
       "    <tr>\n",
       "      <td>3</td>\n",
       "      <td>No log</td>\n",
       "      <td>0.753725</td>\n",
       "      <td>86.666667</td>\n",
       "      <td>0.925926</td>\n",
       "    </tr>\n",
       "    <tr>\n",
       "      <td>4</td>\n",
       "      <td>0.484900</td>\n",
       "      <td>0.539774</td>\n",
       "      <td>91.666667</td>\n",
       "      <td>0.952381</td>\n",
       "    </tr>\n",
       "    <tr>\n",
       "      <td>5</td>\n",
       "      <td>0.484900</td>\n",
       "      <td>0.335953</td>\n",
       "      <td>90.000000</td>\n",
       "      <td>0.941176</td>\n",
       "    </tr>\n",
       "    <tr>\n",
       "      <td>6</td>\n",
       "      <td>0.484900</td>\n",
       "      <td>0.404437</td>\n",
       "      <td>93.333333</td>\n",
       "      <td>0.962264</td>\n",
       "    </tr>\n",
       "    <tr>\n",
       "      <td>7</td>\n",
       "      <td>0.484900</td>\n",
       "      <td>0.709045</td>\n",
       "      <td>91.666667</td>\n",
       "      <td>0.950495</td>\n",
       "    </tr>\n",
       "    <tr>\n",
       "      <td>8</td>\n",
       "      <td>0.230800</td>\n",
       "      <td>0.441767</td>\n",
       "      <td>93.333333</td>\n",
       "      <td>0.960784</td>\n",
       "    </tr>\n",
       "    <tr>\n",
       "      <td>9</td>\n",
       "      <td>0.230800</td>\n",
       "      <td>0.610835</td>\n",
       "      <td>91.666667</td>\n",
       "      <td>0.950495</td>\n",
       "    </tr>\n",
       "    <tr>\n",
       "      <td>10</td>\n",
       "      <td>0.230800</td>\n",
       "      <td>0.695224</td>\n",
       "      <td>91.666667</td>\n",
       "      <td>0.950495</td>\n",
       "    </tr>\n",
       "    <tr>\n",
       "      <td>11</td>\n",
       "      <td>0.230800</td>\n",
       "      <td>0.517176</td>\n",
       "      <td>91.666667</td>\n",
       "      <td>0.950495</td>\n",
       "    </tr>\n",
       "    <tr>\n",
       "      <td>12</td>\n",
       "      <td>0.102200</td>\n",
       "      <td>0.521260</td>\n",
       "      <td>91.666667</td>\n",
       "      <td>0.950495</td>\n",
       "    </tr>\n",
       "    <tr>\n",
       "      <td>13</td>\n",
       "      <td>0.102200</td>\n",
       "      <td>0.601202</td>\n",
       "      <td>91.666667</td>\n",
       "      <td>0.950495</td>\n",
       "    </tr>\n",
       "    <tr>\n",
       "      <td>14</td>\n",
       "      <td>0.102200</td>\n",
       "      <td>0.628447</td>\n",
       "      <td>91.666667</td>\n",
       "      <td>0.950495</td>\n",
       "    </tr>\n",
       "    <tr>\n",
       "      <td>15</td>\n",
       "      <td>0.066600</td>\n",
       "      <td>0.615965</td>\n",
       "      <td>91.666667</td>\n",
       "      <td>0.950495</td>\n",
       "    </tr>\n",
       "  </tbody>\n",
       "</table><p>"
      ],
      "text/plain": [
       "<IPython.core.display.HTML object>"
      ]
     },
     "metadata": {},
     "output_type": "display_data"
    },
    {
     "data": {
      "text/plain": [
       "TrainOutput(global_step=2025, training_loss=0.21841612876013472, metrics={'train_runtime': 382.5205, 'train_samples_per_second': 21.136, 'train_steps_per_second': 5.294, 'total_flos': 2200519654502400.0, 'train_loss': 0.21841612876013472, 'epoch': 15.0})"
      ]
     },
     "execution_count": 18,
     "metadata": {},
     "output_type": "execute_result"
    }
   ],
   "source": [
    "from sklearn.metrics import f1_score\n",
    "\n",
    "def compute_metrics(eval_pred):\n",
    "    predictions, labels = eval_pred\n",
    "    predictions = np.argmax(predictions, axis=1)\n",
    "    f1 = f1_score(labels, predictions) \n",
    "    return {\"accuracy\": (predictions == labels).mean()*100, \"f1\": f1}\n",
    "\n",
    "\n",
    "trainer = Trainer(\n",
    "    model=peft_model,\n",
    "    args=TrainingArguments(\n",
    "        output_dir=\"bert-sentence-clf\",\n",
    "        learning_rate=2e-3,\n",
    "        per_device_train_batch_size=4,\n",
    "        per_device_eval_batch_size=4,\n",
    "        num_train_epochs=15,\n",
    "        weight_decay=0.01,\n",
    "        eval_strategy=\"epoch\",\n",
    "        save_strategy=\"epoch\",\n",
    "        load_best_model_at_end=True,\n",
    "    ),\n",
    "    train_dataset=tokenized_ds[\"train\"],\n",
    "    eval_dataset=tokenized_ds[\"test\"],\n",
    "    processing_class=tokenizer,\n",
    "    data_collator=DataCollatorWithPadding(tokenizer=tokenizer),\n",
    "    compute_metrics=compute_metrics,\n",
    ")\n",
    "\n",
    "print(\"Starting to train...\")\n",
    "trainer.train()"
   ]
  },
  {
   "cell_type": "code",
   "execution_count": 19,
   "metadata": {},
   "outputs": [],
   "source": [
    "from sklearn.manifold import TSNE\n",
    "import pandas as pd\n",
    "import plotly.express as px"
   ]
  },
  {
   "cell_type": "code",
   "execution_count": 32,
   "metadata": {},
   "outputs": [
    {
     "data": {
      "application/vnd.plotly.v1+json": {
       "config": {
        "plotlyServerURL": "https://plot.ly"
       },
       "data": [
        {
         "customdata": [
          [
           "@anonymized_account Lis biedny kręci się wokół własnego ogona i ciągle próbuję marudzić A to już mu nie wychodzi"
          ],
          [
           "@anonymized_account A w Łodzi Panie Łukaszu na razie Hania,przez niektórych zwana szachrajka😁😁"
          ],
          [
           "@anonymized_account Sorry Pogoń, trzech Waszych w moim @anonymized_account zostało."
          ],
          [
           "@anonymized_account @anonymized_account Co ty tam w tym Koźlu Kędzierzysz?"
          ],
          [
           "@anonymized_account no to jak to jest że się nie da grać w kosza a się wygrywa z mistrzyniami Europy ?"
          ],
          [
           "@anonymized_account Lis biedny kręci się wokół własnego ogona i ciągle próbuję marudzić A to już mu nie wychodzi"
          ],
          [
           "Podobno mają wprowadzić maseczki antysmogowe ze specjalnym otworkiem na papierosa."
          ],
          [
           "Co się musi dziać teraz u @anonymized_account 😄"
          ],
          [
           "Sprzedać za 50 mln Paulinho i kupić (podobno) za 30 mln Vidala - nie poznaję Barcelony."
          ],
          [
           "@anonymized_account Panie Andrzeju jeszcze pan będzie prosił o te leki przeciw bólowe 😀"
          ],
          [
           "@anonymized_account Pogba nie był na pozycji spalonej."
          ],
          [
           "#dividetourwarsaw i need to know CO Z AKCJA KTÓRA WŁAŚNIE POWINNA IŚĆ NAM ZAJEBISCIE"
          ],
          [
           "PROFESOR JEST NA SPOTIFY UMARŁAM XDD"
          ],
          [
           "Dużo tego jeszcze było ale nie chce mi się pisać i tak nikogo to nie interesuje"
          ],
          [
           "@anonymized_account @anonymized_account mi się ten styl podoba 💪 oby tak dalej :)"
          ],
          [
           "@anonymized_account @anonymized_account @anonymized_account W stop klatkach widać ze jak by to było po stronie drugiej (legi) to karny by był"
          ],
          [
           "@anonymized_account burmistrz z platka kwiatka przypomina mi burmistrza Kluczborka"
          ],
          [
           "@anonymized_account @anonymized_account w ekstraklasie też nie ma"
          ],
          [
           "Patrzysz na @anonymized_account @anonymized_account @anonymized_account i wiesz że idzie wojna"
          ],
          [
           "RT @anonymized_account Przypominam.  Kto taśmami wojuje..."
          ],
          [
           "vans do chuja przestań robić choć na chwilę zajebiste kolekcje bo w moim portfelu pieniądzen't"
          ],
          [
           "@anonymized_account Już dwa lata temu powinni wygrac Euro."
          ],
          [
           "@anonymized_account @anonymized_account A niby z jakiego powodu? Żeby mogła sprawować swój urząd? Chyba żart!"
          ],
          [
           "@anonymized_account @anonymized_account @anonymized_account @anonymized_account Nieeee, Gryszkiewicz nie grał, to akurat nie o nim."
          ],
          [
           "RT @anonymized_account Zawsze jak ide do przymiezalni do h\\u0026amp;m to przeżywam szok, ze naprawde wyglądam tak, jak widać to w tym lustrze od tylu…"
          ],
          [
           "@anonymized_account @anonymized_account Według mnie to fake wypucha na zdjęciu niejest miś chyba żeby się tak strasznie zmienił w ostatnim czasie"
          ],
          [
           "@anonymized_account @anonymized_account Nawet podobny do niego, prawda ?xD"
          ],
          [
           "Bild po wczorajszej demolce przy Ł3: \\\"Po co w LM takie ogórki? III-ligowy Trier sprawił BVB w P. Niemiec więcej problemów niż Legia w LM\\\""
          ],
          [
           "RT @anonymized_account Morawiecki senior robi w trąbę zmarłych, syn żywych. Taki podział ról."
          ],
          [
           "@anonymized_account Pani Malarz trza być obiektywnym dziennikarką to ze legia gra piach to normalka nic dziwnego"
          ],
          [
           "@anonymized_account A ManUtd czasami wczoraj nie odpadł ?:)"
          ],
          [
           "@anonymized_account @anonymized_account a trenerem został Szymon Pawłowski :)"
          ],
          [
           "@anonymized_account Nie nazwałbym tego dziennikarstwem 😂"
          ],
          [
           "@anonymized_account o ile się nie myle to ta twarda ręka była jednym z powodów jego zwolnienia :)"
          ],
          [
           "@anonymized_account Błędem było jego zatrudnienie a nie zwolnienie"
          ],
          [
           "@anonymized_account @anonymized_account Oj tam, ale chyba po raz pierwszy odpadną przed nami 😂"
          ],
          [
           "Podobno mają wprowadzić maseczki antysmogowe ze specjalnym otworkiem na papierosa."
          ],
          [
           "RT @anonymized_account @anonymized_account @anonymized_account Wzrusza mnie ta wasza troska. I rozumiem ją. W końcu jest lotnisko w Niemczech. A więc u nas n…"
          ],
          [
           "@anonymized_account @anonymized_account Nawet podobny do niego, prawda ?xD"
          ],
          [
           "@anonymized_account @anonymized_account No pewnie. Niepełnosprawnych zamkneliscie w sejmie to się zrobiło bezpiecznie na ulicach. Taka prawda kłamco."
          ],
          [
           "@anonymized_account Tomek niesluchaj radia jak juz tak Cię denerwuje zwykła reklama 😉 niejestem lekarzem ale podejrzewam chorobę zawodową🎤 🍻"
          ],
          [
           "@anonymized_account @anonymized_account Według mnie to fake wypucha na zdjęciu niejest miś chyba żeby się tak strasznie zmienił w ostatnim czasie"
          ],
          [
           "RT @anonymized_account @anonymized_account @anonymized_account dopiero po porodzie kobiety maja mgliste pojęcie o bólu mężczyzn z katarem."
          ],
          [
           "@anonymized_account @anonymized_account Powinni jeszcze zaprosić Gmyza i odlot będzie pełny."
          ],
          [
           "@anonymized_account dziś ciężko. Pół Warszawy postanowiło się umyć w tym samym czasie."
          ],
          [
           "@anonymized_account @anonymized_account Aha, a ktoś cię zapraszał do rozmowy?"
          ],
          [
           "RT @anonymized_account @anonymized_account @anonymized_account dopiero po porodzie kobiety maja mgliste pojęcie o bólu mężczyzn z katarem."
          ],
          [
           "@anonymized_account @anonymized_account Dlatego to nie miało żadnego większego wpływu z żadnej ze stron."
          ],
          [
           "@anonymized_account A Ty nigdy nie robisz dwóch rzeczy jednocześnie? Np. idziesz i żujesz gumę."
          ],
          [
           "@anonymized_account @anonymized_account Trochę dużo tych trenerów :P"
          ],
          [
           "Skoro wchodzi Góralski, to tym bardziej szkoda, że po drugiej stronie nie ma Vidala 😜"
          ],
          [
           "@anonymized_account to ty chłopie nie płacz że mamy takie legendy.A wy macie kogo ? PiotraBanie ?@anonymized_account @anonymized_account @anonymized_account @anonymized_account"
          ]
         ],
         "hovertemplate": "label=Neutral<br>0=%{x}<br>1=%{y}<br>text=%{customdata[0]}<extra></extra>",
         "legendgroup": "Neutral",
         "marker": {
          "color": "#636efa",
          "symbol": "circle"
         },
         "mode": "markers",
         "name": "Neutral",
         "orientation": "v",
         "showlegend": true,
         "type": "scatter",
         "x": [
          -7.6909499168396,
          -3.5489468574523926,
          -6.108173370361328,
          -7.570723056793213,
          -4.738809585571289,
          -7.687992095947266,
          -2.196479082107544,
          -2.686140775680542,
          -2.4115374088287354,
          -3.8836464881896973,
          -5.302031993865967,
          -3.809412956237793,
          -1.4210172891616821,
          -1.9929887056350708,
          -4.2918243408203125,
          -6.908444404602051,
          -5.050090789794922,
          -5.716557502746582,
          -2.2576844692230225,
          -5.5711798667907715,
          -8.494173049926758,
          -5.144169330596924,
          -5.869322776794434,
          -7.2385053634643555,
          -4.101375102996826,
          -6.39359712600708,
          -5.591914176940918,
          -2.383310079574585,
          -5.701662540435791,
          -5.911738395690918,
          -4.26503324508667,
          -4.911194324493408,
          -4.079888343811035,
          -4.316641807556152,
          -4.702017784118652,
          -4.904177665710449,
          -2.196479082107544,
          -4.403677940368652,
          -5.591914176940918,
          -9.107067108154297,
          -3.6684491634368896,
          -6.39359712600708,
          -4.749322414398193,
          -6.868481159210205,
          -4.419226169586182,
          -6.555899620056152,
          -4.749322414398193,
          -6.365462779998779,
          -6.41377067565918,
          -5.2361345291137695,
          -2.7252979278564453,
          -5.981722831726074
         ],
         "xaxis": "x",
         "y": [
          2.3199777603149414,
          -1.2276219129562378,
          0.19997844099998474,
          0.32684120535850525,
          -0.09070712327957153,
          2.3193717002868652,
          3.3277714252471924,
          0.13175103068351746,
          1.4129042625427246,
          -0.3651096522808075,
          0.7819432616233826,
          1.1022143363952637,
          1.2151747941970825,
          0.2020491659641266,
          -1.712866187095642,
          -0.8176560401916504,
          1.4100464582443237,
          -0.29519903659820557,
          1.769416332244873,
          3.4561448097229004,
          1.7857308387756348,
          0.956185519695282,
          -0.7097339034080505,
          -0.6531322598457336,
          2.6970529556274414,
          -0.6628283858299255,
          -1.8040324449539185,
          1.4006799459457397,
          3.500047206878662,
          1.5676140785217285,
          -0.05839470028877258,
          -1.5211435556411743,
          -0.48506560921669006,
          0.3089466989040375,
          0.6096752285957336,
          -1.1066875457763672,
          3.3277714252471924,
          3.0114247798919678,
          -1.8040324449539185,
          3.965651512145996,
          -0.9960088729858398,
          -0.6628283858299255,
          3.791801691055298,
          0.02585645765066147,
          0.6193807721138,
          -1.545066475868225,
          3.791801691055298,
          -0.09331940859556198,
          1.59311842918396,
          -0.8804894685745239,
          -0.723865807056427,
          -1.2149122953414917
         ],
         "yaxis": "y"
        },
        {
         "customdata": [
          [
           "@anonymized_account @anonymized_account Jednostki wojskowe funkcjonują w oparciu o karty kredytowe? Lecz się człowieku."
          ],
          [
           "@anonymized_account @anonymized_account @anonymized_account Jojo demokrata w akcji. Taki pospolity ćwierćmózg"
          ],
          [
           "@anonymized_account A nastepni będą tacy jak Terlikowski spędzający czas w kolejce do psychiatry."
          ],
          [
           "@anonymized_account Krystynę mi on przypomina ale trzeba mieć niepokoleji w głowie by się robić na Krystynę"
          ],
          [
           "@anonymized_account czy Pan Waldemar ma zakaz wjazdu Parchu, czy nie ma?"
          ],
          [
           "@anonymized_account @anonymized_account Raczej ma problem z głową. Tak jak Ty i Tobie podobni."
          ],
          [
           "@anonymized_account Polacy też wiedzą, że jednym z największych debili jest niejaki Ziemkiewicz."
          ],
          [
           "@anonymized_account @anonymized_account @anonymized_account Kurwa w jebany dzień parlamentaryzmu wszędzie barierki i psiarnia, no kurwa pięknie się to wspasowuje"
          ]
         ],
         "hovertemplate": "label=Hate<br>0=%{x}<br>1=%{y}<br>text=%{customdata[0]}<extra></extra>",
         "legendgroup": "Hate",
         "marker": {
          "color": "#EF553B",
          "symbol": "circle"
         },
         "mode": "markers",
         "name": "Hate",
         "orientation": "v",
         "showlegend": true,
         "type": "scatter",
         "x": [
          -9.135279655456543,
          -9.091465950012207,
          -7.038182258605957,
          -4.782812595367432,
          -7.751377105712891,
          -8.969141960144043,
          -7.747552871704102,
          -9.176338195800781
         ],
         "xaxis": "x",
         "y": [
          3.650238275527954,
          3.915118932723999,
          2.3202366828918457,
          0.2874019145965576,
          2.488332986831665,
          3.3754053115844727,
          2.882474184036255,
          4.054577827453613
         ],
         "yaxis": "y"
        }
       ],
       "layout": {
        "legend": {
         "title": {
          "text": "label"
         },
         "tracegroupgap": 0
        },
        "margin": {
         "t": 60
        },
        "template": {
         "data": {
          "bar": [
           {
            "error_x": {
             "color": "#2a3f5f"
            },
            "error_y": {
             "color": "#2a3f5f"
            },
            "marker": {
             "line": {
              "color": "#E5ECF6",
              "width": 0.5
             },
             "pattern": {
              "fillmode": "overlay",
              "size": 10,
              "solidity": 0.2
             }
            },
            "type": "bar"
           }
          ],
          "barpolar": [
           {
            "marker": {
             "line": {
              "color": "#E5ECF6",
              "width": 0.5
             },
             "pattern": {
              "fillmode": "overlay",
              "size": 10,
              "solidity": 0.2
             }
            },
            "type": "barpolar"
           }
          ],
          "carpet": [
           {
            "aaxis": {
             "endlinecolor": "#2a3f5f",
             "gridcolor": "white",
             "linecolor": "white",
             "minorgridcolor": "white",
             "startlinecolor": "#2a3f5f"
            },
            "baxis": {
             "endlinecolor": "#2a3f5f",
             "gridcolor": "white",
             "linecolor": "white",
             "minorgridcolor": "white",
             "startlinecolor": "#2a3f5f"
            },
            "type": "carpet"
           }
          ],
          "choropleth": [
           {
            "colorbar": {
             "outlinewidth": 0,
             "ticks": ""
            },
            "type": "choropleth"
           }
          ],
          "contour": [
           {
            "colorbar": {
             "outlinewidth": 0,
             "ticks": ""
            },
            "colorscale": [
             [
              0,
              "#0d0887"
             ],
             [
              0.1111111111111111,
              "#46039f"
             ],
             [
              0.2222222222222222,
              "#7201a8"
             ],
             [
              0.3333333333333333,
              "#9c179e"
             ],
             [
              0.4444444444444444,
              "#bd3786"
             ],
             [
              0.5555555555555556,
              "#d8576b"
             ],
             [
              0.6666666666666666,
              "#ed7953"
             ],
             [
              0.7777777777777778,
              "#fb9f3a"
             ],
             [
              0.8888888888888888,
              "#fdca26"
             ],
             [
              1,
              "#f0f921"
             ]
            ],
            "type": "contour"
           }
          ],
          "contourcarpet": [
           {
            "colorbar": {
             "outlinewidth": 0,
             "ticks": ""
            },
            "type": "contourcarpet"
           }
          ],
          "heatmap": [
           {
            "colorbar": {
             "outlinewidth": 0,
             "ticks": ""
            },
            "colorscale": [
             [
              0,
              "#0d0887"
             ],
             [
              0.1111111111111111,
              "#46039f"
             ],
             [
              0.2222222222222222,
              "#7201a8"
             ],
             [
              0.3333333333333333,
              "#9c179e"
             ],
             [
              0.4444444444444444,
              "#bd3786"
             ],
             [
              0.5555555555555556,
              "#d8576b"
             ],
             [
              0.6666666666666666,
              "#ed7953"
             ],
             [
              0.7777777777777778,
              "#fb9f3a"
             ],
             [
              0.8888888888888888,
              "#fdca26"
             ],
             [
              1,
              "#f0f921"
             ]
            ],
            "type": "heatmap"
           }
          ],
          "heatmapgl": [
           {
            "colorbar": {
             "outlinewidth": 0,
             "ticks": ""
            },
            "colorscale": [
             [
              0,
              "#0d0887"
             ],
             [
              0.1111111111111111,
              "#46039f"
             ],
             [
              0.2222222222222222,
              "#7201a8"
             ],
             [
              0.3333333333333333,
              "#9c179e"
             ],
             [
              0.4444444444444444,
              "#bd3786"
             ],
             [
              0.5555555555555556,
              "#d8576b"
             ],
             [
              0.6666666666666666,
              "#ed7953"
             ],
             [
              0.7777777777777778,
              "#fb9f3a"
             ],
             [
              0.8888888888888888,
              "#fdca26"
             ],
             [
              1,
              "#f0f921"
             ]
            ],
            "type": "heatmapgl"
           }
          ],
          "histogram": [
           {
            "marker": {
             "pattern": {
              "fillmode": "overlay",
              "size": 10,
              "solidity": 0.2
             }
            },
            "type": "histogram"
           }
          ],
          "histogram2d": [
           {
            "colorbar": {
             "outlinewidth": 0,
             "ticks": ""
            },
            "colorscale": [
             [
              0,
              "#0d0887"
             ],
             [
              0.1111111111111111,
              "#46039f"
             ],
             [
              0.2222222222222222,
              "#7201a8"
             ],
             [
              0.3333333333333333,
              "#9c179e"
             ],
             [
              0.4444444444444444,
              "#bd3786"
             ],
             [
              0.5555555555555556,
              "#d8576b"
             ],
             [
              0.6666666666666666,
              "#ed7953"
             ],
             [
              0.7777777777777778,
              "#fb9f3a"
             ],
             [
              0.8888888888888888,
              "#fdca26"
             ],
             [
              1,
              "#f0f921"
             ]
            ],
            "type": "histogram2d"
           }
          ],
          "histogram2dcontour": [
           {
            "colorbar": {
             "outlinewidth": 0,
             "ticks": ""
            },
            "colorscale": [
             [
              0,
              "#0d0887"
             ],
             [
              0.1111111111111111,
              "#46039f"
             ],
             [
              0.2222222222222222,
              "#7201a8"
             ],
             [
              0.3333333333333333,
              "#9c179e"
             ],
             [
              0.4444444444444444,
              "#bd3786"
             ],
             [
              0.5555555555555556,
              "#d8576b"
             ],
             [
              0.6666666666666666,
              "#ed7953"
             ],
             [
              0.7777777777777778,
              "#fb9f3a"
             ],
             [
              0.8888888888888888,
              "#fdca26"
             ],
             [
              1,
              "#f0f921"
             ]
            ],
            "type": "histogram2dcontour"
           }
          ],
          "mesh3d": [
           {
            "colorbar": {
             "outlinewidth": 0,
             "ticks": ""
            },
            "type": "mesh3d"
           }
          ],
          "parcoords": [
           {
            "line": {
             "colorbar": {
              "outlinewidth": 0,
              "ticks": ""
             }
            },
            "type": "parcoords"
           }
          ],
          "pie": [
           {
            "automargin": true,
            "type": "pie"
           }
          ],
          "scatter": [
           {
            "fillpattern": {
             "fillmode": "overlay",
             "size": 10,
             "solidity": 0.2
            },
            "type": "scatter"
           }
          ],
          "scatter3d": [
           {
            "line": {
             "colorbar": {
              "outlinewidth": 0,
              "ticks": ""
             }
            },
            "marker": {
             "colorbar": {
              "outlinewidth": 0,
              "ticks": ""
             }
            },
            "type": "scatter3d"
           }
          ],
          "scattercarpet": [
           {
            "marker": {
             "colorbar": {
              "outlinewidth": 0,
              "ticks": ""
             }
            },
            "type": "scattercarpet"
           }
          ],
          "scattergeo": [
           {
            "marker": {
             "colorbar": {
              "outlinewidth": 0,
              "ticks": ""
             }
            },
            "type": "scattergeo"
           }
          ],
          "scattergl": [
           {
            "marker": {
             "colorbar": {
              "outlinewidth": 0,
              "ticks": ""
             }
            },
            "type": "scattergl"
           }
          ],
          "scattermapbox": [
           {
            "marker": {
             "colorbar": {
              "outlinewidth": 0,
              "ticks": ""
             }
            },
            "type": "scattermapbox"
           }
          ],
          "scatterpolar": [
           {
            "marker": {
             "colorbar": {
              "outlinewidth": 0,
              "ticks": ""
             }
            },
            "type": "scatterpolar"
           }
          ],
          "scatterpolargl": [
           {
            "marker": {
             "colorbar": {
              "outlinewidth": 0,
              "ticks": ""
             }
            },
            "type": "scatterpolargl"
           }
          ],
          "scatterternary": [
           {
            "marker": {
             "colorbar": {
              "outlinewidth": 0,
              "ticks": ""
             }
            },
            "type": "scatterternary"
           }
          ],
          "surface": [
           {
            "colorbar": {
             "outlinewidth": 0,
             "ticks": ""
            },
            "colorscale": [
             [
              0,
              "#0d0887"
             ],
             [
              0.1111111111111111,
              "#46039f"
             ],
             [
              0.2222222222222222,
              "#7201a8"
             ],
             [
              0.3333333333333333,
              "#9c179e"
             ],
             [
              0.4444444444444444,
              "#bd3786"
             ],
             [
              0.5555555555555556,
              "#d8576b"
             ],
             [
              0.6666666666666666,
              "#ed7953"
             ],
             [
              0.7777777777777778,
              "#fb9f3a"
             ],
             [
              0.8888888888888888,
              "#fdca26"
             ],
             [
              1,
              "#f0f921"
             ]
            ],
            "type": "surface"
           }
          ],
          "table": [
           {
            "cells": {
             "fill": {
              "color": "#EBF0F8"
             },
             "line": {
              "color": "white"
             }
            },
            "header": {
             "fill": {
              "color": "#C8D4E3"
             },
             "line": {
              "color": "white"
             }
            },
            "type": "table"
           }
          ]
         },
         "layout": {
          "annotationdefaults": {
           "arrowcolor": "#2a3f5f",
           "arrowhead": 0,
           "arrowwidth": 1
          },
          "autotypenumbers": "strict",
          "coloraxis": {
           "colorbar": {
            "outlinewidth": 0,
            "ticks": ""
           }
          },
          "colorscale": {
           "diverging": [
            [
             0,
             "#8e0152"
            ],
            [
             0.1,
             "#c51b7d"
            ],
            [
             0.2,
             "#de77ae"
            ],
            [
             0.3,
             "#f1b6da"
            ],
            [
             0.4,
             "#fde0ef"
            ],
            [
             0.5,
             "#f7f7f7"
            ],
            [
             0.6,
             "#e6f5d0"
            ],
            [
             0.7,
             "#b8e186"
            ],
            [
             0.8,
             "#7fbc41"
            ],
            [
             0.9,
             "#4d9221"
            ],
            [
             1,
             "#276419"
            ]
           ],
           "sequential": [
            [
             0,
             "#0d0887"
            ],
            [
             0.1111111111111111,
             "#46039f"
            ],
            [
             0.2222222222222222,
             "#7201a8"
            ],
            [
             0.3333333333333333,
             "#9c179e"
            ],
            [
             0.4444444444444444,
             "#bd3786"
            ],
            [
             0.5555555555555556,
             "#d8576b"
            ],
            [
             0.6666666666666666,
             "#ed7953"
            ],
            [
             0.7777777777777778,
             "#fb9f3a"
            ],
            [
             0.8888888888888888,
             "#fdca26"
            ],
            [
             1,
             "#f0f921"
            ]
           ],
           "sequentialminus": [
            [
             0,
             "#0d0887"
            ],
            [
             0.1111111111111111,
             "#46039f"
            ],
            [
             0.2222222222222222,
             "#7201a8"
            ],
            [
             0.3333333333333333,
             "#9c179e"
            ],
            [
             0.4444444444444444,
             "#bd3786"
            ],
            [
             0.5555555555555556,
             "#d8576b"
            ],
            [
             0.6666666666666666,
             "#ed7953"
            ],
            [
             0.7777777777777778,
             "#fb9f3a"
            ],
            [
             0.8888888888888888,
             "#fdca26"
            ],
            [
             1,
             "#f0f921"
            ]
           ]
          },
          "colorway": [
           "#636efa",
           "#EF553B",
           "#00cc96",
           "#ab63fa",
           "#FFA15A",
           "#19d3f3",
           "#FF6692",
           "#B6E880",
           "#FF97FF",
           "#FECB52"
          ],
          "font": {
           "color": "#2a3f5f"
          },
          "geo": {
           "bgcolor": "white",
           "lakecolor": "white",
           "landcolor": "#E5ECF6",
           "showlakes": true,
           "showland": true,
           "subunitcolor": "white"
          },
          "hoverlabel": {
           "align": "left"
          },
          "hovermode": "closest",
          "mapbox": {
           "style": "light"
          },
          "paper_bgcolor": "white",
          "plot_bgcolor": "#E5ECF6",
          "polar": {
           "angularaxis": {
            "gridcolor": "white",
            "linecolor": "white",
            "ticks": ""
           },
           "bgcolor": "#E5ECF6",
           "radialaxis": {
            "gridcolor": "white",
            "linecolor": "white",
            "ticks": ""
           }
          },
          "scene": {
           "xaxis": {
            "backgroundcolor": "#E5ECF6",
            "gridcolor": "white",
            "gridwidth": 2,
            "linecolor": "white",
            "showbackground": true,
            "ticks": "",
            "zerolinecolor": "white"
           },
           "yaxis": {
            "backgroundcolor": "#E5ECF6",
            "gridcolor": "white",
            "gridwidth": 2,
            "linecolor": "white",
            "showbackground": true,
            "ticks": "",
            "zerolinecolor": "white"
           },
           "zaxis": {
            "backgroundcolor": "#E5ECF6",
            "gridcolor": "white",
            "gridwidth": 2,
            "linecolor": "white",
            "showbackground": true,
            "ticks": "",
            "zerolinecolor": "white"
           }
          },
          "shapedefaults": {
           "line": {
            "color": "#2a3f5f"
           }
          },
          "ternary": {
           "aaxis": {
            "gridcolor": "white",
            "linecolor": "white",
            "ticks": ""
           },
           "baxis": {
            "gridcolor": "white",
            "linecolor": "white",
            "ticks": ""
           },
           "bgcolor": "#E5ECF6",
           "caxis": {
            "gridcolor": "white",
            "linecolor": "white",
            "ticks": ""
           }
          },
          "title": {
           "x": 0.05
          },
          "xaxis": {
           "automargin": true,
           "gridcolor": "white",
           "linecolor": "white",
           "ticks": "",
           "title": {
            "standoff": 15
           },
           "zerolinecolor": "white",
           "zerolinewidth": 2
          },
          "yaxis": {
           "automargin": true,
           "gridcolor": "white",
           "linecolor": "white",
           "ticks": "",
           "title": {
            "standoff": 15
           },
           "zerolinecolor": "white",
           "zerolinewidth": 2
          }
         }
        },
        "xaxis": {
         "anchor": "y",
         "domain": [
          0,
          1
         ],
         "title": {
          "text": "0"
         }
        },
        "yaxis": {
         "anchor": "x",
         "domain": [
          0,
          1
         ],
         "title": {
          "text": "1"
         }
        }
       }
      },
      "text/html": [
       "<div>                            <div id=\"ef4595c4-f7b4-4001-878b-454f2b01ce6c\" class=\"plotly-graph-div\" style=\"height:525px; width:100%;\"></div>            <script type=\"text/javascript\">                require([\"plotly\"], function(Plotly) {                    window.PLOTLYENV=window.PLOTLYENV || {};                                    if (document.getElementById(\"ef4595c4-f7b4-4001-878b-454f2b01ce6c\")) {                    Plotly.newPlot(                        \"ef4595c4-f7b4-4001-878b-454f2b01ce6c\",                        [{\"customdata\":[[\"@anonymized_account Lis biedny kr\\u0119ci si\\u0119 wok\\u00f3\\u0142 w\\u0142asnego ogona i ci\\u0105gle pr\\u00f3buj\\u0119 marudzi\\u0107 A to ju\\u017c mu nie wychodzi\"],[\"@anonymized_account A w \\u0141odzi Panie \\u0141ukaszu na razie Hania,przez niekt\\u00f3rych zwana szachrajka\\ud83d\\ude01\\ud83d\\ude01\"],[\"@anonymized_account Sorry Pogo\\u0144, trzech Waszych w moim @anonymized_account zosta\\u0142o.\"],[\"@anonymized_account @anonymized_account Co ty tam w tym Ko\\u017alu K\\u0119dzierzysz?\"],[\"@anonymized_account no to jak to jest \\u017ce si\\u0119 nie da gra\\u0107 w kosza a si\\u0119 wygrywa z mistrzyniami Europy ?\"],[\"@anonymized_account Lis biedny kr\\u0119ci si\\u0119 wok\\u00f3\\u0142 w\\u0142asnego ogona i ci\\u0105gle pr\\u00f3buj\\u0119 marudzi\\u0107 A to ju\\u017c mu nie wychodzi\"],[\"Podobno maj\\u0105 wprowadzi\\u0107 maseczki antysmogowe ze specjalnym otworkiem na papierosa.\"],[\"Co si\\u0119 musi dzia\\u0107 teraz u @anonymized_account \\ud83d\\ude04\"],[\"Sprzeda\\u0107 za 50 mln Paulinho i kupi\\u0107 (podobno) za 30 mln Vidala - nie poznaj\\u0119 Barcelony.\"],[\"@anonymized_account Panie Andrzeju jeszcze pan b\\u0119dzie prosi\\u0142 o te leki przeciw b\\u00f3lowe \\ud83d\\ude00\"],[\"@anonymized_account Pogba nie by\\u0142 na pozycji spalonej.\"],[\"#dividetourwarsaw i need to know CO Z AKCJA KT\\u00d3RA W\\u0141A\\u015aNIE POWINNA I\\u015a\\u0106 NAM ZAJEBISCIE\"],[\"PROFESOR JEST NA SPOTIFY UMAR\\u0141AM XDD\"],[\"Du\\u017co tego jeszcze by\\u0142o ale nie chce mi si\\u0119 pisa\\u0107 i tak nikogo to nie interesuje\"],[\"@anonymized_account @anonymized_account mi si\\u0119 ten styl podoba \\ud83d\\udcaa oby tak dalej :)\"],[\"@anonymized_account @anonymized_account @anonymized_account W stop klatkach wida\\u0107 ze jak by to by\\u0142o po stronie drugiej (legi) to karny by by\\u0142\"],[\"@anonymized_account burmistrz z platka kwiatka przypomina mi burmistrza Kluczborka\"],[\"@anonymized_account @anonymized_account w ekstraklasie te\\u017c nie ma\"],[\"Patrzysz na @anonymized_account @anonymized_account @anonymized_account i wiesz \\u017ce idzie wojna\"],[\"RT @anonymized_account Przypominam.  Kto ta\\u015bmami wojuje...\"],[\"vans do chuja przesta\\u0144 robi\\u0107 cho\\u0107 na chwil\\u0119 zajebiste kolekcje bo w moim portfelu pieni\\u0105dzen't\"],[\"@anonymized_account Ju\\u017c dwa lata temu powinni wygrac Euro.\"],[\"@anonymized_account @anonymized_account A niby z jakiego powodu? \\u017beby mog\\u0142a sprawowa\\u0107 sw\\u00f3j urz\\u0105d? Chyba \\u017cart!\"],[\"@anonymized_account @anonymized_account @anonymized_account @anonymized_account Nieeee, Gryszkiewicz nie gra\\u0142, to akurat nie o nim.\"],[\"RT @anonymized_account Zawsze jak ide do przymiezalni do h\\\\u0026amp;m to prze\\u017cywam szok, ze naprawde wygl\\u0105dam tak, jak wida\\u0107 to w tym lustrze od tylu\\u2026\"],[\"@anonymized_account @anonymized_account Wed\\u0142ug mnie to fake wypucha na zdj\\u0119ciu niejest mi\\u015b chyba \\u017ceby si\\u0119 tak strasznie zmieni\\u0142 w ostatnim czasie\"],[\"@anonymized_account @anonymized_account Nawet podobny do niego, prawda ?xD\"],[\"Bild po wczorajszej demolce przy \\u01413: \\\\\\\"Po co w LM takie og\\u00f3rki? III-ligowy Trier sprawi\\u0142 BVB w P. Niemiec wi\\u0119cej problem\\u00f3w ni\\u017c Legia w LM\\\\\\\"\"],[\"RT @anonymized_account Morawiecki senior robi w tr\\u0105b\\u0119 zmar\\u0142ych, syn \\u017cywych. Taki podzia\\u0142 r\\u00f3l.\"],[\"@anonymized_account Pani Malarz trza by\\u0107 obiektywnym dziennikark\\u0105 to ze legia gra piach to normalka nic dziwnego\"],[\"@anonymized_account A ManUtd czasami wczoraj nie odpad\\u0142 ?:)\"],[\"@anonymized_account @anonymized_account a trenerem zosta\\u0142 Szymon Paw\\u0142owski :)\"],[\"@anonymized_account Nie nazwa\\u0142bym tego dziennikarstwem \\ud83d\\ude02\"],[\"@anonymized_account o ile si\\u0119 nie myle to ta twarda r\\u0119ka by\\u0142a jednym z powod\\u00f3w jego zwolnienia :)\"],[\"@anonymized_account B\\u0142\\u0119dem by\\u0142o jego zatrudnienie a nie zwolnienie\"],[\"@anonymized_account @anonymized_account Oj tam, ale chyba po raz pierwszy odpadn\\u0105 przed nami \\ud83d\\ude02\"],[\"Podobno maj\\u0105 wprowadzi\\u0107 maseczki antysmogowe ze specjalnym otworkiem na papierosa.\"],[\"RT @anonymized_account @anonymized_account @anonymized_account Wzrusza mnie ta wasza troska. I rozumiem j\\u0105. W ko\\u0144cu jest lotnisko w Niemczech. A wi\\u0119c u nas n\\u2026\"],[\"@anonymized_account @anonymized_account Nawet podobny do niego, prawda ?xD\"],[\"@anonymized_account @anonymized_account No pewnie. Niepe\\u0142nosprawnych zamkneliscie w sejmie to si\\u0119 zrobi\\u0142o bezpiecznie na ulicach. Taka prawda k\\u0142amco.\"],[\"@anonymized_account Tomek niesluchaj radia jak juz tak Ci\\u0119 denerwuje zwyk\\u0142a reklama \\ud83d\\ude09 niejestem lekarzem ale podejrzewam chorob\\u0119 zawodow\\u0105\\ud83c\\udfa4 \\ud83c\\udf7b\"],[\"@anonymized_account @anonymized_account Wed\\u0142ug mnie to fake wypucha na zdj\\u0119ciu niejest mi\\u015b chyba \\u017ceby si\\u0119 tak strasznie zmieni\\u0142 w ostatnim czasie\"],[\"RT @anonymized_account @anonymized_account @anonymized_account dopiero po porodzie kobiety maja mgliste poj\\u0119cie o b\\u00f3lu m\\u0119\\u017cczyzn z katarem.\"],[\"@anonymized_account @anonymized_account Powinni jeszcze zaprosi\\u0107 Gmyza i odlot b\\u0119dzie pe\\u0142ny.\"],[\"@anonymized_account dzi\\u015b ci\\u0119\\u017cko. P\\u00f3\\u0142 Warszawy postanowi\\u0142o si\\u0119 umy\\u0107 w tym samym czasie.\"],[\"@anonymized_account @anonymized_account Aha, a kto\\u015b ci\\u0119 zaprasza\\u0142 do rozmowy?\"],[\"RT @anonymized_account @anonymized_account @anonymized_account dopiero po porodzie kobiety maja mgliste poj\\u0119cie o b\\u00f3lu m\\u0119\\u017cczyzn z katarem.\"],[\"@anonymized_account @anonymized_account Dlatego to nie mia\\u0142o \\u017cadnego wi\\u0119kszego wp\\u0142ywu z \\u017cadnej ze stron.\"],[\"@anonymized_account A Ty nigdy nie robisz dw\\u00f3ch rzeczy jednocze\\u015bnie? Np. idziesz i \\u017cujesz gum\\u0119.\"],[\"@anonymized_account @anonymized_account Troch\\u0119 du\\u017co tych trener\\u00f3w :P\"],[\"Skoro wchodzi G\\u00f3ralski, to tym bardziej szkoda, \\u017ce po drugiej stronie nie ma Vidala \\ud83d\\ude1c\"],[\"@anonymized_account to ty ch\\u0142opie nie p\\u0142acz \\u017ce mamy takie legendy.A wy macie kogo ? PiotraBanie ?@anonymized_account @anonymized_account @anonymized_account @anonymized_account\"]],\"hovertemplate\":\"label=Neutral\\u003cbr\\u003e0=%{x}\\u003cbr\\u003e1=%{y}\\u003cbr\\u003etext=%{customdata[0]}\\u003cextra\\u003e\\u003c\\u002fextra\\u003e\",\"legendgroup\":\"Neutral\",\"marker\":{\"color\":\"#636efa\",\"symbol\":\"circle\"},\"mode\":\"markers\",\"name\":\"Neutral\",\"orientation\":\"v\",\"showlegend\":true,\"x\":[-7.6909499168396,-3.5489468574523926,-6.108173370361328,-7.570723056793213,-4.738809585571289,-7.687992095947266,-2.196479082107544,-2.686140775680542,-2.4115374088287354,-3.8836464881896973,-5.302031993865967,-3.809412956237793,-1.4210172891616821,-1.9929887056350708,-4.2918243408203125,-6.908444404602051,-5.050090789794922,-5.716557502746582,-2.2576844692230225,-5.5711798667907715,-8.494173049926758,-5.144169330596924,-5.869322776794434,-7.2385053634643555,-4.101375102996826,-6.39359712600708,-5.591914176940918,-2.383310079574585,-5.701662540435791,-5.911738395690918,-4.26503324508667,-4.911194324493408,-4.079888343811035,-4.316641807556152,-4.702017784118652,-4.904177665710449,-2.196479082107544,-4.403677940368652,-5.591914176940918,-9.107067108154297,-3.6684491634368896,-6.39359712600708,-4.749322414398193,-6.868481159210205,-4.419226169586182,-6.555899620056152,-4.749322414398193,-6.365462779998779,-6.41377067565918,-5.2361345291137695,-2.7252979278564453,-5.981722831726074],\"xaxis\":\"x\",\"y\":[2.3199777603149414,-1.2276219129562378,0.19997844099998474,0.32684120535850525,-0.09070712327957153,2.3193717002868652,3.3277714252471924,0.13175103068351746,1.4129042625427246,-0.3651096522808075,0.7819432616233826,1.1022143363952637,1.2151747941970825,0.2020491659641266,-1.712866187095642,-0.8176560401916504,1.4100464582443237,-0.29519903659820557,1.769416332244873,3.4561448097229004,1.7857308387756348,0.956185519695282,-0.7097339034080505,-0.6531322598457336,2.6970529556274414,-0.6628283858299255,-1.8040324449539185,1.4006799459457397,3.500047206878662,1.5676140785217285,-0.05839470028877258,-1.5211435556411743,-0.48506560921669006,0.3089466989040375,0.6096752285957336,-1.1066875457763672,3.3277714252471924,3.0114247798919678,-1.8040324449539185,3.965651512145996,-0.9960088729858398,-0.6628283858299255,3.791801691055298,0.02585645765066147,0.6193807721138,-1.545066475868225,3.791801691055298,-0.09331940859556198,1.59311842918396,-0.8804894685745239,-0.723865807056427,-1.2149122953414917],\"yaxis\":\"y\",\"type\":\"scatter\"},{\"customdata\":[[\"@anonymized_account @anonymized_account Jednostki wojskowe funkcjonuj\\u0105 w oparciu o karty kredytowe? Lecz si\\u0119 cz\\u0142owieku.\"],[\"@anonymized_account @anonymized_account @anonymized_account Jojo demokrata w akcji. Taki pospolity \\u0107wier\\u0107m\\u00f3zg\"],[\"@anonymized_account A nastepni b\\u0119d\\u0105 tacy jak Terlikowski sp\\u0119dzaj\\u0105cy czas w kolejce do psychiatry.\"],[\"@anonymized_account Krystyn\\u0119 mi on przypomina ale trzeba mie\\u0107 niepokoleji w g\\u0142owie by si\\u0119 robi\\u0107 na Krystyn\\u0119\"],[\"@anonymized_account czy Pan Waldemar ma zakaz wjazdu Parchu, czy nie ma?\"],[\"@anonymized_account @anonymized_account Raczej ma problem z g\\u0142ow\\u0105. Tak jak Ty i Tobie podobni.\"],[\"@anonymized_account Polacy te\\u017c wiedz\\u0105, \\u017ce jednym z najwi\\u0119kszych debili jest niejaki Ziemkiewicz.\"],[\"@anonymized_account @anonymized_account @anonymized_account Kurwa w jebany dzie\\u0144 parlamentaryzmu wsz\\u0119dzie barierki i psiarnia, no kurwa pi\\u0119knie si\\u0119 to wspasowuje\"]],\"hovertemplate\":\"label=Hate\\u003cbr\\u003e0=%{x}\\u003cbr\\u003e1=%{y}\\u003cbr\\u003etext=%{customdata[0]}\\u003cextra\\u003e\\u003c\\u002fextra\\u003e\",\"legendgroup\":\"Hate\",\"marker\":{\"color\":\"#EF553B\",\"symbol\":\"circle\"},\"mode\":\"markers\",\"name\":\"Hate\",\"orientation\":\"v\",\"showlegend\":true,\"x\":[-9.135279655456543,-9.091465950012207,-7.038182258605957,-4.782812595367432,-7.751377105712891,-8.969141960144043,-7.747552871704102,-9.176338195800781],\"xaxis\":\"x\",\"y\":[3.650238275527954,3.915118932723999,2.3202366828918457,0.2874019145965576,2.488332986831665,3.3754053115844727,2.882474184036255,4.054577827453613],\"yaxis\":\"y\",\"type\":\"scatter\"}],                        {\"template\":{\"data\":{\"histogram2dcontour\":[{\"type\":\"histogram2dcontour\",\"colorbar\":{\"outlinewidth\":0,\"ticks\":\"\"},\"colorscale\":[[0.0,\"#0d0887\"],[0.1111111111111111,\"#46039f\"],[0.2222222222222222,\"#7201a8\"],[0.3333333333333333,\"#9c179e\"],[0.4444444444444444,\"#bd3786\"],[0.5555555555555556,\"#d8576b\"],[0.6666666666666666,\"#ed7953\"],[0.7777777777777778,\"#fb9f3a\"],[0.8888888888888888,\"#fdca26\"],[1.0,\"#f0f921\"]]}],\"choropleth\":[{\"type\":\"choropleth\",\"colorbar\":{\"outlinewidth\":0,\"ticks\":\"\"}}],\"histogram2d\":[{\"type\":\"histogram2d\",\"colorbar\":{\"outlinewidth\":0,\"ticks\":\"\"},\"colorscale\":[[0.0,\"#0d0887\"],[0.1111111111111111,\"#46039f\"],[0.2222222222222222,\"#7201a8\"],[0.3333333333333333,\"#9c179e\"],[0.4444444444444444,\"#bd3786\"],[0.5555555555555556,\"#d8576b\"],[0.6666666666666666,\"#ed7953\"],[0.7777777777777778,\"#fb9f3a\"],[0.8888888888888888,\"#fdca26\"],[1.0,\"#f0f921\"]]}],\"heatmap\":[{\"type\":\"heatmap\",\"colorbar\":{\"outlinewidth\":0,\"ticks\":\"\"},\"colorscale\":[[0.0,\"#0d0887\"],[0.1111111111111111,\"#46039f\"],[0.2222222222222222,\"#7201a8\"],[0.3333333333333333,\"#9c179e\"],[0.4444444444444444,\"#bd3786\"],[0.5555555555555556,\"#d8576b\"],[0.6666666666666666,\"#ed7953\"],[0.7777777777777778,\"#fb9f3a\"],[0.8888888888888888,\"#fdca26\"],[1.0,\"#f0f921\"]]}],\"heatmapgl\":[{\"type\":\"heatmapgl\",\"colorbar\":{\"outlinewidth\":0,\"ticks\":\"\"},\"colorscale\":[[0.0,\"#0d0887\"],[0.1111111111111111,\"#46039f\"],[0.2222222222222222,\"#7201a8\"],[0.3333333333333333,\"#9c179e\"],[0.4444444444444444,\"#bd3786\"],[0.5555555555555556,\"#d8576b\"],[0.6666666666666666,\"#ed7953\"],[0.7777777777777778,\"#fb9f3a\"],[0.8888888888888888,\"#fdca26\"],[1.0,\"#f0f921\"]]}],\"contourcarpet\":[{\"type\":\"contourcarpet\",\"colorbar\":{\"outlinewidth\":0,\"ticks\":\"\"}}],\"contour\":[{\"type\":\"contour\",\"colorbar\":{\"outlinewidth\":0,\"ticks\":\"\"},\"colorscale\":[[0.0,\"#0d0887\"],[0.1111111111111111,\"#46039f\"],[0.2222222222222222,\"#7201a8\"],[0.3333333333333333,\"#9c179e\"],[0.4444444444444444,\"#bd3786\"],[0.5555555555555556,\"#d8576b\"],[0.6666666666666666,\"#ed7953\"],[0.7777777777777778,\"#fb9f3a\"],[0.8888888888888888,\"#fdca26\"],[1.0,\"#f0f921\"]]}],\"surface\":[{\"type\":\"surface\",\"colorbar\":{\"outlinewidth\":0,\"ticks\":\"\"},\"colorscale\":[[0.0,\"#0d0887\"],[0.1111111111111111,\"#46039f\"],[0.2222222222222222,\"#7201a8\"],[0.3333333333333333,\"#9c179e\"],[0.4444444444444444,\"#bd3786\"],[0.5555555555555556,\"#d8576b\"],[0.6666666666666666,\"#ed7953\"],[0.7777777777777778,\"#fb9f3a\"],[0.8888888888888888,\"#fdca26\"],[1.0,\"#f0f921\"]]}],\"mesh3d\":[{\"type\":\"mesh3d\",\"colorbar\":{\"outlinewidth\":0,\"ticks\":\"\"}}],\"scatter\":[{\"fillpattern\":{\"fillmode\":\"overlay\",\"size\":10,\"solidity\":0.2},\"type\":\"scatter\"}],\"parcoords\":[{\"type\":\"parcoords\",\"line\":{\"colorbar\":{\"outlinewidth\":0,\"ticks\":\"\"}}}],\"scatterpolargl\":[{\"type\":\"scatterpolargl\",\"marker\":{\"colorbar\":{\"outlinewidth\":0,\"ticks\":\"\"}}}],\"bar\":[{\"error_x\":{\"color\":\"#2a3f5f\"},\"error_y\":{\"color\":\"#2a3f5f\"},\"marker\":{\"line\":{\"color\":\"#E5ECF6\",\"width\":0.5},\"pattern\":{\"fillmode\":\"overlay\",\"size\":10,\"solidity\":0.2}},\"type\":\"bar\"}],\"scattergeo\":[{\"type\":\"scattergeo\",\"marker\":{\"colorbar\":{\"outlinewidth\":0,\"ticks\":\"\"}}}],\"scatterpolar\":[{\"type\":\"scatterpolar\",\"marker\":{\"colorbar\":{\"outlinewidth\":0,\"ticks\":\"\"}}}],\"histogram\":[{\"marker\":{\"pattern\":{\"fillmode\":\"overlay\",\"size\":10,\"solidity\":0.2}},\"type\":\"histogram\"}],\"scattergl\":[{\"type\":\"scattergl\",\"marker\":{\"colorbar\":{\"outlinewidth\":0,\"ticks\":\"\"}}}],\"scatter3d\":[{\"type\":\"scatter3d\",\"line\":{\"colorbar\":{\"outlinewidth\":0,\"ticks\":\"\"}},\"marker\":{\"colorbar\":{\"outlinewidth\":0,\"ticks\":\"\"}}}],\"scattermapbox\":[{\"type\":\"scattermapbox\",\"marker\":{\"colorbar\":{\"outlinewidth\":0,\"ticks\":\"\"}}}],\"scatterternary\":[{\"type\":\"scatterternary\",\"marker\":{\"colorbar\":{\"outlinewidth\":0,\"ticks\":\"\"}}}],\"scattercarpet\":[{\"type\":\"scattercarpet\",\"marker\":{\"colorbar\":{\"outlinewidth\":0,\"ticks\":\"\"}}}],\"carpet\":[{\"aaxis\":{\"endlinecolor\":\"#2a3f5f\",\"gridcolor\":\"white\",\"linecolor\":\"white\",\"minorgridcolor\":\"white\",\"startlinecolor\":\"#2a3f5f\"},\"baxis\":{\"endlinecolor\":\"#2a3f5f\",\"gridcolor\":\"white\",\"linecolor\":\"white\",\"minorgridcolor\":\"white\",\"startlinecolor\":\"#2a3f5f\"},\"type\":\"carpet\"}],\"table\":[{\"cells\":{\"fill\":{\"color\":\"#EBF0F8\"},\"line\":{\"color\":\"white\"}},\"header\":{\"fill\":{\"color\":\"#C8D4E3\"},\"line\":{\"color\":\"white\"}},\"type\":\"table\"}],\"barpolar\":[{\"marker\":{\"line\":{\"color\":\"#E5ECF6\",\"width\":0.5},\"pattern\":{\"fillmode\":\"overlay\",\"size\":10,\"solidity\":0.2}},\"type\":\"barpolar\"}],\"pie\":[{\"automargin\":true,\"type\":\"pie\"}]},\"layout\":{\"autotypenumbers\":\"strict\",\"colorway\":[\"#636efa\",\"#EF553B\",\"#00cc96\",\"#ab63fa\",\"#FFA15A\",\"#19d3f3\",\"#FF6692\",\"#B6E880\",\"#FF97FF\",\"#FECB52\"],\"font\":{\"color\":\"#2a3f5f\"},\"hovermode\":\"closest\",\"hoverlabel\":{\"align\":\"left\"},\"paper_bgcolor\":\"white\",\"plot_bgcolor\":\"#E5ECF6\",\"polar\":{\"bgcolor\":\"#E5ECF6\",\"angularaxis\":{\"gridcolor\":\"white\",\"linecolor\":\"white\",\"ticks\":\"\"},\"radialaxis\":{\"gridcolor\":\"white\",\"linecolor\":\"white\",\"ticks\":\"\"}},\"ternary\":{\"bgcolor\":\"#E5ECF6\",\"aaxis\":{\"gridcolor\":\"white\",\"linecolor\":\"white\",\"ticks\":\"\"},\"baxis\":{\"gridcolor\":\"white\",\"linecolor\":\"white\",\"ticks\":\"\"},\"caxis\":{\"gridcolor\":\"white\",\"linecolor\":\"white\",\"ticks\":\"\"}},\"coloraxis\":{\"colorbar\":{\"outlinewidth\":0,\"ticks\":\"\"}},\"colorscale\":{\"sequential\":[[0.0,\"#0d0887\"],[0.1111111111111111,\"#46039f\"],[0.2222222222222222,\"#7201a8\"],[0.3333333333333333,\"#9c179e\"],[0.4444444444444444,\"#bd3786\"],[0.5555555555555556,\"#d8576b\"],[0.6666666666666666,\"#ed7953\"],[0.7777777777777778,\"#fb9f3a\"],[0.8888888888888888,\"#fdca26\"],[1.0,\"#f0f921\"]],\"sequentialminus\":[[0.0,\"#0d0887\"],[0.1111111111111111,\"#46039f\"],[0.2222222222222222,\"#7201a8\"],[0.3333333333333333,\"#9c179e\"],[0.4444444444444444,\"#bd3786\"],[0.5555555555555556,\"#d8576b\"],[0.6666666666666666,\"#ed7953\"],[0.7777777777777778,\"#fb9f3a\"],[0.8888888888888888,\"#fdca26\"],[1.0,\"#f0f921\"]],\"diverging\":[[0,\"#8e0152\"],[0.1,\"#c51b7d\"],[0.2,\"#de77ae\"],[0.3,\"#f1b6da\"],[0.4,\"#fde0ef\"],[0.5,\"#f7f7f7\"],[0.6,\"#e6f5d0\"],[0.7,\"#b8e186\"],[0.8,\"#7fbc41\"],[0.9,\"#4d9221\"],[1,\"#276419\"]]},\"xaxis\":{\"gridcolor\":\"white\",\"linecolor\":\"white\",\"ticks\":\"\",\"title\":{\"standoff\":15},\"zerolinecolor\":\"white\",\"automargin\":true,\"zerolinewidth\":2},\"yaxis\":{\"gridcolor\":\"white\",\"linecolor\":\"white\",\"ticks\":\"\",\"title\":{\"standoff\":15},\"zerolinecolor\":\"white\",\"automargin\":true,\"zerolinewidth\":2},\"scene\":{\"xaxis\":{\"backgroundcolor\":\"#E5ECF6\",\"gridcolor\":\"white\",\"linecolor\":\"white\",\"showbackground\":true,\"ticks\":\"\",\"zerolinecolor\":\"white\",\"gridwidth\":2},\"yaxis\":{\"backgroundcolor\":\"#E5ECF6\",\"gridcolor\":\"white\",\"linecolor\":\"white\",\"showbackground\":true,\"ticks\":\"\",\"zerolinecolor\":\"white\",\"gridwidth\":2},\"zaxis\":{\"backgroundcolor\":\"#E5ECF6\",\"gridcolor\":\"white\",\"linecolor\":\"white\",\"showbackground\":true,\"ticks\":\"\",\"zerolinecolor\":\"white\",\"gridwidth\":2}},\"shapedefaults\":{\"line\":{\"color\":\"#2a3f5f\"}},\"annotationdefaults\":{\"arrowcolor\":\"#2a3f5f\",\"arrowhead\":0,\"arrowwidth\":1},\"geo\":{\"bgcolor\":\"white\",\"landcolor\":\"#E5ECF6\",\"subunitcolor\":\"white\",\"showland\":true,\"showlakes\":true,\"lakecolor\":\"white\"},\"title\":{\"x\":0.05},\"mapbox\":{\"style\":\"light\"}}},\"xaxis\":{\"anchor\":\"y\",\"domain\":[0.0,1.0],\"title\":{\"text\":\"0\"}},\"yaxis\":{\"anchor\":\"x\",\"domain\":[0.0,1.0],\"title\":{\"text\":\"1\"}},\"legend\":{\"title\":{\"text\":\"label\"},\"tracegroupgap\":0},\"margin\":{\"t\":60}},                        {\"responsive\": true}                    ).then(function(){\n",
       "                            \n",
       "var gd = document.getElementById('ef4595c4-f7b4-4001-878b-454f2b01ce6c');\n",
       "var x = new MutationObserver(function (mutations, observer) {{\n",
       "        var display = window.getComputedStyle(gd).display;\n",
       "        if (!display || display === 'none') {{\n",
       "            console.log([gd, 'removed!']);\n",
       "            Plotly.purge(gd);\n",
       "            observer.disconnect();\n",
       "        }}\n",
       "}});\n",
       "\n",
       "// Listen for the removal of the full notebook cells\n",
       "var notebookContainer = gd.closest('#notebook-container');\n",
       "if (notebookContainer) {{\n",
       "    x.observe(notebookContainer, {childList: true});\n",
       "}}\n",
       "\n",
       "// Listen for the clearing of the current output cell\n",
       "var outputEl = gd.closest('.output');\n",
       "if (outputEl) {{\n",
       "    x.observe(outputEl, {childList: true});\n",
       "}}\n",
       "\n",
       "                        })                };                });            </script>        </div>"
      ]
     },
     "metadata": {},
     "output_type": "display_data"
    }
   ],
   "source": [
    "texts = [sample[\"text\"] for sample in test_ds] \n",
    "inputs = tokenizer(texts, return_tensors=\"pt\", padding=True, truncation=True)\n",
    "\n",
    "bert = peft_model.base_model.model.bert\n",
    "# classifier = peft_model.classifier.original_module[0].cpu()\n",
    "\n",
    "bert = bert.cpu()\n",
    "bert.eval()\n",
    "with torch.no_grad():\n",
    "    outputs = bert(**inputs)\n",
    "\n",
    "outputs = outputs.last_hidden_state[:,0,:].squeeze()\n",
    "# outputs = classifier(outputs)\n",
    "\n",
    "tsne = TSNE()\n",
    "to_vis = tsne.fit_transform(outputs)\n",
    "\n",
    "df = pd.DataFrame(to_vis)\n",
    "df[\"label\"] = [post[\"label\"] for post in test_ds]\n",
    "df[\"text\"] = [post[\"text\"] for post in test_ds]\n",
    "fig = px.scatter(df, x=0, y=1, hover_data=\"text\", color=\"label\")\n",
    "fig.show()"
   ]
  }
 ],
 "metadata": {
  "kernelspec": {
   "display_name": "nlp",
   "language": "python",
   "name": "python3"
  },
  "language_info": {
   "codemirror_mode": {
    "name": "ipython",
    "version": 3
   },
   "file_extension": ".py",
   "mimetype": "text/x-python",
   "name": "python",
   "nbconvert_exporter": "python",
   "pygments_lexer": "ipython3",
   "version": "3.11.10"
  }
 },
 "nbformat": 4,
 "nbformat_minor": 2
}
