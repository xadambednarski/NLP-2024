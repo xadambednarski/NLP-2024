{
 "cells": [
  {
   "cell_type": "code",
   "execution_count": 1,
   "metadata": {},
   "outputs": [],
   "source": [
    "import json\n",
    "from pathlib import Path\n",
    "\n",
    "from datasets import load_dataset\n",
    "from transformers import AutoTokenizer, BertForSequenceClassification, DataCollatorWithPadding, Trainer, TrainingArguments, pipeline\n",
    "from peft import LoraConfig, TaskType, get_peft_model\n",
    "import numpy as np\n",
    "import torch"
   ]
  },
  {
   "cell_type": "code",
   "execution_count": 2,
   "metadata": {},
   "outputs": [
    {
     "name": "stdout",
     "output_type": "stream",
     "text": [
      "DatasetDict({\n",
      "    train: Dataset({\n",
      "        features: ['text', 'label'],\n",
      "        num_rows: 1078\n",
      "    })\n",
      "    test: Dataset({\n",
      "        features: ['text', 'label'],\n",
      "        num_rows: 60\n",
      "    })\n",
      "})\n"
     ]
    }
   ],
   "source": [
    "data_files = {\"train\": \"train_with_filled.jsonl\", \"test\": \"test.jsonl\"}\n",
    "dataset = load_dataset(\"./sentences\", data_files=data_files)\n",
    "print(dataset)"
   ]
  },
  {
   "cell_type": "code",
   "execution_count": 3,
   "metadata": {},
   "outputs": [
    {
     "name": "stderr",
     "output_type": "stream",
     "text": [
      "Some weights of BertForSequenceClassification were not initialized from the model checkpoint at allegro/herbert-base-cased and are newly initialized: ['classifier.bias', 'classifier.weight']\n",
      "You should probably TRAIN this model on a down-stream task to be able to use it for predictions and inference.\n"
     ]
    }
   ],
   "source": [
    "sorted_labels = sorted(set([sample[\"label\"] for sample in dataset[\"train\"]]))\n",
    "label2id = dict(zip(sorted_labels, range(0, len(sorted_labels))))\n",
    "id2label = dict(zip(range(0, len(sorted_labels)), sorted_labels))\n",
    "\n",
    "tokenizer = AutoTokenizer.from_pretrained(\"allegro/herbert-base-cased\", return_tensors=\"pt\")\n",
    "model = BertForSequenceClassification.from_pretrained(\"allegro/herbert-base-cased\",\n",
    "                                                                      num_labels=len(label2id),\n",
    "                                                                      label2id=label2id,\n",
    "                                                                      id2label=id2label)"
   ]
  },
  {
   "cell_type": "code",
   "execution_count": 4,
   "metadata": {},
   "outputs": [
    {
     "data": {
      "application/vnd.jupyter.widget-view+json": {
       "model_id": "55820c88e852427193848fc017e76c48",
       "version_major": 2,
       "version_minor": 0
      },
      "text/plain": [
       "Map:   0%|          | 0/1078 [00:00<?, ? examples/s]"
      ]
     },
     "metadata": {},
     "output_type": "display_data"
    },
    {
     "data": {
      "application/vnd.jupyter.widget-view+json": {
       "model_id": "b2965f4a61e7411f9a248599c3c74a25",
       "version_major": 2,
       "version_minor": 0
      },
      "text/plain": [
       "Map:   0%|          | 0/60 [00:00<?, ? examples/s]"
      ]
     },
     "metadata": {},
     "output_type": "display_data"
    },
    {
     "name": "stdout",
     "output_type": "stream",
     "text": [
      "{'train': Dataset({\n",
      "    features: ['text', 'label', 'input_ids', 'token_type_ids', 'attention_mask'],\n",
      "    num_rows: 1078\n",
      "}), 'test': Dataset({\n",
      "    features: ['text', 'label', 'input_ids', 'token_type_ids', 'attention_mask'],\n",
      "    num_rows: 60\n",
      "})}\n"
     ]
    }
   ],
   "source": [
    "def preprocess_function(examples):\n",
    "    \"\"\"Preprocess the dataset by returning tokenized examples.\"\"\"\n",
    "    tokens = tokenizer(examples[\"text\"], padding=\"max_length\", truncation=True)\n",
    "    tokens['label'] = [label2id[l] for l in examples[\"label\"]]\n",
    "    return tokens\n",
    "\n",
    "splits = ['train', 'test']\n",
    "\n",
    "tokenized_ds = {}\n",
    "\n",
    "for split in splits:\n",
    "    tokenized_ds[split] = dataset[split].map(preprocess_function, batched=True)\n",
    "\n",
    "print(tokenized_ds)"
   ]
  },
  {
   "cell_type": "code",
   "execution_count": 5,
   "metadata": {},
   "outputs": [
    {
     "name": "stdout",
     "output_type": "stream",
     "text": [
      "BertModel(\n",
      "  (embeddings): BertEmbeddings(\n",
      "    (word_embeddings): Embedding(50000, 768, padding_idx=1)\n",
      "    (position_embeddings): Embedding(514, 768)\n",
      "    (token_type_embeddings): Embedding(2, 768)\n",
      "    (LayerNorm): LayerNorm((768,), eps=1e-12, elementwise_affine=True)\n",
      "    (dropout): Dropout(p=0.1, inplace=False)\n",
      "  )\n",
      "  (encoder): BertEncoder(\n",
      "    (layer): ModuleList(\n",
      "      (0-11): 12 x BertLayer(\n",
      "        (attention): BertAttention(\n",
      "          (self): BertSdpaSelfAttention(\n",
      "            (query): lora.Linear(\n",
      "              (base_layer): Linear(in_features=768, out_features=768, bias=True)\n",
      "              (lora_dropout): ModuleDict(\n",
      "                (default): Dropout(p=0.1, inplace=False)\n",
      "              )\n",
      "              (lora_A): ModuleDict(\n",
      "                (default): Linear(in_features=768, out_features=64, bias=False)\n",
      "              )\n",
      "              (lora_B): ModuleDict(\n",
      "                (default): Linear(in_features=64, out_features=768, bias=False)\n",
      "              )\n",
      "              (lora_embedding_A): ParameterDict()\n",
      "              (lora_embedding_B): ParameterDict()\n",
      "              (lora_magnitude_vector): ModuleDict()\n",
      "            )\n",
      "            (key): Linear(in_features=768, out_features=768, bias=True)\n",
      "            (value): lora.Linear(\n",
      "              (base_layer): Linear(in_features=768, out_features=768, bias=True)\n",
      "              (lora_dropout): ModuleDict(\n",
      "                (default): Dropout(p=0.1, inplace=False)\n",
      "              )\n",
      "              (lora_A): ModuleDict(\n",
      "                (default): Linear(in_features=768, out_features=64, bias=False)\n",
      "              )\n",
      "              (lora_B): ModuleDict(\n",
      "                (default): Linear(in_features=64, out_features=768, bias=False)\n",
      "              )\n",
      "              (lora_embedding_A): ParameterDict()\n",
      "              (lora_embedding_B): ParameterDict()\n",
      "              (lora_magnitude_vector): ModuleDict()\n",
      "            )\n",
      "            (dropout): Dropout(p=0.1, inplace=False)\n",
      "          )\n",
      "          (output): BertSelfOutput(\n",
      "            (dense): Linear(in_features=768, out_features=768, bias=True)\n",
      "            (LayerNorm): LayerNorm((768,), eps=1e-12, elementwise_affine=True)\n",
      "            (dropout): Dropout(p=0.1, inplace=False)\n",
      "          )\n",
      "        )\n",
      "        (intermediate): BertIntermediate(\n",
      "          (dense): Linear(in_features=768, out_features=3072, bias=True)\n",
      "          (intermediate_act_fn): GELUActivation()\n",
      "        )\n",
      "        (output): BertOutput(\n",
      "          (dense): Linear(in_features=3072, out_features=768, bias=True)\n",
      "          (LayerNorm): LayerNorm((768,), eps=1e-12, elementwise_affine=True)\n",
      "          (dropout): Dropout(p=0.1, inplace=False)\n",
      "        )\n",
      "      )\n",
      "    )\n",
      "  )\n",
      "  (pooler): BertPooler(\n",
      "    (dense): Linear(in_features=768, out_features=768, bias=True)\n",
      "    (activation): Tanh()\n",
      "  )\n",
      ")\n"
     ]
    }
   ],
   "source": [
    "lora_config = LoraConfig(\n",
    "    task_type=TaskType.SEQ_CLS, r=64, lora_alpha=1, lora_dropout=0.1\n",
    ")\n",
    "\n",
    "peft_model = get_peft_model(model, lora_config)\n",
    "print(peft_model.bert)"
   ]
  },
  {
   "cell_type": "code",
   "execution_count": 6,
   "metadata": {},
   "outputs": [
    {
     "name": "stderr",
     "output_type": "stream",
     "text": [
      "huggingface/tokenizers: The current process just got forked, after parallelism has already been used. Disabling parallelism to avoid deadlocks...\n",
      "To disable this warning, you can either:\n",
      "\t- Avoid using `tokenizers` before the fork if possible\n",
      "\t- Explicitly set the environment variable TOKENIZERS_PARALLELISM=(true | false)\n",
      "huggingface/tokenizers: The current process just got forked, after parallelism has already been used. Disabling parallelism to avoid deadlocks...\n",
      "To disable this warning, you can either:\n",
      "\t- Avoid using `tokenizers` before the fork if possible\n",
      "\t- Explicitly set the environment variable TOKENIZERS_PARALLELISM=(true | false)\n"
     ]
    },
    {
     "name": "stdout",
     "output_type": "stream",
     "text": [
      "Starting to train...\n"
     ]
    },
    {
     "data": {
      "application/vnd.jupyter.widget-view+json": {
       "model_id": "cc0dfa7463de46c2a2f6e7910252b472",
       "version_major": 2,
       "version_minor": 0
      },
      "text/plain": [
       "  0%|          | 0/4050 [00:00<?, ?it/s]"
      ]
     },
     "metadata": {},
     "output_type": "display_data"
    },
    {
     "data": {
      "application/vnd.jupyter.widget-view+json": {
       "model_id": "1c8820788f864ab0b1ad535657e69fd4",
       "version_major": 2,
       "version_minor": 0
      },
      "text/plain": [
       "  0%|          | 0/15 [00:00<?, ?it/s]"
      ]
     },
     "metadata": {},
     "output_type": "display_data"
    },
    {
     "name": "stdout",
     "output_type": "stream",
     "text": [
      "{'eval_loss': 0.3955989181995392, 'eval_accuracy': 86.66666666666667, 'eval_f1': 0.9285714285714286, 'eval_runtime': 1.19, 'eval_samples_per_second': 50.42, 'eval_steps_per_second': 12.605, 'epoch': 1.0}\n",
      "{'loss': 0.4549, 'grad_norm': 2.904478073120117, 'learning_rate': 0.0017530864197530865, 'epoch': 1.85}\n"
     ]
    },
    {
     "data": {
      "application/vnd.jupyter.widget-view+json": {
       "model_id": "204283b836ca47b195c79e71aebd2344",
       "version_major": 2,
       "version_minor": 0
      },
      "text/plain": [
       "  0%|          | 0/15 [00:00<?, ?it/s]"
      ]
     },
     "metadata": {},
     "output_type": "display_data"
    },
    {
     "name": "stdout",
     "output_type": "stream",
     "text": [
      "{'eval_loss': 0.4158343970775604, 'eval_accuracy': 91.66666666666666, 'eval_f1': 0.9532710280373832, 'eval_runtime': 1.1686, 'eval_samples_per_second': 51.343, 'eval_steps_per_second': 12.836, 'epoch': 2.0}\n"
     ]
    },
    {
     "data": {
      "application/vnd.jupyter.widget-view+json": {
       "model_id": "137e2157bcca4e30957fc586e7ea884d",
       "version_major": 2,
       "version_minor": 0
      },
      "text/plain": [
       "  0%|          | 0/15 [00:00<?, ?it/s]"
      ]
     },
     "metadata": {},
     "output_type": "display_data"
    },
    {
     "name": "stdout",
     "output_type": "stream",
     "text": [
      "{'eval_loss': 0.7336533665657043, 'eval_accuracy': 85.0, 'eval_f1': 0.9072164948453608, 'eval_runtime': 1.1522, 'eval_samples_per_second': 52.073, 'eval_steps_per_second': 13.018, 'epoch': 3.0}\n",
      "{'loss': 0.1887, 'grad_norm': 0.011785507202148438, 'learning_rate': 0.001506172839506173, 'epoch': 3.7}\n"
     ]
    },
    {
     "data": {
      "application/vnd.jupyter.widget-view+json": {
       "model_id": "4a401de389104232bd8b9787240917b8",
       "version_major": 2,
       "version_minor": 0
      },
      "text/plain": [
       "  0%|          | 0/15 [00:00<?, ?it/s]"
      ]
     },
     "metadata": {},
     "output_type": "display_data"
    },
    {
     "name": "stdout",
     "output_type": "stream",
     "text": [
      "{'eval_loss': 0.3269987404346466, 'eval_accuracy': 96.66666666666667, 'eval_f1': 0.9807692307692307, 'eval_runtime': 1.1763, 'eval_samples_per_second': 51.006, 'eval_steps_per_second': 12.751, 'epoch': 4.0}\n"
     ]
    },
    {
     "data": {
      "application/vnd.jupyter.widget-view+json": {
       "model_id": "3705c79738bb48949ad1cca353b54e9c",
       "version_major": 2,
       "version_minor": 0
      },
      "text/plain": [
       "  0%|          | 0/15 [00:00<?, ?it/s]"
      ]
     },
     "metadata": {},
     "output_type": "display_data"
    },
    {
     "name": "stdout",
     "output_type": "stream",
     "text": [
      "{'eval_loss': 0.617087185382843, 'eval_accuracy': 88.33333333333333, 'eval_f1': 0.9292929292929293, 'eval_runtime': 1.1828, 'eval_samples_per_second': 50.728, 'eval_steps_per_second': 12.682, 'epoch': 5.0}\n",
      "{'loss': 0.1041, 'grad_norm': 3.773364782333374, 'learning_rate': 0.0012592592592592592, 'epoch': 5.56}\n"
     ]
    },
    {
     "data": {
      "application/vnd.jupyter.widget-view+json": {
       "model_id": "9c1eca95ca934910bf3e1e7116c09976",
       "version_major": 2,
       "version_minor": 0
      },
      "text/plain": [
       "  0%|          | 0/15 [00:00<?, ?it/s]"
      ]
     },
     "metadata": {},
     "output_type": "display_data"
    },
    {
     "name": "stdout",
     "output_type": "stream",
     "text": [
      "{'eval_loss': 0.6831357479095459, 'eval_accuracy': 90.0, 'eval_f1': 0.94, 'eval_runtime': 1.1653, 'eval_samples_per_second': 51.487, 'eval_steps_per_second': 12.872, 'epoch': 6.0}\n"
     ]
    },
    {
     "data": {
      "application/vnd.jupyter.widget-view+json": {
       "model_id": "83274d57a78e46dd8b95d903c9af62e6",
       "version_major": 2,
       "version_minor": 0
      },
      "text/plain": [
       "  0%|          | 0/15 [00:00<?, ?it/s]"
      ]
     },
     "metadata": {},
     "output_type": "display_data"
    },
    {
     "name": "stdout",
     "output_type": "stream",
     "text": [
      "{'eval_loss': 0.421656996011734, 'eval_accuracy': 93.33333333333333, 'eval_f1': 0.9607843137254902, 'eval_runtime': 1.1682, 'eval_samples_per_second': 51.362, 'eval_steps_per_second': 12.84, 'epoch': 7.0}\n",
      "{'loss': 0.0575, 'grad_norm': 0.0005574076785705984, 'learning_rate': 0.0010123456790123457, 'epoch': 7.41}\n"
     ]
    },
    {
     "data": {
      "application/vnd.jupyter.widget-view+json": {
       "model_id": "3ba47fdc91054f778bbb44f95bbf1771",
       "version_major": 2,
       "version_minor": 0
      },
      "text/plain": [
       "  0%|          | 0/15 [00:00<?, ?it/s]"
      ]
     },
     "metadata": {},
     "output_type": "display_data"
    },
    {
     "name": "stdout",
     "output_type": "stream",
     "text": [
      "{'eval_loss': 0.6196771860122681, 'eval_accuracy': 93.33333333333333, 'eval_f1': 0.9607843137254902, 'eval_runtime': 1.0792, 'eval_samples_per_second': 55.596, 'eval_steps_per_second': 13.899, 'epoch': 8.0}\n"
     ]
    },
    {
     "data": {
      "application/vnd.jupyter.widget-view+json": {
       "model_id": "72fcd1fdde73474b9dcae2d492e2ca6f",
       "version_major": 2,
       "version_minor": 0
      },
      "text/plain": [
       "  0%|          | 0/15 [00:00<?, ?it/s]"
      ]
     },
     "metadata": {},
     "output_type": "display_data"
    },
    {
     "name": "stdout",
     "output_type": "stream",
     "text": [
      "{'eval_loss': 0.4815029203891754, 'eval_accuracy': 93.33333333333333, 'eval_f1': 0.9607843137254902, 'eval_runtime': 1.1771, 'eval_samples_per_second': 50.971, 'eval_steps_per_second': 12.743, 'epoch': 9.0}\n",
      "{'loss': 0.046, 'grad_norm': 0.0028950064443051815, 'learning_rate': 0.0007654320987654321, 'epoch': 9.26}\n"
     ]
    },
    {
     "data": {
      "application/vnd.jupyter.widget-view+json": {
       "model_id": "5052c04a016b4fd49fb6ef29136b5ef0",
       "version_major": 2,
       "version_minor": 0
      },
      "text/plain": [
       "  0%|          | 0/15 [00:00<?, ?it/s]"
      ]
     },
     "metadata": {},
     "output_type": "display_data"
    },
    {
     "name": "stdout",
     "output_type": "stream",
     "text": [
      "{'eval_loss': 0.3604021668434143, 'eval_accuracy': 96.66666666666667, 'eval_f1': 0.9807692307692307, 'eval_runtime': 1.1666, 'eval_samples_per_second': 51.429, 'eval_steps_per_second': 12.857, 'epoch': 10.0}\n"
     ]
    },
    {
     "data": {
      "application/vnd.jupyter.widget-view+json": {
       "model_id": "077774ead6e2485cac20561cd641b5c0",
       "version_major": 2,
       "version_minor": 0
      },
      "text/plain": [
       "  0%|          | 0/15 [00:00<?, ?it/s]"
      ]
     },
     "metadata": {},
     "output_type": "display_data"
    },
    {
     "name": "stdout",
     "output_type": "stream",
     "text": [
      "{'eval_loss': 0.3702946901321411, 'eval_accuracy': 93.33333333333333, 'eval_f1': 0.9607843137254902, 'eval_runtime': 1.1658, 'eval_samples_per_second': 51.465, 'eval_steps_per_second': 12.866, 'epoch': 11.0}\n",
      "{'loss': 0.0348, 'grad_norm': 0.0007284372113645077, 'learning_rate': 0.0005185185185185185, 'epoch': 11.11}\n"
     ]
    },
    {
     "data": {
      "application/vnd.jupyter.widget-view+json": {
       "model_id": "df3efbc2f87f453bb9ebe9974d74901b",
       "version_major": 2,
       "version_minor": 0
      },
      "text/plain": [
       "  0%|          | 0/15 [00:00<?, ?it/s]"
      ]
     },
     "metadata": {},
     "output_type": "display_data"
    },
    {
     "name": "stdout",
     "output_type": "stream",
     "text": [
      "{'eval_loss': 0.46137142181396484, 'eval_accuracy': 93.33333333333333, 'eval_f1': 0.9607843137254902, 'eval_runtime': 1.1724, 'eval_samples_per_second': 51.178, 'eval_steps_per_second': 12.795, 'epoch': 12.0}\n",
      "{'loss': 0.0295, 'grad_norm': 0.002510969527065754, 'learning_rate': 0.00027160493827160494, 'epoch': 12.96}\n"
     ]
    },
    {
     "data": {
      "application/vnd.jupyter.widget-view+json": {
       "model_id": "98fbb2567157430b868ac846fa0a6e34",
       "version_major": 2,
       "version_minor": 0
      },
      "text/plain": [
       "  0%|          | 0/15 [00:00<?, ?it/s]"
      ]
     },
     "metadata": {},
     "output_type": "display_data"
    },
    {
     "name": "stdout",
     "output_type": "stream",
     "text": [
      "{'eval_loss': 0.527151882648468, 'eval_accuracy': 93.33333333333333, 'eval_f1': 0.9607843137254902, 'eval_runtime': 1.1935, 'eval_samples_per_second': 50.273, 'eval_steps_per_second': 12.568, 'epoch': 13.0}\n"
     ]
    },
    {
     "data": {
      "application/vnd.jupyter.widget-view+json": {
       "model_id": "13033a178ad0483b9bfa64be8e54c6ae",
       "version_major": 2,
       "version_minor": 0
      },
      "text/plain": [
       "  0%|          | 0/15 [00:00<?, ?it/s]"
      ]
     },
     "metadata": {},
     "output_type": "display_data"
    },
    {
     "name": "stdout",
     "output_type": "stream",
     "text": [
      "{'eval_loss': 0.49943527579307556, 'eval_accuracy': 93.33333333333333, 'eval_f1': 0.9607843137254902, 'eval_runtime': 1.1652, 'eval_samples_per_second': 51.493, 'eval_steps_per_second': 12.873, 'epoch': 14.0}\n",
      "{'loss': 0.02, 'grad_norm': 0.006279141642153263, 'learning_rate': 2.4691358024691357e-05, 'epoch': 14.81}\n"
     ]
    },
    {
     "data": {
      "application/vnd.jupyter.widget-view+json": {
       "model_id": "fc7120ba43ef43149ee54547a6ce1e07",
       "version_major": 2,
       "version_minor": 0
      },
      "text/plain": [
       "  0%|          | 0/15 [00:00<?, ?it/s]"
      ]
     },
     "metadata": {},
     "output_type": "display_data"
    },
    {
     "name": "stdout",
     "output_type": "stream",
     "text": [
      "{'eval_loss': 0.5128610134124756, 'eval_accuracy': 93.33333333333333, 'eval_f1': 0.9607843137254902, 'eval_runtime': 1.1623, 'eval_samples_per_second': 51.62, 'eval_steps_per_second': 12.905, 'epoch': 15.0}\n",
      "{'train_runtime': 802.8335, 'train_samples_per_second': 20.141, 'train_steps_per_second': 5.045, 'train_loss': 0.1162363686973666, 'epoch': 15.0}\n"
     ]
    },
    {
     "data": {
      "text/plain": [
       "TrainOutput(global_step=4050, training_loss=0.1162363686973666, metrics={'train_runtime': 802.8335, 'train_samples_per_second': 20.141, 'train_steps_per_second': 5.045, 'total_flos': 4371778399887360.0, 'train_loss': 0.1162363686973666, 'epoch': 15.0})"
      ]
     },
     "execution_count": 6,
     "metadata": {},
     "output_type": "execute_result"
    }
   ],
   "source": [
    "from sklearn.metrics import f1_score\n",
    "\n",
    "def compute_metrics(eval_pred):\n",
    "    predictions, labels = eval_pred\n",
    "    predictions = np.argmax(predictions, axis=1)\n",
    "    f1 = f1_score(labels, predictions) \n",
    "    return {\"accuracy\": (predictions == labels).mean()*100, \"f1\": f1}\n",
    "\n",
    "\n",
    "trainer = Trainer(\n",
    "    model=peft_model,\n",
    "    args=TrainingArguments(\n",
    "        output_dir=\"bert-sentence-clf\",\n",
    "        learning_rate=2e-3,\n",
    "        per_device_train_batch_size=4,\n",
    "        per_device_eval_batch_size=4,\n",
    "        num_train_epochs=15,\n",
    "        weight_decay=0.01,\n",
    "        eval_strategy=\"epoch\",\n",
    "        save_strategy=\"epoch\",\n",
    "        load_best_model_at_end=True,\n",
    "    ),\n",
    "    train_dataset=tokenized_ds[\"train\"],\n",
    "    eval_dataset=tokenized_ds[\"test\"],\n",
    "    processing_class=tokenizer,\n",
    "    data_collator=DataCollatorWithPadding(tokenizer=tokenizer),\n",
    "    compute_metrics=compute_metrics,\n",
    ")\n",
    "\n",
    "print(\"Starting to train...\")\n",
    "trainer.train()"
   ]
  },
  {
   "cell_type": "code",
   "execution_count": 7,
   "metadata": {},
   "outputs": [],
   "source": [
    "from sklearn.manifold import TSNE\n",
    "import pandas as pd\n",
    "import plotly.express as px"
   ]
  },
  {
   "cell_type": "code",
   "execution_count": 8,
   "metadata": {},
   "outputs": [
    {
     "data": {
      "application/vnd.plotly.v1+json": {
       "config": {
        "plotlyServerURL": "https://plot.ly"
       },
       "data": [
        {
         "customdata": [
          [
           "@anonymized_account Lis biedny kręci się wokół własnego ogona i ciągle próbuję marudzić A to już mu nie wychodzi"
          ],
          [
           "@anonymized_account A w Łodzi Panie Łukaszu na razie Hania,przez niektórych zwana szachrajka😁😁"
          ],
          [
           "@anonymized_account Sorry Pogoń, trzech Waszych w moim @anonymized_account zostało."
          ],
          [
           "@anonymized_account @anonymized_account Co ty tam w tym Koźlu Kędzierzysz?"
          ],
          [
           "@anonymized_account no to jak to jest że się nie da grać w kosza a się wygrywa z mistrzyniami Europy ?"
          ],
          [
           "@anonymized_account Lis biedny kręci się wokół własnego ogona i ciągle próbuję marudzić A to już mu nie wychodzi"
          ],
          [
           "Podobno mają wprowadzić maseczki antysmogowe ze specjalnym otworkiem na papierosa."
          ],
          [
           "Co się musi dziać teraz u @anonymized_account 😄"
          ],
          [
           "Sprzedać za 50 mln Paulinho i kupić (podobno) za 30 mln Vidala - nie poznaję Barcelony."
          ],
          [
           "@anonymized_account Panie Andrzeju jeszcze pan będzie prosił o te leki przeciw bólowe 😀"
          ],
          [
           "@anonymized_account Pogba nie był na pozycji spalonej."
          ],
          [
           "#dividetourwarsaw i need to know CO Z AKCJA KTÓRA WŁAŚNIE POWINNA IŚĆ NAM ZAJEBISCIE"
          ],
          [
           "PROFESOR JEST NA SPOTIFY UMARŁAM XDD"
          ],
          [
           "Dużo tego jeszcze było ale nie chce mi się pisać i tak nikogo to nie interesuje"
          ],
          [
           "@anonymized_account @anonymized_account mi się ten styl podoba 💪 oby tak dalej :)"
          ],
          [
           "@anonymized_account @anonymized_account @anonymized_account W stop klatkach widać ze jak by to było po stronie drugiej (legi) to karny by był"
          ],
          [
           "@anonymized_account burmistrz z platka kwiatka przypomina mi burmistrza Kluczborka"
          ],
          [
           "@anonymized_account @anonymized_account w ekstraklasie też nie ma"
          ],
          [
           "Patrzysz na @anonymized_account @anonymized_account @anonymized_account i wiesz że idzie wojna"
          ],
          [
           "RT @anonymized_account Przypominam.  Kto taśmami wojuje..."
          ],
          [
           "vans do chuja przestań robić choć na chwilę zajebiste kolekcje bo w moim portfelu pieniądzen't"
          ],
          [
           "@anonymized_account Już dwa lata temu powinni wygrac Euro."
          ],
          [
           "@anonymized_account @anonymized_account A niby z jakiego powodu? Żeby mogła sprawować swój urząd? Chyba żart!"
          ],
          [
           "@anonymized_account @anonymized_account @anonymized_account @anonymized_account Nieeee, Gryszkiewicz nie grał, to akurat nie o nim."
          ],
          [
           "RT @anonymized_account Zawsze jak ide do przymiezalni do h\\u0026amp;m to przeżywam szok, ze naprawde wyglądam tak, jak widać to w tym lustrze od tylu…"
          ],
          [
           "@anonymized_account @anonymized_account Według mnie to fake wypucha na zdjęciu niejest miś chyba żeby się tak strasznie zmienił w ostatnim czasie"
          ],
          [
           "@anonymized_account @anonymized_account Nawet podobny do niego, prawda ?xD"
          ],
          [
           "Bild po wczorajszej demolce przy Ł3: \\\"Po co w LM takie ogórki? III-ligowy Trier sprawił BVB w P. Niemiec więcej problemów niż Legia w LM\\\""
          ],
          [
           "RT @anonymized_account Morawiecki senior robi w trąbę zmarłych, syn żywych. Taki podział ról."
          ],
          [
           "@anonymized_account Pani Malarz trza być obiektywnym dziennikarką to ze legia gra piach to normalka nic dziwnego"
          ],
          [
           "@anonymized_account A ManUtd czasami wczoraj nie odpadł ?:)"
          ],
          [
           "@anonymized_account @anonymized_account a trenerem został Szymon Pawłowski :)"
          ],
          [
           "@anonymized_account Nie nazwałbym tego dziennikarstwem 😂"
          ],
          [
           "@anonymized_account o ile się nie myle to ta twarda ręka była jednym z powodów jego zwolnienia :)"
          ],
          [
           "@anonymized_account Błędem było jego zatrudnienie a nie zwolnienie"
          ],
          [
           "@anonymized_account @anonymized_account Oj tam, ale chyba po raz pierwszy odpadną przed nami 😂"
          ],
          [
           "Podobno mają wprowadzić maseczki antysmogowe ze specjalnym otworkiem na papierosa."
          ],
          [
           "RT @anonymized_account @anonymized_account @anonymized_account Wzrusza mnie ta wasza troska. I rozumiem ją. W końcu jest lotnisko w Niemczech. A więc u nas n…"
          ],
          [
           "@anonymized_account @anonymized_account Nawet podobny do niego, prawda ?xD"
          ],
          [
           "@anonymized_account @anonymized_account No pewnie. Niepełnosprawnych zamkneliscie w sejmie to się zrobiło bezpiecznie na ulicach. Taka prawda kłamco."
          ],
          [
           "@anonymized_account Tomek niesluchaj radia jak juz tak Cię denerwuje zwykła reklama 😉 niejestem lekarzem ale podejrzewam chorobę zawodową🎤 🍻"
          ],
          [
           "@anonymized_account @anonymized_account Według mnie to fake wypucha na zdjęciu niejest miś chyba żeby się tak strasznie zmienił w ostatnim czasie"
          ],
          [
           "RT @anonymized_account @anonymized_account @anonymized_account dopiero po porodzie kobiety maja mgliste pojęcie o bólu mężczyzn z katarem."
          ],
          [
           "@anonymized_account @anonymized_account Powinni jeszcze zaprosić Gmyza i odlot będzie pełny."
          ],
          [
           "@anonymized_account dziś ciężko. Pół Warszawy postanowiło się umyć w tym samym czasie."
          ],
          [
           "@anonymized_account @anonymized_account Aha, a ktoś cię zapraszał do rozmowy?"
          ],
          [
           "RT @anonymized_account @anonymized_account @anonymized_account dopiero po porodzie kobiety maja mgliste pojęcie o bólu mężczyzn z katarem."
          ],
          [
           "@anonymized_account @anonymized_account Dlatego to nie miało żadnego większego wpływu z żadnej ze stron."
          ],
          [
           "@anonymized_account A Ty nigdy nie robisz dwóch rzeczy jednocześnie? Np. idziesz i żujesz gumę."
          ],
          [
           "@anonymized_account @anonymized_account Trochę dużo tych trenerów :P"
          ],
          [
           "Skoro wchodzi Góralski, to tym bardziej szkoda, że po drugiej stronie nie ma Vidala 😜"
          ],
          [
           "@anonymized_account to ty chłopie nie płacz że mamy takie legendy.A wy macie kogo ? PiotraBanie ?@anonymized_account @anonymized_account @anonymized_account @anonymized_account"
          ]
         ],
         "hovertemplate": "label=Neutral<br>0=%{x}<br>1=%{y}<br>text=%{customdata[0]}<extra></extra>",
         "legendgroup": "Neutral",
         "marker": {
          "color": "#636efa",
          "symbol": "circle"
         },
         "mode": "markers",
         "name": "Neutral",
         "orientation": "v",
         "showlegend": true,
         "type": "scatter",
         "x": [
          -0.6966952681541443,
          -2.359861135482788,
          -1.7659276723861694,
          -1.4739315509796143,
          -2.376488208770752,
          -0.6966948509216309,
          -3.6606056690216064,
          -1.9905521869659424,
          -2.484096050262451,
          -2.1218056678771973,
          -0.18404829502105713,
          -2.945697784423828,
          -3.4133193492889404,
          -2.8430888652801514,
          0.7025495171546936,
          0.1123342290520668,
          -2.1889781951904297,
          -1.6590012311935425,
          -3.367213010787964,
          -1.0461777448654175,
          -0.7188942432403564,
          -1.8849629163742065,
          1.893489122390747,
          0.1562989503145218,
          -2.4755356311798096,
          1.010325312614441,
          2.2761988639831543,
          -2.4350781440734863,
          0.7163518667221069,
          -1.5568082332611084,
          -1.9140808582305908,
          0.806760847568512,
          -2.0791008472442627,
          0.3323463499546051,
          -1.443566918373108,
          -0.23704633116722107,
          -3.6606056690216064,
          0.3833979666233063,
          2.2761988639831543,
          3.055738925933838,
          -2.350156545639038,
          1.010325312614441,
          -2.3880443572998047,
          0.2622475028038025,
          0.6356050968170166,
          -1.9498156309127808,
          -2.3880443572998047,
          -0.8211376667022705,
          -1.6571497917175293,
          -1.8133114576339722,
          -2.66695499420166,
          0.7125664949417114
         ],
         "xaxis": "x",
         "y": [
          -2.384739398956299,
          -1.063097357749939,
          -1.3920198678970337,
          -1.9631938934326172,
          -1.2746055126190186,
          -2.384739398956299,
          1.061032772064209,
          0.2261289358139038,
          0.036918919533491135,
          -0.8134276866912842,
          0.9764774441719055,
          -0.32625800371170044,
          -0.022945869714021683,
          0.41709092259407043,
          1.2961784601211548,
          1.5429229736328125,
          -1.5404083728790283,
          -0.636768639087677,
          -1.2262440919876099,
          2.7309772968292236,
          -1.4891448020935059,
          -0.7049810290336609,
          1.4455527067184448,
          1.1811455488204956,
          0.9852665066719055,
          1.6423707008361816,
          1.274226188659668,
          0.09218905121088028,
          2.43426775932312,
          -1.257030725479126,
          -1.4217325448989868,
          1.2679935693740845,
          -1.6595224142074585,
          1.454210877418518,
          -1.5248956680297852,
          0.7764270305633545,
          1.061032772064209,
          1.9921143054962158,
          1.274226188659668,
          0.04018966481089592,
          -1.8590376377105713,
          1.6423707008361816,
          1.9500921964645386,
          1.6229159832000732,
          1.0573265552520752,
          -2.003106117248535,
          1.9500921964645386,
          -0.12423858046531677,
          -2.5747194290161133,
          -1.1650279760360718,
          0.3470923602581024,
          1.7866616249084473
         ],
         "yaxis": "y"
        },
        {
         "customdata": [
          [
           "@anonymized_account @anonymized_account Jednostki wojskowe funkcjonują w oparciu o karty kredytowe? Lecz się człowieku."
          ],
          [
           "@anonymized_account @anonymized_account @anonymized_account Jojo demokrata w akcji. Taki pospolity ćwierćmózg"
          ],
          [
           "@anonymized_account A nastepni będą tacy jak Terlikowski spędzający czas w kolejce do psychiatry."
          ],
          [
           "@anonymized_account Krystynę mi on przypomina ale trzeba mieć niepokoleji w głowie by się robić na Krystynę"
          ],
          [
           "@anonymized_account czy Pan Waldemar ma zakaz wjazdu Parchu, czy nie ma?"
          ],
          [
           "@anonymized_account @anonymized_account Raczej ma problem z głową. Tak jak Ty i Tobie podobni."
          ],
          [
           "@anonymized_account Polacy też wiedzą, że jednym z największych debili jest niejaki Ziemkiewicz."
          ],
          [
           "@anonymized_account @anonymized_account @anonymized_account Kurwa w jebany dzień parlamentaryzmu wszędzie barierki i psiarnia, no kurwa pięknie się to wspasowuje"
          ]
         ],
         "hovertemplate": "label=Hate<br>0=%{x}<br>1=%{y}<br>text=%{customdata[0]}<extra></extra>",
         "legendgroup": "Hate",
         "marker": {
          "color": "#EF553B",
          "symbol": "circle"
         },
         "mode": "markers",
         "name": "Hate",
         "orientation": "v",
         "showlegend": true,
         "type": "scatter",
         "x": [
          3.0941100120544434,
          3.0499613285064697,
          1.6127285957336426,
          0.9473819732666016,
          2.7161428928375244,
          2.55934476852417,
          2.5871193408966064,
          2.965541362762451
         ],
         "xaxis": "x",
         "y": [
          -0.03134201467037201,
          0.14540702104568481,
          -1.6133860349655151,
          1.6663882732391357,
          -0.6640603542327881,
          0.9007692337036133,
          -0.8026666045188904,
          -0.02120024897158146
         ],
         "yaxis": "y"
        }
       ],
       "layout": {
        "legend": {
         "title": {
          "text": "label"
         },
         "tracegroupgap": 0
        },
        "margin": {
         "t": 60
        },
        "template": {
         "data": {
          "bar": [
           {
            "error_x": {
             "color": "#2a3f5f"
            },
            "error_y": {
             "color": "#2a3f5f"
            },
            "marker": {
             "line": {
              "color": "#E5ECF6",
              "width": 0.5
             },
             "pattern": {
              "fillmode": "overlay",
              "size": 10,
              "solidity": 0.2
             }
            },
            "type": "bar"
           }
          ],
          "barpolar": [
           {
            "marker": {
             "line": {
              "color": "#E5ECF6",
              "width": 0.5
             },
             "pattern": {
              "fillmode": "overlay",
              "size": 10,
              "solidity": 0.2
             }
            },
            "type": "barpolar"
           }
          ],
          "carpet": [
           {
            "aaxis": {
             "endlinecolor": "#2a3f5f",
             "gridcolor": "white",
             "linecolor": "white",
             "minorgridcolor": "white",
             "startlinecolor": "#2a3f5f"
            },
            "baxis": {
             "endlinecolor": "#2a3f5f",
             "gridcolor": "white",
             "linecolor": "white",
             "minorgridcolor": "white",
             "startlinecolor": "#2a3f5f"
            },
            "type": "carpet"
           }
          ],
          "choropleth": [
           {
            "colorbar": {
             "outlinewidth": 0,
             "ticks": ""
            },
            "type": "choropleth"
           }
          ],
          "contour": [
           {
            "colorbar": {
             "outlinewidth": 0,
             "ticks": ""
            },
            "colorscale": [
             [
              0,
              "#0d0887"
             ],
             [
              0.1111111111111111,
              "#46039f"
             ],
             [
              0.2222222222222222,
              "#7201a8"
             ],
             [
              0.3333333333333333,
              "#9c179e"
             ],
             [
              0.4444444444444444,
              "#bd3786"
             ],
             [
              0.5555555555555556,
              "#d8576b"
             ],
             [
              0.6666666666666666,
              "#ed7953"
             ],
             [
              0.7777777777777778,
              "#fb9f3a"
             ],
             [
              0.8888888888888888,
              "#fdca26"
             ],
             [
              1,
              "#f0f921"
             ]
            ],
            "type": "contour"
           }
          ],
          "contourcarpet": [
           {
            "colorbar": {
             "outlinewidth": 0,
             "ticks": ""
            },
            "type": "contourcarpet"
           }
          ],
          "heatmap": [
           {
            "colorbar": {
             "outlinewidth": 0,
             "ticks": ""
            },
            "colorscale": [
             [
              0,
              "#0d0887"
             ],
             [
              0.1111111111111111,
              "#46039f"
             ],
             [
              0.2222222222222222,
              "#7201a8"
             ],
             [
              0.3333333333333333,
              "#9c179e"
             ],
             [
              0.4444444444444444,
              "#bd3786"
             ],
             [
              0.5555555555555556,
              "#d8576b"
             ],
             [
              0.6666666666666666,
              "#ed7953"
             ],
             [
              0.7777777777777778,
              "#fb9f3a"
             ],
             [
              0.8888888888888888,
              "#fdca26"
             ],
             [
              1,
              "#f0f921"
             ]
            ],
            "type": "heatmap"
           }
          ],
          "heatmapgl": [
           {
            "colorbar": {
             "outlinewidth": 0,
             "ticks": ""
            },
            "colorscale": [
             [
              0,
              "#0d0887"
             ],
             [
              0.1111111111111111,
              "#46039f"
             ],
             [
              0.2222222222222222,
              "#7201a8"
             ],
             [
              0.3333333333333333,
              "#9c179e"
             ],
             [
              0.4444444444444444,
              "#bd3786"
             ],
             [
              0.5555555555555556,
              "#d8576b"
             ],
             [
              0.6666666666666666,
              "#ed7953"
             ],
             [
              0.7777777777777778,
              "#fb9f3a"
             ],
             [
              0.8888888888888888,
              "#fdca26"
             ],
             [
              1,
              "#f0f921"
             ]
            ],
            "type": "heatmapgl"
           }
          ],
          "histogram": [
           {
            "marker": {
             "pattern": {
              "fillmode": "overlay",
              "size": 10,
              "solidity": 0.2
             }
            },
            "type": "histogram"
           }
          ],
          "histogram2d": [
           {
            "colorbar": {
             "outlinewidth": 0,
             "ticks": ""
            },
            "colorscale": [
             [
              0,
              "#0d0887"
             ],
             [
              0.1111111111111111,
              "#46039f"
             ],
             [
              0.2222222222222222,
              "#7201a8"
             ],
             [
              0.3333333333333333,
              "#9c179e"
             ],
             [
              0.4444444444444444,
              "#bd3786"
             ],
             [
              0.5555555555555556,
              "#d8576b"
             ],
             [
              0.6666666666666666,
              "#ed7953"
             ],
             [
              0.7777777777777778,
              "#fb9f3a"
             ],
             [
              0.8888888888888888,
              "#fdca26"
             ],
             [
              1,
              "#f0f921"
             ]
            ],
            "type": "histogram2d"
           }
          ],
          "histogram2dcontour": [
           {
            "colorbar": {
             "outlinewidth": 0,
             "ticks": ""
            },
            "colorscale": [
             [
              0,
              "#0d0887"
             ],
             [
              0.1111111111111111,
              "#46039f"
             ],
             [
              0.2222222222222222,
              "#7201a8"
             ],
             [
              0.3333333333333333,
              "#9c179e"
             ],
             [
              0.4444444444444444,
              "#bd3786"
             ],
             [
              0.5555555555555556,
              "#d8576b"
             ],
             [
              0.6666666666666666,
              "#ed7953"
             ],
             [
              0.7777777777777778,
              "#fb9f3a"
             ],
             [
              0.8888888888888888,
              "#fdca26"
             ],
             [
              1,
              "#f0f921"
             ]
            ],
            "type": "histogram2dcontour"
           }
          ],
          "mesh3d": [
           {
            "colorbar": {
             "outlinewidth": 0,
             "ticks": ""
            },
            "type": "mesh3d"
           }
          ],
          "parcoords": [
           {
            "line": {
             "colorbar": {
              "outlinewidth": 0,
              "ticks": ""
             }
            },
            "type": "parcoords"
           }
          ],
          "pie": [
           {
            "automargin": true,
            "type": "pie"
           }
          ],
          "scatter": [
           {
            "fillpattern": {
             "fillmode": "overlay",
             "size": 10,
             "solidity": 0.2
            },
            "type": "scatter"
           }
          ],
          "scatter3d": [
           {
            "line": {
             "colorbar": {
              "outlinewidth": 0,
              "ticks": ""
             }
            },
            "marker": {
             "colorbar": {
              "outlinewidth": 0,
              "ticks": ""
             }
            },
            "type": "scatter3d"
           }
          ],
          "scattercarpet": [
           {
            "marker": {
             "colorbar": {
              "outlinewidth": 0,
              "ticks": ""
             }
            },
            "type": "scattercarpet"
           }
          ],
          "scattergeo": [
           {
            "marker": {
             "colorbar": {
              "outlinewidth": 0,
              "ticks": ""
             }
            },
            "type": "scattergeo"
           }
          ],
          "scattergl": [
           {
            "marker": {
             "colorbar": {
              "outlinewidth": 0,
              "ticks": ""
             }
            },
            "type": "scattergl"
           }
          ],
          "scattermapbox": [
           {
            "marker": {
             "colorbar": {
              "outlinewidth": 0,
              "ticks": ""
             }
            },
            "type": "scattermapbox"
           }
          ],
          "scatterpolar": [
           {
            "marker": {
             "colorbar": {
              "outlinewidth": 0,
              "ticks": ""
             }
            },
            "type": "scatterpolar"
           }
          ],
          "scatterpolargl": [
           {
            "marker": {
             "colorbar": {
              "outlinewidth": 0,
              "ticks": ""
             }
            },
            "type": "scatterpolargl"
           }
          ],
          "scatterternary": [
           {
            "marker": {
             "colorbar": {
              "outlinewidth": 0,
              "ticks": ""
             }
            },
            "type": "scatterternary"
           }
          ],
          "surface": [
           {
            "colorbar": {
             "outlinewidth": 0,
             "ticks": ""
            },
            "colorscale": [
             [
              0,
              "#0d0887"
             ],
             [
              0.1111111111111111,
              "#46039f"
             ],
             [
              0.2222222222222222,
              "#7201a8"
             ],
             [
              0.3333333333333333,
              "#9c179e"
             ],
             [
              0.4444444444444444,
              "#bd3786"
             ],
             [
              0.5555555555555556,
              "#d8576b"
             ],
             [
              0.6666666666666666,
              "#ed7953"
             ],
             [
              0.7777777777777778,
              "#fb9f3a"
             ],
             [
              0.8888888888888888,
              "#fdca26"
             ],
             [
              1,
              "#f0f921"
             ]
            ],
            "type": "surface"
           }
          ],
          "table": [
           {
            "cells": {
             "fill": {
              "color": "#EBF0F8"
             },
             "line": {
              "color": "white"
             }
            },
            "header": {
             "fill": {
              "color": "#C8D4E3"
             },
             "line": {
              "color": "white"
             }
            },
            "type": "table"
           }
          ]
         },
         "layout": {
          "annotationdefaults": {
           "arrowcolor": "#2a3f5f",
           "arrowhead": 0,
           "arrowwidth": 1
          },
          "autotypenumbers": "strict",
          "coloraxis": {
           "colorbar": {
            "outlinewidth": 0,
            "ticks": ""
           }
          },
          "colorscale": {
           "diverging": [
            [
             0,
             "#8e0152"
            ],
            [
             0.1,
             "#c51b7d"
            ],
            [
             0.2,
             "#de77ae"
            ],
            [
             0.3,
             "#f1b6da"
            ],
            [
             0.4,
             "#fde0ef"
            ],
            [
             0.5,
             "#f7f7f7"
            ],
            [
             0.6,
             "#e6f5d0"
            ],
            [
             0.7,
             "#b8e186"
            ],
            [
             0.8,
             "#7fbc41"
            ],
            [
             0.9,
             "#4d9221"
            ],
            [
             1,
             "#276419"
            ]
           ],
           "sequential": [
            [
             0,
             "#0d0887"
            ],
            [
             0.1111111111111111,
             "#46039f"
            ],
            [
             0.2222222222222222,
             "#7201a8"
            ],
            [
             0.3333333333333333,
             "#9c179e"
            ],
            [
             0.4444444444444444,
             "#bd3786"
            ],
            [
             0.5555555555555556,
             "#d8576b"
            ],
            [
             0.6666666666666666,
             "#ed7953"
            ],
            [
             0.7777777777777778,
             "#fb9f3a"
            ],
            [
             0.8888888888888888,
             "#fdca26"
            ],
            [
             1,
             "#f0f921"
            ]
           ],
           "sequentialminus": [
            [
             0,
             "#0d0887"
            ],
            [
             0.1111111111111111,
             "#46039f"
            ],
            [
             0.2222222222222222,
             "#7201a8"
            ],
            [
             0.3333333333333333,
             "#9c179e"
            ],
            [
             0.4444444444444444,
             "#bd3786"
            ],
            [
             0.5555555555555556,
             "#d8576b"
            ],
            [
             0.6666666666666666,
             "#ed7953"
            ],
            [
             0.7777777777777778,
             "#fb9f3a"
            ],
            [
             0.8888888888888888,
             "#fdca26"
            ],
            [
             1,
             "#f0f921"
            ]
           ]
          },
          "colorway": [
           "#636efa",
           "#EF553B",
           "#00cc96",
           "#ab63fa",
           "#FFA15A",
           "#19d3f3",
           "#FF6692",
           "#B6E880",
           "#FF97FF",
           "#FECB52"
          ],
          "font": {
           "color": "#2a3f5f"
          },
          "geo": {
           "bgcolor": "white",
           "lakecolor": "white",
           "landcolor": "#E5ECF6",
           "showlakes": true,
           "showland": true,
           "subunitcolor": "white"
          },
          "hoverlabel": {
           "align": "left"
          },
          "hovermode": "closest",
          "mapbox": {
           "style": "light"
          },
          "paper_bgcolor": "white",
          "plot_bgcolor": "#E5ECF6",
          "polar": {
           "angularaxis": {
            "gridcolor": "white",
            "linecolor": "white",
            "ticks": ""
           },
           "bgcolor": "#E5ECF6",
           "radialaxis": {
            "gridcolor": "white",
            "linecolor": "white",
            "ticks": ""
           }
          },
          "scene": {
           "xaxis": {
            "backgroundcolor": "#E5ECF6",
            "gridcolor": "white",
            "gridwidth": 2,
            "linecolor": "white",
            "showbackground": true,
            "ticks": "",
            "zerolinecolor": "white"
           },
           "yaxis": {
            "backgroundcolor": "#E5ECF6",
            "gridcolor": "white",
            "gridwidth": 2,
            "linecolor": "white",
            "showbackground": true,
            "ticks": "",
            "zerolinecolor": "white"
           },
           "zaxis": {
            "backgroundcolor": "#E5ECF6",
            "gridcolor": "white",
            "gridwidth": 2,
            "linecolor": "white",
            "showbackground": true,
            "ticks": "",
            "zerolinecolor": "white"
           }
          },
          "shapedefaults": {
           "line": {
            "color": "#2a3f5f"
           }
          },
          "ternary": {
           "aaxis": {
            "gridcolor": "white",
            "linecolor": "white",
            "ticks": ""
           },
           "baxis": {
            "gridcolor": "white",
            "linecolor": "white",
            "ticks": ""
           },
           "bgcolor": "#E5ECF6",
           "caxis": {
            "gridcolor": "white",
            "linecolor": "white",
            "ticks": ""
           }
          },
          "title": {
           "x": 0.05
          },
          "xaxis": {
           "automargin": true,
           "gridcolor": "white",
           "linecolor": "white",
           "ticks": "",
           "title": {
            "standoff": 15
           },
           "zerolinecolor": "white",
           "zerolinewidth": 2
          },
          "yaxis": {
           "automargin": true,
           "gridcolor": "white",
           "linecolor": "white",
           "ticks": "",
           "title": {
            "standoff": 15
           },
           "zerolinecolor": "white",
           "zerolinewidth": 2
          }
         }
        },
        "xaxis": {
         "anchor": "y",
         "domain": [
          0,
          1
         ],
         "title": {
          "text": "0"
         }
        },
        "yaxis": {
         "anchor": "x",
         "domain": [
          0,
          1
         ],
         "title": {
          "text": "1"
         }
        }
       }
      }
     },
     "metadata": {},
     "output_type": "display_data"
    }
   ],
   "source": [
    "test_ds = dataset[\"test\"]\n",
    "texts = [sample[\"text\"] for sample in test_ds] \n",
    "inputs = tokenizer(texts, return_tensors=\"pt\", padding=True, truncation=True)\n",
    "\n",
    "bert = peft_model.base_model.model.bert\n",
    "\n",
    "bert = bert.cpu()\n",
    "bert.eval()\n",
    "with torch.no_grad():\n",
    "    outputs = bert(**inputs)\n",
    "\n",
    "tsne = TSNE()\n",
    "to_vis = tsne.fit_transform(outputs.last_hidden_state[:,0,:].squeeze().numpy())\n",
    "\n",
    "df = pd.DataFrame(to_vis)\n",
    "df[\"label\"] = [post[\"label\"] for post in test_ds]\n",
    "df[\"text\"] = [post[\"text\"] for post in test_ds]\n",
    "fig = px.scatter(df, x=0, y=1, hover_data=\"text\", color=\"label\")\n",
    "fig.show()"
   ]
  }
 ],
 "metadata": {
  "kernelspec": {
   "display_name": "nlp",
   "language": "python",
   "name": "python3"
  },
  "language_info": {
   "codemirror_mode": {
    "name": "ipython",
    "version": 3
   },
   "file_extension": ".py",
   "mimetype": "text/x-python",
   "name": "python",
   "nbconvert_exporter": "python",
   "pygments_lexer": "ipython3",
   "version": "3.11.10"
  }
 },
 "nbformat": 4,
 "nbformat_minor": 2
}
