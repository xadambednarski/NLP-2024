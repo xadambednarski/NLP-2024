{
 "cells": [
  {
   "cell_type": "code",
   "execution_count": 2,
   "metadata": {},
   "outputs": [],
   "source": [
    "import json\n",
    "import numpy as np\n",
    "from sklearn.metrics import confusion_matrix"
   ]
  },
  {
   "cell_type": "code",
   "execution_count": 3,
   "metadata": {},
   "outputs": [],
   "source": [
    "with open(\"../data/output/labeled_sample_adam.jsonl\", \"r\") as file:\n",
    "    adas = [json.loads(line) for line in file]\n",
    "\n",
    "with open(\"../data/output/labeled_sample_jan.jsonl\", \"r\") as file:\n",
    "    janeczek = [json.loads(line) for line in file]"
   ]
  },
  {
   "cell_type": "code",
   "execution_count": 20,
   "metadata": {},
   "outputs": [],
   "source": [
    "mapping = {\n",
    "    \"Mowa nienawiści\": \"Hate\",\n",
    "    \"Neutralny\": \"Neutral\",\n",
    "    \"Wzmacnianie\": \"Strenghtening\",\n",
    "    \"Osłabianie\": \"Weakening\",\n",
    "    \"Neutral\": \"Neutral\",\n",
    "    \"Hate\": \"Hate\",\n",
    "    \"Strenghtening\": \"Strenghtening\",\n",
    "    \"Weakening\": \"Weakening\",\n",
    "    \"Odwracanie\": \"Reversing\",\n",
    "    \"Reversing\": \"Reversing\",\n",
    "}"
   ]
  },
  {
   "cell_type": "code",
   "execution_count": 5,
   "metadata": {},
   "outputs": [],
   "source": [
    "\n",
    "def cohen_kappa(confusion_matrix):\n",
    "    \"\"\"\n",
    "    Calculate Cohen's Kappa based on a confusion matrix.\n",
    "\n",
    "    Parameters:\n",
    "    confusion_matrix (numpy array): A 2x2 confusion matrix where:\n",
    "        confusion_matrix[0, 0] = a (both raters said Yes)\n",
    "        confusion_matrix[0, 1] = b (rater 1 said Yes, rater 2 said No)\n",
    "        confusion_matrix[1, 0] = c (rater 1 said No, rater 2 said Yes)\n",
    "        confusion_matrix[1, 1] = d (both raters said No)\n",
    "\n",
    "    Returns:\n",
    "    float: Cohen's Kappa value\n",
    "    \"\"\"\n",
    "\n",
    "    a = confusion_matrix[0, 0]\n",
    "    b = confusion_matrix[0, 1]\n",
    "    c = confusion_matrix[1, 0]\n",
    "    d = confusion_matrix[1, 1]\n",
    "    N = a + b + c + d\n",
    "\n",
    "    p_o = (a + d) / N\n",
    "    p_e = ((a + b) * (a + c) + (b + d) * (c + d)) / (N ** 2)\n",
    "    kappa = (p_o - p_e) / (1 - p_e)\n",
    "\n",
    "    return kappa\n"
   ]
  },
  {
   "cell_type": "code",
   "execution_count": 6,
   "metadata": {},
   "outputs": [],
   "source": [
    "def fix_labels_adam(data):\n",
    "    for anno in data:\n",
    "        merged_labels = []\n",
    "        anno['label'].sort(key=lambda x: x[0]) \n",
    "        \n",
    "        for label in anno['label']:\n",
    "            if not merged_labels:\n",
    "                merged_labels.append(label)\n",
    "            else:\n",
    "                last_label = merged_labels[-1]\n",
    "                if last_label[2] == label[2]:\n",
    "                    last_label[1] = max(last_label[1], label[1])\n",
    "                else:\n",
    "                    merged_labels.append(label)\n",
    "\n",
    "        anno['label'] = merged_labels\n",
    "        for label in anno['label']:\n",
    "            label[2] = mapping[label[2]]\n",
    "\n",
    "    return data"
   ]
  },
  {
   "cell_type": "code",
   "execution_count": 7,
   "metadata": {},
   "outputs": [],
   "source": [
    "adas = fix_labels_adam(adas)"
   ]
  },
  {
   "cell_type": "code",
   "execution_count": 8,
   "metadata": {},
   "outputs": [],
   "source": [
    "adam_labels = [annotation[\"label\"][0][2] for annotation in adas]\n",
    "janek_labels = [annotation[\"entities\"][0][\"label\"] for annotation in janeczek]"
   ]
  },
  {
   "cell_type": "code",
   "execution_count": 9,
   "metadata": {},
   "outputs": [],
   "source": [
    "results = {\n",
    "    (\"Neutral\", \"Neutral\"): 0,\n",
    "    (\"Hate\", \"Neutral\"): 0,\n",
    "    (\"Neutral\", \"Hate\"): 0,\n",
    "    (\"Hate\", \"Hate\"): 0,\n",
    "}\n",
    "\n",
    "for adam, janek in zip(adam_labels, janek_labels):\n",
    "    results[(adam, janek)] += 1"
   ]
  },
  {
   "cell_type": "code",
   "execution_count": 10,
   "metadata": {},
   "outputs": [
    {
     "data": {
      "text/plain": [
       "{('Neutral', 'Neutral'): 89,\n",
       " ('Hate', 'Neutral'): 4,\n",
       " ('Neutral', 'Hate'): 1,\n",
       " ('Hate', 'Hate'): 6}"
      ]
     },
     "execution_count": 10,
     "metadata": {},
     "output_type": "execute_result"
    }
   ],
   "source": [
    "results"
   ]
  },
  {
   "cell_type": "code",
   "execution_count": 11,
   "metadata": {},
   "outputs": [],
   "source": [
    "matrix = np.array([[89, 4], [1, 6]])"
   ]
  },
  {
   "cell_type": "code",
   "execution_count": 12,
   "metadata": {},
   "outputs": [
    {
     "data": {
      "text/plain": [
       "0.6794871794871793"
      ]
     },
     "execution_count": 12,
     "metadata": {},
     "output_type": "execute_result"
    }
   ],
   "source": [
    "cohen_kappa(matrix)"
   ]
  },
  {
   "cell_type": "code",
   "execution_count": 24,
   "metadata": {},
   "outputs": [],
   "source": [
    "with open(\"../data/output/labeled_sample_adam_2.jsonl\", \"r\") as file:\n",
    "    adas = [json.loads(line) for line in file]\n",
    "\n",
    "with open(\"../data/output/labeled_sample_jan_2_fix.jsonl\", \"r\") as file:\n",
    "    janeczek = [json.loads(line) for line in file]"
   ]
  },
  {
   "cell_type": "code",
   "execution_count": 40,
   "metadata": {},
   "outputs": [
    {
     "data": {
      "text/plain": [
       "{('Neutral', 'Neutral'): 86,\n",
       " ('Hate', 'Neutral'): 1,\n",
       " ('Neutral', 'Hate'): 3,\n",
       " ('Hate', 'Hate'): 10}"
      ]
     },
     "execution_count": 40,
     "metadata": {},
     "output_type": "execute_result"
    }
   ],
   "source": [
    "adas = fix_labels_adam(adas)\n",
    "adam_labels = [annotation[\"label\"][0][2] for annotation in adas]\n",
    "janek_labels = [annotation[\"label\"][0][2] for annotation in janeczek]\n",
    "janek_labels[27] = \"Neutralny\"\n",
    "results = {\n",
    "    (\"Neutral\", \"Neutral\"): 0,\n",
    "    (\"Hate\", \"Neutral\"): 0,\n",
    "    (\"Neutral\", \"Hate\"): 0,\n",
    "    (\"Hate\", \"Hate\"): 0,\n",
    "}\n",
    "\n",
    "for adam, janek in zip(adam_labels, janek_labels):\n",
    "    results[(adam, mapping[janek])] += 1\n",
    "results"
   ]
  },
  {
   "cell_type": "code",
   "execution_count": 43,
   "metadata": {},
   "outputs": [
    {
     "data": {
      "text/plain": [
       "0.8107852412488172"
      ]
     },
     "execution_count": 43,
     "metadata": {},
     "output_type": "execute_result"
    }
   ],
   "source": [
    "matrix = np.array([[86, 1], [3, 10]])\n",
    "cohen_kappa(matrix)"
   ]
  }
 ],
 "metadata": {
  "kernelspec": {
   "display_name": "nlp",
   "language": "python",
   "name": "python3"
  },
  "language_info": {
   "codemirror_mode": {
    "name": "ipython",
    "version": 3
   },
   "file_extension": ".py",
   "mimetype": "text/x-python",
   "name": "python",
   "nbconvert_exporter": "python",
   "pygments_lexer": "ipython3",
   "version": "3.11.10"
  }
 },
 "nbformat": 4,
 "nbformat_minor": 2
}
