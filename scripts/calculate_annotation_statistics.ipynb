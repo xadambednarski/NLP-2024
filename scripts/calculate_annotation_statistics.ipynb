{
 "cells": [
  {
   "cell_type": "code",
   "execution_count": 1,
   "metadata": {},
   "outputs": [
    {
     "name": "stdout",
     "output_type": "stream",
     "text": [
      "Statystyki dla anotacji Łukasza:\n",
      "{'num_entries': 100, 'mean_length': 12.66, 'std_length': 4.373145321161875, 'min_length': 4, 'max_length': 22, 'median_length': 12.5, 'neutral_count': 0, 'hate_count': 0, 'neutral_percentage': 0, 'hate_percentage': 0, 'multilabel_count': 0}\n",
      "\n",
      "Statystyki dla anotacji Adama:\n",
      "{'num_entries': 49, 'mean_length': 12.387755102040817, 'std_length': 4.443827760446481, 'min_length': 6, 'max_length': 23, 'median_length': 12.0, 'neutral_count': 0, 'hate_count': 0, 'neutral_percentage': 0, 'hate_percentage': 0, 'multilabel_count': 0}\n",
      "\n",
      "Statystyki dla anotacji Jana:\n",
      "{'num_entries': 50, 'mean_length': 12.44, 'std_length': 5.575517913162866, 'min_length': 6, 'max_length': 25, 'median_length': 11.0, 'neutral_count': 45, 'hate_count': 5, 'neutral_percentage': 83.33333333333334, 'hate_percentage': 9.25925925925926, 'multilabel_count': 3}\n"
     ]
    }
   ],
   "source": [
    "import json\n",
    "import numpy as np\n",
    "\n",
    "def load_annotations(file_path):\n",
    "    with open(file_path, \"r\", encoding=\"utf-8\") as file:\n",
    "        data = [json.loads(line) for line in file]\n",
    "    return data\n",
    "\n",
    "lukasz_file = fr\"../data/output/labeled_sample_lukasz_3.jsonl\"\n",
    "adam_file = fr\"../data/output/labeled_sample_adam_3.jsonl\"\n",
    "jan_file = fr\"../annotations_jan/labeled_sample_jan_3.jsonl\"\n",
    "\n",
    "lukasz_annotations = load_annotations(lukasz_file)\n",
    "adam_annotations = load_annotations(adam_file)\n",
    "jan_annotations = load_annotations(jan_file)\n",
    "\n",
    "def compute_statistics(annotations):\n",
    "    num_entries = len(annotations)\n",
    "    lengths = [len(annotation['text'].split()) for annotation in annotations]\n",
    "    labels = [entity['label'] for annotation in annotations if 'entities' in annotation for entity in annotation['entities']]\n",
    "    neutral_count = labels.count(\"Neutralny\")\n",
    "    hate_count = labels.count(\"Mowa nienawiści\")\n",
    "    mean_length = np.mean(lengths)\n",
    "    std_length = np.std(lengths)\n",
    "    min_length = np.min(lengths)\n",
    "    max_length = np.max(lengths)\n",
    "    median_length = np.median(lengths)\n",
    "    total_labels = len(labels)\n",
    "    if total_labels > 0:\n",
    "        neutral_percentage = (neutral_count / total_labels) * 100\n",
    "        hate_percentage = (hate_count / total_labels) * 100\n",
    "    else:\n",
    "        neutral_percentage = 0\n",
    "        hate_percentage = 0\n",
    "    multilabel_count = sum(1 for annotation in annotations if 'entities' in annotation and len(annotation['entities']) > 1)\n",
    "    return {\n",
    "        \"num_entries\": num_entries,\n",
    "        \"mean_length\": mean_length,\n",
    "        \"std_length\": std_length,\n",
    "        \"min_length\": min_length,\n",
    "        \"max_length\": max_length,\n",
    "        \"median_length\": median_length,\n",
    "        \"neutral_count\": neutral_count,\n",
    "        \"hate_count\": hate_count,\n",
    "        \"neutral_percentage\": neutral_percentage,\n",
    "        \"hate_percentage\": hate_percentage,\n",
    "        \"multilabel_count\": multilabel_count\n",
    "    }\n",
    "\n",
    "lukasz_stats = compute_statistics(lukasz_annotations)\n",
    "adam_stats = compute_statistics(adam_annotations)\n",
    "jan_stats = compute_statistics(jan_annotations)\n",
    "\n",
    "print(\"Statystyki dla anotacji Łukasza:\")\n",
    "print(lukasz_stats)\n",
    "\n",
    "print(\"\\nStatystyki dla anotacji Adama:\")\n",
    "print(adam_stats)\n",
    "\n",
    "print(\"\\nStatystyki dla anotacji Jana:\")\n",
    "print(jan_stats)"
   ]
  }
 ],
 "metadata": {
  "kernelspec": {
   "display_name": "Python 3",
   "language": "python",
   "name": "python3"
  },
  "language_info": {
   "codemirror_mode": {
    "name": "ipython",
    "version": 3
   },
   "file_extension": ".py",
   "mimetype": "text/x-python",
   "name": "python",
   "nbconvert_exporter": "python",
   "pygments_lexer": "ipython3",
   "version": "3.11.0"
  }
 },
 "nbformat": 4,
 "nbformat_minor": 2
}
