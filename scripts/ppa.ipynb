{
 "cells": [
  {
   "cell_type": "code",
   "execution_count": 556,
   "metadata": {},
   "outputs": [],
   "source": [
    "from sklearn.metrics import confusion_matrix\n",
    "from matplotlib import pyplot as plt\n",
    "import json"
   ]
  },
  {
   "cell_type": "code",
   "execution_count": 557,
   "metadata": {},
   "outputs": [],
   "source": [
    "with open(\"../data/output/labeled_sample_adam.jsonl\", \"r\") as file:\n",
    "    adas = [json.loads(line) for line in file]\n",
    "\n",
    "with open(\"../data/output/labeled_sample_jan.jsonl\", \"r\") as file:\n",
    "    janeczek = [json.loads(line) for line in file]"
   ]
  },
  {
   "cell_type": "code",
   "execution_count": 558,
   "metadata": {},
   "outputs": [],
   "source": [
    "mapping = {\n",
    "    \"Mowa nienawiści\": \"Hate\",\n",
    "    \"Neutralny\": \"Neutral\",\n",
    "    \"Wzmacnianie\": \"Strenghtening\",\n",
    "    \"Osłabianie\": \"Weakening\",\n",
    "    \"Neutral\": \"Neutral\",\n",
    "    \"Hate\": \"Hate\",\n",
    "    \"Strenghtening\": \"Strenghtening\",\n",
    "    \"Weakening\": \"Weakening\",\n",
    "    \"Odwracanie\": \"Reversing\",\n",
    "}"
   ]
  },
  {
   "cell_type": "code",
   "execution_count": 559,
   "metadata": {},
   "outputs": [],
   "source": [
    "def fix_labels_adam(data):\n",
    "    for anno in data:\n",
    "        merged_labels = []\n",
    "        anno['label'].sort(key=lambda x: x[0]) \n",
    "        \n",
    "        for label in anno['label']:\n",
    "            if not merged_labels:\n",
    "                merged_labels.append(label)\n",
    "            else:\n",
    "                last_label = merged_labels[-1]\n",
    "                if last_label[2] == label[2]:\n",
    "                    last_label[1] = max(last_label[1], label[1])\n",
    "                else:\n",
    "                    merged_labels.append(label)\n",
    "\n",
    "        anno['label'] = merged_labels\n",
    "        for label in anno['label']:\n",
    "            label[2] = mapping[label[2]]\n",
    "\n",
    "    return data"
   ]
  },
  {
   "cell_type": "code",
   "execution_count": 560,
   "metadata": {},
   "outputs": [],
   "source": [
    "adas = fix_labels_adam(adas)"
   ]
  },
  {
   "cell_type": "code",
   "execution_count": 561,
   "metadata": {},
   "outputs": [],
   "source": [
    "adam_labels = [annotation[\"label\"][0][2] for annotation in adas]\n",
    "janek_labels = [annotation[\"entities\"][0][\"label\"] for annotation in janeczek]"
   ]
  },
  {
   "cell_type": "code",
   "execution_count": 562,
   "metadata": {},
   "outputs": [],
   "source": [
    "results = {\n",
    "    (\"Neutral\", \"Neutral\"): 0,\n",
    "    (\"Hate\", \"Neutral\"): 0,\n",
    "    (\"Neutral\", \"Hate\"): 0,\n",
    "    (\"Hate\", \"Hate\"): 0,\n",
    "}\n",
    "\n",
    "for adam, janek in zip(adam_labels, janek_labels):\n",
    "    results[(adam, janek)] += 1"
   ]
  },
  {
   "cell_type": "code",
   "execution_count": 563,
   "metadata": {},
   "outputs": [
    {
     "data": {
      "text/plain": [
       "{('Neutral', 'Neutral'): 89,\n",
       " ('Hate', 'Neutral'): 4,\n",
       " ('Neutral', 'Hate'): 1,\n",
       " ('Hate', 'Hate'): 6}"
      ]
     },
     "execution_count": 563,
     "metadata": {},
     "output_type": "execute_result"
    }
   ],
   "source": [
    "results"
   ]
  },
  {
   "cell_type": "code",
   "execution_count": 564,
   "metadata": {},
   "outputs": [
    {
     "name": "stderr",
     "output_type": "stream",
     "text": [
      "/tmp/ipykernel_40774/749807516.py:3: UserWarning: FixedFormatter should only be used together with FixedLocator\n",
      "  cm_plot.axes.set_xticklabels([\"\", \"Hate\", \"Neutral\"], rotation=45)\n",
      "/tmp/ipykernel_40774/749807516.py:4: UserWarning: FixedFormatter should only be used together with FixedLocator\n",
      "  cm_plot.axes.set_yticklabels([\"\", \"Hate\", \"Neutral\"], rotation=45)\n"
     ]
    },
    {
     "data": {
      "image/png": "[encoded data removed]",
      "text/plain": [
       "<Figure size 480x480 with 1 Axes>"
      ]
     },
     "metadata": {},
     "output_type": "display_data"
    }
   ],
   "source": [
    "cm = confusion_matrix(adam_labels, janek_labels)\n",
    "cm_plot = plt.matshow(cm, cmap=plt.cm.Reds)\n",
    "cm_plot.axes.set_xticklabels([\"\", \"Hate\", \"Neutral\"], rotation=45)\n",
    "cm_plot.axes.set_yticklabels([\"\", \"Hate\", \"Neutral\"], rotation=45)\n",
    "cm_plot.axes.set_xlabel(\"Janek\")\n",
    "cm_plot.axes.set_ylabel(\"Adam\")\n",
    "cm_plot.axes.grid(False)\n",
    "cm_plot.axes.xaxis.set_ticks_position('top')\n",
    "cm_plot.axes.xaxis.set_label_position('top')\n",
    "cm_plot.axes.text(0, 0, results[\"Hate\", \"Hate\"], color=\"black\", ha=\"center\", va=\"center\")\n",
    "cm_plot.axes.text(1, 0, results[\"Neutral\", \"Hate\"], color=\"black\", ha=\"center\", va=\"center\")\n",
    "cm_plot.axes.text(0, 1, results[\"Hate\", \"Neutral\"], color=\"black\", ha=\"center\", va=\"center\")\n",
    "cm_plot.axes.text(1, 1, results[\"Neutral\", \"Neutral\"], color=\"black\", ha=\"center\", va=\"center\")\n",
    "plt.show()"
   ]
  },
  {
   "cell_type": "code",
   "execution_count": 565,
   "metadata": {},
   "outputs": [
    {
     "data": {
      "text/plain": [
       "97.27"
      ]
     },
     "execution_count": 565,
     "metadata": {},
     "output_type": "execute_result"
    }
   ],
   "source": [
    "ppa_sentences = round((2*89/(2*89+4+1))*100, 2)\n",
    "ppa_sentences"
   ]
  },
  {
   "cell_type": "code",
   "execution_count": 566,
   "metadata": {},
   "outputs": [],
   "source": [
    "def filter_hate_neutral_adas(data):\n",
    "    for annotation in data:\n",
    "        annotations_without_hate_neutral = []\n",
    "        for label in annotation[\"label\"]:\n",
    "            if label[2] != \"Hate\" and label[2] != \"Neutral\":\n",
    "                annotations_without_hate_neutral.append(label)\n",
    "        annotation[\"label\"] = annotations_without_hate_neutral\n",
    "    \n",
    "    return data"
   ]
  },
  {
   "cell_type": "code",
   "execution_count": 567,
   "metadata": {},
   "outputs": [],
   "source": [
    "def filter_hate_neutral_janek(data):\n",
    "    for annotation in data:\n",
    "        annotations_without_hate_neutral = []\n",
    "        for entity in annotation[\"entities\"]:\n",
    "            if entity[\"label\"] != \"Hate\" and entity[\"label\"] != \"Neutral\":\n",
    "                annotations_without_hate_neutral.append(entity)\n",
    "        annotation[\"entities\"] = annotations_without_hate_neutral\n",
    "    return data"
   ]
  },
  {
   "cell_type": "code",
   "execution_count": 568,
   "metadata": {},
   "outputs": [],
   "source": [
    "def ranges_match(ann1, ann2):\n",
    "    match = (abs(ann1['start_offset'] - ann2[0]) <= 2 and \n",
    "            abs(ann1['end_offset'] - ann2[1]) <= 2 and \n",
    "            ann1['label'].lower() == ann2[2].lower())\n",
    "    return match"
   ]
  },
  {
   "cell_type": "code",
   "execution_count": 569,
   "metadata": {},
   "outputs": [],
   "source": [
    "filtered_adas = filter_hate_neutral_adas(adas)"
   ]
  },
  {
   "cell_type": "code",
   "execution_count": 570,
   "metadata": {},
   "outputs": [],
   "source": [
    "filtered_labels_adam = [annotation[\"label\"] for annotation in filtered_adas]"
   ]
  },
  {
   "cell_type": "code",
   "execution_count": 571,
   "metadata": {},
   "outputs": [],
   "source": [
    "filtered_janek = filter_hate_neutral_janek(janeczek)"
   ]
  },
  {
   "cell_type": "code",
   "execution_count": 572,
   "metadata": {},
   "outputs": [],
   "source": [
    "filtered_labels_janek = [annotation[\"entities\"] for annotation in filtered_janek]"
   ]
  },
  {
   "cell_type": "code",
   "execution_count": 573,
   "metadata": {},
   "outputs": [
    {
     "name": "stdout",
     "output_type": "stream",
     "text": [
      "Both agreed: 6\n",
      "Janek labelled, Adam did not: 3\n",
      "Adam labelled, Janek did not: 2\n"
     ]
    }
   ],
   "source": [
    "both_labeled = 0\n",
    "first_labeled_second_not = 0\n",
    "second_labeled_first_not = 0\n",
    "\n",
    "for data1, data2 in zip(filtered_janek, filtered_adas):\n",
    "    matched_1 = [False] * len(data1['entities'])\n",
    "    matched_2 = [False] * len(data2['label'])\n",
    "\n",
    "    for i, ent1 in enumerate(data1['entities']):\n",
    "        for j, lab2 in enumerate(data2['label']):\n",
    "            pair_labels = (ent1['label'], lab2[2])\n",
    "            if ranges_match(ent1, lab2):\n",
    "                both_labeled += 1\n",
    "                matched_1[i] = True\n",
    "                matched_2[j] = True\n",
    "            else:\n",
    "                if not matched_1[i]:\n",
    "                    first_labeled_second_not += 1\n",
    "                if not matched_2[j]:\n",
    "                    second_labeled_first_not += 1\n",
    "\n",
    "print(f\"Both agreed: {both_labeled}\")\n",
    "print(f\"Janek labelled, Adam did not: {first_labeled_second_not}\")\n",
    "print(f\"Adam labelled, Janek did not: {second_labeled_first_not}\")"
   ]
  },
  {
   "cell_type": "code",
   "execution_count": 576,
   "metadata": {},
   "outputs": [
    {
     "data": {
      "text/plain": [
       "70.59"
      ]
     },
     "execution_count": 576,
     "metadata": {},
     "output_type": "execute_result"
    }
   ],
   "source": [
    "ppa_phrases = round((2*both_labeled/(2*both_labeled+first_labeled_second_not+second_labeled_first_not))*100, 2)\n",
    "ppa_phrases"
   ]
  },
  {
   "cell_type": "code",
   "execution_count": 577,
   "metadata": {},
   "outputs": [
    {
     "data": {
      "text/plain": [
       "83.93"
      ]
     },
     "execution_count": 577,
     "metadata": {},
     "output_type": "execute_result"
    }
   ],
   "source": [
    "ppa_mean = round((ppa_sentences + ppa_phrases) / 2, 2)\n",
    "ppa_mean"
   ]
  }
 ],
 "metadata": {
  "kernelspec": {
   "display_name": "Python 3",
   "language": "python",
   "name": "python3"
  },
  "language_info": {
   "codemirror_mode": {
    "name": "ipython",
    "version": 3
   },
   "file_extension": ".py",
   "mimetype": "text/x-python",
   "name": "python",
   "nbconvert_exporter": "python",
   "pygments_lexer": "ipython3",
   "version": "3.12.3"
  }
 },
 "nbformat": 4,
 "nbformat_minor": 2
}
