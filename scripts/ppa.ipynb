{
 "cells": [
  {
   "cell_type": "markdown",
   "metadata": {},
   "source": [
    "# First Annotation"
   ]
  },
  {
   "cell_type": "code",
   "execution_count": 85,
   "metadata": {},
   "outputs": [],
   "source": [
    "from sklearn.metrics import confusion_matrix\n",
    "from matplotlib import pyplot as plt\n",
    "import json"
   ]
  },
  {
   "cell_type": "code",
   "execution_count": 86,
   "metadata": {},
   "outputs": [],
   "source": [
    "with open(\"../data/output/labeled_sample_adam.jsonl\", \"r\", encoding='utf-8') as file:\n",
    "    adas = [json.loads(line) for line in file]\n",
    "\n",
    "with open(\"../data/output/labeled_sample_jan.jsonl\", \"r\", encoding='utf-8') as file:\n",
    "    janeczek = [json.loads(line) for line in file]"
   ]
  },
  {
   "cell_type": "code",
   "execution_count": 87,
   "metadata": {},
   "outputs": [],
   "source": [
    "mapping = {\n",
    "    \"Mowa nienawiści\": \"Hate\",\n",
    "    \"Neutralny\": \"Neutral\",\n",
    "    \"Wzmacnianie\": \"Strenghtening\",\n",
    "    \"Osłabianie\": \"Weakening\",\n",
    "    \"Neutral\": \"Neutral\",\n",
    "    \"Hate\": \"Hate\",\n",
    "    \"Strenghtening\": \"Strenghtening\",\n",
    "    \"Weakening\": \"Weakening\",\n",
    "    \"Odwracanie\": \"Reversing\",\n",
    "}"
   ]
  },
  {
   "cell_type": "code",
   "execution_count": 88,
   "metadata": {},
   "outputs": [],
   "source": [
    "def fix_labels_adam(data):\n",
    "    for anno in data:\n",
    "        merged_labels = []\n",
    "        anno['label'].sort(key=lambda x: x[0]) \n",
    "        \n",
    "        for label in anno['label']:\n",
    "            if not merged_labels:\n",
    "                merged_labels.append(label)\n",
    "            else:\n",
    "                last_label = merged_labels[-1]\n",
    "                if last_label[2] == label[2]:\n",
    "                    last_label[1] = max(last_label[1], label[1])\n",
    "                else:\n",
    "                    merged_labels.append(label)\n",
    "\n",
    "        anno['label'] = merged_labels\n",
    "        for label in anno['label']:\n",
    "            label[2] = mapping[label[2]]\n",
    "\n",
    "    return data"
   ]
  },
  {
   "cell_type": "code",
   "execution_count": 89,
   "metadata": {},
   "outputs": [],
   "source": [
    "adas = fix_labels_adam(adas)"
   ]
  },
  {
   "cell_type": "code",
   "execution_count": 90,
   "metadata": {},
   "outputs": [],
   "source": [
    "adam_labels = [annotation[\"label\"][0][2] for annotation in adas]\n",
    "janek_labels = [annotation[\"entities\"][0][\"label\"] for annotation in janeczek]"
   ]
  },
  {
   "cell_type": "code",
   "execution_count": 91,
   "metadata": {},
   "outputs": [],
   "source": [
    "results = {\n",
    "    (\"Neutral\", \"Neutral\"): 0,\n",
    "    (\"Hate\", \"Neutral\"): 0,\n",
    "    (\"Neutral\", \"Hate\"): 0,\n",
    "    (\"Hate\", \"Hate\"): 0,\n",
    "}\n",
    "\n",
    "for adam, janek in zip(adam_labels, janek_labels):\n",
    "    results[(adam, janek)] += 1"
   ]
  },
  {
   "cell_type": "code",
   "execution_count": 92,
   "metadata": {},
   "outputs": [
    {
     "data": {
      "text/plain": [
       "{('Neutral', 'Neutral'): 89,\n",
       " ('Hate', 'Neutral'): 4,\n",
       " ('Neutral', 'Hate'): 1,\n",
       " ('Hate', 'Hate'): 6}"
      ]
     },
     "execution_count": 92,
     "metadata": {},
     "output_type": "execute_result"
    }
   ],
   "source": [
    "results"
   ]
  },
  {
   "cell_type": "code",
   "execution_count": 93,
   "metadata": {},
   "outputs": [
    {
     "name": "stderr",
     "output_type": "stream",
     "text": [
      "C:\\Users\\oliwe\\AppData\\Local\\Temp\\ipykernel_37848\\749807516.py:3: UserWarning: set_ticklabels() should only be used with a fixed number of ticks, i.e. after set_ticks() or using a FixedLocator.\n",
      "  cm_plot.axes.set_xticklabels([\"\", \"Hate\", \"Neutral\"], rotation=45)\n",
      "C:\\Users\\oliwe\\AppData\\Local\\Temp\\ipykernel_37848\\749807516.py:4: UserWarning: set_ticklabels() should only be used with a fixed number of ticks, i.e. after set_ticks() or using a FixedLocator.\n",
      "  cm_plot.axes.set_yticklabels([\"\", \"Hate\", \"Neutral\"], rotation=45)\n"
     ]
    },
    {
     "data": {
      "image/png": "[encoded data removed]",
      "text/plain": [
       "<Figure size 480x480 with 1 Axes>"
      ]
     },
     "metadata": {},
     "output_type": "display_data"
    }
   ],
   "source": [
    "cm = confusion_matrix(adam_labels, janek_labels)\n",
    "cm_plot = plt.matshow(cm, cmap=plt.cm.Reds)\n",
    "cm_plot.axes.set_xticklabels([\"\", \"Hate\", \"Neutral\"], rotation=45)\n",
    "cm_plot.axes.set_yticklabels([\"\", \"Hate\", \"Neutral\"], rotation=45)\n",
    "cm_plot.axes.set_xlabel(\"Janek\")\n",
    "cm_plot.axes.set_ylabel(\"Adam\")\n",
    "cm_plot.axes.grid(False)\n",
    "cm_plot.axes.xaxis.set_ticks_position('top')\n",
    "cm_plot.axes.xaxis.set_label_position('top')\n",
    "cm_plot.axes.text(0, 0, results[\"Hate\", \"Hate\"], color=\"black\", ha=\"center\", va=\"center\")\n",
    "cm_plot.axes.text(1, 0, results[\"Neutral\", \"Hate\"], color=\"black\", ha=\"center\", va=\"center\")\n",
    "cm_plot.axes.text(0, 1, results[\"Hate\", \"Neutral\"], color=\"black\", ha=\"center\", va=\"center\")\n",
    "cm_plot.axes.text(1, 1, results[\"Neutral\", \"Neutral\"], color=\"black\", ha=\"center\", va=\"center\")\n",
    "plt.show()"
   ]
  },
  {
   "cell_type": "code",
   "execution_count": 94,
   "metadata": {},
   "outputs": [
    {
     "data": {
      "text/plain": [
       "97.27"
      ]
     },
     "execution_count": 94,
     "metadata": {},
     "output_type": "execute_result"
    }
   ],
   "source": [
    "ppa_sentences = round((2*89/(2*89+4+1))*100, 2)\n",
    "ppa_sentences"
   ]
  },
  {
   "cell_type": "code",
   "execution_count": 95,
   "metadata": {},
   "outputs": [],
   "source": [
    "def filter_hate_neutral_adas(data):\n",
    "    for annotation in data:\n",
    "        annotations_without_hate_neutral = []\n",
    "        for label in annotation[\"label\"]:\n",
    "            if label[2] != \"Hate\" and label[2] != \"Neutral\":\n",
    "                annotations_without_hate_neutral.append(label)\n",
    "        annotation[\"label\"] = annotations_without_hate_neutral\n",
    "    \n",
    "    return data"
   ]
  },
  {
   "cell_type": "code",
   "execution_count": 96,
   "metadata": {},
   "outputs": [],
   "source": [
    "def filter_hate_neutral_janek(data):\n",
    "    for annotation in data:\n",
    "        annotations_without_hate_neutral = []\n",
    "        for entity in annotation[\"entities\"]:\n",
    "            if entity[\"label\"] != \"Hate\" and entity[\"label\"] != \"Neutral\":\n",
    "                annotations_without_hate_neutral.append(entity)\n",
    "        annotation[\"entities\"] = annotations_without_hate_neutral\n",
    "    return data"
   ]
  },
  {
   "cell_type": "code",
   "execution_count": 97,
   "metadata": {},
   "outputs": [],
   "source": [
    "def ranges_match(ann1, ann2):\n",
    "    match = (abs(ann1['start_offset'] - ann2[0]) <= 2 and \n",
    "            abs(ann1['end_offset'] - ann2[1]) <= 2 and \n",
    "            ann1['label'].lower() == ann2[2].lower())\n",
    "    return match"
   ]
  },
  {
   "cell_type": "code",
   "execution_count": 98,
   "metadata": {},
   "outputs": [],
   "source": [
    "filtered_adas = filter_hate_neutral_adas(adas)"
   ]
  },
  {
   "cell_type": "code",
   "execution_count": 99,
   "metadata": {},
   "outputs": [],
   "source": [
    "filtered_labels_adam = [annotation[\"label\"] for annotation in filtered_adas]"
   ]
  },
  {
   "cell_type": "code",
   "execution_count": 100,
   "metadata": {},
   "outputs": [],
   "source": [
    "filtered_janek = filter_hate_neutral_janek(janeczek)"
   ]
  },
  {
   "cell_type": "code",
   "execution_count": 101,
   "metadata": {},
   "outputs": [],
   "source": [
    "filtered_labels_janek = [annotation[\"entities\"] for annotation in filtered_janek]"
   ]
  },
  {
   "cell_type": "code",
   "execution_count": 102,
   "metadata": {},
   "outputs": [
    {
     "name": "stdout",
     "output_type": "stream",
     "text": [
      "Both agreed: 6\n",
      "Janek labelled, Adam did not: 4\n",
      "Adam labelled, Janek did not: 7\n"
     ]
    }
   ],
   "source": [
    "both_labeled = 0\n",
    "first_labeled_second_not = 0\n",
    "second_labeled_first_not = 0\n",
    "\n",
    "for data1, data2 in zip(filtered_janek, filtered_adas):\n",
    "    matched_1 = [False] * len(data1['entities'])\n",
    "    matched_2 = [False] * len(data2['label'])\n",
    "\n",
    "    for i, ent1 in enumerate(data1['entities']):\n",
    "        for j, lab2 in enumerate(data2['label']):\n",
    "            if ranges_match(ent1, lab2):\n",
    "                both_labeled += 1\n",
    "                matched_1[i] = True\n",
    "                matched_2[j] = True\n",
    "\n",
    "    first_labeled_second_not += sum(1 for matched in matched_1 if not matched)\n",
    "    second_labeled_first_not += sum(1 for matched in matched_2 if not matched)\n",
    "\n",
    "\n",
    "print(f\"Both agreed: {both_labeled}\")\n",
    "print(f\"Janek labelled, Adam did not: {first_labeled_second_not}\")\n",
    "print(f\"Adam labelled, Janek did not: {second_labeled_first_not}\")"
   ]
  },
  {
   "cell_type": "code",
   "execution_count": 103,
   "metadata": {},
   "outputs": [
    {
     "data": {
      "text/plain": [
       "52.17"
      ]
     },
     "execution_count": 103,
     "metadata": {},
     "output_type": "execute_result"
    }
   ],
   "source": [
    "ppa_phrases = round((2*both_labeled/(2*both_labeled+first_labeled_second_not+second_labeled_first_not))*100, 2)\n",
    "ppa_phrases"
   ]
  },
  {
   "cell_type": "code",
   "execution_count": 104,
   "metadata": {},
   "outputs": [
    {
     "data": {
      "text/plain": [
       "74.72"
      ]
     },
     "execution_count": 104,
     "metadata": {},
     "output_type": "execute_result"
    }
   ],
   "source": [
    "ppa_mean = round((ppa_sentences + ppa_phrases) / 2, 2)\n",
    "ppa_mean"
   ]
  },
  {
   "cell_type": "markdown",
   "metadata": {},
   "source": [
    "# Secound Annotation"
   ]
  },
  {
   "cell_type": "code",
   "execution_count": 107,
   "metadata": {},
   "outputs": [],
   "source": [
    "import json\n",
    "from sklearn.metrics import confusion_matrix\n",
    "from matplotlib import pyplot as plt\n"
   ]
  },
  {
   "cell_type": "code",
   "execution_count": 108,
   "metadata": {},
   "outputs": [],
   "source": [
    "mapping = {\n",
    "    \"Mowa nienawiści\": \"Hate\",\n",
    "    \"Neutralny\": \"Neutral\",\n",
    "    \"Wzmacnianie\": \"Strenghtening\",\n",
    "    \"Osłabianie\": \"Weakening\",\n",
    "    \"Odwracanie\": \"Reversing\",\n",
    "    \"Neutral\": \"Neutral\",\n",
    "    \"Hate\": \"Hate\",\n",
    "    \"Strenghtening\": \"Strenghtening\",\n",
    "    \"Weakening\": \"Weakening\",\n",
    "}\n"
   ]
  },
  {
   "cell_type": "code",
   "execution_count": 109,
   "metadata": {},
   "outputs": [],
   "source": [
    "\n",
    "def fix_labels_adam(data):\n",
    "    for anno in data:\n",
    "        merged_labels = []\n",
    "        anno['label'].sort(key=lambda x: x[0]) \n",
    "        \n",
    "        for label in anno['label']:\n",
    "            if not merged_labels:\n",
    "                merged_labels.append(label)\n",
    "            else:\n",
    "                last_label = merged_labels[-1]\n",
    "                if last_label[2] == label[2]:\n",
    "                    last_label[1] = max(last_label[1], label[1])\n",
    "                else:\n",
    "                    merged_labels.append(label)\n",
    "\n",
    "        anno['label'] = merged_labels\n",
    "        for label in anno['label']:\n",
    "            label[2] = mapping[label[2]]\n",
    "\n",
    "    return data\n",
    "\n",
    "def map_labels_janek(data):\n",
    "    for annotation in data:\n",
    "        for entity in annotation[\"entities\"]:\n",
    "            entity[\"label\"] = mapping.get(entity[\"label\"], entity[\"label\"])\n",
    "    return data\n",
    "\n",
    "def filter_hate_neutral_adas(data):\n",
    "    for annotation in data:\n",
    "        annotations_without_hate_neutral = []\n",
    "        for label in annotation[\"label\"]:\n",
    "            if label[2] != \"Hate\" and label[2] != \"Neutral\":\n",
    "                annotations_without_hate_neutral.append(label)\n",
    "        annotation[\"label\"] = annotations_without_hate_neutral\n",
    "    return data\n",
    "\n",
    "def filter_hate_neutral_janek(data):\n",
    "    for annotation in data:\n",
    "        annotations_without_hate_neutral = []\n",
    "        for entity in annotation[\"entities\"]:\n",
    "            if entity[\"label\"] != \"Hate\" and entity[\"label\"] != \"Neutral\":\n",
    "                annotations_without_hate_neutral.append(entity)\n",
    "        annotation[\"entities\"] = annotations_without_hate_neutral\n",
    "    return data\n",
    "\n",
    "def ranges_match(ann1, ann2):\n",
    "    match = (abs(ann1['start_offset'] - ann2[0]) <= 2 and \n",
    "            abs(ann1['end_offset'] - ann2[1]) <= 2 and \n",
    "            ann1['label'].lower() == ann2[2].lower())\n",
    "    return match\n",
    "\n",
    "def calculate_ppa(adam_file, janek_file):\n",
    "    with open(adam_file, \"r\", encoding='utf-8') as file:\n",
    "        adas = [json.loads(line) for line in file]\n",
    "    \n",
    "    with open(janek_file, \"r\", encoding='utf-8') as file:\n",
    "        janeczek = [json.loads(line) for line in file]\n",
    "\n",
    "    adas = fix_labels_adam(adas)\n",
    "    janeczek = map_labels_janek(janeczek)\n",
    "\n",
    "    adam_labels = [annotation[\"label\"][0][2] for annotation in adas]\n",
    "    janek_labels = [annotation[\"entities\"][0][\"label\"] for annotation in janeczek]\n",
    "\n",
    "    results = {\n",
    "        (\"Neutral\", \"Neutral\"): 0,\n",
    "        (\"Hate\", \"Neutral\"): 0,\n",
    "        (\"Neutral\", \"Hate\"): 0,\n",
    "        (\"Hate\", \"Hate\"): 0,\n",
    "    }\n",
    "\n",
    "    for adam, janek in zip(adam_labels, janek_labels):\n",
    "        if (adam, janek) in results:\n",
    "            results[(adam, janek)] += 1\n",
    "        else:\n",
    "            print(f\"Nieznana para etykiet: ({adam}, {janek})\")\n",
    "\n",
    "    cm = confusion_matrix(adam_labels, janek_labels, labels=[\"Hate\", \"Neutral\"])\n",
    "    print(f\"Macierz konfuzji dla plików: {adam_file}, {janek_file}\")\n",
    "    print(cm)\n",
    "\n",
    "    ppa_sentences = round((2 * 89 / (2 * 89 + 4 + 1)) * 100, 2)\n",
    "    print(f\"PPA dla zdań: {ppa_sentences}\")\n",
    "\n",
    "    both_labeled = 0\n",
    "    first_labeled_second_not = 0\n",
    "    second_labeled_first_not = 0\n",
    "\n",
    "    filtered_adas = filter_hate_neutral_adas(adas)\n",
    "    filtered_janek = filter_hate_neutral_janek(janeczek)\n",
    "\n",
    "    for data1, data2 in zip(filtered_janek, filtered_adas):\n",
    "        matched_1 = [False] * len(data1['entities'])\n",
    "        matched_2 = [False] * len(data2['label'])\n",
    "\n",
    "        for i, ent1 in enumerate(data1['entities']):\n",
    "            for j, lab2 in enumerate(data2['label']):\n",
    "                if ranges_match(ent1, lab2):\n",
    "                    both_labeled += 1\n",
    "                    matched_1[i] = True\n",
    "                    matched_2[j] = True\n",
    "\n",
    "        first_labeled_second_not += sum(1 for matched in matched_1 if not matched)\n",
    "        second_labeled_first_not += sum(1 for matched in matched_2 if not matched)\n",
    "\n",
    "    print(f\"Both agreed: {both_labeled}\")\n",
    "    print(f\"Janek labelled, Adam did not: {first_labeled_second_not}\")\n",
    "    print(f\"Adam labelled, Janek did not: {second_labeled_first_not}\")\n",
    "\n",
    "    ppa_phrases = round((2 * both_labeled / (2 * both_labeled + first_labeled_second_not + second_labeled_first_not)) * 100, 2)\n",
    "    print(f\"PPA dla fraz: {ppa_phrases}\")\n",
    "\n",
    "    ppa_mean = round((ppa_sentences + ppa_phrases) / 2, 2)\n",
    "    print(f\"Średnia PPA: {ppa_mean}\")\n",
    "    return ppa_sentences, ppa_phrases, ppa_mean"
   ]
  },
  {
   "cell_type": "code",
   "execution_count": 110,
   "metadata": {},
   "outputs": [
    {
     "name": "stdout",
     "output_type": "stream",
     "text": [
      "\n",
      "Obliczanie PPA dla plików: ../data/output/labeled_sample_adam_2.jsonl i ../data/output/labeled_sample_jan_2.jsonl\n",
      "Nieznana para etykiet: (Neutral, Reversing)\n",
      "Macierz konfuzji dla plików: ../data/output/labeled_sample_adam_2.jsonl, ../data/output/labeled_sample_jan_2.jsonl\n",
      "[[10  1]\n",
      " [ 3 85]]\n",
      "PPA dla zdań: 97.27\n",
      "Both agreed: 8\n",
      "Janek labelled, Adam did not: 8\n",
      "Adam labelled, Janek did not: 6\n",
      "PPA dla fraz: 53.33\n",
      "Średnia PPA: 75.3\n",
      "Wyniki dla ../data/output/labeled_sample_adam_2.jsonl i ../data/output/labeled_sample_jan_2.jsonl:\n",
      "PPA dla zdań: 97.27\n",
      "PPA dla fraz: 53.33\n",
      "Średnia PPA: 75.3\n"
     ]
    }
   ],
   "source": [
    "\n",
    "\n",
    "file_pairs = [\n",
    "    (\"../data/output/labeled_sample_adam_2.jsonl\", \"../data/output/labeled_sample_jan_2.jsonl\")\n",
    "]\n",
    "\n",
    "for adam_file, janek_file in file_pairs:\n",
    "    print(f\"\\nObliczanie PPA dla plików: {adam_file} i {janek_file}\")\n",
    "    ppa_sentences, ppa_phrases, ppa_mean = calculate_ppa(adam_file, janek_file)\n",
    "    print(f\"Wyniki dla {adam_file} i {janek_file}:\")\n",
    "    print(f\"PPA dla zdań: {ppa_sentences}\")\n",
    "    print(f\"PPA dla fraz: {ppa_phrases}\")\n",
    "    print(f\"Średnia PPA: {ppa_mean}\")"
   ]
  },
  {
   "cell_type": "code",
   "execution_count": null,
   "metadata": {},
   "outputs": [],
   "source": []
  }
 ],
 "metadata": {
  "kernelspec": {
   "display_name": "Python 3",
   "language": "python",
   "name": "python3"
  },
  "language_info": {
   "codemirror_mode": {
    "name": "ipython",
    "version": 3
   },
   "file_extension": ".py",
   "mimetype": "text/x-python",
   "name": "python",
   "nbconvert_exporter": "python",
   "pygments_lexer": "ipython3",
   "version": "3.11.0"
  }
 },
 "nbformat": 4,
 "nbformat_minor": 2
}
