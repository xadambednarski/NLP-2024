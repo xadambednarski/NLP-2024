{
 "cells": [
  {
   "cell_type": "code",
   "execution_count": 1,
   "metadata": {},
   "outputs": [],
   "source": [
    "import json\n",
    "import numpy as np\n",
    "from sklearn.metrics import confusion_matrix"
   ]
  },
  {
   "cell_type": "code",
   "execution_count": 2,
   "metadata": {},
   "outputs": [],
   "source": [
    "with open(\"../data/output/labeled_sample_adam.jsonl\", \"r\") as file:\n",
    "    adas = [json.loads(line) for line in file]\n",
    "\n",
    "with open(\"../data/output/labeled_sample_jan.jsonl\", \"r\") as file:\n",
    "    janeczek = [json.loads(line) for line in file]"
   ]
  },
  {
   "cell_type": "code",
   "execution_count": 3,
   "metadata": {},
   "outputs": [],
   "source": [
    "mapping = {\n",
    "    \"Mowa nienawiści\": \"Hate\",\n",
    "    \"Neutralny\": \"Neutral\",\n",
    "    \"Wzmacnianie\": \"Strenghtening\",\n",
    "    \"Osłabianie\": \"Weakening\",\n",
    "    \"Neutral\": \"Neutral\",\n",
    "    \"Hate\": \"Hate\",\n",
    "    \"Strenghtening\": \"Strenghtening\",\n",
    "    \"Weakening\": \"Weakening\",\n",
    "    \"Odwracanie\": \"Reversing\",\n",
    "    \"Reversing\": \"Reversing\",\n",
    "}"
   ]
  },
  {
   "cell_type": "code",
   "execution_count": 4,
   "metadata": {},
   "outputs": [],
   "source": [
    "\n",
    "def cohen_kappa(confusion_matrix):\n",
    "    \"\"\"\n",
    "    Calculate Cohen's Kappa based on a confusion matrix.\n",
    "\n",
    "    Parameters:\n",
    "    confusion_matrix (numpy array): A 2x2 confusion matrix where:\n",
    "        confusion_matrix[0, 0] = a (both raters said Yes)\n",
    "        confusion_matrix[0, 1] = b (rater 1 said Yes, rater 2 said No)\n",
    "        confusion_matrix[1, 0] = c (rater 1 said No, rater 2 said Yes)\n",
    "        confusion_matrix[1, 1] = d (both raters said No)\n",
    "\n",
    "    Returns:\n",
    "    float: Cohen's Kappa value\n",
    "    \"\"\"\n",
    "\n",
    "    a = confusion_matrix[0, 0]\n",
    "    b = confusion_matrix[0, 1]\n",
    "    c = confusion_matrix[1, 0]\n",
    "    d = confusion_matrix[1, 1]\n",
    "    N = a + b + c + d\n",
    "\n",
    "    p_o = (a + d) / N\n",
    "    p_e = ((a + b) * (a + c) + (b + d) * (c + d)) / (N ** 2)\n",
    "    kappa = (p_o - p_e) / (1 - p_e)\n",
    "\n",
    "    return kappa\n"
   ]
  },
  {
   "cell_type": "code",
   "execution_count": 5,
   "metadata": {},
   "outputs": [],
   "source": [
    "def fix_labels_adam(data):\n",
    "    for anno in data:\n",
    "        merged_labels = []\n",
    "        anno['label'].sort(key=lambda x: x[0]) \n",
    "        \n",
    "        for label in anno['label']:\n",
    "            if not merged_labels:\n",
    "                merged_labels.append(label)\n",
    "            else:\n",
    "                last_label = merged_labels[-1]\n",
    "                if last_label[2] == label[2]:\n",
    "                    last_label[1] = max(last_label[1], label[1])\n",
    "                else:\n",
    "                    merged_labels.append(label)\n",
    "\n",
    "        anno['label'] = merged_labels\n",
    "        for label in anno['label']:\n",
    "            label[2] = mapping[label[2]]\n",
    "\n",
    "    return data"
   ]
  },
  {
   "cell_type": "code",
   "execution_count": 6,
   "metadata": {},
   "outputs": [],
   "source": [
    "adas = fix_labels_adam(adas)"
   ]
  },
  {
   "cell_type": "code",
   "execution_count": 23,
   "metadata": {},
   "outputs": [],
   "source": [
    "adas_words = []\n",
    "for line in adas:\n",
    "    text = line[\"text\"]\n",
    "    for label in line[\"label\"]:\n",
    "        if label[2] not in [\"Neutral\", \"Hate\"]:\n",
    "            start, stop, type_ = label\n",
    "            adas_words.append({\"word\": text[start: stop], \"type\": type_})"
   ]
  },
  {
   "cell_type": "code",
   "execution_count": 30,
   "metadata": {},
   "outputs": [],
   "source": [
    "janeczek_words = []\n",
    "for line in janeczek:\n",
    "    text = line[\"text\"]\n",
    "    for label in line[\"entities\"]:\n",
    "        if label[\"label\"] not in [\"Neutral\", \"Hate\"]:\n",
    "            start, stop, type_ = label[\"start_offset\"], label[\"end_offset\"], label[\"label\"]\n",
    "            janeczek_words.append({\"word\": text[start: stop], \"type\": type_})"
   ]
  },
  {
   "cell_type": "code",
   "execution_count": 24,
   "metadata": {},
   "outputs": [
    {
     "data": {
      "text/plain": [
       "[{'word': 'na głowę już zbyt późno', 'type': 'Strenghtening'},\n",
       " {'word': 'debilu', 'type': 'Strenghtening'},\n",
       " {'word': 'debile', 'type': 'Strenghtening'},\n",
       " {'word': 'pajacu', 'type': 'Strenghtening'},\n",
       " {'word': 'zakłamanym oszustem', 'type': 'Strenghtening'},\n",
       " {'word': 'Jebana menda.', 'type': 'Strenghtening'},\n",
       " {'word': 'wkurwia', 'type': 'Strenghtening'},\n",
       " {'word': 'kłamco', 'type': 'Strenghtening'},\n",
       " {'word': 'swastykę na ryju?', 'type': 'Strenghtening'},\n",
       " {'word': 'ale jakaś kultura obowiązuje', 'type': 'Weakening'},\n",
       " {'word': 'To proszę', 'type': 'Weakening'},\n",
       " {'word': 'trzeba mieć niepokoleji w głowie', 'type': 'Strenghtening'},\n",
       " {'word': '😁😀😀😀', 'type': 'Reversing'}]"
      ]
     },
     "execution_count": 24,
     "metadata": {},
     "output_type": "execute_result"
    }
   ],
   "source": [
    "adas_words"
   ]
  },
  {
   "cell_type": "code",
   "execution_count": 31,
   "metadata": {},
   "outputs": [
    {
     "data": {
      "text/plain": [
       "[{'word': ' Lecz się', 'type': 'Strenghtening'},\n",
       " {'word': 'na głowę już zbyt późno', 'type': 'Strenghtening'},\n",
       " {'word': 'debilu', 'type': 'Strenghtening'},\n",
       " {'word': 'debile', 'type': 'Strenghtening'},\n",
       " {'word': 'pajacu', 'type': 'Strenghtening'},\n",
       " {'word': 'Jebana menda.', 'type': 'Strenghtening'},\n",
       " {'word': 'Zdrajca i faszysta', 'type': 'Strenghtening'},\n",
       " {'word': 'wkurwia', 'type': 'Strenghtening'},\n",
       " {'word': 'ryju?', 'type': 'Strenghtening'},\n",
       " {'word': 'ZAJEBISCIE', 'type': 'Strenghtening'}]"
      ]
     },
     "execution_count": 31,
     "metadata": {},
     "output_type": "execute_result"
    }
   ],
   "source": [
    "janeczek_words"
   ]
  },
  {
   "cell_type": "code",
   "execution_count": 33,
   "metadata": {},
   "outputs": [],
   "source": [
    "import pandas as pd"
   ]
  },
  {
   "cell_type": "code",
   "execution_count": 52,
   "metadata": {},
   "outputs": [
    {
     "data": {
      "text/html": [
       "<div>\n",
       "<style scoped>\n",
       "    .dataframe tbody tr th:only-of-type {\n",
       "        vertical-align: middle;\n",
       "    }\n",
       "\n",
       "    .dataframe tbody tr th {\n",
       "        vertical-align: top;\n",
       "    }\n",
       "\n",
       "    .dataframe thead th {\n",
       "        text-align: right;\n",
       "    }\n",
       "</style>\n",
       "<table border=\"1\" class=\"dataframe\">\n",
       "  <thead>\n",
       "    <tr style=\"text-align: right;\">\n",
       "      <th></th>\n",
       "      <th>Phrase</th>\n",
       "      <th>Adas</th>\n",
       "      <th>Janek</th>\n",
       "    </tr>\n",
       "  </thead>\n",
       "  <tbody>\n",
       "    <tr>\n",
       "      <th>0</th>\n",
       "      <td>na głowę już zbyt późno</td>\n",
       "      <td>Strenghtening</td>\n",
       "      <td>Strenghtening</td>\n",
       "    </tr>\n",
       "    <tr>\n",
       "      <th>1</th>\n",
       "      <td>debilu</td>\n",
       "      <td>Strenghtening</td>\n",
       "      <td>Strenghtening</td>\n",
       "    </tr>\n",
       "    <tr>\n",
       "      <th>2</th>\n",
       "      <td>debilu</td>\n",
       "      <td>Strenghtening</td>\n",
       "      <td>Strenghtening</td>\n",
       "    </tr>\n",
       "    <tr>\n",
       "      <th>3</th>\n",
       "      <td>pajacu</td>\n",
       "      <td>Strenghtening</td>\n",
       "      <td>Strenghtening</td>\n",
       "    </tr>\n",
       "    <tr>\n",
       "      <th>4</th>\n",
       "      <td>Jebana menda</td>\n",
       "      <td>Strenghtening</td>\n",
       "      <td>Strenghtening</td>\n",
       "    </tr>\n",
       "    <tr>\n",
       "      <th>5</th>\n",
       "      <td>zakłamanym oszustem</td>\n",
       "      <td>Strenghtening</td>\n",
       "      <td>None</td>\n",
       "    </tr>\n",
       "    <tr>\n",
       "      <th>6</th>\n",
       "      <td>Zdrajca i fasztysta</td>\n",
       "      <td>None</td>\n",
       "      <td>Strenghtening</td>\n",
       "    </tr>\n",
       "    <tr>\n",
       "      <th>7</th>\n",
       "      <td>wkurwia</td>\n",
       "      <td>None</td>\n",
       "      <td>Strenghtening</td>\n",
       "    </tr>\n",
       "    <tr>\n",
       "      <th>8</th>\n",
       "      <td>ryju</td>\n",
       "      <td>Strenghtening</td>\n",
       "      <td>Strenghtening</td>\n",
       "    </tr>\n",
       "    <tr>\n",
       "      <th>9</th>\n",
       "      <td>To proszę</td>\n",
       "      <td>Weakening</td>\n",
       "      <td>None</td>\n",
       "    </tr>\n",
       "    <tr>\n",
       "      <th>10</th>\n",
       "      <td>trzeba mieć niepokoleji w głowie</td>\n",
       "      <td>Strenghtening</td>\n",
       "      <td>None</td>\n",
       "    </tr>\n",
       "    <tr>\n",
       "      <th>11</th>\n",
       "      <td>😁😀😀😀</td>\n",
       "      <td>Reversing</td>\n",
       "      <td>None</td>\n",
       "    </tr>\n",
       "    <tr>\n",
       "      <th>12</th>\n",
       "      <td>ZAJEBISCIE</td>\n",
       "      <td>Strenghtening</td>\n",
       "      <td>Strenghtening</td>\n",
       "    </tr>\n",
       "    <tr>\n",
       "      <th>13</th>\n",
       "      <td>kłamco</td>\n",
       "      <td>Strenghtening</td>\n",
       "      <td>None</td>\n",
       "    </tr>\n",
       "    <tr>\n",
       "      <th>14</th>\n",
       "      <td>ale jakaś kultura obowiązuje</td>\n",
       "      <td>Weakening</td>\n",
       "      <td>None</td>\n",
       "    </tr>\n",
       "  </tbody>\n",
       "</table>\n",
       "</div>"
      ],
      "text/plain": [
       "                              Phrase           Adas          Janek\n",
       "0            na głowę już zbyt późno  Strenghtening  Strenghtening\n",
       "1                             debilu  Strenghtening  Strenghtening\n",
       "2                             debilu  Strenghtening  Strenghtening\n",
       "3                             pajacu  Strenghtening  Strenghtening\n",
       "4                       Jebana menda  Strenghtening  Strenghtening\n",
       "5                zakłamanym oszustem  Strenghtening           None\n",
       "6                Zdrajca i fasztysta           None  Strenghtening\n",
       "7                            wkurwia           None  Strenghtening\n",
       "8                               ryju  Strenghtening  Strenghtening\n",
       "9                          To proszę      Weakening           None\n",
       "10  trzeba mieć niepokoleji w głowie  Strenghtening           None\n",
       "11                              😁😀😀😀      Reversing           None\n",
       "12                        ZAJEBISCIE  Strenghtening  Strenghtening\n",
       "13                            kłamco  Strenghtening           None\n",
       "14      ale jakaś kultura obowiązuje      Weakening           None"
      ]
     },
     "execution_count": 52,
     "metadata": {},
     "output_type": "execute_result"
    }
   ],
   "source": [
    "df = pd.DataFrame(\n",
    "    {\n",
    "     \"Phrase\": [\"na głowę już zbyt późno\", \"debilu\", \"debilu\", \"pajacu\", \"Jebana menda\", \"zakłamanym oszustem\", \"Zdrajca i fasztysta\", \"wkurwia\", \"ryju\", \"To proszę\", \"trzeba mieć niepokoleji w głowie\", \"😁😀😀😀\", \"ZAJEBISCIE\", \"kłamco\", \"ale jakaś kultura obowiązuje\"],\n",
    "     \"Adas\": [\"Strenghtening\", \"Strenghtening\", \"Strenghtening\", \"Strenghtening\", \"Strenghtening\", \"Strenghtening\", None, None, \"Strenghtening\", \"Weakening\", \"Strenghtening\", \"Reversing\", \"Strenghtening\", \"Strenghtening\", \"Weakening\"],\n",
    "     \"Janek\": [\"Strenghtening\", \"Strenghtening\", \"Strenghtening\", \"Strenghtening\", \"Strenghtening\", None, \"Strenghtening\", \"Strenghtening\", \"Strenghtening\", None, None, None, \"Strenghtening\", None, None]\n",
    "     }\n",
    ")\n",
    "\n",
    "df"
   ]
  },
  {
   "cell_type": "code",
   "execution_count": 127,
   "metadata": {},
   "outputs": [],
   "source": [
    "matrix = np.array([\n",
    "    [7, 3],\n",
    "    [3, 0]\n",
    "])"
   ]
  },
  {
   "cell_type": "code",
   "execution_count": 128,
   "metadata": {},
   "outputs": [
    {
     "data": {
      "text/plain": [
       "-0.29999999999999993"
      ]
     },
     "execution_count": 128,
     "metadata": {},
     "output_type": "execute_result"
    }
   ],
   "source": [
    "cohen_kappa(matrix)"
   ]
  },
  {
   "cell_type": "code",
   "execution_count": 92,
   "metadata": {},
   "outputs": [],
   "source": [
    "with open(\"../data/output/labeled_sample_adam_2.jsonl\", \"r\") as file:\n",
    "    adas = [json.loads(line) for line in file]\n",
    "\n",
    "with open(\"../data/output/labeled_sample_jan_2.jsonl\", \"r\") as file:\n",
    "    janeczek = [json.loads(line) for line in file]"
   ]
  },
  {
   "cell_type": "code",
   "execution_count": 93,
   "metadata": {},
   "outputs": [],
   "source": [
    "adas_words = []\n",
    "for line in adas:\n",
    "    text = line[\"text\"]\n",
    "    for label in line[\"label\"]:\n",
    "        if label[2] not in [\"Neutralny\", \"Mowa nienawiści\"]:\n",
    "            start, stop, type_ = label\n",
    "            adas_words.append({\"word\": text[start: stop], \"type\": type_})"
   ]
  },
  {
   "cell_type": "code",
   "execution_count": 94,
   "metadata": {},
   "outputs": [],
   "source": [
    "janeczek_words = []\n",
    "for line in janeczek:\n",
    "    text = line[\"text\"]\n",
    "    for label in line[\"entities\"]:\n",
    "        if label[\"label\"] not in [\"Neutralny\", \"Mowa nienawiści\"]:\n",
    "            start, stop, type_ = label[\"start_offset\"], label[\"end_offset\"], label[\"label\"]\n",
    "            janeczek_words.append({\"word\": text[start: stop], \"type\": type_})"
   ]
  },
  {
   "cell_type": "code",
   "execution_count": 120,
   "metadata": {},
   "outputs": [
    {
     "data": {
      "text/plain": [
       "[{'word': 'głupia cipo.', 'type': 'Wzmacnianie'},\n",
       " {'word': 'Kurwa', 'type': 'Wzmacnianie'},\n",
       " {'word': 'jebany', 'type': 'Wzmacnianie'},\n",
       " {'word': 'kurwa', 'type': 'Wzmacnianie'},\n",
       " {'word': 'gnoju', 'type': 'Wzmacnianie'},\n",
       " {'word': 'A taki był porządny program', 'type': 'Osłabianie'},\n",
       " {'word': 'ja też spierdalam', 'type': 'Odwracanie'},\n",
       " {'word': 'polaku złoty ptaku', 'type': 'Osłabianie'},\n",
       " {'word': 'Tak jak Ty i Tobie podobni.', 'type': 'Wzmacnianie'},\n",
       " {'word': 'pajacu', 'type': 'Wzmacnianie'},\n",
       " {'word': 'Taki pospolity', 'type': 'Wzmacnianie'},\n",
       " {'word': 'ćwierćmózg', 'type': 'Wzmacnianie'},\n",
       " {'word': 'Kolesiostwo pierdolone.', 'type': 'Wzmacnianie'},\n",
       " {'word': 'największych debili ', 'type': 'Wzmacnianie'},\n",
       " {'word': 'zjeby', 'type': 'Wzmacnianie'}]"
      ]
     },
     "execution_count": 120,
     "metadata": {},
     "output_type": "execute_result"
    }
   ],
   "source": [
    "adas_words"
   ]
  },
  {
   "cell_type": "code",
   "execution_count": 121,
   "metadata": {},
   "outputs": [
    {
     "data": {
      "text/plain": [
       "15"
      ]
     },
     "execution_count": 121,
     "metadata": {},
     "output_type": "execute_result"
    }
   ],
   "source": [
    "len(adas_words)"
   ]
  },
  {
   "cell_type": "code",
   "execution_count": 122,
   "metadata": {},
   "outputs": [
    {
     "data": {
      "text/plain": [
       "[{'word': 'głupia cipo.', 'type': 'Wzmacnianie'},\n",
       " {'word': 'Kurwa ', 'type': 'Wzmacnianie'},\n",
       " {'word': 'jebany', 'type': 'Wzmacnianie'},\n",
       " {'word': 'kurwa', 'type': 'Wzmacnianie'},\n",
       " {'word': 'gnoju?', 'type': 'Wzmacnianie'},\n",
       " {'word': 'ja też spierdalam', 'type': 'Odwracanie'},\n",
       " {'word': 'pisdzielstwo', 'type': 'Wzmacnianie'},\n",
       " {'word': 'parchu', 'type': 'Wzmacnianie'},\n",
       " {'word': 'pajacu', 'type': 'Wzmacnianie'},\n",
       " {'word': 'ćwierćmózg', 'type': 'Wzmacnianie'},\n",
       " {'word': 'Parchu', 'type': 'Wzmacnianie'},\n",
       " {'word': 'Kolesiostwo pierdolone.', 'type': 'Wzmacnianie'},\n",
       " {'word': ' Lecz się', 'type': 'Wzmacnianie'},\n",
       " {'word': 'debili', 'type': 'Wzmacnianie'},\n",
       " {'word': 'zjeby', 'type': 'Wzmacnianie'},\n",
       " {'word': 'szczyj na nich', 'type': 'Wzmacnianie'}]"
      ]
     },
     "execution_count": 122,
     "metadata": {},
     "output_type": "execute_result"
    }
   ],
   "source": [
    "janeczek_words"
   ]
  },
  {
   "cell_type": "code",
   "execution_count": 123,
   "metadata": {},
   "outputs": [
    {
     "data": {
      "text/plain": [
       "16"
      ]
     },
     "execution_count": 123,
     "metadata": {},
     "output_type": "execute_result"
    }
   ],
   "source": [
    "len(janeczek_words)"
   ]
  },
  {
   "cell_type": "code",
   "execution_count": 124,
   "metadata": {},
   "outputs": [
    {
     "data": {
      "text/html": [
       "<div>\n",
       "<style scoped>\n",
       "    .dataframe tbody tr th:only-of-type {\n",
       "        vertical-align: middle;\n",
       "    }\n",
       "\n",
       "    .dataframe tbody tr th {\n",
       "        vertical-align: top;\n",
       "    }\n",
       "\n",
       "    .dataframe thead th {\n",
       "        text-align: right;\n",
       "    }\n",
       "</style>\n",
       "<table border=\"1\" class=\"dataframe\">\n",
       "  <thead>\n",
       "    <tr style=\"text-align: right;\">\n",
       "      <th></th>\n",
       "      <th>Phrase</th>\n",
       "      <th>Adas</th>\n",
       "      <th>Janek</th>\n",
       "    </tr>\n",
       "  </thead>\n",
       "  <tbody>\n",
       "    <tr>\n",
       "      <th>0</th>\n",
       "      <td>głupia cipo</td>\n",
       "      <td>Wzmacnianie</td>\n",
       "      <td>Wzmacnianie</td>\n",
       "    </tr>\n",
       "    <tr>\n",
       "      <th>1</th>\n",
       "      <td>Kurwa</td>\n",
       "      <td>Wzmacnianie</td>\n",
       "      <td>Wzmacnianie</td>\n",
       "    </tr>\n",
       "    <tr>\n",
       "      <th>2</th>\n",
       "      <td>jebany</td>\n",
       "      <td>Wzmacnianie</td>\n",
       "      <td>Wzmacnianie</td>\n",
       "    </tr>\n",
       "    <tr>\n",
       "      <th>3</th>\n",
       "      <td>kurwa</td>\n",
       "      <td>Wzmacnianie</td>\n",
       "      <td>Wzmacnianie</td>\n",
       "    </tr>\n",
       "    <tr>\n",
       "      <th>4</th>\n",
       "      <td>gnoju</td>\n",
       "      <td>Wzmacnianie</td>\n",
       "      <td>Wzmacnianie</td>\n",
       "    </tr>\n",
       "    <tr>\n",
       "      <th>5</th>\n",
       "      <td>A taki był porządny program</td>\n",
       "      <td>Osłabianie</td>\n",
       "      <td>None</td>\n",
       "    </tr>\n",
       "    <tr>\n",
       "      <th>6</th>\n",
       "      <td>ja też spierdalam</td>\n",
       "      <td>Odwracanie</td>\n",
       "      <td>Odwracanie</td>\n",
       "    </tr>\n",
       "    <tr>\n",
       "      <th>7</th>\n",
       "      <td>polaku złoty ptaku</td>\n",
       "      <td>Osłabianie</td>\n",
       "      <td>None</td>\n",
       "    </tr>\n",
       "    <tr>\n",
       "      <th>8</th>\n",
       "      <td>Tak jak Ty i Tobie podobni.</td>\n",
       "      <td>Wzmacnianie</td>\n",
       "      <td>None</td>\n",
       "    </tr>\n",
       "    <tr>\n",
       "      <th>9</th>\n",
       "      <td>pajacu</td>\n",
       "      <td>Wzmacnianie</td>\n",
       "      <td>Wzmacnianie</td>\n",
       "    </tr>\n",
       "    <tr>\n",
       "      <th>10</th>\n",
       "      <td>ćwierćmózg</td>\n",
       "      <td>Wzmacnianie</td>\n",
       "      <td>Wzmacnianie</td>\n",
       "    </tr>\n",
       "    <tr>\n",
       "      <th>11</th>\n",
       "      <td>Kolesiostwo pierdolone.</td>\n",
       "      <td>Wzmacnianie</td>\n",
       "      <td>Wzmacnianie</td>\n",
       "    </tr>\n",
       "    <tr>\n",
       "      <th>12</th>\n",
       "      <td>debili</td>\n",
       "      <td>Wzmacnianie</td>\n",
       "      <td>Wzmacnianie</td>\n",
       "    </tr>\n",
       "    <tr>\n",
       "      <th>13</th>\n",
       "      <td>zjeby</td>\n",
       "      <td>Wzmacnianie</td>\n",
       "      <td>Wzmacnianie</td>\n",
       "    </tr>\n",
       "    <tr>\n",
       "      <th>14</th>\n",
       "      <td>pisdzielstwo</td>\n",
       "      <td>None</td>\n",
       "      <td>Wzmacnianie</td>\n",
       "    </tr>\n",
       "    <tr>\n",
       "      <th>15</th>\n",
       "      <td>parchu</td>\n",
       "      <td>None</td>\n",
       "      <td>Wzmacnianie</td>\n",
       "    </tr>\n",
       "    <tr>\n",
       "      <th>16</th>\n",
       "      <td>szczyj na nich</td>\n",
       "      <td>None</td>\n",
       "      <td>Wzmacnianie</td>\n",
       "    </tr>\n",
       "    <tr>\n",
       "      <th>17</th>\n",
       "      <td>Parchu</td>\n",
       "      <td>None</td>\n",
       "      <td>Wzmacnianie</td>\n",
       "    </tr>\n",
       "    <tr>\n",
       "      <th>18</th>\n",
       "      <td>Lecz się</td>\n",
       "      <td>None</td>\n",
       "      <td>Wzmacnianie</td>\n",
       "    </tr>\n",
       "  </tbody>\n",
       "</table>\n",
       "</div>"
      ],
      "text/plain": [
       "                         Phrase         Adas        Janek\n",
       "0                   głupia cipo  Wzmacnianie  Wzmacnianie\n",
       "1                         Kurwa  Wzmacnianie  Wzmacnianie\n",
       "2                        jebany  Wzmacnianie  Wzmacnianie\n",
       "3                         kurwa  Wzmacnianie  Wzmacnianie\n",
       "4                         gnoju  Wzmacnianie  Wzmacnianie\n",
       "5   A taki był porządny program   Osłabianie         None\n",
       "6             ja też spierdalam   Odwracanie   Odwracanie\n",
       "7            polaku złoty ptaku   Osłabianie         None\n",
       "8   Tak jak Ty i Tobie podobni.  Wzmacnianie         None\n",
       "9                        pajacu  Wzmacnianie  Wzmacnianie\n",
       "10                   ćwierćmózg  Wzmacnianie  Wzmacnianie\n",
       "11      Kolesiostwo pierdolone.  Wzmacnianie  Wzmacnianie\n",
       "12                      debili   Wzmacnianie  Wzmacnianie\n",
       "13                        zjeby  Wzmacnianie  Wzmacnianie\n",
       "14                 pisdzielstwo         None  Wzmacnianie\n",
       "15                       parchu         None  Wzmacnianie\n",
       "16               szczyj na nich         None  Wzmacnianie\n",
       "17                       Parchu         None  Wzmacnianie\n",
       "18                     Lecz się         None  Wzmacnianie"
      ]
     },
     "execution_count": 124,
     "metadata": {},
     "output_type": "execute_result"
    }
   ],
   "source": [
    "df = pd.DataFrame(\n",
    "    {\n",
    "     \"Phrase\": ['głupia cipo', 'Kurwa', 'jebany', 'kurwa', 'gnoju', 'A taki był porządny program', 'ja też spierdalam', 'polaku złoty ptaku', 'Tak jak Ty i Tobie podobni.', 'pajacu', 'ćwierćmózg', 'Kolesiostwo pierdolone.', 'debili ', 'zjeby', 'pisdzielstwo', 'parchu', 'szczyj na nich', 'Parchu', 'Lecz się'],\n",
    "     \"Adas\": ['Wzmacnianie', 'Wzmacnianie', 'Wzmacnianie', 'Wzmacnianie', 'Wzmacnianie', 'Osłabianie', 'Odwracanie', 'Osłabianie', 'Wzmacnianie', 'Wzmacnianie', 'Wzmacnianie', 'Wzmacnianie', 'Wzmacnianie', 'Wzmacnianie', None, None, None, None, None],\n",
    "     \"Janek\": ['Wzmacnianie', 'Wzmacnianie', 'Wzmacnianie', 'Wzmacnianie', 'Wzmacnianie', None, 'Odwracanie', None, None, 'Wzmacnianie', 'Wzmacnianie', 'Wzmacnianie', 'Wzmacnianie', 'Wzmacnianie', 'Wzmacnianie', 'Wzmacnianie', 'Wzmacnianie', 'Wzmacnianie', 'Wzmacnianie'],\n",
    "     \n",
    "     }\n",
    ")\n",
    "\n",
    "df"
   ]
  }
 ],
 "metadata": {
  "kernelspec": {
   "display_name": "nlp",
   "language": "python",
   "name": "python3"
  },
  "language_info": {
   "codemirror_mode": {
    "name": "ipython",
    "version": 3
   },
   "file_extension": ".py",
   "mimetype": "text/x-python",
   "name": "python",
   "nbconvert_exporter": "python",
   "pygments_lexer": "ipython3",
   "version": "3.11.10"
  }
 },
 "nbformat": 4,
 "nbformat_minor": 2
}
