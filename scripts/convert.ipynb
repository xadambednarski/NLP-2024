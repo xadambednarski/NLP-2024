{
 "cells": [
  {
   "cell_type": "code",
   "execution_count": 26,
   "metadata": {},
   "outputs": [],
   "source": [
    "import json"
   ]
  },
  {
   "cell_type": "code",
   "execution_count": 27,
   "metadata": {},
   "outputs": [],
   "source": [
    "with open(\"data/output/labeled_sample_jan_2.jsonl\", \"r\") as f:\n",
    "    content = [json.loads(line) for line in f]"
   ]
  },
  {
   "cell_type": "code",
   "execution_count": 28,
   "metadata": {},
   "outputs": [],
   "source": [
    "with open(\"data/output/labeled_sample_adam_2.jsonl\", \"r\") as f:\n",
    "    correct = [json.loads(line) for line in f]"
   ]
  },
  {
   "cell_type": "code",
   "execution_count": 29,
   "metadata": {},
   "outputs": [],
   "source": [
    "def convert_format(data):\n",
    "    new_data = {\n",
    "        \"id\": data[\"id\"],\n",
    "        \"text\": data[\"text\"],\n",
    "        \"label\": []\n",
    "    }\n",
    "    \n",
    "    for entity in data.get(\"entities\", []):\n",
    "        start = entity.get(\"start_offset\")\n",
    "        end = entity.get(\"end_offset\")\n",
    "        label = entity.get(\"label\")\n",
    "        \n",
    "        if label == \"Neutral\":\n",
    "            label = \"Neutralny\"\n",
    "        \n",
    "        new_data[\"label\"].append([start, end, label])\n",
    "    \n",
    "    new_data[\"Comments\"] = data.get(\"Comments\", [])\n",
    "    \n",
    "    return new_data\n"
   ]
  },
  {
   "cell_type": "code",
   "execution_count": 30,
   "metadata": {},
   "outputs": [],
   "source": [
    "def save_to_jsonl(data_list, file_path):\n",
    "    with open(file_path, 'w') as file:\n",
    "        for entry in data_list:\n",
    "            json_line = json.dumps(entry, ensure_ascii=False)\n",
    "            file.write(json_line + '\\n')"
   ]
  },
  {
   "cell_type": "code",
   "execution_count": 31,
   "metadata": {},
   "outputs": [],
   "source": [
    "new_content = []\n",
    "\n",
    "for i in range(len(content)):\n",
    "    converted = convert_format(content[i])\n",
    "    converted[\"id\"] = correct[i][\"id\"]\n",
    "    new_content.append(converted)"
   ]
  },
  {
   "cell_type": "code",
   "execution_count": 32,
   "metadata": {},
   "outputs": [],
   "source": [
    "save_to_jsonl(new_content, \"data/output/labeled_sample_jan_2_fix.jsonl\")"
   ]
  }
 ],
 "metadata": {
  "kernelspec": {
   "display_name": "nlp",
   "language": "python",
   "name": "python3"
  },
  "language_info": {
   "codemirror_mode": {
    "name": "ipython",
    "version": 3
   },
   "file_extension": ".py",
   "mimetype": "text/x-python",
   "name": "python",
   "nbconvert_exporter": "python",
   "pygments_lexer": "ipython3",
   "version": "3.11.10"
  }
 },
 "nbformat": 4,
 "nbformat_minor": 2
}
