{
 "cells": [
  {
   "cell_type": "code",
   "execution_count": 1,
   "metadata": {},
   "outputs": [],
   "source": [
    "import json"
   ]
  },
  {
   "cell_type": "code",
   "execution_count": 3,
   "metadata": {},
   "outputs": [],
   "source": [
    "with open(\"../data/ground_truth/labeled_sample_jan_3.jsonl\", \"r\") as f:\n",
    "    content = [json.loads(line) for line in f]"
   ]
  },
  {
   "cell_type": "code",
   "execution_count": 28,
   "metadata": {},
   "outputs": [],
   "source": [
    "with open(\"data/output/labeled_sample_adam_2.jsonl\", \"r\") as f:\n",
    "    correct = [json.loads(line) for line in f]"
   ]
  },
  {
   "cell_type": "code",
   "execution_count": 4,
   "metadata": {},
   "outputs": [],
   "source": [
    "def convert_format(data):\n",
    "    new_data = {\n",
    "        \"id\": data[\"id\"],\n",
    "        \"text\": data[\"text\"],\n",
    "        \"label\": []\n",
    "    }\n",
    "    \n",
    "    for entity in data.get(\"entities\", []):\n",
    "        start = entity.get(\"start_offset\")\n",
    "        end = entity.get(\"end_offset\")\n",
    "        label = entity.get(\"label\")\n",
    "        \n",
    "        if label == \"Neutral\":\n",
    "            label = \"Neutralny\"\n",
    "        \n",
    "        new_data[\"label\"].append([start, end, label])\n",
    "    \n",
    "    new_data[\"Comments\"] = data.get(\"Comments\", [])\n",
    "    \n",
    "    return new_data\n"
   ]
  },
  {
   "cell_type": "code",
   "execution_count": 5,
   "metadata": {},
   "outputs": [],
   "source": [
    "def save_to_jsonl(data_list, file_path):\n",
    "    with open(file_path, 'w') as file:\n",
    "        for entry in data_list:\n",
    "            json_line = json.dumps(entry, ensure_ascii=False)\n",
    "            file.write(json_line + '\\n')"
   ]
  },
  {
   "cell_type": "code",
   "execution_count": 6,
   "metadata": {},
   "outputs": [],
   "source": [
    "new_content = []\n",
    "\n",
    "for i in range(len(content)):\n",
    "    converted = convert_format(content[i])\n",
    "    # converted[\"id\"] = correct[i][\"id\"]\n",
    "    new_content.append(converted)"
   ]
  },
  {
   "cell_type": "code",
   "execution_count": 7,
   "metadata": {},
   "outputs": [],
   "source": [
    "save_to_jsonl(new_content, \"../data/ground_truth/labeled_sample_jan_3_fix.jsonl\")"
   ]
  }
 ],
 "metadata": {
  "kernelspec": {
   "display_name": "nlp",
   "language": "python",
   "name": "python3"
  },
  "language_info": {
   "codemirror_mode": {
    "name": "ipython",
    "version": 3
   },
   "file_extension": ".py",
   "mimetype": "text/x-python",
   "name": "python",
   "nbconvert_exporter": "python",
   "pygments_lexer": "ipython3",
   "version": "3.11.10"
  }
 },
 "nbformat": 4,
 "nbformat_minor": 2
}
