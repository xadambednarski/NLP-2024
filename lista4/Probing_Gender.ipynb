{
 "cells": [
  {
   "cell_type": "markdown",
   "metadata": {},
   "source": [
    "# Causal Evaluation of Probes\n",
    "\n",
    "This is a simple tutorial showing you to collect activations from intervention-points in a model. We'll compare 1D DAS IIA on each layer and position for `block_output` in pythia-70M with logistic regression probing accuracy. The task we'll look at is gender prediction, where gendered names are used in templates like \"[name] walked because\", which elicits the associated gendered pronoun \"he\" or \"she\" as the next-token prediction for this model."
   ]
  },
  {
   "cell_type": "markdown",
   "metadata": {},
   "source": [
    "[![Open In Colab](https://colab.research.google.com/assets/colab-badge.svg)](https://colab.research.google.com/github/frankaging/pyvene/blob/main/tutorials/advance_tutorials/Probing_Gender.ipynb)\n"
   ]
  },
  {
   "cell_type": "code",
   "execution_count": 1,
   "metadata": {},
   "outputs": [],
   "source": [
    "__author__ = \"Aryaman Arora\"\n",
    "__version__ = \"01/10/2024\""
   ]
  },
  {
   "cell_type": "markdown",
   "metadata": {},
   "source": [
    "## Setup"
   ]
  },
  {
   "cell_type": "code",
   "execution_count": 2,
   "metadata": {},
   "outputs": [],
   "source": [
    "try:\n",
    "    # This library is our indicator that the required installs\n",
    "    # need to be done.\n",
    "    import pyvene as pv\n",
    "\n",
    "except ModuleNotFoundError:\n",
    "    !pip install git+https://github.com/stanfordnlp/pyvene.git"
   ]
  },
  {
   "cell_type": "code",
   "execution_count": 3,
   "metadata": {},
   "outputs": [],
   "source": [
    "import pandas as pd\n",
    "from transformers import (\n",
    "    AutoModelForCausalLM,\n",
    "    AutoTokenizer,\n",
    "    get_linear_schedule_with_warmup,\n",
    ")\n",
    "import torch\n",
    "import random\n",
    "from sklearn.linear_model import LogisticRegression\n",
    "from sklearn.metrics import f1_score\n",
    "\n",
    "%config InlineBackend.figure_formats = ['svg']\n",
    "from plotnine import (\n",
    "    ggplot,\n",
    "    geom_tile,\n",
    "    aes,\n",
    "    facet_wrap,\n",
    "    theme,\n",
    "    element_text,\n",
    "    geom_bar,\n",
    "    geom_hline,\n",
    "    scale_y_log10,\n",
    "    geom_line,\n",
    "    geom_point,\n",
    "    geom_text,\n",
    "    ggtitle, xlab, ylab, \n",
    "    ggsave\n",
    ")\n",
    "from plotnine.scales import scale_y_reverse, scale_fill_cmap\n",
    "from tqdm import tqdm\n",
    "from collections import namedtuple"
   ]
  },
  {
   "cell_type": "markdown",
   "metadata": {},
   "source": [
    "## Load model and data"
   ]
  },
  {
   "cell_type": "code",
   "execution_count": 4,
   "metadata": {},
   "outputs": [],
   "source": [
    "device = \"cuda:0\" if torch.cuda.is_available() else \"cpu\"\n",
    "model = \"EleutherAI/pythia-70m\" # \"EleutherAI/pythia-6.9B\"\n",
    "tokenizer = AutoTokenizer.from_pretrained(model)\n",
    "tokenizer.pad_token = tokenizer.eos_token\n",
    "gpt = AutoModelForCausalLM.from_pretrained(\n",
    "    model,\n",
    "    revision=\"main\",\n",
    "    torch_dtype=torch.bfloat16 if model == \"EleutherAI/pythia-6.9b\" else torch.float32,\n",
    ").to(device)"
   ]
  },
  {
   "cell_type": "markdown",
   "metadata": {},
   "source": [
    "We have a list of 100 names for each gender, and we'll filter for names that are one token in length. We'll further filter for examples the model agrees with our labels for, since some of these names might be ambiguous or the model might not have the expected behaviour. This ensures that baseline IIA is 0."
   ]
  },
  {
   "cell_type": "code",
   "execution_count": 5,
   "metadata": {},
   "outputs": [
    {
     "name": "stdout",
     "output_type": "stream",
     "text": [
      "47 10\n"
     ]
    }
   ],
   "source": [
    "Example = namedtuple(\"Example\", [\"base\", \"src\", \"base_label\", \"src_label\"])\n",
    "\n",
    "names = {\n",
    "    \"he\": [\n",
    "        \"James\",\n",
    "        \"Robert\",\n",
    "        \"John\",\n",
    "        \"Michael\",\n",
    "        \"David\",\n",
    "        \"William\",\n",
    "        \"Richard\",\n",
    "        \"Joseph\",\n",
    "        \"Thomas\",\n",
    "        \"Christopher\",\n",
    "        \"Charles\",\n",
    "        \"Daniel\",\n",
    "        \"Matthew\",\n",
    "        \"Anthony\",\n",
    "        \"Mark\",\n",
    "        \"Donald\",\n",
    "        \"Steven\",\n",
    "        \"Andrew\",\n",
    "        \"Paul\",\n",
    "        \"Joshua\",\n",
    "        \"Kenneth\",\n",
    "        \"Kevin\",\n",
    "        \"Brian\",\n",
    "        \"George\",\n",
    "        \"Timothy\",\n",
    "        \"Ronald\",\n",
    "        \"Jason\",\n",
    "        \"Edward\",\n",
    "        \"Jeffrey\",\n",
    "        \"Ryan\",\n",
    "        \"Jacob\",\n",
    "        \"Gary\",\n",
    "        \"Nicholas\",\n",
    "        \"Eric\",\n",
    "        \"Jonathan\",\n",
    "        \"Stephen\",\n",
    "        \"Larry\",\n",
    "        \"Justin\",\n",
    "        \"Scott\",\n",
    "        \"Brandon\",\n",
    "        \"Benjamin\",\n",
    "        \"Samuel\",\n",
    "        \"Gregory\",\n",
    "        \"Alexander\",\n",
    "        \"Patrick\",\n",
    "        \"Frank\",\n",
    "        \"Raymond\",\n",
    "        \"Jack\",\n",
    "        \"Dennis\",\n",
    "        \"Jerry\",\n",
    "        \"Tyler\",\n",
    "        \"Aaron\",\n",
    "        \"Jose\",\n",
    "        \"Adam\",\n",
    "        \"Nathan\",\n",
    "        \"Henry\",\n",
    "        \"Zachary\",\n",
    "        \"Douglas\",\n",
    "        \"Peter\",\n",
    "        \"Kyle\",\n",
    "        \"Noah\",\n",
    "        \"Ethan\",\n",
    "        \"Jeremy\",\n",
    "        \"Walter\",\n",
    "        \"Christian\",\n",
    "        \"Keith\",\n",
    "        \"Roger\",\n",
    "        \"Terry\",\n",
    "        \"Austin\",\n",
    "        \"Sean\",\n",
    "        \"Gerald\",\n",
    "        \"Carl\",\n",
    "        \"Harold\",\n",
    "        \"Dylan\",\n",
    "        \"Arthur\",\n",
    "        \"Lawrence\",\n",
    "        \"Jordan\",\n",
    "        \"Jesse\",\n",
    "        \"Bryan\",\n",
    "        \"Billy\",\n",
    "        \"Bruce\",\n",
    "        \"Gabriel\",\n",
    "        \"Joe\",\n",
    "        \"Logan\",\n",
    "        \"Alan\",\n",
    "        \"Juan\",\n",
    "        \"Albert\",\n",
    "        \"Willie\",\n",
    "        \"Elijah\",\n",
    "        \"Wayne\",\n",
    "        \"Randy\",\n",
    "        \"Vincent\",\n",
    "        \"Mason\",\n",
    "        \"Roy\",\n",
    "        \"Ralph\",\n",
    "        \"Bobby\",\n",
    "        \"Russell\",\n",
    "        \"Bradley\",\n",
    "        \"Philip\",\n",
    "        \"Eugene\",\n",
    "    ],\n",
    "    \"she\": [\n",
    "        \"Mary\",\n",
    "        \"Patricia\",\n",
    "        \"Jennifer\",\n",
    "        \"Linda\",\n",
    "        \"Elizabeth\",\n",
    "        \"Barbara\",\n",
    "        \"Susan\",\n",
    "        \"Jessica\",\n",
    "        \"Sarah\",\n",
    "        \"Karen\",\n",
    "        \"Lisa\",\n",
    "        \"Nancy\",\n",
    "        \"Betty\",\n",
    "        \"Sandra\",\n",
    "        \"Margaret\",\n",
    "        \"Ashley\",\n",
    "        \"Kimberly\",\n",
    "        \"Emily\",\n",
    "        \"Donna\",\n",
    "        \"Michelle\",\n",
    "        \"Carol\",\n",
    "        \"Amanda\",\n",
    "        \"Melissa\",\n",
    "        \"Deborah\",\n",
    "        \"Stephanie\",\n",
    "        \"Dorothy\",\n",
    "        \"Rebecca\",\n",
    "        \"Sharon\",\n",
    "        \"Laura\",\n",
    "        \"Cynthia\",\n",
    "        \"Amy\",\n",
    "        \"Kathleen\",\n",
    "        \"Angela\",\n",
    "        \"Shirley\",\n",
    "        \"Brenda\",\n",
    "        \"Emma\",\n",
    "        \"Anna\",\n",
    "        \"Pamela\",\n",
    "        \"Nicole\",\n",
    "        \"Samantha\",\n",
    "        \"Katherine\",\n",
    "        \"Christine\",\n",
    "        \"Helen\",\n",
    "        \"Debra\",\n",
    "        \"Rachel\",\n",
    "        \"Carolyn\",\n",
    "        \"Janet\",\n",
    "        \"Maria\",\n",
    "        \"Catherine\",\n",
    "        \"Heather\",\n",
    "        \"Diane\",\n",
    "        \"Olivia\",\n",
    "        \"Julie\",\n",
    "        \"Joyce\",\n",
    "        \"Victoria\",\n",
    "        \"Ruth\",\n",
    "        \"Virginia\",\n",
    "        \"Lauren\",\n",
    "        \"Kelly\",\n",
    "        \"Christina\",\n",
    "        \"Joan\",\n",
    "        \"Evelyn\",\n",
    "        \"Judith\",\n",
    "        \"Andrea\",\n",
    "        \"Hannah\",\n",
    "        \"Megan\",\n",
    "        \"Cheryl\",\n",
    "        \"Jacqueline\",\n",
    "        \"Martha\",\n",
    "        \"Madison\",\n",
    "        \"Teresa\",\n",
    "        \"Gloria\",\n",
    "        \"Sara\",\n",
    "        \"Janice\",\n",
    "        \"Ann\",\n",
    "        \"Kathryn\",\n",
    "        \"Abigail\",\n",
    "        \"Sophia\",\n",
    "        \"Frances\",\n",
    "        \"Jean\",\n",
    "        \"Alice\",\n",
    "        \"Judy\",\n",
    "        \"Isabella\",\n",
    "        \"Julia\",\n",
    "        \"Grace\",\n",
    "        \"Amber\",\n",
    "        \"Denise\",\n",
    "        \"Danielle\",\n",
    "        \"Marilyn\",\n",
    "        \"Beverly\",\n",
    "        \"Charlotte\",\n",
    "        \"Natalie\",\n",
    "        \"Theresa\",\n",
    "        \"Diana\",\n",
    "        \"Brittany\",\n",
    "        \"Doris\",\n",
    "        \"Kayla\",\n",
    "        \"Alexis\",\n",
    "        \"Lori\",\n",
    "        \"Marie\",\n",
    "    ],\n",
    "}\n",
    "\n",
    "# filter names that are > 1 token\n",
    "names = {\n",
    "    key: [name for name in names[key] if len(tokenizer.tokenize(name)) == 1]\n",
    "    for key in names\n",
    "}\n",
    "print(len(names[\"he\"]), len(names[\"she\"]))\n",
    "\n",
    "\n",
    "def sample_example(tokenizer):\n",
    "    # sample labels (not matching)\n",
    "    base_label = random.choice(list(names.keys()))\n",
    "    src_label = [key for key in names if key != base_label][0]\n",
    "\n",
    "    # sample names\n",
    "    base_name = random.choice(names[base_label])\n",
    "    src_name = random.choice(names[src_label])\n",
    "\n",
    "    # make pair\n",
    "    base = tokenizer(f\"<|endoftext|>{base_name} walked because\", return_tensors=\"pt\")\n",
    "    src = tokenizer(f\"<|endoftext|>{src_name} walked because\", return_tensors=\"pt\")\n",
    "    base_label = tokenizer.encode(\" \" + base_label)[0]\n",
    "    src_label = tokenizer.encode(\" \" + src_label)[0]\n",
    "    return Example(base, src, base_label, src_label)"
   ]
  },
  {
   "cell_type": "code",
   "execution_count": 6,
   "metadata": {},
   "outputs": [
    {
     "data": {
      "text/plain": [
       "Example(base={'input_ids': tensor([[    0, 37376,  7428,   984]]), 'attention_mask': tensor([[1, 1, 1, 1]])}, src={'input_ids': tensor([[    0, 36751,  7428,   984]]), 'attention_mask': tensor([[1, 1, 1, 1]])}, base_label=344, src_label=703)"
      ]
     },
     "execution_count": 6,
     "metadata": {},
     "output_type": "execute_result"
    }
   ],
   "source": [
    "sample_example(tokenizer)"
   ]
  },
  {
   "cell_type": "code",
   "execution_count": 7,
   "metadata": {},
   "outputs": [],
   "source": [
    "def generate_n_doable_examples(n, model, tokenizer):\n",
    "    examples = []\n",
    "    iterator = tqdm(range(n))\n",
    "    while len(examples) < n:\n",
    "        ex = sample_example(tokenizer)\n",
    "        for k, v in ex.base.items():\n",
    "            if v is not None and isinstance(v, torch.Tensor):\n",
    "                ex.base[k] = v.to(model.device)\n",
    "        for k, v in ex.src.items():\n",
    "            if v is not None and isinstance(v, torch.Tensor):\n",
    "                ex.src[k] = v.to(model.device)\n",
    "        logits_base = model(**ex.base).logits[0, -1]\n",
    "        logits_src = model(**ex.src).logits[0, -1]\n",
    "        if (\n",
    "            logits_base[ex.base_label] > logits_base[ex.src_label]\n",
    "            and logits_src[ex.src_label] > logits_src[ex.base_label]\n",
    "        ):\n",
    "            examples.append(ex)\n",
    "            iterator.update(1)\n",
    "    return examples"
   ]
  },
  {
   "cell_type": "code",
   "execution_count": 8,
   "metadata": {},
   "outputs": [
    {
     "name": "stderr",
     "output_type": "stream",
     "text": [
      "  0%|          | 0/100 [00:00<?, ?it/s]huggingface/tokenizers: The current process just got forked, after parallelism has already been used. Disabling parallelism to avoid deadlocks...\n",
      "To disable this warning, you can either:\n",
      "\t- Avoid using `tokenizers` before the fork if possible\n",
      "\t- Explicitly set the environment variable TOKENIZERS_PARALLELISM=(true | false)\n",
      "100%|██████████| 100/100 [00:03<00:00, 29.56it/s]\n",
      "100%|██████████| 50/50 [00:01<00:00, 30.44it/s]\n"
     ]
    }
   ],
   "source": [
    "# make dataset\n",
    "total_steps = 100\n",
    "trainset = generate_n_doable_examples(total_steps, gpt, tokenizer)\n",
    "evalset = generate_n_doable_examples(50, gpt, tokenizer)"
   ]
  },
  {
   "cell_type": "markdown",
   "metadata": {},
   "source": [
    "## DAS\n",
    "\n",
    "This is the usual 1D DAS setup, training on batch size of 1."
   ]
  },
  {
   "cell_type": "code",
   "execution_count": 9,
   "metadata": {},
   "outputs": [],
   "source": [
    "def intervention_config(intervention_site, layer, num_dims=1):\n",
    "    config = pv.IntervenableConfig([\n",
    "        {\n",
    "            \"layer\": layer,\n",
    "            \"component\": intervention_site,\n",
    "            \"intervention_type\": pv.LowRankRotatedSpaceIntervention,\n",
    "            \"low_rank_dimension\": num_dims,\n",
    "        }\n",
    "    ])\n",
    "    return config"
   ]
  },
  {
   "cell_type": "code",
   "execution_count": 10,
   "metadata": {},
   "outputs": [],
   "source": [
    "# loss function\n",
    "loss_fct = torch.nn.CrossEntropyLoss()\n",
    "\n",
    "def calculate_loss(logits, label):\n",
    "    \"\"\"Calculate cross entropy between logits and a single target label (can be batched)\"\"\"\n",
    "    shift_labels = label.to(logits.device)\n",
    "    loss = loss_fct(logits, shift_labels)\n",
    "    return loss"
   ]
  },
  {
   "cell_type": "code",
   "execution_count": 11,
   "metadata": {},
   "outputs": [
    {
     "name": "stdout",
     "output_type": "stream",
     "text": [
      "layer: 0, position: 0\n"
     ]
    },
    {
     "name": "stderr",
     "output_type": "stream",
     "text": [
      "100%|██████████| 100/100 [00:03<00:00, 25.67it/s, loss=5.172]\n",
      "100%|██████████| 50/50 [00:01<00:00, 35.06it/s]\n"
     ]
    },
    {
     "name": "stdout",
     "output_type": "stream",
     "text": [
      "iia: 0.000%\n",
      "layer: 0, position: 1\n"
     ]
    },
    {
     "name": "stderr",
     "output_type": "stream",
     "text": [
      "100%|██████████| 100/100 [00:04<00:00, 24.80it/s, loss=0.999]\n",
      "100%|██████████| 50/50 [00:01<00:00, 31.39it/s]\n"
     ]
    },
    {
     "name": "stdout",
     "output_type": "stream",
     "text": [
      "iia: 98.000%\n",
      "layer: 0, position: 2\n"
     ]
    },
    {
     "name": "stderr",
     "output_type": "stream",
     "text": [
      "100%|██████████| 100/100 [00:03<00:00, 25.98it/s, loss=4.453]\n",
      "100%|██████████| 50/50 [00:01<00:00, 34.93it/s]\n"
     ]
    },
    {
     "name": "stdout",
     "output_type": "stream",
     "text": [
      "iia: 10.000%\n",
      "layer: 0, position: 3\n"
     ]
    },
    {
     "name": "stderr",
     "output_type": "stream",
     "text": [
      "100%|██████████| 100/100 [00:03<00:00, 25.38it/s, loss=5.201]\n",
      "100%|██████████| 50/50 [00:01<00:00, 33.07it/s]\n"
     ]
    },
    {
     "name": "stdout",
     "output_type": "stream",
     "text": [
      "iia: 0.000%\n",
      "layer: 1, position: 0\n"
     ]
    },
    {
     "name": "stderr",
     "output_type": "stream",
     "text": [
      "100%|██████████| 100/100 [00:03<00:00, 27.18it/s, loss=5.172]\n",
      "100%|██████████| 50/50 [00:01<00:00, 35.95it/s]\n"
     ]
    },
    {
     "name": "stdout",
     "output_type": "stream",
     "text": [
      "iia: 0.000%\n",
      "layer: 1, position: 1\n"
     ]
    },
    {
     "name": "stderr",
     "output_type": "stream",
     "text": [
      "100%|██████████| 100/100 [00:03<00:00, 26.76it/s, loss=1.005]\n",
      "100%|██████████| 50/50 [00:01<00:00, 35.56it/s]\n"
     ]
    },
    {
     "name": "stdout",
     "output_type": "stream",
     "text": [
      "iia: 98.000%\n",
      "layer: 1, position: 2\n"
     ]
    },
    {
     "name": "stderr",
     "output_type": "stream",
     "text": [
      "100%|██████████| 100/100 [00:03<00:00, 26.74it/s, loss=5.141]\n",
      "100%|██████████| 50/50 [00:01<00:00, 35.54it/s]\n"
     ]
    },
    {
     "name": "stdout",
     "output_type": "stream",
     "text": [
      "iia: 10.000%\n",
      "layer: 1, position: 3\n"
     ]
    },
    {
     "name": "stderr",
     "output_type": "stream",
     "text": [
      "100%|██████████| 100/100 [00:03<00:00, 26.92it/s, loss=4.384]\n",
      "100%|██████████| 50/50 [00:01<00:00, 36.26it/s]\n"
     ]
    },
    {
     "name": "stdout",
     "output_type": "stream",
     "text": [
      "iia: 0.000%\n",
      "layer: 2, position: 0\n"
     ]
    },
    {
     "name": "stderr",
     "output_type": "stream",
     "text": [
      "100%|██████████| 100/100 [00:03<00:00, 26.50it/s, loss=5.172]\n",
      "100%|██████████| 50/50 [00:01<00:00, 32.55it/s]\n"
     ]
    },
    {
     "name": "stdout",
     "output_type": "stream",
     "text": [
      "iia: 0.000%\n",
      "layer: 2, position: 1\n"
     ]
    },
    {
     "name": "stderr",
     "output_type": "stream",
     "text": [
      "100%|██████████| 100/100 [00:03<00:00, 27.70it/s, loss=1.192]\n",
      "100%|██████████| 50/50 [00:01<00:00, 35.76it/s]\n"
     ]
    },
    {
     "name": "stdout",
     "output_type": "stream",
     "text": [
      "iia: 96.000%\n",
      "layer: 2, position: 2\n"
     ]
    },
    {
     "name": "stderr",
     "output_type": "stream",
     "text": [
      "100%|██████████| 100/100 [00:03<00:00, 27.62it/s, loss=1.589]\n",
      "100%|██████████| 50/50 [00:01<00:00, 35.55it/s]\n"
     ]
    },
    {
     "name": "stdout",
     "output_type": "stream",
     "text": [
      "iia: 30.000%\n",
      "layer: 2, position: 3\n"
     ]
    },
    {
     "name": "stderr",
     "output_type": "stream",
     "text": [
      "100%|██████████| 100/100 [00:03<00:00, 25.60it/s, loss=2.840]\n",
      "100%|██████████| 50/50 [00:01<00:00, 32.41it/s]\n"
     ]
    },
    {
     "name": "stdout",
     "output_type": "stream",
     "text": [
      "iia: 14.000%\n",
      "layer: 3, position: 0\n"
     ]
    },
    {
     "name": "stderr",
     "output_type": "stream",
     "text": [
      "100%|██████████| 100/100 [00:03<00:00, 26.52it/s, loss=5.172]\n",
      "100%|██████████| 50/50 [00:01<00:00, 31.78it/s]\n"
     ]
    },
    {
     "name": "stdout",
     "output_type": "stream",
     "text": [
      "iia: 0.000%\n",
      "layer: 3, position: 1\n"
     ]
    },
    {
     "name": "stderr",
     "output_type": "stream",
     "text": [
      "100%|██████████| 100/100 [00:03<00:00, 26.19it/s, loss=4.243]\n",
      "100%|██████████| 50/50 [00:01<00:00, 32.04it/s]\n"
     ]
    },
    {
     "name": "stdout",
     "output_type": "stream",
     "text": [
      "iia: 42.000%\n",
      "layer: 3, position: 2\n"
     ]
    },
    {
     "name": "stderr",
     "output_type": "stream",
     "text": [
      "100%|██████████| 100/100 [00:03<00:00, 27.39it/s, loss=3.248]\n",
      "100%|██████████| 50/50 [00:01<00:00, 34.91it/s]\n"
     ]
    },
    {
     "name": "stdout",
     "output_type": "stream",
     "text": [
      "iia: 10.000%\n",
      "layer: 3, position: 3\n"
     ]
    },
    {
     "name": "stderr",
     "output_type": "stream",
     "text": [
      "100%|██████████| 100/100 [00:03<00:00, 27.43it/s, loss=2.904]\n",
      "100%|██████████| 50/50 [00:01<00:00, 35.21it/s]\n"
     ]
    },
    {
     "name": "stdout",
     "output_type": "stream",
     "text": [
      "iia: 22.000%\n",
      "layer: 4, position: 0\n"
     ]
    },
    {
     "name": "stderr",
     "output_type": "stream",
     "text": [
      "100%|██████████| 100/100 [00:03<00:00, 28.71it/s, loss=5.172]\n",
      "100%|██████████| 50/50 [00:01<00:00, 35.34it/s]\n"
     ]
    },
    {
     "name": "stdout",
     "output_type": "stream",
     "text": [
      "iia: 0.000%\n",
      "layer: 4, position: 1\n"
     ]
    },
    {
     "name": "stderr",
     "output_type": "stream",
     "text": [
      "100%|██████████| 100/100 [00:03<00:00, 29.05it/s, loss=5.171]\n",
      "100%|██████████| 50/50 [00:01<00:00, 35.71it/s]\n"
     ]
    },
    {
     "name": "stdout",
     "output_type": "stream",
     "text": [
      "iia: 0.000%\n",
      "layer: 4, position: 2\n"
     ]
    },
    {
     "name": "stderr",
     "output_type": "stream",
     "text": [
      "100%|██████████| 100/100 [00:03<00:00, 28.50it/s, loss=4.733]\n",
      "100%|██████████| 50/50 [00:01<00:00, 35.88it/s]\n"
     ]
    },
    {
     "name": "stdout",
     "output_type": "stream",
     "text": [
      "iia: 0.000%\n",
      "layer: 4, position: 3\n"
     ]
    },
    {
     "name": "stderr",
     "output_type": "stream",
     "text": [
      "100%|██████████| 100/100 [00:03<00:00, 28.74it/s, loss=1.299]\n",
      "100%|██████████| 50/50 [00:01<00:00, 35.37it/s]\n"
     ]
    },
    {
     "name": "stdout",
     "output_type": "stream",
     "text": [
      "iia: 94.000%\n",
      "layer: 5, position: 0\n"
     ]
    },
    {
     "name": "stderr",
     "output_type": "stream",
     "text": [
      "100%|██████████| 100/100 [00:03<00:00, 29.55it/s, loss=5.172]\n",
      "100%|██████████| 50/50 [00:01<00:00, 35.63it/s]\n"
     ]
    },
    {
     "name": "stdout",
     "output_type": "stream",
     "text": [
      "iia: 0.000%\n",
      "layer: 5, position: 1\n"
     ]
    },
    {
     "name": "stderr",
     "output_type": "stream",
     "text": [
      "100%|██████████| 100/100 [00:03<00:00, 26.10it/s, loss=5.172]\n",
      "100%|██████████| 50/50 [00:01<00:00, 30.12it/s]\n"
     ]
    },
    {
     "name": "stdout",
     "output_type": "stream",
     "text": [
      "iia: 0.000%\n",
      "layer: 5, position: 2\n"
     ]
    },
    {
     "name": "stderr",
     "output_type": "stream",
     "text": [
      "100%|██████████| 100/100 [00:03<00:00, 28.42it/s, loss=5.172]\n",
      "100%|██████████| 50/50 [00:01<00:00, 35.16it/s]\n"
     ]
    },
    {
     "name": "stdout",
     "output_type": "stream",
     "text": [
      "iia: 0.000%\n",
      "layer: 5, position: 3\n"
     ]
    },
    {
     "name": "stderr",
     "output_type": "stream",
     "text": [
      "100%|██████████| 100/100 [00:03<00:00, 28.97it/s, loss=1.518]\n",
      "100%|██████████| 50/50 [00:01<00:00, 35.13it/s]"
     ]
    },
    {
     "name": "stdout",
     "output_type": "stream",
     "text": [
      "iia: 96.000%\n"
     ]
    },
    {
     "name": "stderr",
     "output_type": "stream",
     "text": [
      "\n"
     ]
    }
   ],
   "source": [
    "# intervention settings\n",
    "stats = []\n",
    "num_layers = gpt.config.num_hidden_layers\n",
    "\n",
    "# loop over layers and positions\n",
    "for layer in range(num_layers):\n",
    "    for position in range(4):\n",
    "        print(f\"layer: {layer}, position: {position}\")\n",
    "\n",
    "        # set up intervenable model\n",
    "        config = intervention_config(\"block_output\", layer, 1)\n",
    "        intervenable = pv.IntervenableModel(config, gpt)\n",
    "        intervenable.set_device(device)\n",
    "        intervenable.disable_model_gradients()\n",
    "\n",
    "        # set up optimizer\n",
    "        optimizer_params = []\n",
    "        for k, v in intervenable.interventions.items():\n",
    "            try:\n",
    "                optimizer_params.append({\"params\": v[0].rotate_layer.parameters()})\n",
    "            except:\n",
    "                pass\n",
    "        optimizer = torch.optim.Adam(optimizer_params, lr=1e-3)\n",
    "        scheduler = get_linear_schedule_with_warmup(\n",
    "            optimizer,\n",
    "            num_warmup_steps=int(0.1 * total_steps),\n",
    "            num_training_steps=total_steps,\n",
    "        )\n",
    "\n",
    "        # training loop\n",
    "        iterator = tqdm(trainset)\n",
    "        for example in iterator:\n",
    "            # forward pass\n",
    "            _, counterfactual_outputs = intervenable(\n",
    "                example.base,\n",
    "                [example.src],\n",
    "                {\"sources->base\": position},\n",
    "            )\n",
    "\n",
    "            # loss\n",
    "            logits = counterfactual_outputs.logits[:, -1]\n",
    "            loss = calculate_loss(logits, torch.tensor([example.src_label]).to(device))\n",
    "            iterator.set_postfix({\"loss\": f\"{loss.item():.3f}\"})\n",
    "\n",
    "            # backward\n",
    "            loss.backward()\n",
    "            optimizer.step()\n",
    "            scheduler.step()\n",
    "\n",
    "        # eval\n",
    "        with torch.no_grad():\n",
    "            iia = 0\n",
    "            iterator = tqdm(evalset)\n",
    "            for example in iterator:\n",
    "                # forward\n",
    "                _, counterfactual_outputs = intervenable(\n",
    "                    example.base,\n",
    "                    [example.src],\n",
    "                    {\"sources->base\": position},\n",
    "                )\n",
    "\n",
    "                # calculate iia\n",
    "                logits = counterfactual_outputs.logits[0, -1]\n",
    "                if logits[example.src_label] > logits[example.base_label]:\n",
    "                    iia += 1\n",
    "\n",
    "            # stats\n",
    "            iia = iia / len(evalset)\n",
    "            stats.append({\"layer\": layer, \"position\": position, \"iia\": iia})\n",
    "            print(f\"iia: {iia:.3%}\")\n",
    "df = pd.DataFrame(stats)\n",
    "df.to_csv(f\"./tutorial_data/pyvene_gender_das.csv\")"
   ]
  },
  {
   "cell_type": "markdown",
   "metadata": {},
   "source": [
    "And this is the plot of IIA. In layers 2 and 3 it seems the gender is represented across positions 1-3, and entirely in position 3 in later layers."
   ]
  },
  {
   "cell_type": "code",
   "execution_count": 12,
   "metadata": {},
   "outputs": [
    {
     "name": "stderr",
     "output_type": "stream",
     "text": [
      "/Users/lukasz/miniconda3/envs/nlp/lib/python3.11/site-packages/plotnine/ggplot.py:615: PlotnineWarning: Saving 5 x 3 in image.\n",
      "/Users/lukasz/miniconda3/envs/nlp/lib/python3.11/site-packages/plotnine/ggplot.py:616: PlotnineWarning: Filename: ./tutorial_data/pyvene_gender_das.pdf\n"
     ]
    },
    {
     "data": {
      "image/png": "[encoded data removed]"
     },
     "metadata": {
      "image/png": {
       "height": 300,
       "width": 500
      }
     },
     "output_type": "display_data"
    }
   ],
   "source": [
    "df = pd.read_csv(f\"./tutorial_data/pyvene_gender_das.csv\")\n",
    "df[\"layer\"] = df[\"layer\"].astype(int)\n",
    "df[\"pos\"] = df[\"position\"].astype(int)\n",
    "df[\"IIA\"] = df[\"iia\"].astype(float)\n",
    "\n",
    "custom_labels = [\"EOS\", \"<name>\", \"walked\", \"because\"]\n",
    "breaks = [0, 1, 2, 3]\n",
    "\n",
    "plot = (\n",
    "    ggplot(df, aes(x=\"layer\", y=\"pos\"))    \n",
    "    + geom_tile(aes(fill=\"IIA\"))\n",
    "    + scale_fill_cmap(\"Purples\") + xlab(\"layers\")\n",
    "    + scale_y_reverse(\n",
    "        limits = (-0.5, 3.5), \n",
    "        breaks=breaks, labels=custom_labels) \n",
    "    + theme(figure_size=(5, 3)) + ylab(\"\") \n",
    "    + theme(axis_text_y  = element_text(angle = 90, hjust = 1))\n",
    "    + ggtitle(\"Trained Intervention (DAS)\")\n",
    ")\n",
    "ggsave(\n",
    "    plot, filename=f\"./tutorial_data/pyvene_gender_das.pdf\", dpi=200\n",
    ")\n",
    "display(plot)"
   ]
  },
  {
   "cell_type": "markdown",
   "metadata": {},
   "source": [
    "## Probing\n",
    "\n",
    "We'll define a dummy intervention `CollectActivation` to collect activations and train a simple probe."
   ]
  },
  {
   "cell_type": "code",
   "execution_count": 13,
   "metadata": {},
   "outputs": [],
   "source": [
    "def probing_config(intervention_site, layer):\n",
    "    \"\"\"Generate intervention config.\"\"\"\n",
    "\n",
    "    # init\n",
    "    config = pv.IntervenableConfig([{\n",
    "        \"layer\": layer,\n",
    "        \"component\": intervention_site,\n",
    "        \"intervention_type\": pv.CollectIntervention,\n",
    "    }])\n",
    "    return config"
   ]
  },
  {
   "cell_type": "markdown",
   "metadata": {},
   "source": [
    "This is the training loop."
   ]
  },
  {
   "cell_type": "code",
   "execution_count": 14,
   "metadata": {},
   "outputs": [
    {
     "name": "stdout",
     "output_type": "stream",
     "text": [
      "layer: 0, position: 0\n"
     ]
    },
    {
     "name": "stderr",
     "output_type": "stream",
     "text": [
      "100%|██████████| 100/100 [00:02<00:00, 34.10it/s]\n",
      "100%|██████████| 50/50 [00:01<00:00, 30.16it/s]\n"
     ]
    },
    {
     "name": "stdout",
     "output_type": "stream",
     "text": [
      "acc: 50.000%, f1: 0.000\n",
      "layer: 0, position: 1\n"
     ]
    },
    {
     "name": "stderr",
     "output_type": "stream",
     "text": [
      "100%|██████████| 100/100 [00:03<00:00, 31.75it/s]\n",
      "100%|██████████| 50/50 [00:01<00:00, 30.52it/s]\n"
     ]
    },
    {
     "name": "stdout",
     "output_type": "stream",
     "text": [
      "acc: 100.000%, f1: 1.000\n",
      "layer: 0, position: 2\n"
     ]
    },
    {
     "name": "stderr",
     "output_type": "stream",
     "text": [
      "100%|██████████| 100/100 [00:03<00:00, 32.43it/s]\n",
      "100%|██████████| 50/50 [00:01<00:00, 30.03it/s]\n"
     ]
    },
    {
     "name": "stdout",
     "output_type": "stream",
     "text": [
      "acc: 94.000%, f1: 0.943\n",
      "layer: 0, position: 3\n"
     ]
    },
    {
     "name": "stderr",
     "output_type": "stream",
     "text": [
      "100%|██████████| 100/100 [00:03<00:00, 32.11it/s]\n",
      "100%|██████████| 50/50 [00:01<00:00, 30.45it/s]\n"
     ]
    },
    {
     "name": "stdout",
     "output_type": "stream",
     "text": [
      "acc: 83.000%, f1: 0.841\n",
      "layer: 1, position: 0\n"
     ]
    },
    {
     "name": "stderr",
     "output_type": "stream",
     "text": [
      "100%|██████████| 100/100 [00:03<00:00, 32.32it/s]\n",
      "100%|██████████| 50/50 [00:01<00:00, 29.94it/s]\n"
     ]
    },
    {
     "name": "stdout",
     "output_type": "stream",
     "text": [
      "acc: 50.000%, f1: 0.000\n",
      "layer: 1, position: 1\n"
     ]
    },
    {
     "name": "stderr",
     "output_type": "stream",
     "text": [
      "100%|██████████| 100/100 [00:03<00:00, 32.07it/s]\n",
      "100%|██████████| 50/50 [00:01<00:00, 29.73it/s]\n"
     ]
    },
    {
     "name": "stdout",
     "output_type": "stream",
     "text": [
      "acc: 100.000%, f1: 1.000\n",
      "layer: 1, position: 2\n"
     ]
    },
    {
     "name": "stderr",
     "output_type": "stream",
     "text": [
      "100%|██████████| 100/100 [00:03<00:00, 31.65it/s]\n",
      "100%|██████████| 50/50 [00:01<00:00, 30.00it/s]\n"
     ]
    },
    {
     "name": "stdout",
     "output_type": "stream",
     "text": [
      "acc: 98.000%, f1: 0.980\n",
      "layer: 1, position: 3\n"
     ]
    },
    {
     "name": "stderr",
     "output_type": "stream",
     "text": [
      "100%|██████████| 100/100 [00:03<00:00, 32.07it/s]\n",
      "100%|██████████| 50/50 [00:01<00:00, 30.33it/s]\n"
     ]
    },
    {
     "name": "stdout",
     "output_type": "stream",
     "text": [
      "acc: 92.000%, f1: 0.926\n",
      "layer: 2, position: 0\n"
     ]
    },
    {
     "name": "stderr",
     "output_type": "stream",
     "text": [
      "100%|██████████| 100/100 [00:03<00:00, 31.85it/s]\n",
      "100%|██████████| 50/50 [00:01<00:00, 30.61it/s]\n"
     ]
    },
    {
     "name": "stdout",
     "output_type": "stream",
     "text": [
      "acc: 50.000%, f1: 0.000\n",
      "layer: 2, position: 1\n"
     ]
    },
    {
     "name": "stderr",
     "output_type": "stream",
     "text": [
      "100%|██████████| 100/100 [00:03<00:00, 32.26it/s]\n",
      "100%|██████████| 50/50 [00:01<00:00, 29.91it/s]\n"
     ]
    },
    {
     "name": "stdout",
     "output_type": "stream",
     "text": [
      "acc: 100.000%, f1: 1.000\n",
      "layer: 2, position: 2\n"
     ]
    },
    {
     "name": "stderr",
     "output_type": "stream",
     "text": [
      "100%|██████████| 100/100 [00:03<00:00, 32.10it/s]\n",
      "100%|██████████| 50/50 [00:01<00:00, 29.96it/s]\n"
     ]
    },
    {
     "name": "stdout",
     "output_type": "stream",
     "text": [
      "acc: 100.000%, f1: 1.000\n",
      "layer: 2, position: 3\n"
     ]
    },
    {
     "name": "stderr",
     "output_type": "stream",
     "text": [
      "100%|██████████| 100/100 [00:03<00:00, 31.84it/s]\n",
      "100%|██████████| 50/50 [00:01<00:00, 30.01it/s]\n"
     ]
    },
    {
     "name": "stdout",
     "output_type": "stream",
     "text": [
      "acc: 100.000%, f1: 1.000\n",
      "layer: 3, position: 0\n"
     ]
    },
    {
     "name": "stderr",
     "output_type": "stream",
     "text": [
      "100%|██████████| 100/100 [00:03<00:00, 32.13it/s]\n",
      "100%|██████████| 50/50 [00:01<00:00, 29.99it/s]\n"
     ]
    },
    {
     "name": "stdout",
     "output_type": "stream",
     "text": [
      "acc: 50.000%, f1: 0.000\n",
      "layer: 3, position: 1\n"
     ]
    },
    {
     "name": "stderr",
     "output_type": "stream",
     "text": [
      "100%|██████████| 100/100 [00:03<00:00, 30.75it/s]\n",
      "100%|██████████| 50/50 [00:01<00:00, 30.07it/s]\n"
     ]
    },
    {
     "name": "stdout",
     "output_type": "stream",
     "text": [
      "acc: 100.000%, f1: 1.000\n",
      "layer: 3, position: 2\n"
     ]
    },
    {
     "name": "stderr",
     "output_type": "stream",
     "text": [
      "100%|██████████| 100/100 [00:03<00:00, 32.00it/s]\n",
      "100%|██████████| 50/50 [00:01<00:00, 29.59it/s]\n"
     ]
    },
    {
     "name": "stdout",
     "output_type": "stream",
     "text": [
      "acc: 100.000%, f1: 1.000\n",
      "layer: 3, position: 3\n"
     ]
    },
    {
     "name": "stderr",
     "output_type": "stream",
     "text": [
      "100%|██████████| 100/100 [00:03<00:00, 31.73it/s]\n",
      "100%|██████████| 50/50 [00:01<00:00, 29.83it/s]\n"
     ]
    },
    {
     "name": "stdout",
     "output_type": "stream",
     "text": [
      "acc: 100.000%, f1: 1.000\n",
      "layer: 4, position: 0\n"
     ]
    },
    {
     "name": "stderr",
     "output_type": "stream",
     "text": [
      "100%|██████████| 100/100 [00:03<00:00, 32.05it/s]\n",
      "100%|██████████| 50/50 [00:01<00:00, 30.03it/s]\n"
     ]
    },
    {
     "name": "stdout",
     "output_type": "stream",
     "text": [
      "acc: 50.000%, f1: 0.000\n",
      "layer: 4, position: 1\n"
     ]
    },
    {
     "name": "stderr",
     "output_type": "stream",
     "text": [
      "100%|██████████| 100/100 [00:03<00:00, 31.94it/s]\n",
      "100%|██████████| 50/50 [00:01<00:00, 29.97it/s]\n"
     ]
    },
    {
     "name": "stdout",
     "output_type": "stream",
     "text": [
      "acc: 100.000%, f1: 1.000\n",
      "layer: 4, position: 2\n"
     ]
    },
    {
     "name": "stderr",
     "output_type": "stream",
     "text": [
      "100%|██████████| 100/100 [00:03<00:00, 32.09it/s]\n",
      "100%|██████████| 50/50 [00:01<00:00, 30.13it/s]\n"
     ]
    },
    {
     "name": "stdout",
     "output_type": "stream",
     "text": [
      "acc: 100.000%, f1: 1.000\n",
      "layer: 4, position: 3\n"
     ]
    },
    {
     "name": "stderr",
     "output_type": "stream",
     "text": [
      "100%|██████████| 100/100 [00:03<00:00, 31.98it/s]\n",
      "100%|██████████| 50/50 [00:01<00:00, 30.42it/s]\n"
     ]
    },
    {
     "name": "stdout",
     "output_type": "stream",
     "text": [
      "acc: 100.000%, f1: 1.000\n",
      "layer: 5, position: 0\n"
     ]
    },
    {
     "name": "stderr",
     "output_type": "stream",
     "text": [
      "100%|██████████| 100/100 [00:03<00:00, 31.72it/s]\n",
      "100%|██████████| 50/50 [00:01<00:00, 29.95it/s]\n"
     ]
    },
    {
     "name": "stdout",
     "output_type": "stream",
     "text": [
      "acc: 50.000%, f1: 0.000\n",
      "layer: 5, position: 1\n"
     ]
    },
    {
     "name": "stderr",
     "output_type": "stream",
     "text": [
      "100%|██████████| 100/100 [00:03<00:00, 32.19it/s]\n",
      "100%|██████████| 50/50 [00:01<00:00, 30.05it/s]\n"
     ]
    },
    {
     "name": "stdout",
     "output_type": "stream",
     "text": [
      "acc: 100.000%, f1: 1.000\n",
      "layer: 5, position: 2\n"
     ]
    },
    {
     "name": "stderr",
     "output_type": "stream",
     "text": [
      "100%|██████████| 100/100 [00:03<00:00, 28.73it/s]\n",
      "100%|██████████| 50/50 [00:01<00:00, 30.20it/s]\n"
     ]
    },
    {
     "name": "stdout",
     "output_type": "stream",
     "text": [
      "acc: 100.000%, f1: 1.000\n",
      "layer: 5, position: 3\n"
     ]
    },
    {
     "name": "stderr",
     "output_type": "stream",
     "text": [
      "100%|██████████| 100/100 [00:03<00:00, 32.12it/s]\n",
      "100%|██████████| 50/50 [00:01<00:00, 30.31it/s]"
     ]
    },
    {
     "name": "stdout",
     "output_type": "stream",
     "text": [
      "acc: 100.000%, f1: 1.000\n"
     ]
    },
    {
     "name": "stderr",
     "output_type": "stream",
     "text": [
      "\n"
     ]
    }
   ],
   "source": [
    "# intervention settings\n",
    "stats = []\n",
    "num_layers = gpt.config.num_hidden_layers\n",
    "\n",
    "# 344 = \" he\", 703 = \" she\"\n",
    "label_mapping = {344: 0, 703: 1}\n",
    "\n",
    "# loop over layers and positions\n",
    "with torch.no_grad():\n",
    "    for layer in range(num_layers):\n",
    "        for position in range(4):\n",
    "            print(f\"layer: {layer}, position: {position}\")\n",
    "\n",
    "            # set up intervenable model\n",
    "            config = probing_config(\"block_output\", layer)\n",
    "            intervenable = pv.IntervenableModel(config, gpt)\n",
    "            intervenable.set_device(device)\n",
    "            intervenable.disable_model_gradients()\n",
    "\n",
    "            # training loop\n",
    "            activations, labels = [], []\n",
    "            iterator = tqdm(trainset)\n",
    "            for example in iterator:\n",
    "                # forward pass\n",
    "                base_outputs, _ = intervenable(\n",
    "                    example.base,\n",
    "                    unit_locations={\"base\": position},\n",
    "                )\n",
    "                base_activations = base_outputs[1][0]\n",
    "\n",
    "                src_outputs, _ = intervenable(\n",
    "                    example.src,\n",
    "                    unit_locations={\"base\": position},\n",
    "                )\n",
    "                src_activations = src_outputs[1][0]\n",
    "                \n",
    "                # collect activation\n",
    "                activations.extend(\n",
    "                    [base_activations.detach()[0].cpu().numpy(), src_activations.detach()[0].cpu().numpy()]\n",
    "                )\n",
    "                labels.extend([example.base_label, example.src_label])\n",
    "            labels = [label_mapping[label] for label in labels]\n",
    "            \n",
    "            # train logistic regression\n",
    "            lr = LogisticRegression(random_state=42, max_iter=1000).fit(\n",
    "                activations, labels\n",
    "            )\n",
    "\n",
    "            # eval\n",
    "            activations, labels = [], []\n",
    "            iterator = tqdm(evalset)\n",
    "            for example in iterator:\n",
    "                # forward pass\n",
    "                base_outputs, _ = intervenable(\n",
    "                    example.base,\n",
    "                    unit_locations={\"base\": position},\n",
    "                )\n",
    "                base_activations = base_outputs[1][0]\n",
    "\n",
    "                src_outputs, _ = intervenable(\n",
    "                    example.src,\n",
    "                    unit_locations={\"base\": position},\n",
    "                )\n",
    "                src_activations = src_outputs[1][0]\n",
    "                \n",
    "                # collect activation\n",
    "                activations.extend(\n",
    "                    [base_activations.detach()[0].cpu().numpy(), src_activations.detach()[0].cpu().numpy()]\n",
    "                )\n",
    "                labels.extend([example.base_label, example.src_label])\n",
    "            labels = [label_mapping[label] for label in labels]\n",
    "\n",
    "            # stats\n",
    "            acc = lr.score(activations, labels)\n",
    "            f1 = f1_score(labels, lr.predict(activations))\n",
    "            stats.append({\"layer\": layer, \"position\": position, \"acc\": acc, \"f1\": f1})\n",
    "            print(f\"acc: {acc:.3%}, f1: {f1:.3f}\")\n",
    "df = pd.DataFrame(stats)\n",
    "df.to_csv(f\"./tutorial_data/pyvene_gender_probe.csv\")"
   ]
  },
  {
   "cell_type": "markdown",
   "metadata": {},
   "source": [
    "And the probe accuracy plot is below. Note the extremely high accuracy at all positions at and after the name! Early layers at later positions are better but it saturates much before the IIA for DAS. This shows how unreliable probes are for tracing causal effect."
   ]
  },
  {
   "cell_type": "code",
   "execution_count": 15,
   "metadata": {},
   "outputs": [
    {
     "name": "stderr",
     "output_type": "stream",
     "text": [
      "/Users/lukasz/miniconda3/envs/nlp/lib/python3.11/site-packages/plotnine/ggplot.py:615: PlotnineWarning: Saving 5 x 3 in image.\n",
      "/Users/lukasz/miniconda3/envs/nlp/lib/python3.11/site-packages/plotnine/ggplot.py:616: PlotnineWarning: Filename: ./tutorial_data/pyvene_gender_probe.pdf\n"
     ]
    },
    {
     "data": {
      "image/png": "[encoded data removed]"
     },
     "metadata": {
      "image/png": {
       "height": 300,
       "width": 500
      }
     },
     "output_type": "display_data"
    }
   ],
   "source": [
    "df = pd.read_csv(f\"./tutorial_data/pyvene_gender_probe.csv\")\n",
    "df[\"layer\"] = df[\"layer\"].astype(int)\n",
    "df[\"pos\"] = df[\"position\"].astype(int)\n",
    "df[\"ACC\"] = df[\"acc\"].astype(float)\n",
    "\n",
    "custom_labels = [\"EOS\", \"<name>\", \"walked\", \"because\"]\n",
    "breaks = [0, 1, 2, 3]\n",
    "\n",
    "plot = (\n",
    "    ggplot(df, aes(x=\"layer\", y=\"pos\", fill=\"ACC\"))    \n",
    "    + geom_tile()\n",
    "    + scale_fill_cmap(\"Reds\") + xlab(\"layers\")\n",
    "    + scale_y_reverse(\n",
    "        limits = (-0.5, 3.5), \n",
    "        breaks=breaks, labels=custom_labels) \n",
    "    + theme(figure_size=(5, 3)) + ylab(\"\") \n",
    "    + theme(axis_text_y  = element_text(angle = 90, hjust = 1))\n",
    "    + ggtitle(\"Trained Linear Probe\")\n",
    ")\n",
    "ggsave(\n",
    "    plot, filename=f\"./tutorial_data/pyvene_gender_probe.pdf\", dpi=200\n",
    ")\n",
    "display(plot)"
   ]
  },
  {
   "cell_type": "code",
   "execution_count": null,
   "metadata": {},
   "outputs": [],
   "source": []
  }
 ],
 "metadata": {
  "kernelspec": {
   "display_name": "nlp",
   "language": "python",
   "name": "python3"
  },
  "language_info": {
   "codemirror_mode": {
    "name": "ipython",
    "version": 3
   },
   "file_extension": ".py",
   "mimetype": "text/x-python",
   "name": "python",
   "nbconvert_exporter": "python",
   "pygments_lexer": "ipython3",
   "version": "3.11.10"
  }
 },
 "nbformat": 4,
 "nbformat_minor": 4
}
