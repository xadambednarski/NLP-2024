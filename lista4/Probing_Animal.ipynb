{
 "cells": [
  {
   "cell_type": "markdown",
   "metadata": {},
   "source": [
    "## Setup"
   ]
  },
  {
   "cell_type": "code",
   "execution_count": 1,
   "metadata": {},
   "outputs": [],
   "source": [
    "import pyvene as pv"
   ]
  },
  {
   "cell_type": "code",
   "execution_count": 2,
   "metadata": {},
   "outputs": [],
   "source": [
    "import pandas as pd\n",
    "from transformers import (\n",
    "    AutoModelForCausalLM,\n",
    "    AutoTokenizer,\n",
    "    get_linear_schedule_with_warmup,\n",
    ")\n",
    "import torch\n",
    "import random\n",
    "from sklearn.linear_model import LogisticRegression\n",
    "from sklearn.metrics import f1_score\n",
    "\n",
    "%config InlineBackend.figure_formats = ['svg']\n",
    "from plotnine import (\n",
    "    ggplot,\n",
    "    geom_tile,\n",
    "    aes,\n",
    "    facet_wrap,\n",
    "    theme,\n",
    "    element_text,\n",
    "    geom_bar,\n",
    "    geom_hline,\n",
    "    scale_y_log10,\n",
    "    geom_line,\n",
    "    geom_point,\n",
    "    geom_text,\n",
    "    ggtitle, xlab, ylab, \n",
    "    ggsave\n",
    ")\n",
    "from plotnine.scales import scale_y_reverse, scale_fill_cmap\n",
    "from tqdm import tqdm\n",
    "from collections import namedtuple"
   ]
  },
  {
   "cell_type": "markdown",
   "metadata": {},
   "source": [
    "## Load model and data"
   ]
  },
  {
   "cell_type": "code",
   "execution_count": 3,
   "metadata": {},
   "outputs": [],
   "source": [
    "device = \"cuda:0\" if torch.cuda.is_available() else \"cpu\"\n",
    "model = \"EleutherAI/pythia-70m\" # \"EleutherAI/pythia-6.9B\"\n",
    "tokenizer = AutoTokenizer.from_pretrained(model)\n",
    "tokenizer.pad_token = tokenizer.eos_token\n",
    "gpt = AutoModelForCausalLM.from_pretrained(\n",
    "    model,\n",
    "    revision=\"main\",\n",
    "    torch_dtype=torch.bfloat16 if model == \"EleutherAI/pythia-6.9b\" else torch.float32,\n",
    ").to(device)"
   ]
  },
  {
   "cell_type": "code",
   "execution_count": 4,
   "metadata": {},
   "outputs": [],
   "source": [
    "from datasets import load_dataset\n",
    "\n",
    "ds = load_dataset(\"tasksource/babi_nli\", \"basic-deduction\")"
   ]
  },
  {
   "cell_type": "markdown",
   "metadata": {},
   "source": [
    "We have a list of 100 names for each gender, and we'll filter for names that are one token in length. We'll further filter for examples the model agrees with our labels for, since some of these names might be ambiguous or the model might not have the expected behaviour. This ensures that baseline IIA is 0."
   ]
  },
  {
   "cell_type": "code",
   "execution_count": 5,
   "metadata": {},
   "outputs": [],
   "source": [
    "def get_input_and_label(sample):\n",
    "    full_sample = sample[\"hypothesis\"] + \" \" + sample[\"premise\"]\n",
    "    elements = full_sample.split(\" \")\n",
    "    input_ = \" \".join(elements[:-1]) + \" \"\n",
    "    label = elements[-1][:-1]\n",
    "    return input_, label"
   ]
  },
  {
   "cell_type": "code",
   "execution_count": 6,
   "metadata": {},
   "outputs": [],
   "source": [
    "SINGLE_TOKEN_ANIMALS = ['mouse', 'cat', 'wolf', 'cats']\n",
    "\n",
    "def filter_dataset(ds):\n",
    "    filtered_ds = []\n",
    "    for sample in ds:\n",
    "        if sample[\"label\"] == 0:\n",
    "            input_, label = get_input_and_label(sample)\n",
    "            if label in SINGLE_TOKEN_ANIMALS:\n",
    "                filtered_ds.append({\"sample\": input_, \"label\": label})\n",
    "    return filtered_ds"
   ]
  },
  {
   "cell_type": "code",
   "execution_count": 7,
   "metadata": {},
   "outputs": [],
   "source": [
    "filtered_dataset = filter_dataset(ds[\"train\"])"
   ]
  },
  {
   "cell_type": "code",
   "execution_count": 8,
   "metadata": {},
   "outputs": [],
   "source": [
    "unique_labels = set([sample[\"label\"] for sample in filtered_dataset])"
   ]
  },
  {
   "cell_type": "code",
   "execution_count": 9,
   "metadata": {},
   "outputs": [
    {
     "data": {
      "text/plain": [
       "{'cat', 'cats', 'mouse', 'wolf'}"
      ]
     },
     "execution_count": 9,
     "metadata": {},
     "output_type": "execute_result"
    }
   ],
   "source": [
    "unique_labels"
   ]
  },
  {
   "cell_type": "code",
   "execution_count": 10,
   "metadata": {},
   "outputs": [
    {
     "name": "stdout",
     "output_type": "stream",
     "text": [
      "mouse\n",
      "[19618]\n",
      "cats\n",
      "[38718]\n",
      "cat\n",
      "[8076]\n",
      "wolf\n",
      "[40995]\n"
     ]
    }
   ],
   "source": [
    "for label in unique_labels:\n",
    "    tokenized = tokenizer.encode(label)\n",
    "    print(label)\n",
    "    print(tokenized)"
   ]
  },
  {
   "cell_type": "code",
   "execution_count": 11,
   "metadata": {},
   "outputs": [],
   "source": [
    "Example = namedtuple(\"Example\", [\"base\", \"src\", \"base_label\", \"src_label\"])\n",
    "\n",
    "def sample_example(tokenizer):\n",
    "    base_sample = random.choice(filtered_dataset)\n",
    "    src_samples = [sample for sample in filtered_dataset if sample[\"label\"] != base_sample[\"label\"]]\n",
    "\n",
    "    src_sample = random.choice(src_samples)\n",
    "\n",
    "    base = tokenizer(base_sample[\"sample\"], return_tensors=\"pt\")\n",
    "    src = tokenizer(src_sample[\"sample\"], return_tensors=\"pt\")\n",
    "    base_label = tokenizer.encode(base_sample[\"label\"])[0]\n",
    "    src_label = tokenizer.encode(src_sample[\"label\"])[0]\n",
    "    return Example(base, src, base_label, src_label)"
   ]
  },
  {
   "cell_type": "code",
   "execution_count": 12,
   "metadata": {},
   "outputs": [],
   "source": [
    "def generate_n_doable_examples(n, model, tokenizer):\n",
    "    examples = []\n",
    "    iterator = tqdm(range(n))\n",
    "    while len(examples) < n:\n",
    "        ex = sample_example(tokenizer)\n",
    "        for k, v in ex.base.items():\n",
    "            if v is not None and isinstance(v, torch.Tensor):\n",
    "                ex.base[k] = v.to(model.device)\n",
    "        for k, v in ex.src.items():\n",
    "            if v is not None and isinstance(v, torch.Tensor):\n",
    "                ex.src[k] = v.to(model.device)\n",
    "        logits_base = model(**ex.base).logits[0, -1]\n",
    "        logits_src = model(**ex.src).logits[0, -1]\n",
    "        if (\n",
    "            logits_base[ex.base_label] > logits_base[ex.src_label]\n",
    "            and logits_src[ex.src_label] > logits_src[ex.base_label]\n",
    "        ):\n",
    "            examples.append(ex)\n",
    "            iterator.update(1)\n",
    "    return examples"
   ]
  },
  {
   "cell_type": "code",
   "execution_count": 13,
   "metadata": {},
   "outputs": [
    {
     "name": "stderr",
     "output_type": "stream",
     "text": [
      "100%|██████████| 100/100 [00:20<00:00,  4.98it/s]\n",
      "100%|██████████| 50/50 [00:09<00:00,  5.17it/s]\n"
     ]
    }
   ],
   "source": [
    "# make dataset\n",
    "total_steps = 100\n",
    "trainset = generate_n_doable_examples(total_steps, gpt, tokenizer)\n",
    "evalset = generate_n_doable_examples(50, gpt, tokenizer)"
   ]
  },
  {
   "cell_type": "markdown",
   "metadata": {},
   "source": [
    "## DAS\n",
    "\n",
    "This is the usual 1D DAS setup, training on batch size of 1."
   ]
  },
  {
   "cell_type": "code",
   "execution_count": 14,
   "metadata": {},
   "outputs": [],
   "source": [
    "def intervention_config(intervention_site, layer, num_dims=1):\n",
    "    config = pv.IntervenableConfig([\n",
    "        {\n",
    "            \"layer\": layer,\n",
    "            \"component\": intervention_site,\n",
    "            \"intervention_type\": pv.LowRankRotatedSpaceIntervention,\n",
    "            \"low_rank_dimension\": num_dims,\n",
    "        }\n",
    "    ])\n",
    "    return config"
   ]
  },
  {
   "cell_type": "code",
   "execution_count": 15,
   "metadata": {},
   "outputs": [],
   "source": [
    "# loss function\n",
    "loss_fct = torch.nn.CrossEntropyLoss()\n",
    "\n",
    "def calculate_loss(logits, label):\n",
    "    \"\"\"Calculate cross entropy between logits and a single target label (can be batched)\"\"\"\n",
    "    shift_labels = label.to(logits.device)\n",
    "    loss = loss_fct(logits, shift_labels)\n",
    "    return loss"
   ]
  },
  {
   "cell_type": "code",
   "execution_count": 16,
   "metadata": {},
   "outputs": [
    {
     "name": "stdout",
     "output_type": "stream",
     "text": [
      "layer: 0, position: 0\n"
     ]
    },
    {
     "name": "stderr",
     "output_type": "stream",
     "text": [
      "100%|██████████| 100/100 [00:05<00:00, 18.54it/s, loss=18.166]\n",
      "100%|██████████| 50/50 [00:01<00:00, 30.90it/s]\n"
     ]
    },
    {
     "name": "stdout",
     "output_type": "stream",
     "text": [
      "iia: 4.000%\n",
      "layer: 0, position: 1\n"
     ]
    },
    {
     "name": "stderr",
     "output_type": "stream",
     "text": [
      "100%|██████████| 100/100 [00:05<00:00, 19.82it/s, loss=18.317]\n",
      "100%|██████████| 50/50 [00:01<00:00, 31.63it/s]\n"
     ]
    },
    {
     "name": "stdout",
     "output_type": "stream",
     "text": [
      "iia: 2.000%\n",
      "layer: 0, position: 2\n"
     ]
    },
    {
     "name": "stderr",
     "output_type": "stream",
     "text": [
      "100%|██████████| 100/100 [00:05<00:00, 19.47it/s, loss=18.326]\n",
      "100%|██████████| 50/50 [00:01<00:00, 31.41it/s]\n"
     ]
    },
    {
     "name": "stdout",
     "output_type": "stream",
     "text": [
      "iia: 6.000%\n",
      "layer: 0, position: 3\n"
     ]
    },
    {
     "name": "stderr",
     "output_type": "stream",
     "text": [
      "100%|██████████| 100/100 [00:05<00:00, 17.58it/s, loss=18.355]\n",
      "100%|██████████| 50/50 [00:01<00:00, 25.22it/s]\n"
     ]
    },
    {
     "name": "stdout",
     "output_type": "stream",
     "text": [
      "iia: 4.000%\n",
      "layer: 1, position: 0\n"
     ]
    },
    {
     "name": "stderr",
     "output_type": "stream",
     "text": [
      "100%|██████████| 100/100 [00:05<00:00, 18.82it/s, loss=18.332]\n",
      "100%|██████████| 50/50 [00:01<00:00, 32.03it/s]\n"
     ]
    },
    {
     "name": "stdout",
     "output_type": "stream",
     "text": [
      "iia: 0.000%\n",
      "layer: 1, position: 1\n"
     ]
    },
    {
     "name": "stderr",
     "output_type": "stream",
     "text": [
      "100%|██████████| 100/100 [00:04<00:00, 20.74it/s, loss=18.502]\n",
      "100%|██████████| 50/50 [00:01<00:00, 31.82it/s]\n"
     ]
    },
    {
     "name": "stdout",
     "output_type": "stream",
     "text": [
      "iia: 0.000%\n",
      "layer: 1, position: 2\n"
     ]
    },
    {
     "name": "stderr",
     "output_type": "stream",
     "text": [
      "100%|██████████| 100/100 [00:04<00:00, 20.93it/s, loss=18.354]\n",
      "100%|██████████| 50/50 [00:01<00:00, 32.83it/s]\n"
     ]
    },
    {
     "name": "stdout",
     "output_type": "stream",
     "text": [
      "iia: 4.000%\n",
      "layer: 1, position: 3\n"
     ]
    },
    {
     "name": "stderr",
     "output_type": "stream",
     "text": [
      "100%|██████████| 100/100 [00:04<00:00, 20.89it/s, loss=18.383]\n",
      "100%|██████████| 50/50 [00:01<00:00, 30.33it/s]\n"
     ]
    },
    {
     "name": "stdout",
     "output_type": "stream",
     "text": [
      "iia: 6.000%\n",
      "layer: 2, position: 0\n"
     ]
    },
    {
     "name": "stderr",
     "output_type": "stream",
     "text": [
      "100%|██████████| 100/100 [00:05<00:00, 18.67it/s, loss=18.767]\n",
      "100%|██████████| 50/50 [00:01<00:00, 26.76it/s]\n"
     ]
    },
    {
     "name": "stdout",
     "output_type": "stream",
     "text": [
      "iia: 10.000%\n",
      "layer: 2, position: 1\n"
     ]
    },
    {
     "name": "stderr",
     "output_type": "stream",
     "text": [
      "100%|██████████| 100/100 [00:05<00:00, 19.85it/s, loss=18.355]\n",
      "100%|██████████| 50/50 [00:01<00:00, 31.66it/s]\n"
     ]
    },
    {
     "name": "stdout",
     "output_type": "stream",
     "text": [
      "iia: 6.000%\n",
      "layer: 2, position: 2\n"
     ]
    },
    {
     "name": "stderr",
     "output_type": "stream",
     "text": [
      "100%|██████████| 100/100 [00:04<00:00, 21.40it/s, loss=18.245]\n",
      "100%|██████████| 50/50 [00:01<00:00, 32.05it/s]\n"
     ]
    },
    {
     "name": "stdout",
     "output_type": "stream",
     "text": [
      "iia: 0.000%\n",
      "layer: 2, position: 3\n"
     ]
    },
    {
     "name": "stderr",
     "output_type": "stream",
     "text": [
      "100%|██████████| 100/100 [00:04<00:00, 21.45it/s, loss=18.371]\n",
      "100%|██████████| 50/50 [00:01<00:00, 28.63it/s]\n"
     ]
    },
    {
     "name": "stdout",
     "output_type": "stream",
     "text": [
      "iia: 4.000%\n",
      "layer: 3, position: 0\n"
     ]
    },
    {
     "name": "stderr",
     "output_type": "stream",
     "text": [
      "100%|██████████| 100/100 [00:04<00:00, 20.38it/s, loss=18.394]\n",
      "100%|██████████| 50/50 [00:01<00:00, 26.87it/s]\n"
     ]
    },
    {
     "name": "stdout",
     "output_type": "stream",
     "text": [
      "iia: 8.000%\n",
      "layer: 3, position: 1\n"
     ]
    },
    {
     "name": "stderr",
     "output_type": "stream",
     "text": [
      "100%|██████████| 100/100 [00:04<00:00, 20.98it/s, loss=18.389]\n",
      "100%|██████████| 50/50 [00:01<00:00, 29.42it/s]\n"
     ]
    },
    {
     "name": "stdout",
     "output_type": "stream",
     "text": [
      "iia: 0.000%\n",
      "layer: 3, position: 2\n"
     ]
    },
    {
     "name": "stderr",
     "output_type": "stream",
     "text": [
      "100%|██████████| 100/100 [00:04<00:00, 22.00it/s, loss=18.352]\n",
      "100%|██████████| 50/50 [00:01<00:00, 30.12it/s]\n"
     ]
    },
    {
     "name": "stdout",
     "output_type": "stream",
     "text": [
      "iia: 0.000%\n",
      "layer: 3, position: 3\n"
     ]
    },
    {
     "name": "stderr",
     "output_type": "stream",
     "text": [
      "100%|██████████| 100/100 [00:04<00:00, 20.64it/s, loss=18.354]\n",
      "100%|██████████| 50/50 [00:01<00:00, 30.52it/s]\n"
     ]
    },
    {
     "name": "stdout",
     "output_type": "stream",
     "text": [
      "iia: 4.000%\n",
      "layer: 4, position: 0\n"
     ]
    },
    {
     "name": "stderr",
     "output_type": "stream",
     "text": [
      "100%|██████████| 100/100 [00:04<00:00, 22.19it/s, loss=18.546]\n",
      "100%|██████████| 50/50 [00:01<00:00, 25.12it/s]\n"
     ]
    },
    {
     "name": "stdout",
     "output_type": "stream",
     "text": [
      "iia: 8.000%\n",
      "layer: 4, position: 1\n"
     ]
    },
    {
     "name": "stderr",
     "output_type": "stream",
     "text": [
      "100%|██████████| 100/100 [00:04<00:00, 22.61it/s, loss=18.352]\n",
      "100%|██████████| 50/50 [00:01<00:00, 31.28it/s]\n"
     ]
    },
    {
     "name": "stdout",
     "output_type": "stream",
     "text": [
      "iia: 0.000%\n",
      "layer: 4, position: 2\n"
     ]
    },
    {
     "name": "stderr",
     "output_type": "stream",
     "text": [
      "100%|██████████| 100/100 [00:04<00:00, 23.39it/s, loss=18.352]\n",
      "100%|██████████| 50/50 [00:01<00:00, 31.57it/s]\n"
     ]
    },
    {
     "name": "stdout",
     "output_type": "stream",
     "text": [
      "iia: 0.000%\n",
      "layer: 4, position: 3\n"
     ]
    },
    {
     "name": "stderr",
     "output_type": "stream",
     "text": [
      "100%|██████████| 100/100 [00:04<00:00, 23.55it/s, loss=18.352]\n",
      "100%|██████████| 50/50 [00:01<00:00, 30.38it/s]\n"
     ]
    },
    {
     "name": "stdout",
     "output_type": "stream",
     "text": [
      "iia: 0.000%\n",
      "layer: 5, position: 0\n"
     ]
    },
    {
     "name": "stderr",
     "output_type": "stream",
     "text": [
      "100%|██████████| 100/100 [00:04<00:00, 21.95it/s, loss=18.352]\n",
      "100%|██████████| 50/50 [00:01<00:00, 25.06it/s]\n"
     ]
    },
    {
     "name": "stdout",
     "output_type": "stream",
     "text": [
      "iia: 0.000%\n",
      "layer: 5, position: 1\n"
     ]
    },
    {
     "name": "stderr",
     "output_type": "stream",
     "text": [
      "100%|██████████| 100/100 [00:04<00:00, 22.91it/s, loss=18.352]\n",
      "100%|██████████| 50/50 [00:01<00:00, 31.98it/s]\n"
     ]
    },
    {
     "name": "stdout",
     "output_type": "stream",
     "text": [
      "iia: 0.000%\n",
      "layer: 5, position: 2\n"
     ]
    },
    {
     "name": "stderr",
     "output_type": "stream",
     "text": [
      "100%|██████████| 100/100 [00:04<00:00, 23.81it/s, loss=18.352]\n",
      "100%|██████████| 50/50 [00:01<00:00, 28.55it/s]\n"
     ]
    },
    {
     "name": "stdout",
     "output_type": "stream",
     "text": [
      "iia: 0.000%\n",
      "layer: 5, position: 3\n"
     ]
    },
    {
     "name": "stderr",
     "output_type": "stream",
     "text": [
      "100%|██████████| 100/100 [00:04<00:00, 24.24it/s, loss=18.352]\n",
      "100%|██████████| 50/50 [00:01<00:00, 33.25it/s]"
     ]
    },
    {
     "name": "stdout",
     "output_type": "stream",
     "text": [
      "iia: 0.000%\n"
     ]
    },
    {
     "name": "stderr",
     "output_type": "stream",
     "text": [
      "\n"
     ]
    }
   ],
   "source": [
    "# intervention settings\n",
    "stats = []\n",
    "num_layers = gpt.config.num_hidden_layers\n",
    "\n",
    "# loop over layers and positions\n",
    "for layer in range(num_layers):\n",
    "    for position in range(4):\n",
    "        print(f\"layer: {layer}, position: {position}\")\n",
    "\n",
    "        # set up intervenable model\n",
    "        config = intervention_config(\"block_output\", layer, 1)\n",
    "        intervenable = pv.IntervenableModel(config, gpt)\n",
    "        intervenable.set_device(device)\n",
    "        intervenable.disable_model_gradients()\n",
    "\n",
    "        # set up optimizer\n",
    "        optimizer_params = []\n",
    "        for k, v in intervenable.interventions.items():\n",
    "            try:\n",
    "                optimizer_params.append({\"params\": v[0].rotate_layer.parameters()})\n",
    "            except:\n",
    "                pass\n",
    "        optimizer = torch.optim.Adam(optimizer_params, lr=1e-3)\n",
    "        scheduler = get_linear_schedule_with_warmup(\n",
    "            optimizer,\n",
    "            num_warmup_steps=int(0.1 * total_steps),\n",
    "            num_training_steps=total_steps,\n",
    "        )\n",
    "\n",
    "        # training loop\n",
    "        iterator = tqdm(trainset)\n",
    "        for example in iterator:\n",
    "            # forward pass\n",
    "            _, counterfactual_outputs = intervenable(\n",
    "                example.base,\n",
    "                [example.src],\n",
    "                {\"sources->base\": position},\n",
    "            )\n",
    "\n",
    "            # loss\n",
    "            logits = counterfactual_outputs.logits[:, -1]\n",
    "            loss = calculate_loss(logits, torch.tensor([example.src_label]).to(device))\n",
    "            iterator.set_postfix({\"loss\": f\"{loss.item():.3f}\"})\n",
    "\n",
    "            # backward\n",
    "            loss.backward()\n",
    "            optimizer.step()\n",
    "            scheduler.step()\n",
    "\n",
    "        # eval\n",
    "        with torch.no_grad():\n",
    "            iia = 0\n",
    "            iterator = tqdm(evalset)\n",
    "            for example in iterator:\n",
    "                # forward\n",
    "                _, counterfactual_outputs = intervenable(\n",
    "                    example.base,\n",
    "                    [example.src],\n",
    "                    {\"sources->base\": position},\n",
    "                )\n",
    "\n",
    "                # calculate iia\n",
    "                logits = counterfactual_outputs.logits[0, -1]\n",
    "                if logits[example.src_label] > logits[example.base_label]:\n",
    "                    iia += 1\n",
    "\n",
    "            # stats\n",
    "            iia = iia / len(evalset)\n",
    "            stats.append({\"layer\": layer, \"position\": position, \"iia\": iia})\n",
    "            print(f\"iia: {iia:.3%}\")\n",
    "df = pd.DataFrame(stats)\n",
    "df.to_csv(f\"./tutorial_data/pyvene_gender_das.csv\")"
   ]
  },
  {
   "cell_type": "markdown",
   "metadata": {},
   "source": [
    "And this is the plot of IIA. In layers 2 and 3 it seems the gender is represented across positions 1-3, and entirely in position 3 in later layers."
   ]
  },
  {
   "cell_type": "code",
   "execution_count": 17,
   "metadata": {},
   "outputs": [
    {
     "name": "stderr",
     "output_type": "stream",
     "text": [
      "/Users/lukasz/miniconda3/envs/nlp/lib/python3.11/site-packages/plotnine/ggplot.py:615: PlotnineWarning: Saving 5 x 3 in image.\n",
      "/Users/lukasz/miniconda3/envs/nlp/lib/python3.11/site-packages/plotnine/ggplot.py:616: PlotnineWarning: Filename: ./tutorial_data/pyvene_gender_das.pdf\n"
     ]
    },
    {
     "data": {
      "image/png": "[encoded data removed]"
     },
     "metadata": {
      "image/png": {
       "height": 300,
       "width": 500
      }
     },
     "output_type": "display_data"
    }
   ],
   "source": [
    "df = pd.read_csv(f\"./tutorial_data/pyvene_gender_das.csv\")\n",
    "df[\"layer\"] = df[\"layer\"].astype(int)\n",
    "df[\"pos\"] = df[\"position\"].astype(int)\n",
    "df[\"IIA\"] = df[\"iia\"].astype(float)\n",
    "\n",
    "custom_labels = [\"<name>\", \"is\", \"afraid\", \"of\", \"<animal>\"]\n",
    "breaks = [0, 1, 2, 3, 4]\n",
    "\n",
    "plot = (\n",
    "    ggplot(df, aes(x=\"layer\", y=\"pos\"))    \n",
    "    + geom_tile(aes(fill=\"IIA\"))\n",
    "    + scale_fill_cmap(\"Purples\") + xlab(\"layers\")\n",
    "    + scale_y_reverse(\n",
    "        limits = (-0.5, 3.5), \n",
    "        breaks=breaks, labels=custom_labels) \n",
    "    + theme(figure_size=(5, 3)) + ylab(\"\") \n",
    "    + theme(axis_text_y  = element_text(angle = 90, hjust = 1))\n",
    "    + ggtitle(\"Trained Intervention (DAS)\")\n",
    ")\n",
    "ggsave(\n",
    "    plot, filename=f\"./tutorial_data/pyvene_gender_das.pdf\", dpi=200\n",
    ")\n",
    "display(plot)"
   ]
  },
  {
   "cell_type": "markdown",
   "metadata": {},
   "source": [
    "## Probing\n",
    "\n",
    "We'll define a dummy intervention `CollectActivation` to collect activations and train a simple probe."
   ]
  },
  {
   "cell_type": "code",
   "execution_count": 18,
   "metadata": {},
   "outputs": [],
   "source": [
    "def probing_config(intervention_site, layer):\n",
    "    \"\"\"Generate intervention config.\"\"\"\n",
    "\n",
    "    # init\n",
    "    config = pv.IntervenableConfig([{\n",
    "        \"layer\": layer,\n",
    "        \"component\": intervention_site,\n",
    "        \"intervention_type\": pv.CollectIntervention,\n",
    "    }])\n",
    "    return config"
   ]
  },
  {
   "cell_type": "markdown",
   "metadata": {},
   "source": [
    "This is the training loop."
   ]
  },
  {
   "cell_type": "code",
   "execution_count": 19,
   "metadata": {},
   "outputs": [
    {
     "name": "stdout",
     "output_type": "stream",
     "text": [
      "layer: 0, position: 0\n"
     ]
    },
    {
     "name": "stderr",
     "output_type": "stream",
     "text": [
      "100%|██████████| 100/100 [00:03<00:00, 32.53it/s]\n",
      "100%|██████████| 50/50 [00:01<00:00, 28.31it/s]\n"
     ]
    },
    {
     "name": "stdout",
     "output_type": "stream",
     "text": [
      "acc: 44.000%, f1: 0.440\n",
      "layer: 0, position: 1\n"
     ]
    },
    {
     "name": "stderr",
     "output_type": "stream",
     "text": [
      "100%|██████████| 100/100 [00:03<00:00, 32.40it/s]\n",
      "100%|██████████| 50/50 [00:01<00:00, 27.23it/s]\n"
     ]
    },
    {
     "name": "stdout",
     "output_type": "stream",
     "text": [
      "acc: 44.000%, f1: 0.440\n",
      "layer: 0, position: 2\n"
     ]
    },
    {
     "name": "stderr",
     "output_type": "stream",
     "text": [
      "100%|██████████| 100/100 [00:03<00:00, 28.30it/s]\n",
      "100%|██████████| 50/50 [00:01<00:00, 28.00it/s]\n"
     ]
    },
    {
     "name": "stdout",
     "output_type": "stream",
     "text": [
      "acc: 44.000%, f1: 0.440\n",
      "layer: 0, position: 3\n"
     ]
    },
    {
     "name": "stderr",
     "output_type": "stream",
     "text": [
      "100%|██████████| 100/100 [00:03<00:00, 32.76it/s]\n",
      "100%|██████████| 50/50 [00:01<00:00, 28.49it/s]\n"
     ]
    },
    {
     "name": "stdout",
     "output_type": "stream",
     "text": [
      "acc: 44.000%, f1: 0.440\n",
      "layer: 1, position: 0\n"
     ]
    },
    {
     "name": "stderr",
     "output_type": "stream",
     "text": [
      "100%|██████████| 100/100 [00:03<00:00, 32.35it/s]\n",
      "100%|██████████| 50/50 [00:01<00:00, 28.69it/s]\n"
     ]
    },
    {
     "name": "stdout",
     "output_type": "stream",
     "text": [
      "acc: 44.000%, f1: 0.440\n",
      "layer: 1, position: 1\n"
     ]
    },
    {
     "name": "stderr",
     "output_type": "stream",
     "text": [
      "100%|██████████| 100/100 [00:03<00:00, 33.20it/s]\n",
      "100%|██████████| 50/50 [00:01<00:00, 27.74it/s]\n"
     ]
    },
    {
     "name": "stdout",
     "output_type": "stream",
     "text": [
      "acc: 44.000%, f1: 0.440\n",
      "layer: 1, position: 2\n"
     ]
    },
    {
     "name": "stderr",
     "output_type": "stream",
     "text": [
      "100%|██████████| 100/100 [00:03<00:00, 28.97it/s]\n",
      "100%|██████████| 50/50 [00:01<00:00, 25.64it/s]\n"
     ]
    },
    {
     "name": "stdout",
     "output_type": "stream",
     "text": [
      "acc: 44.000%, f1: 0.440\n",
      "layer: 1, position: 3\n"
     ]
    },
    {
     "name": "stderr",
     "output_type": "stream",
     "text": [
      "100%|██████████| 100/100 [00:03<00:00, 33.07it/s]\n",
      "100%|██████████| 50/50 [00:01<00:00, 28.64it/s]\n"
     ]
    },
    {
     "name": "stdout",
     "output_type": "stream",
     "text": [
      "acc: 44.000%, f1: 0.440\n",
      "layer: 2, position: 0\n"
     ]
    },
    {
     "name": "stderr",
     "output_type": "stream",
     "text": [
      "100%|██████████| 100/100 [00:03<00:00, 29.63it/s]\n",
      "100%|██████████| 50/50 [00:02<00:00, 24.55it/s]\n"
     ]
    },
    {
     "name": "stdout",
     "output_type": "stream",
     "text": [
      "acc: 44.000%, f1: 0.440\n",
      "layer: 2, position: 1\n"
     ]
    },
    {
     "name": "stderr",
     "output_type": "stream",
     "text": [
      "100%|██████████| 100/100 [00:03<00:00, 31.33it/s]\n",
      "100%|██████████| 50/50 [00:01<00:00, 26.72it/s]\n"
     ]
    },
    {
     "name": "stdout",
     "output_type": "stream",
     "text": [
      "acc: 44.000%, f1: 0.440\n",
      "layer: 2, position: 2\n"
     ]
    },
    {
     "name": "stderr",
     "output_type": "stream",
     "text": [
      "100%|██████████| 100/100 [00:03<00:00, 26.73it/s]\n",
      "100%|██████████| 50/50 [00:02<00:00, 24.38it/s]\n"
     ]
    },
    {
     "name": "stdout",
     "output_type": "stream",
     "text": [
      "acc: 44.000%, f1: 0.440\n",
      "layer: 2, position: 3\n"
     ]
    },
    {
     "name": "stderr",
     "output_type": "stream",
     "text": [
      "100%|██████████| 100/100 [00:03<00:00, 32.10it/s]\n",
      "100%|██████████| 50/50 [00:01<00:00, 27.60it/s]\n"
     ]
    },
    {
     "name": "stdout",
     "output_type": "stream",
     "text": [
      "acc: 44.000%, f1: 0.440\n",
      "layer: 3, position: 0\n"
     ]
    },
    {
     "name": "stderr",
     "output_type": "stream",
     "text": [
      "100%|██████████| 100/100 [00:03<00:00, 31.80it/s]\n",
      "100%|██████████| 50/50 [00:01<00:00, 27.81it/s]\n"
     ]
    },
    {
     "name": "stdout",
     "output_type": "stream",
     "text": [
      "acc: 44.000%, f1: 0.440\n",
      "layer: 3, position: 1\n"
     ]
    },
    {
     "name": "stderr",
     "output_type": "stream",
     "text": [
      "100%|██████████| 100/100 [00:03<00:00, 27.25it/s]\n",
      "100%|██████████| 50/50 [00:01<00:00, 25.87it/s]\n"
     ]
    },
    {
     "name": "stdout",
     "output_type": "stream",
     "text": [
      "acc: 44.000%, f1: 0.440\n",
      "layer: 3, position: 2\n"
     ]
    },
    {
     "name": "stderr",
     "output_type": "stream",
     "text": [
      "100%|██████████| 100/100 [00:03<00:00, 30.57it/s]\n",
      "100%|██████████| 50/50 [00:01<00:00, 28.12it/s]\n"
     ]
    },
    {
     "name": "stdout",
     "output_type": "stream",
     "text": [
      "acc: 44.000%, f1: 0.440\n",
      "layer: 3, position: 3\n"
     ]
    },
    {
     "name": "stderr",
     "output_type": "stream",
     "text": [
      "100%|██████████| 100/100 [00:02<00:00, 33.89it/s]\n",
      "100%|██████████| 50/50 [00:01<00:00, 28.29it/s]\n"
     ]
    },
    {
     "name": "stdout",
     "output_type": "stream",
     "text": [
      "acc: 44.000%, f1: 0.440\n",
      "layer: 4, position: 0\n"
     ]
    },
    {
     "name": "stderr",
     "output_type": "stream",
     "text": [
      "100%|██████████| 100/100 [00:03<00:00, 32.69it/s]\n",
      "100%|██████████| 50/50 [00:01<00:00, 26.36it/s]\n"
     ]
    },
    {
     "name": "stdout",
     "output_type": "stream",
     "text": [
      "acc: 44.000%, f1: 0.440\n",
      "layer: 4, position: 1\n"
     ]
    },
    {
     "name": "stderr",
     "output_type": "stream",
     "text": [
      "100%|██████████| 100/100 [00:03<00:00, 31.03it/s]\n",
      "100%|██████████| 50/50 [00:01<00:00, 27.74it/s]\n"
     ]
    },
    {
     "name": "stdout",
     "output_type": "stream",
     "text": [
      "acc: 44.000%, f1: 0.440\n",
      "layer: 4, position: 2\n"
     ]
    },
    {
     "name": "stderr",
     "output_type": "stream",
     "text": [
      "100%|██████████| 100/100 [00:03<00:00, 32.79it/s]\n",
      "100%|██████████| 50/50 [00:01<00:00, 27.90it/s]\n"
     ]
    },
    {
     "name": "stdout",
     "output_type": "stream",
     "text": [
      "acc: 44.000%, f1: 0.440\n",
      "layer: 4, position: 3\n"
     ]
    },
    {
     "name": "stderr",
     "output_type": "stream",
     "text": [
      "100%|██████████| 100/100 [00:03<00:00, 30.34it/s]\n",
      "100%|██████████| 50/50 [00:01<00:00, 27.16it/s]\n"
     ]
    },
    {
     "name": "stdout",
     "output_type": "stream",
     "text": [
      "acc: 44.000%, f1: 0.440\n",
      "layer: 5, position: 0\n"
     ]
    },
    {
     "name": "stderr",
     "output_type": "stream",
     "text": [
      "100%|██████████| 100/100 [00:03<00:00, 31.99it/s]\n",
      "100%|██████████| 50/50 [00:01<00:00, 28.55it/s]\n"
     ]
    },
    {
     "name": "stdout",
     "output_type": "stream",
     "text": [
      "acc: 44.000%, f1: 0.440\n",
      "layer: 5, position: 1\n"
     ]
    },
    {
     "name": "stderr",
     "output_type": "stream",
     "text": [
      "100%|██████████| 100/100 [00:02<00:00, 34.17it/s]\n",
      "100%|██████████| 50/50 [00:01<00:00, 28.83it/s]\n"
     ]
    },
    {
     "name": "stdout",
     "output_type": "stream",
     "text": [
      "acc: 44.000%, f1: 0.440\n",
      "layer: 5, position: 2\n"
     ]
    },
    {
     "name": "stderr",
     "output_type": "stream",
     "text": [
      "100%|██████████| 100/100 [00:03<00:00, 33.23it/s]\n",
      "100%|██████████| 50/50 [00:01<00:00, 29.08it/s]\n"
     ]
    },
    {
     "name": "stdout",
     "output_type": "stream",
     "text": [
      "acc: 44.000%, f1: 0.440\n",
      "layer: 5, position: 3\n"
     ]
    },
    {
     "name": "stderr",
     "output_type": "stream",
     "text": [
      "100%|██████████| 100/100 [00:02<00:00, 33.57it/s]\n",
      "100%|██████████| 50/50 [00:01<00:00, 26.31it/s]"
     ]
    },
    {
     "name": "stdout",
     "output_type": "stream",
     "text": [
      "acc: 44.000%, f1: 0.440\n"
     ]
    },
    {
     "name": "stderr",
     "output_type": "stream",
     "text": [
      "\n"
     ]
    }
   ],
   "source": [
    "# intervention settings\n",
    "stats = []\n",
    "num_layers = gpt.config.num_hidden_layers\n",
    "\n",
    "label_mapping = {38718: 0, 40995: 1, 19618: 2, 8076: 3}\n",
    "\n",
    "# loop over layers and positions\n",
    "with torch.no_grad():\n",
    "    for layer in range(num_layers):\n",
    "        for position in range(4):\n",
    "            print(f\"layer: {layer}, position: {position}\")\n",
    "\n",
    "            # set up intervenable model\n",
    "            config = probing_config(\"block_output\", layer)\n",
    "            intervenable = pv.IntervenableModel(config, gpt)\n",
    "            intervenable.set_device(device)\n",
    "            intervenable.disable_model_gradients()\n",
    "\n",
    "            # training loop\n",
    "            activations, labels = [], []\n",
    "            iterator = tqdm(trainset)\n",
    "            for example in iterator:\n",
    "                # forward pass\n",
    "                base_outputs, _ = intervenable(\n",
    "                    example.base,\n",
    "                    unit_locations={\"base\": position},\n",
    "                )\n",
    "                base_activations = base_outputs[1][0]\n",
    "\n",
    "                src_outputs, _ = intervenable(\n",
    "                    example.src,\n",
    "                    unit_locations={\"base\": position},\n",
    "                )\n",
    "                src_activations = src_outputs[1][0]\n",
    "                \n",
    "                # collect activation\n",
    "                activations.extend(\n",
    "                    [base_activations.detach()[0].cpu().numpy(), src_activations.detach()[0].cpu().numpy()]\n",
    "                )\n",
    "                labels.extend([example.base_label, example.src_label])\n",
    "            labels = [label_mapping[tuple(label) if isinstance(label, list) else label] for label in labels]\n",
    "            \n",
    "            # train logistic regression\n",
    "            lr = LogisticRegression(random_state=42, max_iter=1000).fit(\n",
    "                activations, labels\n",
    "            )\n",
    "\n",
    "            # eval\n",
    "            activations, labels = [], []\n",
    "            iterator = tqdm(evalset)\n",
    "            for example in iterator:\n",
    "                # forward pass\n",
    "                base_outputs, _ = intervenable(\n",
    "                    example.base,\n",
    "                    unit_locations={\"base\": position},\n",
    "                )\n",
    "                base_activations = base_outputs[1][0]\n",
    "\n",
    "                src_outputs, _ = intervenable(\n",
    "                    example.src,\n",
    "                    unit_locations={\"base\": position},\n",
    "                )\n",
    "                src_activations = src_outputs[1][0]\n",
    "                \n",
    "                # collect activation\n",
    "                activations.extend(\n",
    "                    [base_activations.detach()[0].cpu().numpy(), src_activations.detach()[0].cpu().numpy()]\n",
    "                )\n",
    "                labels.extend([example.base_label, example.src_label])\n",
    "            labels = [label_mapping[label] for label in labels]\n",
    "\n",
    "            # stats\n",
    "            acc = lr.score(activations, labels)\n",
    "            f1 = f1_score(labels, lr.predict(activations), average=\"micro\")\n",
    "            stats.append({\"layer\": layer, \"position\": position, \"acc\": acc, \"f1\": f1})\n",
    "            print(f\"acc: {acc:.3%}, f1: {f1:.3f}\")\n",
    "df = pd.DataFrame(stats)\n",
    "df.to_csv(f\"./tutorial_data/pyvene_gender_probe.csv\")"
   ]
  },
  {
   "cell_type": "markdown",
   "metadata": {},
   "source": [
    "And the probe accuracy plot is below. Note the extremely high accuracy at all positions at and after the name! Early layers at later positions are better but it saturates much before the IIA for DAS. This shows how unreliable probes are for tracing causal effect."
   ]
  },
  {
   "cell_type": "code",
   "execution_count": 20,
   "metadata": {},
   "outputs": [
    {
     "name": "stderr",
     "output_type": "stream",
     "text": [
      "/Users/lukasz/miniconda3/envs/nlp/lib/python3.11/site-packages/plotnine/ggplot.py:615: PlotnineWarning: Saving 5 x 3 in image.\n",
      "/Users/lukasz/miniconda3/envs/nlp/lib/python3.11/site-packages/plotnine/ggplot.py:616: PlotnineWarning: Filename: ./tutorial_data/pyvene_gender_probe.pdf\n"
     ]
    },
    {
     "data": {
      "image/png": "[encoded data removed]"
     },
     "metadata": {
      "image/png": {
       "height": 300,
       "width": 500
      }
     },
     "output_type": "display_data"
    }
   ],
   "source": [
    "df = pd.read_csv(f\"./tutorial_data/pyvene_gender_probe.csv\")\n",
    "df[\"layer\"] = df[\"layer\"].astype(int)\n",
    "df[\"pos\"] = df[\"position\"].astype(int)\n",
    "df[\"ACC\"] = df[\"acc\"].astype(float)\n",
    "\n",
    "custom_labels = [\"<name>\", \"is\", \"afraid\", \"of\", \"<animal>\"]\n",
    "breaks = [0, 1, 2, 3, 4]\n",
    "\n",
    "plot = (\n",
    "    ggplot(df, aes(x=\"layer\", y=\"pos\", fill=\"ACC\"))    \n",
    "    + geom_tile()\n",
    "    + scale_fill_cmap(\"Reds\") + xlab(\"layers\")\n",
    "    + scale_y_reverse(\n",
    "        limits = (-0.5, 3.5), \n",
    "        breaks=breaks, labels=custom_labels) \n",
    "    + theme(figure_size=(5, 3)) + ylab(\"\") \n",
    "    + theme(axis_text_y  = element_text(angle = 90, hjust = 1))\n",
    "    + ggtitle(\"Trained Linear Probe\")\n",
    ")\n",
    "ggsave(\n",
    "    plot, filename=f\"./tutorial_data/pyvene_gender_probe.pdf\", dpi=200\n",
    ")\n",
    "display(plot)"
   ]
  },
  {
   "cell_type": "code",
   "execution_count": null,
   "metadata": {},
   "outputs": [],
   "source": []
  }
 ],
 "metadata": {
  "kernelspec": {
   "display_name": "nlp",
   "language": "python",
   "name": "python3"
  },
  "language_info": {
   "codemirror_mode": {
    "name": "ipython",
    "version": 3
   },
   "file_extension": ".py",
   "mimetype": "text/x-python",
   "name": "python",
   "nbconvert_exporter": "python",
   "pygments_lexer": "ipython3",
   "version": "3.11.10"
  }
 },
 "nbformat": 4,
 "nbformat_minor": 4
}
