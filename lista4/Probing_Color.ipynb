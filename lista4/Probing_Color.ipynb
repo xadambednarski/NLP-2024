{
 "cells": [
  {
   "cell_type": "markdown",
   "metadata": {},
   "source": [
    "## Setup"
   ]
  },
  {
   "cell_type": "code",
   "execution_count": 24,
   "metadata": {},
   "outputs": [],
   "source": [
    "import pyvene as pv"
   ]
  },
  {
   "cell_type": "code",
   "execution_count": 25,
   "metadata": {},
   "outputs": [],
   "source": [
    "import pandas as pd\n",
    "from transformers import (\n",
    "    AutoModelForCausalLM,\n",
    "    AutoTokenizer,\n",
    "    get_linear_schedule_with_warmup,\n",
    ")\n",
    "import torch\n",
    "import random\n",
    "from sklearn.linear_model import LogisticRegression\n",
    "from sklearn.metrics import f1_score\n",
    "\n",
    "%config InlineBackend.figure_formats = ['svg']\n",
    "from plotnine import (\n",
    "    ggplot,\n",
    "    geom_tile,\n",
    "    aes,\n",
    "    facet_wrap,\n",
    "    theme,\n",
    "    element_text,\n",
    "    geom_bar,\n",
    "    geom_hline,\n",
    "    scale_y_log10,\n",
    "    geom_line,\n",
    "    geom_point,\n",
    "    geom_text,\n",
    "    ggtitle, xlab, ylab, \n",
    "    ggsave\n",
    ")\n",
    "from plotnine.scales import scale_y_reverse, scale_fill_cmap\n",
    "from tqdm import tqdm\n",
    "from collections import namedtuple"
   ]
  },
  {
   "cell_type": "markdown",
   "metadata": {},
   "source": [
    "## Load model and data"
   ]
  },
  {
   "cell_type": "code",
   "execution_count": 26,
   "metadata": {},
   "outputs": [],
   "source": [
    "device = \"cuda:0\" if torch.cuda.is_available() else \"cpu\"\n",
    "model = \"EleutherAI/pythia-70m\" # \"EleutherAI/pythia-6.9B\"\n",
    "tokenizer = AutoTokenizer.from_pretrained(model)\n",
    "tokenizer.pad_token = tokenizer.eos_token\n",
    "gpt = AutoModelForCausalLM.from_pretrained(\n",
    "    model,\n",
    "    revision=\"main\",\n",
    "    torch_dtype=torch.bfloat16 if model == \"EleutherAI/pythia-6.9b\" else torch.float32,\n",
    ").to(device)"
   ]
  },
  {
   "cell_type": "code",
   "execution_count": 27,
   "metadata": {},
   "outputs": [],
   "source": [
    "from datasets import load_dataset\n",
    "\n",
    "ds = load_dataset(\"tasksource/babi_nli\", \"basic-induction\")"
   ]
  },
  {
   "cell_type": "markdown",
   "metadata": {},
   "source": [
    "We have a list of 100 names for each gender, and we'll filter for names that are one token in length. We'll further filter for examples the model agrees with our labels for, since some of these names might be ambiguous or the model might not have the expected behaviour. This ensures that baseline IIA is 0."
   ]
  },
  {
   "cell_type": "code",
   "execution_count": 28,
   "metadata": {},
   "outputs": [],
   "source": [
    "def get_input_and_label(sample):\n",
    "    full_sample = sample[\"hypothesis\"] + \" \" + sample[\"premise\"]\n",
    "    elements = full_sample.split(\" \")\n",
    "    input_ = \" \".join(elements[:-1]) + \" \"\n",
    "    label = elements[-1][:-1]\n",
    "    return input_, label"
   ]
  },
  {
   "cell_type": "code",
   "execution_count": 29,
   "metadata": {},
   "outputs": [],
   "source": [
    "COLOR_LABELS = ['gray', 'green', 'white', 'yellow']\n",
    "\n",
    "def filter_dataset(ds):\n",
    "    filtered_ds = []\n",
    "    for sample in ds:\n",
    "        if sample[\"label\"] == 0:\n",
    "            input_, label = get_input_and_label(sample)\n",
    "            if label in COLOR_LABELS:\n",
    "                filtered_ds.append({\"sample\": input_, \"label\": label})\n",
    "    return filtered_ds"
   ]
  },
  {
   "cell_type": "code",
   "execution_count": 30,
   "metadata": {},
   "outputs": [],
   "source": [
    "filtered_dataset = filter_dataset(ds[\"train\"])"
   ]
  },
  {
   "cell_type": "code",
   "execution_count": 31,
   "metadata": {},
   "outputs": [],
   "source": [
    "unique_labels = set([sample[\"label\"] for sample in filtered_dataset])"
   ]
  },
  {
   "cell_type": "code",
   "execution_count": 32,
   "metadata": {},
   "outputs": [
    {
     "data": {
      "text/plain": [
       "{'gray', 'green', 'white', 'yellow'}"
      ]
     },
     "execution_count": 32,
     "metadata": {},
     "output_type": "execute_result"
    }
   ],
   "source": [
    "unique_labels"
   ]
  },
  {
   "cell_type": "code",
   "execution_count": 33,
   "metadata": {},
   "outputs": [
    {
     "name": "stdout",
     "output_type": "stream",
     "text": [
      "[28659]\n",
      "[27250]\n",
      "[11707]\n",
      "[11300]\n"
     ]
    }
   ],
   "source": [
    "for label in unique_labels:\n",
    "    tokenized = tokenizer.encode(label)\n",
    "    print(tokenized)"
   ]
  },
  {
   "cell_type": "code",
   "execution_count": 34,
   "metadata": {},
   "outputs": [],
   "source": [
    "Example = namedtuple(\"Example\", [\"base\", \"src\", \"base_label\", \"src_label\"])\n",
    "\n",
    "def sample_example(tokenizer):\n",
    "    base_sample = random.choice(filtered_dataset)\n",
    "    src_samples = [sample for sample in filtered_dataset if sample[\"label\"] != base_sample[\"label\"]]\n",
    "\n",
    "    src_sample = random.choice(src_samples)\n",
    "\n",
    "    base = tokenizer(base_sample[\"sample\"], return_tensors=\"pt\")\n",
    "    src = tokenizer(src_sample[\"sample\"], return_tensors=\"pt\")\n",
    "    base_label = tokenizer.encode(base_sample[\"label\"])[0]\n",
    "    src_label = tokenizer.encode(src_sample[\"label\"])[0]\n",
    "    return Example(base, src, base_label, src_label)"
   ]
  },
  {
   "cell_type": "code",
   "execution_count": 35,
   "metadata": {},
   "outputs": [],
   "source": [
    "def generate_n_doable_examples(n, model, tokenizer):\n",
    "    examples = []\n",
    "    iterator = tqdm(range(n))\n",
    "    while len(examples) < n:\n",
    "        ex = sample_example(tokenizer)\n",
    "        for k, v in ex.base.items():\n",
    "            if v is not None and isinstance(v, torch.Tensor):\n",
    "                ex.base[k] = v.to(model.device)\n",
    "        for k, v in ex.src.items():\n",
    "            if v is not None and isinstance(v, torch.Tensor):\n",
    "                ex.src[k] = v.to(model.device)\n",
    "        logits_base = model(**ex.base).logits[0, -1]\n",
    "        logits_src = model(**ex.src).logits[0, -1]\n",
    "        if (\n",
    "            logits_base[ex.base_label] > logits_base[ex.src_label]\n",
    "            and logits_src[ex.src_label] > logits_src[ex.base_label]\n",
    "        ):\n",
    "            examples.append(ex)\n",
    "            iterator.update(1)\n",
    "    return examples"
   ]
  },
  {
   "cell_type": "code",
   "execution_count": 36,
   "metadata": {},
   "outputs": [
    {
     "name": "stderr",
     "output_type": "stream",
     "text": [
      "100%|██████████| 100/100 [00:34<00:00,  2.93it/s]\n",
      "100%|██████████| 50/50 [00:21<00:00,  2.36it/s]\n"
     ]
    }
   ],
   "source": [
    "# make dataset\n",
    "total_steps = 100\n",
    "trainset = generate_n_doable_examples(total_steps, gpt, tokenizer)\n",
    "evalset = generate_n_doable_examples(50, gpt, tokenizer)"
   ]
  },
  {
   "cell_type": "markdown",
   "metadata": {},
   "source": [
    "## DAS\n",
    "\n",
    "This is the usual 1D DAS setup, training on batch size of 1."
   ]
  },
  {
   "cell_type": "code",
   "execution_count": 37,
   "metadata": {},
   "outputs": [],
   "source": [
    "def intervention_config(intervention_site, layer, num_dims=1):\n",
    "    config = pv.IntervenableConfig([\n",
    "        {\n",
    "            \"layer\": layer,\n",
    "            \"component\": intervention_site,\n",
    "            \"intervention_type\": pv.LowRankRotatedSpaceIntervention,\n",
    "            \"low_rank_dimension\": num_dims,\n",
    "        }\n",
    "    ])\n",
    "    return config"
   ]
  },
  {
   "cell_type": "code",
   "execution_count": 38,
   "metadata": {},
   "outputs": [],
   "source": [
    "# loss function\n",
    "loss_fct = torch.nn.CrossEntropyLoss()\n",
    "\n",
    "def calculate_loss(logits, label):\n",
    "    \"\"\"Calculate cross entropy between logits and a single target label (can be batched)\"\"\"\n",
    "    shift_labels = label.to(logits.device)\n",
    "    loss = loss_fct(logits, shift_labels)\n",
    "    return loss"
   ]
  },
  {
   "cell_type": "code",
   "execution_count": 39,
   "metadata": {},
   "outputs": [
    {
     "name": "stdout",
     "output_type": "stream",
     "text": [
      "layer: 0, position: 0\n"
     ]
    },
    {
     "name": "stderr",
     "output_type": "stream",
     "text": [
      "100%|██████████| 100/100 [00:04<00:00, 21.07it/s, loss=17.000]\n",
      "100%|██████████| 50/50 [00:01<00:00, 33.98it/s]\n"
     ]
    },
    {
     "name": "stdout",
     "output_type": "stream",
     "text": [
      "iia: 2.000%\n",
      "layer: 0, position: 1\n"
     ]
    },
    {
     "name": "stderr",
     "output_type": "stream",
     "text": [
      "100%|██████████| 100/100 [00:04<00:00, 21.24it/s, loss=17.000]\n",
      "100%|██████████| 50/50 [00:01<00:00, 33.08it/s]\n"
     ]
    },
    {
     "name": "stdout",
     "output_type": "stream",
     "text": [
      "iia: 2.000%\n",
      "layer: 0, position: 2\n"
     ]
    },
    {
     "name": "stderr",
     "output_type": "stream",
     "text": [
      "100%|██████████| 100/100 [00:04<00:00, 21.22it/s, loss=17.000]\n",
      "100%|██████████| 50/50 [00:01<00:00, 32.73it/s]\n"
     ]
    },
    {
     "name": "stdout",
     "output_type": "stream",
     "text": [
      "iia: 10.000%\n",
      "layer: 0, position: 3\n"
     ]
    },
    {
     "name": "stderr",
     "output_type": "stream",
     "text": [
      "100%|██████████| 100/100 [00:04<00:00, 21.18it/s, loss=17.082]\n",
      "100%|██████████| 50/50 [00:01<00:00, 34.40it/s]\n"
     ]
    },
    {
     "name": "stdout",
     "output_type": "stream",
     "text": [
      "iia: 18.000%\n",
      "layer: 1, position: 0\n"
     ]
    },
    {
     "name": "stderr",
     "output_type": "stream",
     "text": [
      "100%|██████████| 100/100 [00:04<00:00, 21.76it/s, loss=17.000]\n",
      "100%|██████████| 50/50 [00:01<00:00, 33.84it/s]\n"
     ]
    },
    {
     "name": "stdout",
     "output_type": "stream",
     "text": [
      "iia: 2.000%\n",
      "layer: 1, position: 1\n"
     ]
    },
    {
     "name": "stderr",
     "output_type": "stream",
     "text": [
      "100%|██████████| 100/100 [00:04<00:00, 21.62it/s, loss=17.000]\n",
      "100%|██████████| 50/50 [00:01<00:00, 33.65it/s]\n"
     ]
    },
    {
     "name": "stdout",
     "output_type": "stream",
     "text": [
      "iia: 10.000%\n",
      "layer: 1, position: 2\n"
     ]
    },
    {
     "name": "stderr",
     "output_type": "stream",
     "text": [
      "100%|██████████| 100/100 [00:04<00:00, 21.86it/s, loss=17.000]\n",
      "100%|██████████| 50/50 [00:01<00:00, 34.08it/s]\n"
     ]
    },
    {
     "name": "stdout",
     "output_type": "stream",
     "text": [
      "iia: 8.000%\n",
      "layer: 1, position: 3\n"
     ]
    },
    {
     "name": "stderr",
     "output_type": "stream",
     "text": [
      "100%|██████████| 100/100 [00:04<00:00, 21.88it/s, loss=16.841]\n",
      "100%|██████████| 50/50 [00:01<00:00, 33.60it/s]\n"
     ]
    },
    {
     "name": "stdout",
     "output_type": "stream",
     "text": [
      "iia: 18.000%\n",
      "layer: 2, position: 0\n"
     ]
    },
    {
     "name": "stderr",
     "output_type": "stream",
     "text": [
      "100%|██████████| 100/100 [00:04<00:00, 22.54it/s, loss=17.000]\n",
      "100%|██████████| 50/50 [00:01<00:00, 31.85it/s]\n"
     ]
    },
    {
     "name": "stdout",
     "output_type": "stream",
     "text": [
      "iia: 8.000%\n",
      "layer: 2, position: 1\n"
     ]
    },
    {
     "name": "stderr",
     "output_type": "stream",
     "text": [
      "100%|██████████| 100/100 [00:04<00:00, 20.94it/s, loss=17.000]\n",
      "100%|██████████| 50/50 [00:01<00:00, 32.92it/s]\n"
     ]
    },
    {
     "name": "stdout",
     "output_type": "stream",
     "text": [
      "iia: 20.000%\n",
      "layer: 2, position: 2\n"
     ]
    },
    {
     "name": "stderr",
     "output_type": "stream",
     "text": [
      "100%|██████████| 100/100 [00:04<00:00, 21.65it/s, loss=17.000]\n",
      "100%|██████████| 50/50 [00:01<00:00, 32.59it/s]\n"
     ]
    },
    {
     "name": "stdout",
     "output_type": "stream",
     "text": [
      "iia: 4.000%\n",
      "layer: 2, position: 3\n"
     ]
    },
    {
     "name": "stderr",
     "output_type": "stream",
     "text": [
      "100%|██████████| 100/100 [00:04<00:00, 21.77it/s, loss=16.989]\n",
      "100%|██████████| 50/50 [00:01<00:00, 32.94it/s]\n"
     ]
    },
    {
     "name": "stdout",
     "output_type": "stream",
     "text": [
      "iia: 20.000%\n",
      "layer: 3, position: 0\n"
     ]
    },
    {
     "name": "stderr",
     "output_type": "stream",
     "text": [
      "100%|██████████| 100/100 [00:04<00:00, 22.52it/s, loss=17.000]\n",
      "100%|██████████| 50/50 [00:01<00:00, 32.66it/s]\n"
     ]
    },
    {
     "name": "stdout",
     "output_type": "stream",
     "text": [
      "iia: 4.000%\n",
      "layer: 3, position: 1\n"
     ]
    },
    {
     "name": "stderr",
     "output_type": "stream",
     "text": [
      "100%|██████████| 100/100 [00:04<00:00, 22.57it/s, loss=17.000]\n",
      "100%|██████████| 50/50 [00:01<00:00, 32.86it/s]\n"
     ]
    },
    {
     "name": "stdout",
     "output_type": "stream",
     "text": [
      "iia: 20.000%\n",
      "layer: 3, position: 2\n"
     ]
    },
    {
     "name": "stderr",
     "output_type": "stream",
     "text": [
      "100%|██████████| 100/100 [00:04<00:00, 22.63it/s, loss=17.000]\n",
      "100%|██████████| 50/50 [00:01<00:00, 32.81it/s]\n"
     ]
    },
    {
     "name": "stdout",
     "output_type": "stream",
     "text": [
      "iia: 4.000%\n",
      "layer: 3, position: 3\n"
     ]
    },
    {
     "name": "stderr",
     "output_type": "stream",
     "text": [
      "100%|██████████| 100/100 [00:04<00:00, 22.57it/s, loss=16.994]\n",
      "100%|██████████| 50/50 [00:01<00:00, 32.38it/s]\n"
     ]
    },
    {
     "name": "stdout",
     "output_type": "stream",
     "text": [
      "iia: 24.000%\n",
      "layer: 4, position: 0\n"
     ]
    },
    {
     "name": "stderr",
     "output_type": "stream",
     "text": [
      "100%|██████████| 100/100 [00:04<00:00, 23.94it/s, loss=17.000]\n",
      "100%|██████████| 50/50 [00:01<00:00, 32.65it/s]\n"
     ]
    },
    {
     "name": "stdout",
     "output_type": "stream",
     "text": [
      "iia: 2.000%\n",
      "layer: 4, position: 1\n"
     ]
    },
    {
     "name": "stderr",
     "output_type": "stream",
     "text": [
      "100%|██████████| 100/100 [00:04<00:00, 23.79it/s, loss=17.000]\n",
      "100%|██████████| 50/50 [00:01<00:00, 32.04it/s]\n"
     ]
    },
    {
     "name": "stdout",
     "output_type": "stream",
     "text": [
      "iia: 6.000%\n",
      "layer: 4, position: 2\n"
     ]
    },
    {
     "name": "stderr",
     "output_type": "stream",
     "text": [
      "100%|██████████| 100/100 [00:04<00:00, 23.71it/s, loss=17.000]\n",
      "100%|██████████| 50/50 [00:01<00:00, 32.31it/s]\n"
     ]
    },
    {
     "name": "stdout",
     "output_type": "stream",
     "text": [
      "iia: 0.000%\n",
      "layer: 4, position: 3\n"
     ]
    },
    {
     "name": "stderr",
     "output_type": "stream",
     "text": [
      "100%|██████████| 100/100 [00:04<00:00, 23.71it/s, loss=17.000]\n",
      "100%|██████████| 50/50 [00:01<00:00, 32.73it/s]\n"
     ]
    },
    {
     "name": "stdout",
     "output_type": "stream",
     "text": [
      "iia: 30.000%\n",
      "layer: 5, position: 0\n"
     ]
    },
    {
     "name": "stderr",
     "output_type": "stream",
     "text": [
      "100%|██████████| 100/100 [00:04<00:00, 24.67it/s, loss=17.000]\n",
      "100%|██████████| 50/50 [00:01<00:00, 32.94it/s]\n"
     ]
    },
    {
     "name": "stdout",
     "output_type": "stream",
     "text": [
      "iia: 0.000%\n",
      "layer: 5, position: 1\n"
     ]
    },
    {
     "name": "stderr",
     "output_type": "stream",
     "text": [
      "100%|██████████| 100/100 [00:04<00:00, 24.69it/s, loss=17.000]\n",
      "100%|██████████| 50/50 [00:01<00:00, 33.20it/s]\n"
     ]
    },
    {
     "name": "stdout",
     "output_type": "stream",
     "text": [
      "iia: 0.000%\n",
      "layer: 5, position: 2\n"
     ]
    },
    {
     "name": "stderr",
     "output_type": "stream",
     "text": [
      "100%|██████████| 100/100 [00:04<00:00, 24.54it/s, loss=17.000]\n",
      "100%|██████████| 50/50 [00:01<00:00, 30.20it/s]\n"
     ]
    },
    {
     "name": "stdout",
     "output_type": "stream",
     "text": [
      "iia: 0.000%\n",
      "layer: 5, position: 3\n"
     ]
    },
    {
     "name": "stderr",
     "output_type": "stream",
     "text": [
      "100%|██████████| 100/100 [00:04<00:00, 24.79it/s, loss=17.000]\n",
      "100%|██████████| 50/50 [00:01<00:00, 33.75it/s]"
     ]
    },
    {
     "name": "stdout",
     "output_type": "stream",
     "text": [
      "iia: 0.000%\n"
     ]
    },
    {
     "name": "stderr",
     "output_type": "stream",
     "text": [
      "\n"
     ]
    }
   ],
   "source": [
    "# intervention settings\n",
    "stats = []\n",
    "num_layers = gpt.config.num_hidden_layers\n",
    "\n",
    "# loop over layers and positions\n",
    "for layer in range(num_layers):\n",
    "    for position in range(4):\n",
    "        print(f\"layer: {layer}, position: {position}\")\n",
    "\n",
    "        # set up intervenable model\n",
    "        config = intervention_config(\"block_output\", layer, 1)\n",
    "        intervenable = pv.IntervenableModel(config, gpt)\n",
    "        intervenable.set_device(device)\n",
    "        intervenable.disable_model_gradients()\n",
    "\n",
    "        # set up optimizer\n",
    "        optimizer_params = []\n",
    "        for k, v in intervenable.interventions.items():\n",
    "            try:\n",
    "                optimizer_params.append({\"params\": v[0].rotate_layer.parameters()})\n",
    "            except:\n",
    "                pass\n",
    "        optimizer = torch.optim.Adam(optimizer_params, lr=1e-3)\n",
    "        scheduler = get_linear_schedule_with_warmup(\n",
    "            optimizer,\n",
    "            num_warmup_steps=int(0.1 * total_steps),\n",
    "            num_training_steps=total_steps,\n",
    "        )\n",
    "\n",
    "        # training loop\n",
    "        iterator = tqdm(trainset)\n",
    "        for example in iterator:\n",
    "            # forward pass\n",
    "            _, counterfactual_outputs = intervenable(\n",
    "                example.base,\n",
    "                [example.src],\n",
    "                {\"sources->base\": position},\n",
    "            )\n",
    "\n",
    "            # loss\n",
    "            logits = counterfactual_outputs.logits[:, -1]\n",
    "            loss = calculate_loss(logits, torch.tensor([example.src_label]).to(device))\n",
    "            iterator.set_postfix({\"loss\": f\"{loss.item():.3f}\"})\n",
    "\n",
    "            # backward\n",
    "            loss.backward()\n",
    "            optimizer.step()\n",
    "            scheduler.step()\n",
    "\n",
    "        # eval\n",
    "        with torch.no_grad():\n",
    "            iia = 0\n",
    "            iterator = tqdm(evalset)\n",
    "            for example in iterator:\n",
    "                # forward\n",
    "                _, counterfactual_outputs = intervenable(\n",
    "                    example.base,\n",
    "                    [example.src],\n",
    "                    {\"sources->base\": position},\n",
    "                )\n",
    "\n",
    "                # calculate iia\n",
    "                logits = counterfactual_outputs.logits[0, -1]\n",
    "                if logits[example.src_label] > logits[example.base_label]:\n",
    "                    iia += 1\n",
    "\n",
    "            # stats\n",
    "            iia = iia / len(evalset)\n",
    "            stats.append({\"layer\": layer, \"position\": position, \"iia\": iia})\n",
    "            print(f\"iia: {iia:.3%}\")\n",
    "df = pd.DataFrame(stats)\n",
    "df.to_csv(f\"./tutorial_data/pyvene_gender_das.csv\")"
   ]
  },
  {
   "cell_type": "markdown",
   "metadata": {},
   "source": [
    "And this is the plot of IIA. In layers 2 and 3 it seems the gender is represented across positions 1-3, and entirely in position 3 in later layers."
   ]
  },
  {
   "cell_type": "code",
   "execution_count": 40,
   "metadata": {},
   "outputs": [
    {
     "name": "stderr",
     "output_type": "stream",
     "text": [
      "/Users/lukasz/miniconda3/envs/nlp/lib/python3.11/site-packages/plotnine/ggplot.py:615: PlotnineWarning: Saving 5 x 3 in image.\n",
      "/Users/lukasz/miniconda3/envs/nlp/lib/python3.11/site-packages/plotnine/ggplot.py:616: PlotnineWarning: Filename: ./tutorial_data/pyvene_gender_das.pdf\n"
     ]
    },
    {
     "data": {
      "image/png": "[encoded data removed]"
     },
     "metadata": {
      "image/png": {
       "height": 300,
       "width": 500
      }
     },
     "output_type": "display_data"
    }
   ],
   "source": [
    "df = pd.read_csv(f\"./tutorial_data/pyvene_gender_das.csv\")\n",
    "df[\"layer\"] = df[\"layer\"].astype(int)\n",
    "df[\"pos\"] = df[\"position\"].astype(int)\n",
    "df[\"IIA\"] = df[\"iia\"].astype(float)\n",
    "\n",
    "custom_labels = [\"<name>\", \"is\", \"<color>\"]\n",
    "breaks = [0, 1, 2]\n",
    "\n",
    "plot = (\n",
    "    ggplot(df, aes(x=\"layer\", y=\"pos\"))    \n",
    "    + geom_tile(aes(fill=\"IIA\"))\n",
    "    + scale_fill_cmap(\"Purples\") + xlab(\"layers\")\n",
    "    + scale_y_reverse(\n",
    "        limits = (-0.5, 3.5), \n",
    "        breaks=breaks, labels=custom_labels) \n",
    "    + theme(figure_size=(5, 3)) + ylab(\"\") \n",
    "    + theme(axis_text_y  = element_text(angle = 90, hjust = 1))\n",
    "    + ggtitle(\"Trained Intervention (DAS)\")\n",
    ")\n",
    "ggsave(\n",
    "    plot, filename=f\"./tutorial_data/pyvene_gender_das.pdf\", dpi=200\n",
    ")\n",
    "display(plot)"
   ]
  },
  {
   "cell_type": "markdown",
   "metadata": {},
   "source": [
    "## Probing\n",
    "\n",
    "We'll define a dummy intervention `CollectActivation` to collect activations and train a simple probe."
   ]
  },
  {
   "cell_type": "code",
   "execution_count": 41,
   "metadata": {},
   "outputs": [],
   "source": [
    "def probing_config(intervention_site, layer):\n",
    "    \"\"\"Generate intervention config.\"\"\"\n",
    "\n",
    "    # init\n",
    "    config = pv.IntervenableConfig([{\n",
    "        \"layer\": layer,\n",
    "        \"component\": intervention_site,\n",
    "        \"intervention_type\": pv.CollectIntervention,\n",
    "    }])\n",
    "    return config"
   ]
  },
  {
   "cell_type": "markdown",
   "metadata": {},
   "source": [
    "This is the training loop."
   ]
  },
  {
   "cell_type": "code",
   "execution_count": 42,
   "metadata": {},
   "outputs": [
    {
     "name": "stdout",
     "output_type": "stream",
     "text": [
      "layer: 0, position: 0\n"
     ]
    },
    {
     "name": "stderr",
     "output_type": "stream",
     "text": [
      "100%|██████████| 100/100 [00:03<00:00, 31.95it/s]\n",
      "100%|██████████| 50/50 [00:01<00:00, 28.11it/s]\n"
     ]
    },
    {
     "name": "stdout",
     "output_type": "stream",
     "text": [
      "acc: 40.000%, f1: 0.400\n",
      "layer: 0, position: 1\n"
     ]
    },
    {
     "name": "stderr",
     "output_type": "stream",
     "text": [
      "100%|██████████| 100/100 [00:03<00:00, 32.14it/s]\n",
      "100%|██████████| 50/50 [00:01<00:00, 27.84it/s]\n"
     ]
    },
    {
     "name": "stdout",
     "output_type": "stream",
     "text": [
      "acc: 40.000%, f1: 0.400\n",
      "layer: 0, position: 2\n"
     ]
    },
    {
     "name": "stderr",
     "output_type": "stream",
     "text": [
      "100%|██████████| 100/100 [00:03<00:00, 32.81it/s]\n",
      "100%|██████████| 50/50 [00:01<00:00, 28.47it/s]\n"
     ]
    },
    {
     "name": "stdout",
     "output_type": "stream",
     "text": [
      "acc: 48.000%, f1: 0.480\n",
      "layer: 0, position: 3\n"
     ]
    },
    {
     "name": "stderr",
     "output_type": "stream",
     "text": [
      "100%|██████████| 100/100 [00:03<00:00, 33.14it/s]\n",
      "100%|██████████| 50/50 [00:01<00:00, 27.85it/s]\n"
     ]
    },
    {
     "name": "stdout",
     "output_type": "stream",
     "text": [
      "acc: 53.000%, f1: 0.530\n",
      "layer: 1, position: 0\n"
     ]
    },
    {
     "name": "stderr",
     "output_type": "stream",
     "text": [
      "100%|██████████| 100/100 [00:03<00:00, 33.12it/s]\n",
      "100%|██████████| 50/50 [00:01<00:00, 28.47it/s]\n"
     ]
    },
    {
     "name": "stdout",
     "output_type": "stream",
     "text": [
      "acc: 40.000%, f1: 0.400\n",
      "layer: 1, position: 1\n"
     ]
    },
    {
     "name": "stderr",
     "output_type": "stream",
     "text": [
      "100%|██████████| 100/100 [00:03<00:00, 32.81it/s]\n",
      "100%|██████████| 50/50 [00:01<00:00, 28.77it/s]\n"
     ]
    },
    {
     "name": "stdout",
     "output_type": "stream",
     "text": [
      "acc: 40.000%, f1: 0.400\n",
      "layer: 1, position: 2\n"
     ]
    },
    {
     "name": "stderr",
     "output_type": "stream",
     "text": [
      "100%|██████████| 100/100 [00:03<00:00, 33.04it/s]\n",
      "100%|██████████| 50/50 [00:01<00:00, 28.85it/s]\n"
     ]
    },
    {
     "name": "stdout",
     "output_type": "stream",
     "text": [
      "acc: 48.000%, f1: 0.480\n",
      "layer: 1, position: 3\n"
     ]
    },
    {
     "name": "stderr",
     "output_type": "stream",
     "text": [
      "100%|██████████| 100/100 [00:03<00:00, 30.45it/s]\n",
      "100%|██████████| 50/50 [00:01<00:00, 28.67it/s]\n"
     ]
    },
    {
     "name": "stdout",
     "output_type": "stream",
     "text": [
      "acc: 53.000%, f1: 0.530\n",
      "layer: 2, position: 0\n"
     ]
    },
    {
     "name": "stderr",
     "output_type": "stream",
     "text": [
      "100%|██████████| 100/100 [00:03<00:00, 33.30it/s]\n",
      "100%|██████████| 50/50 [00:01<00:00, 28.98it/s]\n"
     ]
    },
    {
     "name": "stdout",
     "output_type": "stream",
     "text": [
      "acc: 40.000%, f1: 0.400\n",
      "layer: 2, position: 1\n"
     ]
    },
    {
     "name": "stderr",
     "output_type": "stream",
     "text": [
      "100%|██████████| 100/100 [00:02<00:00, 33.71it/s]\n",
      "100%|██████████| 50/50 [00:01<00:00, 28.97it/s]\n"
     ]
    },
    {
     "name": "stdout",
     "output_type": "stream",
     "text": [
      "acc: 40.000%, f1: 0.400\n",
      "layer: 2, position: 2\n"
     ]
    },
    {
     "name": "stderr",
     "output_type": "stream",
     "text": [
      "100%|██████████| 100/100 [00:03<00:00, 30.35it/s]\n",
      "100%|██████████| 50/50 [00:01<00:00, 27.07it/s]\n"
     ]
    },
    {
     "name": "stdout",
     "output_type": "stream",
     "text": [
      "acc: 48.000%, f1: 0.480\n",
      "layer: 2, position: 3\n"
     ]
    },
    {
     "name": "stderr",
     "output_type": "stream",
     "text": [
      "100%|██████████| 100/100 [00:03<00:00, 30.94it/s]\n",
      "/Users/lukasz/miniconda3/envs/nlp/lib/python3.11/site-packages/sklearn/linear_model/_logistic.py:469: ConvergenceWarning: lbfgs failed to converge (status=1):\n",
      "STOP: TOTAL NO. of ITERATIONS REACHED LIMIT.\n",
      "\n",
      "Increase the number of iterations (max_iter) or scale the data as shown in:\n",
      "    https://scikit-learn.org/stable/modules/preprocessing.html\n",
      "Please also refer to the documentation for alternative solver options:\n",
      "    https://scikit-learn.org/stable/modules/linear_model.html#logistic-regression\n",
      "100%|██████████| 50/50 [00:01<00:00, 29.24it/s]\n"
     ]
    },
    {
     "name": "stdout",
     "output_type": "stream",
     "text": [
      "acc: 53.000%, f1: 0.530\n",
      "layer: 3, position: 0\n"
     ]
    },
    {
     "name": "stderr",
     "output_type": "stream",
     "text": [
      "100%|██████████| 100/100 [00:03<00:00, 32.76it/s]\n",
      "100%|██████████| 50/50 [00:01<00:00, 28.21it/s]\n"
     ]
    },
    {
     "name": "stdout",
     "output_type": "stream",
     "text": [
      "acc: 40.000%, f1: 0.400\n",
      "layer: 3, position: 1\n"
     ]
    },
    {
     "name": "stderr",
     "output_type": "stream",
     "text": [
      "100%|██████████| 100/100 [00:03<00:00, 30.77it/s]\n",
      "100%|██████████| 50/50 [00:01<00:00, 28.16it/s]\n"
     ]
    },
    {
     "name": "stdout",
     "output_type": "stream",
     "text": [
      "acc: 40.000%, f1: 0.400\n",
      "layer: 3, position: 2\n"
     ]
    },
    {
     "name": "stderr",
     "output_type": "stream",
     "text": [
      "100%|██████████| 100/100 [00:02<00:00, 33.60it/s]\n",
      "100%|██████████| 50/50 [00:01<00:00, 28.99it/s]\n"
     ]
    },
    {
     "name": "stdout",
     "output_type": "stream",
     "text": [
      "acc: 48.000%, f1: 0.480\n",
      "layer: 3, position: 3\n"
     ]
    },
    {
     "name": "stderr",
     "output_type": "stream",
     "text": [
      "100%|██████████| 100/100 [00:02<00:00, 33.34it/s]\n",
      "/Users/lukasz/miniconda3/envs/nlp/lib/python3.11/site-packages/sklearn/linear_model/_logistic.py:469: ConvergenceWarning: lbfgs failed to converge (status=1):\n",
      "STOP: TOTAL NO. of ITERATIONS REACHED LIMIT.\n",
      "\n",
      "Increase the number of iterations (max_iter) or scale the data as shown in:\n",
      "    https://scikit-learn.org/stable/modules/preprocessing.html\n",
      "Please also refer to the documentation for alternative solver options:\n",
      "    https://scikit-learn.org/stable/modules/linear_model.html#logistic-regression\n",
      "100%|██████████| 50/50 [00:01<00:00, 29.85it/s]\n"
     ]
    },
    {
     "name": "stdout",
     "output_type": "stream",
     "text": [
      "acc: 53.000%, f1: 0.530\n",
      "layer: 4, position: 0\n"
     ]
    },
    {
     "name": "stderr",
     "output_type": "stream",
     "text": [
      "100%|██████████| 100/100 [00:02<00:00, 33.73it/s]\n",
      "100%|██████████| 50/50 [00:01<00:00, 28.40it/s]\n"
     ]
    },
    {
     "name": "stdout",
     "output_type": "stream",
     "text": [
      "acc: 40.000%, f1: 0.400\n",
      "layer: 4, position: 1\n"
     ]
    },
    {
     "name": "stderr",
     "output_type": "stream",
     "text": [
      "100%|██████████| 100/100 [00:03<00:00, 33.13it/s]\n",
      "100%|██████████| 50/50 [00:01<00:00, 29.13it/s]\n"
     ]
    },
    {
     "name": "stdout",
     "output_type": "stream",
     "text": [
      "acc: 40.000%, f1: 0.400\n",
      "layer: 4, position: 2\n"
     ]
    },
    {
     "name": "stderr",
     "output_type": "stream",
     "text": [
      "100%|██████████| 100/100 [00:03<00:00, 32.80it/s]\n",
      "100%|██████████| 50/50 [00:01<00:00, 27.66it/s]\n"
     ]
    },
    {
     "name": "stdout",
     "output_type": "stream",
     "text": [
      "acc: 48.000%, f1: 0.480\n",
      "layer: 4, position: 3\n"
     ]
    },
    {
     "name": "stderr",
     "output_type": "stream",
     "text": [
      "100%|██████████| 100/100 [00:03<00:00, 31.10it/s]\n",
      "100%|██████████| 50/50 [00:01<00:00, 27.32it/s]\n"
     ]
    },
    {
     "name": "stdout",
     "output_type": "stream",
     "text": [
      "acc: 53.000%, f1: 0.530\n",
      "layer: 5, position: 0\n"
     ]
    },
    {
     "name": "stderr",
     "output_type": "stream",
     "text": [
      "100%|██████████| 100/100 [00:03<00:00, 32.20it/s]\n",
      "100%|██████████| 50/50 [00:01<00:00, 28.18it/s]\n"
     ]
    },
    {
     "name": "stdout",
     "output_type": "stream",
     "text": [
      "acc: 40.000%, f1: 0.400\n",
      "layer: 5, position: 1\n"
     ]
    },
    {
     "name": "stderr",
     "output_type": "stream",
     "text": [
      "100%|██████████| 100/100 [00:03<00:00, 33.05it/s]\n",
      "100%|██████████| 50/50 [00:01<00:00, 28.21it/s]\n"
     ]
    },
    {
     "name": "stdout",
     "output_type": "stream",
     "text": [
      "acc: 40.000%, f1: 0.400\n",
      "layer: 5, position: 2\n"
     ]
    },
    {
     "name": "stderr",
     "output_type": "stream",
     "text": [
      "100%|██████████| 100/100 [00:03<00:00, 29.52it/s]\n",
      "/Users/lukasz/miniconda3/envs/nlp/lib/python3.11/site-packages/sklearn/linear_model/_logistic.py:469: ConvergenceWarning: lbfgs failed to converge (status=1):\n",
      "STOP: TOTAL NO. of ITERATIONS REACHED LIMIT.\n",
      "\n",
      "Increase the number of iterations (max_iter) or scale the data as shown in:\n",
      "    https://scikit-learn.org/stable/modules/preprocessing.html\n",
      "Please also refer to the documentation for alternative solver options:\n",
      "    https://scikit-learn.org/stable/modules/linear_model.html#logistic-regression\n",
      "100%|██████████| 50/50 [00:01<00:00, 28.12it/s]\n"
     ]
    },
    {
     "name": "stdout",
     "output_type": "stream",
     "text": [
      "acc: 48.000%, f1: 0.480\n",
      "layer: 5, position: 3\n"
     ]
    },
    {
     "name": "stderr",
     "output_type": "stream",
     "text": [
      "100%|██████████| 100/100 [00:03<00:00, 31.85it/s]\n",
      "/Users/lukasz/miniconda3/envs/nlp/lib/python3.11/site-packages/sklearn/linear_model/_logistic.py:469: ConvergenceWarning: lbfgs failed to converge (status=1):\n",
      "STOP: TOTAL NO. of ITERATIONS REACHED LIMIT.\n",
      "\n",
      "Increase the number of iterations (max_iter) or scale the data as shown in:\n",
      "    https://scikit-learn.org/stable/modules/preprocessing.html\n",
      "Please also refer to the documentation for alternative solver options:\n",
      "    https://scikit-learn.org/stable/modules/linear_model.html#logistic-regression\n",
      "100%|██████████| 50/50 [00:01<00:00, 27.66it/s]"
     ]
    },
    {
     "name": "stdout",
     "output_type": "stream",
     "text": [
      "acc: 53.000%, f1: 0.530\n"
     ]
    },
    {
     "name": "stderr",
     "output_type": "stream",
     "text": [
      "\n"
     ]
    }
   ],
   "source": [
    "# intervention settings\n",
    "stats = []\n",
    "num_layers = gpt.config.num_hidden_layers\n",
    "\n",
    "label_mapping = {28659: 0, 27250: 1, 11707: 2, 11300: 3}\n",
    "\n",
    "# loop over layers and positions\n",
    "with torch.no_grad():\n",
    "    for layer in range(num_layers):\n",
    "        for position in range(4):\n",
    "            print(f\"layer: {layer}, position: {position}\")\n",
    "\n",
    "            # set up intervenable model\n",
    "            config = probing_config(\"block_output\", layer)\n",
    "            intervenable = pv.IntervenableModel(config, gpt)\n",
    "            intervenable.set_device(device)\n",
    "            intervenable.disable_model_gradients()\n",
    "\n",
    "            # training loop\n",
    "            activations, labels = [], []\n",
    "            iterator = tqdm(trainset)\n",
    "            for example in iterator:\n",
    "                # forward pass\n",
    "                base_outputs, _ = intervenable(\n",
    "                    example.base,\n",
    "                    unit_locations={\"base\": position},\n",
    "                )\n",
    "                base_activations = base_outputs[1][0]\n",
    "\n",
    "                src_outputs, _ = intervenable(\n",
    "                    example.src,\n",
    "                    unit_locations={\"base\": position},\n",
    "                )\n",
    "                src_activations = src_outputs[1][0]\n",
    "                \n",
    "                # collect activation\n",
    "                activations.extend(\n",
    "                    [base_activations.detach()[0].cpu().numpy(), src_activations.detach()[0].cpu().numpy()]\n",
    "                )\n",
    "                labels.extend([example.base_label, example.src_label])\n",
    "            labels = [label_mapping[tuple(label) if isinstance(label, list) else label] for label in labels]\n",
    "            \n",
    "            # train logistic regression\n",
    "            lr = LogisticRegression(random_state=42, max_iter=1000).fit(\n",
    "                activations, labels\n",
    "            )\n",
    "\n",
    "            # eval\n",
    "            activations, labels = [], []\n",
    "            iterator = tqdm(evalset)\n",
    "            for example in iterator:\n",
    "                # forward pass\n",
    "                base_outputs, _ = intervenable(\n",
    "                    example.base,\n",
    "                    unit_locations={\"base\": position},\n",
    "                )\n",
    "                base_activations = base_outputs[1][0]\n",
    "\n",
    "                src_outputs, _ = intervenable(\n",
    "                    example.src,\n",
    "                    unit_locations={\"base\": position},\n",
    "                )\n",
    "                src_activations = src_outputs[1][0]\n",
    "                \n",
    "                # collect activation\n",
    "                activations.extend(\n",
    "                    [base_activations.detach()[0].cpu().numpy(), src_activations.detach()[0].cpu().numpy()]\n",
    "                )\n",
    "                labels.extend([example.base_label, example.src_label])\n",
    "            labels = [label_mapping[label] for label in labels]\n",
    "\n",
    "            # stats\n",
    "            acc = lr.score(activations, labels)\n",
    "            f1 = f1_score(labels, lr.predict(activations), average=\"micro\")\n",
    "            stats.append({\"layer\": layer, \"position\": position, \"acc\": acc, \"f1\": f1})\n",
    "            print(f\"acc: {acc:.3%}, f1: {f1:.3f}\")\n",
    "df = pd.DataFrame(stats)\n",
    "df.to_csv(f\"./tutorial_data/pyvene_gender_probe.csv\")"
   ]
  },
  {
   "cell_type": "markdown",
   "metadata": {},
   "source": [
    "And the probe accuracy plot is below. Note the extremely high accuracy at all positions at and after the name! Early layers at later positions are better but it saturates much before the IIA for DAS. This shows how unreliable probes are for tracing causal effect."
   ]
  },
  {
   "cell_type": "code",
   "execution_count": 43,
   "metadata": {},
   "outputs": [
    {
     "name": "stderr",
     "output_type": "stream",
     "text": [
      "/Users/lukasz/miniconda3/envs/nlp/lib/python3.11/site-packages/plotnine/ggplot.py:615: PlotnineWarning: Saving 5 x 3 in image.\n",
      "/Users/lukasz/miniconda3/envs/nlp/lib/python3.11/site-packages/plotnine/ggplot.py:616: PlotnineWarning: Filename: ./tutorial_data/pyvene_gender_probe.pdf\n"
     ]
    },
    {
     "data": {
      "image/png": "[encoded data removed]"
     },
     "metadata": {
      "image/png": {
       "height": 300,
       "width": 500
      }
     },
     "output_type": "display_data"
    }
   ],
   "source": [
    "df = pd.read_csv(f\"./tutorial_data/pyvene_gender_probe.csv\")\n",
    "df[\"layer\"] = df[\"layer\"].astype(int)\n",
    "df[\"pos\"] = df[\"position\"].astype(int)\n",
    "df[\"ACC\"] = df[\"acc\"].astype(float)\n",
    "\n",
    "custom_labels = [\"<name>\", \"is\", \"<color>\"]\n",
    "breaks = [0, 1, 2]\n",
    "\n",
    "plot = (\n",
    "    ggplot(df, aes(x=\"layer\", y=\"pos\", fill=\"ACC\"))    \n",
    "    + geom_tile()\n",
    "    + scale_fill_cmap(\"Reds\") + xlab(\"layers\")\n",
    "    + scale_y_reverse(\n",
    "        limits = (-0.5, 3.5), \n",
    "        breaks=breaks, labels=custom_labels) \n",
    "    + theme(figure_size=(5, 3)) + ylab(\"\") \n",
    "    + theme(axis_text_y  = element_text(angle = 90, hjust = 1))\n",
    "    + ggtitle(\"Trained Linear Probe\")\n",
    ")\n",
    "ggsave(\n",
    "    plot, filename=f\"./tutorial_data/pyvene_gender_probe.pdf\", dpi=200\n",
    ")\n",
    "display(plot)"
   ]
  },
  {
   "cell_type": "code",
   "execution_count": null,
   "metadata": {},
   "outputs": [],
   "source": []
  }
 ],
 "metadata": {
  "kernelspec": {
   "display_name": "nlp",
   "language": "python",
   "name": "python3"
  },
  "language_info": {
   "codemirror_mode": {
    "name": "ipython",
    "version": 3
   },
   "file_extension": ".py",
   "mimetype": "text/x-python",
   "name": "python",
   "nbconvert_exporter": "python",
   "pygments_lexer": "ipython3",
   "version": "3.11.10"
  }
 },
 "nbformat": 4,
 "nbformat_minor": 4
}
